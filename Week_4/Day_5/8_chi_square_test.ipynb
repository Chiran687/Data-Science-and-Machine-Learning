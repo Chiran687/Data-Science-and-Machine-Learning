{
 "cells": [
  {
   "cell_type": "markdown",
   "metadata": {},
   "source": [
    "Q. In 2000 Indian Census, the age of the inidividual in a small town were found to be following: \n",
    "\n",
    "less than 18 --> 20%  \n",
    "18 - 35 -------> 30%  \n",
    "Greater than 35 --> 50%  \n",
    "\n",
    "Considering this, In 2010 the group of sample, n = 500, individual were sampled.  \n",
    "\n",
    "< 18 --------> 121  \n",
    "18 - 35 -----> 288  \n",
    "\\> 35 --------> 91\n",
    "\n",
    "Using $\\alpha = 0.05$, Could you conclude population distribution of ages has changed in the last 10 yrs?"
   ]
  },
  {
   "cell_type": "code",
   "execution_count": 2,
   "metadata": {},
   "outputs": [
    {
     "name": "stdout",
     "output_type": "stream",
     "text": [
      "[121 288  91]\n"
     ]
    }
   ],
   "source": [
    "# Import necessary libraries\n",
    "import numpy as np\n",
    "import scipy.stats as stats\n",
    "\n",
    "# Define the observed frequencies in 2010\n",
    "observed = np.array([121, 288, 91])\n",
    "print(observed)"
   ]
  },
  {
   "cell_type": "code",
   "execution_count": 3,
   "metadata": {},
   "outputs": [
    {
     "name": "stdout",
     "output_type": "stream",
     "text": [
      "[100 150 250]\n"
     ]
    }
   ],
   "source": [
    "# Define the expected frequencies based on the 2000 census data\n",
    "expected = np.array([100, 150, 250])\n",
    "print(expected)"
   ]
  },
  {
   "cell_type": "code",
   "execution_count": 4,
   "metadata": {},
   "outputs": [],
   "source": [
    "# Set the significance level (alpha)\n",
    "alpha = 0.05\n",
    "\n",
    "# Calculate the chi-square statistic\n",
    "chi_squared = np.sum((observed - expected)**2 / expected)\n",
    "\n",
    "# Calculate the degrees of freedom\n",
    "degrees_of_freedom = len(observed) - 1"
   ]
  },
  {
   "cell_type": "code",
   "execution_count": 5,
   "metadata": {},
   "outputs": [],
   "source": [
    "# Calculate the p-value\n",
    "p_value = 1 - stats.chi2.cdf(chi_squared, df=degrees_of_freedom)\n",
    "\n",
    "# Determine critical chi-square value\n",
    "critical_value = stats.chi2.ppf(1 - alpha, df=degrees_of_freedom)"
   ]
  },
  {
   "cell_type": "code",
   "execution_count": 6,
   "metadata": {},
   "outputs": [
    {
     "name": "stdout",
     "output_type": "stream",
     "text": [
      "Chi-Square Statistic: 232.49\n",
      "Degrees of Freedom: 2\n",
      "P-Value: 0.0000\n",
      "Critical Value: 5.99\n",
      "Reject the null hypothesis\n",
      "There is evidence to suggest that the population distribution of ages in 2010 is different from that in 2000.\n"
     ]
    }
   ],
   "source": [
    "# Print the results\n",
    "print(f\"Chi-Square Statistic: {chi_squared:.2f}\")\n",
    "print(f\"Degrees of Freedom: {degrees_of_freedom}\")\n",
    "print(f\"P-Value: {p_value:.4f}\")\n",
    "print(f\"Critical Value: {critical_value:.2f}\")\n",
    "\n",
    "# Make a decision\n",
    "if chi_squared > critical_value:\n",
    "    print(\"Reject the null hypothesis\")\n",
    "else:\n",
    "    print(\"Fail to reject the null hypothesis\")\n",
    "\n",
    "# Conclusion\n",
    "if p_value < alpha:\n",
    "    print(\"There is evidence to suggest that the population distribution of ages in 2010 is different from that in 2000.\")\n",
    "else:\n",
    "    print(\"There is no significant evidence to suggest a change in the distribution of ages in the last 10 years.\")\n"
   ]
  },
  {
   "cell_type": "code",
   "execution_count": null,
   "metadata": {},
   "outputs": [],
   "source": []
  }
 ],
 "metadata": {
  "kernelspec": {
   "display_name": "Python 3",
   "language": "python",
   "name": "python3"
  },
  "language_info": {
   "codemirror_mode": {
    "name": "ipython",
    "version": 3
   },
   "file_extension": ".py",
   "mimetype": "text/x-python",
   "name": "python",
   "nbconvert_exporter": "python",
   "pygments_lexer": "ipython3",
   "version": "3.8.10"
  },
  "orig_nbformat": 4
 },
 "nbformat": 4,
 "nbformat_minor": 2
}
