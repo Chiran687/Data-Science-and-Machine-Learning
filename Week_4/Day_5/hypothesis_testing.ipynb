{
 "cells": [
  {
   "cell_type": "markdown",
   "metadata": {},
   "source": [
    "- What is Hypothesis Testing?\n",
    "    - there will be Null hypothesis, Alternate hypothesis\n",
    "    - We perform some kind of experiments. This is performed with respect to some significance value.\n",
    "        - Experiments can be, t-test, z-test, chi-square test, ANNOVA Test.\n",
    "    - After the experiments, if certain value falls in the extreme end, We reject the null hypthesis and we accept the alternate hypthesis.\n",
    "    - If the test values, falls in the confidence interval (determine based on the significance level), we accep the null hypothesis, and we reject the alternate hypothesis.\n",
    "- Confidence Interval\n",
    "    - Let's we define 95% Confidence Interval. \n",
    "    - Empirical Formulae --> 68, 95, and 99\n",
    "    - If value from test is within 95% then we can say we are 95% confident.\n",
    "    - Tail Region: 1 - 0.95 --> 0.5 --> 0.25 left side and 0.25 right side\n",
    "\n",
    "- p value:\n",
    "    - p value is the probability (Wiki)\n",
    "    - what does it mean by pvalue of point = 0.8?\n",
    "        - out of 100, 80 time we get that particular point.\n",
    "    - what does it mean by pvalue of point = 0.01?\n",
    "        - out of 100 experiment, 1 time we get that particular point.\n",
    "\n",
    "    - point = 0.01, falls in the 2.5 area i.e. tail.\n",
    "\n",
    "- significance value:\n",
    "    - p value, we can get say it as significance value.\n",
    "    - Based on the significance value, if the value falls under extreme area near tail, we reject null hypothesis.\n",
    "    - Is significance value should be 0.05? No it's not necessary, domain expert will decides this\n",
    "    - By default many people use significance level = 0.05\n",
    "\n",
    "- **1-Tailed and 2-Tailed Test:**\n",
    "    - Test can be 1-tailed test and 2-tailed test.\n",
    "    - In 2-tailed test, rejection area will be on the both sides.\n",
    "    - In 1-tailed test, rejection area will be on the the single sides.\n",
    "        - suppose, population_mean = 120 --> --> population_standard_deviation = 5 --> sample_mean = 140 --> n = 30\n",
    "        - alpha = 0.005\n",
    "        - Does population mean equals to sample mean?\n",
    "            - Two Tailed test\n",
    "            - If sample mean falls within the confidence interval, I will accept the null hypthesis and if it falls outside of the confidence interval or in rejection ared, I will reject the null hypthesis.\n",
    "        - Does sample mean greater than population mean?\n",
    "            - 1 tailed test\n",
    "        - Does sample mean less than population mean?\n",
    "            - 1 tailed test. "
   ]
  },
  {
   "cell_type": "code",
   "execution_count": null,
   "metadata": {},
   "outputs": [],
   "source": []
  },
  {
   "cell_type": "markdown",
   "metadata": {},
   "source": [
    "**How does Hypothesis Testing Works?** \n",
    "- suppose there will be a population with some information (info can be standard deviation, population mean, etc).\n",
    "- Can I measure Average height of population in Nepal? No its not possible to consider all the peoples, since it will be a huge.\n",
    "- We can definitely perform experiments by taking a samples. So, we perform some experiments on samples.  \n",
    "    - Experiments, can be anything using some of the statistical techniques.\n",
    "- with the help of statistical techniques, we come to conclusion about the populations. \n",
    "- This process is called as the hypothesis testing."
   ]
  },
  {
   "cell_type": "code",
   "execution_count": null,
   "metadata": {},
   "outputs": [],
   "source": [
    "    "
   ]
  },
  {
   "cell_type": "markdown",
   "metadata": {},
   "source": [
    "**What are the different types of statistical techniques:**  \n",
    "1. `t-test: ` This is used for comparison of mean. Here sample standard deviation is given.\n",
    "2. `z-test: ` This is also used for the comparison of mean. Here population standard deviation is given.\n",
    "3. `Annova Test:` In annova test we do a Analysis of Variance i.e. whether the variance is same or not.\n",
    "4. `F-Test: ` Here we do comparison of variance.\n",
    "5. `ChiSquare Test: ` Here we can compare categorical variables."
   ]
  },
  {
   "cell_type": "code",
   "execution_count": null,
   "metadata": {},
   "outputs": [],
   "source": []
  },
  {
   "cell_type": "markdown",
   "metadata": {},
   "source": [
    "**1. One Sample Z-test**  \n",
    "Q. In a population average IQ (population mean Meu = 100, and standard deviation sigma is 15). Then, The doctor tested a new medication to find out whether it increases a IQ or Decreases the IQ. Then after doing the medication, probably after 1 month the sample (n) of 30 participants were taken. Then this 30 population had a average mean of IQ (sample mean = 140). Did medication affect intelligence? The `Significance value is 0.05`.   \n",
    "\n",
    "\n",
    "- `Step1: Define Null and Alternate Hypothesis`  \n",
    "    - Null Hypothesis (Ho):  meu = 100\n",
    "    - Alternate Hypothesis (Ha): meu not equal to 100\n",
    "    - It is a 2-tailed test.\n",
    "\n",
    "- `Step2: State the alpha, i.e. alpha = 0.05`\n",
    "\n",
    "- `Step3: State Decision Rule`\n",
    "    - Find the range of confidence interval.\n",
    "    - Full entire region of normal distribution is 1.\n",
    "    - Region of Condfidence interval is: 1 - 0.05 => 0.95 (is the region of confidence interval)\n",
    "    - Z-score:\n",
    "        - it is used to find out how many standard deviation it is away from the mean.\n",
    "    - In Z-test we will find out range using Z-table.\n",
    "    - Now find the area of 0.9750 (1-0.025) -> 1.96 (for right confidence interval limit)\n",
    "    - Since graph is symmetrica --> -1.96 (for left confidence interval limit)\n",
    "    \n",
    "- `Step4: Test Statistics using Z_test formulae not Z_score`\n",
    "    - Z = x_mean - meu / sigma / sqrt(n)\n",
    "    - Z_test = 14.60\n",
    "\n",
    "`Step5: State the Results`  \n",
    "    -  Z_test does not fall in between confidence interval, so reject the null hypothesis and we accept the alternate hypothesis.\n",
    "\n",
    "    - It means there is an change in IQ"
   ]
  },
  {
   "cell_type": "code",
   "execution_count": null,
   "metadata": {},
   "outputs": [],
   "source": []
  },
  {
   "cell_type": "markdown",
   "metadata": {},
   "source": [
    "**One sample z-test with proportion:**  \n",
    "\n",
    "Q. A survey claims that, 9 out 10 doctors recommend aspirant for their patient with headache. To test this claim, a random sample of 100 doctor is taken. Out of this 100 doctors, 82 indicate that they recommend aspirant. Is this claim accurate? Use the alpha value as 0.05.\n",
    "- Here we have proportions i.e. 9 out 10, 82 out of 100, but no any mean or related information.\n",
    "\n",
    "- Null Hypothesis: 0.90\n",
    "- Alternate Hypothesis; not equal to 0.90\n",
    "- Decision Rule\n",
    "- For proportions \n",
    "    - Z statistics: p_sample - p_population / sqrt"
   ]
  },
  {
   "cell_type": "markdown",
   "metadata": {},
   "source": [
    "**Problem:**  \n",
    "- How to measure population mean ?\n",
    "- How to measure population variance?\n",
    "\n",
    "- In this scenario we can use t-test which works on the sample."
   ]
  },
  {
   "cell_type": "markdown",
   "metadata": {},
   "source": []
  },
  {
   "cell_type": "markdown",
   "metadata": {},
   "source": [
    "## Real World problem:\n",
    "\n",
    "- A bank wants to open an ATM machine in a specific area.\n"
   ]
  },
  {
   "cell_type": "markdown",
   "metadata": {},
   "source": []
  },
  {
   "cell_type": "markdown",
   "metadata": {},
   "source": [
    "- what is hypothesis testing?\n",
    "- what is null and alternate hypothesis?\n",
    "- what are different types of tests?\n",
    "- what is type 1 and type 2 error?\n",
    "- what is level of significance?\n",
    "- what is confidence interval?\n",
    "- what is 1 tailed and 2 tailed test?\n",
    "- One\n"
   ]
  }
 ],
 "metadata": {
  "kernelspec": {
   "display_name": "Python 3",
   "language": "python",
   "name": "python3"
  },
  "language_info": {
   "name": "python",
   "version": "3.8.10"
  },
  "orig_nbformat": 4
 },
 "nbformat": 4,
 "nbformat_minor": 2
}
