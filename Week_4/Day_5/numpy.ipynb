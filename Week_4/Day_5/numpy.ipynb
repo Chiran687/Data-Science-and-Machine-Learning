{
 "cells": [
  {
   "cell_type": "markdown",
   "id": "d5c677bd-4549-45b7-a353-502de34efbe7",
   "metadata": {},
   "source": [
    "<h1>Numpy Notebook</h1>"
   ]
  },
  {
   "cell_type": "code",
   "execution_count": 1,
   "id": "71516e45-7f66-444d-a9e6-7d5dc2d1ae6b",
   "metadata": {},
   "outputs": [],
   "source": [
    "import numpy as np"
   ]
  },
  {
   "cell_type": "markdown",
   "id": "321b8f09-dd8d-460e-81a6-d97d0c4412b0",
   "metadata": {},
   "source": [
    "<h2>Array Creation</h2>"
   ]
  },
  {
   "cell_type": "code",
   "execution_count": 7,
   "id": "de89cc2f-7c21-4b4d-81b7-fbeecc290f89",
   "metadata": {},
   "outputs": [
    {
     "data": {
      "text/plain": [
       "array([4, 3, 2, 1, 2])"
      ]
     },
     "execution_count": 7,
     "metadata": {},
     "output_type": "execute_result"
    }
   ],
   "source": [
    "list1 = np.random.randint(9, size=(5))\n",
    "list1"
   ]
  },
  {
   "cell_type": "code",
   "execution_count": 8,
   "id": "8eb7a890-b95c-46fa-9a85-edc935f8d194",
   "metadata": {},
   "outputs": [
    {
     "data": {
      "text/plain": [
       "numpy.ndarray"
      ]
     },
     "execution_count": 8,
     "metadata": {},
     "output_type": "execute_result"
    }
   ],
   "source": [
    "type(list1)"
   ]
  },
  {
   "cell_type": "code",
   "execution_count": 10,
   "id": "4d7c5414-f9ae-4333-b0f1-ce5bb8ed79fe",
   "metadata": {},
   "outputs": [
    {
     "data": {
      "text/plain": [
       "array([[18,  2,  7, 10],\n",
       "       [15, 13,  7,  6]])"
      ]
     },
     "execution_count": 10,
     "metadata": {},
     "output_type": "execute_result"
    }
   ],
   "source": [
    "list2 = np.random.randint(20, size=(2, 4))\n",
    "list2"
   ]
  },
  {
   "cell_type": "code",
   "execution_count": 12,
   "id": "602ef2c1-cd07-4b49-82b7-73caff61ea84",
   "metadata": {},
   "outputs": [
    {
     "data": {
      "text/plain": [
       "array([[18.,  2.,  7., 10.],\n",
       "       [15., 13.,  7.,  6.]], dtype=float32)"
      ]
     },
     "execution_count": 12,
     "metadata": {},
     "output_type": "execute_result"
    }
   ],
   "source": [
    "arr2 = np.array(list2, dtype='float32')\n",
    "arr2"
   ]
  },
  {
   "cell_type": "code",
   "execution_count": 13,
   "id": "446fe313-d36f-4790-9a9b-58a2ab888050",
   "metadata": {},
   "outputs": [
    {
     "data": {
      "text/plain": [
       "numpy.ndarray"
      ]
     },
     "execution_count": 13,
     "metadata": {},
     "output_type": "execute_result"
    }
   ],
   "source": [
    "type(arr2)"
   ]
  },
  {
   "cell_type": "code",
   "execution_count": 15,
   "id": "29b0f8d7-ccf4-4998-9313-4fb8d999e3ef",
   "metadata": {},
   "outputs": [
    {
     "data": {
      "text/plain": [
       "array([0, 0, 0, 0, 0, 0, 0, 0, 0, 0])"
      ]
     },
     "execution_count": 15,
     "metadata": {},
     "output_type": "execute_result"
    }
   ],
   "source": [
    "np.zeros(10, dtype='int')"
   ]
  },
  {
   "cell_type": "code",
   "execution_count": 16,
   "id": "893a2231-9748-43fd-ab21-ea9c0e6a0318",
   "metadata": {},
   "outputs": [
    {
     "data": {
      "text/plain": [
       "array([[0, 0, 0, 0],\n",
       "       [0, 0, 0, 0]])"
      ]
     },
     "execution_count": 16,
     "metadata": {},
     "output_type": "execute_result"
    }
   ],
   "source": [
    "np.zeros((2,4), dtype='int')"
   ]
  },
  {
   "cell_type": "code",
   "execution_count": 21,
   "id": "f5b3ae2e-7d61-42f7-80d2-1111f6038435",
   "metadata": {},
   "outputs": [
    {
     "data": {
      "text/plain": [
       "array([[1., 1., 1., 1.],\n",
       "       [1., 1., 1., 1.]])"
      ]
     },
     "execution_count": 21,
     "metadata": {},
     "output_type": "execute_result"
    }
   ],
   "source": [
    "np.ones((2, 4), dtype='float')"
   ]
  },
  {
   "cell_type": "code",
   "execution_count": 22,
   "id": "0e6a6922-5eaa-46dc-8291-61646eed5f68",
   "metadata": {},
   "outputs": [
    {
     "data": {
      "text/plain": [
       "array([[4.5, 4.5, 4.5, 4.5],\n",
       "       [4.5, 4.5, 4.5, 4.5]])"
      ]
     },
     "execution_count": 22,
     "metadata": {},
     "output_type": "execute_result"
    }
   ],
   "source": [
    "np.full((2, 4), 4.5)"
   ]
  },
  {
   "cell_type": "code",
   "execution_count": 27,
   "id": "bdbda2cf-bba8-4af0-8777-95ee006e0efc",
   "metadata": {},
   "outputs": [
    {
     "data": {
      "text/plain": [
       "array([ 0,  2,  4,  6,  8, 10, 12, 14, 16, 18])"
      ]
     },
     "execution_count": 27,
     "metadata": {},
     "output_type": "execute_result"
    }
   ],
   "source": [
    "np.arange(0,20,2)"
   ]
  },
  {
   "cell_type": "code",
   "execution_count": 28,
   "id": "a4f07c6c-a337-4897-8240-296bd671ca40",
   "metadata": {},
   "outputs": [
    {
     "data": {
      "text/plain": [
       "array([[0.68504211, 0.8477703 , 0.35490937],\n",
       "       [0.58481791, 0.84868917, 0.62830295],\n",
       "       [0.31007077, 0.15239095, 0.72128333]])"
      ]
     },
     "execution_count": 28,
     "metadata": {},
     "output_type": "execute_result"
    }
   ],
   "source": [
    "np.random.random((3,3))"
   ]
  },
  {
   "cell_type": "code",
   "execution_count": 29,
   "id": "be8469cc-ad22-4b36-85a6-4020f06e78bb",
   "metadata": {},
   "outputs": [
    {
     "data": {
      "text/plain": [
       "array([[-0.67244493,  0.16425128, -0.92153258],\n",
       "       [-0.74184649, -0.05732479,  0.31066712],\n",
       "       [ 0.8930451 ,  0.18191424, -1.8663242 ]])"
      ]
     },
     "execution_count": 29,
     "metadata": {},
     "output_type": "execute_result"
    }
   ],
   "source": [
    "np.random.normal(0,1, (3,3))"
   ]
  },
  {
   "cell_type": "code",
   "execution_count": 33,
   "id": "2369558b-8ffb-489b-8fc8-ff1caaac085c",
   "metadata": {},
   "outputs": [],
   "source": [
    "#"
   ]
  },
  {
   "cell_type": "code",
   "execution_count": 32,
   "id": "6f6bf272-d631-4bee-a7e7-c9a046f65f8a",
   "metadata": {},
   "outputs": [
    {
     "data": {
      "text/plain": [
       "array([[ 1.16189752,  4.26405241,  3.17549264],\n",
       "       [ 1.91927378, -2.22246013, -0.51123204],\n",
       "       [-0.97618943,  2.81167753,  1.94287149]])"
      ]
     },
     "execution_count": 32,
     "metadata": {},
     "output_type": "execute_result"
    }
   ],
   "source": [
    "np.random.normal(0,2, (3,3))"
   ]
  },
  {
   "cell_type": "code",
   "execution_count": 36,
   "id": "8d169348-eab8-4363-b82c-3073dee44e93",
   "metadata": {},
   "outputs": [
    {
     "data": {
      "text/plain": [
       "array([[9, 5, 0],\n",
       "       [0, 0, 3],\n",
       "       [6, 0, 1]])"
      ]
     },
     "execution_count": 36,
     "metadata": {},
     "output_type": "execute_result"
    }
   ],
   "source": [
    "sample_array = np.random.randint(10, size=(3,3))\n",
    "np.array(sample_array, dtype='int')"
   ]
  },
  {
   "cell_type": "code",
   "execution_count": 37,
   "id": "d300a73b-5afc-48d0-9283-0e7b06ca0681",
   "metadata": {},
   "outputs": [
    {
     "data": {
      "text/plain": [
       "2"
      ]
     },
     "execution_count": 37,
     "metadata": {},
     "output_type": "execute_result"
    }
   ],
   "source": [
    "np.ndim(sample_array)"
   ]
  },
  {
   "cell_type": "code",
   "execution_count": 38,
   "id": "178ad223-aaab-49b4-a8e6-b96f2f1ada68",
   "metadata": {},
   "outputs": [
    {
     "name": "stdout",
     "output_type": "stream",
     "text": [
      "[[[ 1  2  3  4]\n",
      "  [ 5  6  7  8]\n",
      "  [ 9 10 11 12]]\n",
      "\n",
      " [[13 14 15 16]\n",
      "  [17 18 19 20]\n",
      "  [21 22 23 24]]]\n"
     ]
    }
   ],
   "source": [
    "nested_list = [[[1, 2, 3, 4], [5, 6, 7, 8], [9, 10, 11, 12]],\n",
    "               [[13, 14, 15, 16], [17, 18, 19, 20], [21, 22, 23, 24]]]\n",
    "arr = np.array(nested_list)\n",
    "\n",
    "print(arr)"
   ]
  },
  {
   "cell_type": "code",
   "execution_count": 39,
   "id": "e80cbde4-3baa-485b-af77-adc481be988e",
   "metadata": {},
   "outputs": [
    {
     "data": {
      "text/plain": [
       "3"
      ]
     },
     "execution_count": 39,
     "metadata": {},
     "output_type": "execute_result"
    }
   ],
   "source": [
    "np.ndim(arr)"
   ]
  },
  {
   "cell_type": "code",
   "execution_count": 41,
   "id": "a54714f9-819e-4009-a0ed-f193be9e79d0",
   "metadata": {},
   "outputs": [
    {
     "data": {
      "text/plain": [
       "(2, 3, 4)"
      ]
     },
     "execution_count": 41,
     "metadata": {},
     "output_type": "execute_result"
    }
   ],
   "source": [
    "arr.shape"
   ]
  },
  {
   "cell_type": "code",
   "execution_count": 42,
   "id": "fb2c310e-9552-4c4a-87a8-033832b43d58",
   "metadata": {},
   "outputs": [
    {
     "data": {
      "text/plain": [
       "24"
      ]
     },
     "execution_count": 42,
     "metadata": {},
     "output_type": "execute_result"
    }
   ],
   "source": [
    "arr.size"
   ]
  },
  {
   "cell_type": "code",
   "execution_count": 43,
   "id": "50b319de-f363-4e28-9b8b-7a5e63614554",
   "metadata": {},
   "outputs": [
    {
     "data": {
      "text/plain": [
       "dtype('int64')"
      ]
     },
     "execution_count": 43,
     "metadata": {},
     "output_type": "execute_result"
    }
   ],
   "source": [
    "arr.dtype"
   ]
  },
  {
   "cell_type": "code",
   "execution_count": 44,
   "id": "58c9cc18-0c53-4991-8ab4-78a084abda1a",
   "metadata": {},
   "outputs": [
    {
     "data": {
      "text/plain": [
       "8"
      ]
     },
     "execution_count": 44,
     "metadata": {},
     "output_type": "execute_result"
    }
   ],
   "source": [
    "arr.itemsize"
   ]
  },
  {
   "cell_type": "markdown",
   "id": "d6e3b80b-9fc2-48ed-b42a-b9d37cc9ec58",
   "metadata": {},
   "source": [
    "<h2>Array Indexing</h2>"
   ]
  },
  {
   "cell_type": "code",
   "execution_count": 45,
   "id": "f6ee1dd5-033a-435a-8860-af13a6ee53b9",
   "metadata": {},
   "outputs": [
    {
     "name": "stdout",
     "output_type": "stream",
     "text": [
      "['hello', 'chetan', 20, 22]\n"
     ]
    }
   ],
   "source": [
    "data=['hello', 'chetan', 20, 22]\n",
    "print(data)"
   ]
  },
  {
   "cell_type": "code",
   "execution_count": null,
   "id": "0651e5a6-6813-4223-93a7-225ba3f4941e",
   "metadata": {},
   "outputs": [],
   "source": []
  }
 ],
 "metadata": {
  "kernelspec": {
   "display_name": "Python 3 (ipykernel)",
   "language": "python",
   "name": "python3"
  },
  "language_info": {
   "codemirror_mode": {
    "name": "ipython",
    "version": 3
   },
   "file_extension": ".py",
   "mimetype": "text/x-python",
   "name": "python",
   "nbconvert_exporter": "python",
   "pygments_lexer": "ipython3",
   "version": "3.11.7"
  }
 },
 "nbformat": 4,
 "nbformat_minor": 5
}
