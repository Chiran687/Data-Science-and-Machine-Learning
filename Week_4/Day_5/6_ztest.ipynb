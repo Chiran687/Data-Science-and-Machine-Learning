{
 "cells": [
  {
   "cell_type": "markdown",
   "metadata": {},
   "source": [
    "Q. In a population average IQ (population mean $\\mu$ = 100, and standard deviation sigma is 15).   \n",
    "\n",
    "Then, The doctor tested a new medication to find out whether it increases a IQ or Decreases the IQ. Then after doing the medication, probably after 1 month the sample (n) of 30 participants were taken. Then this 30 population had a average mean of IQ (sample mean = 140).   \n",
    "\n",
    "Did medication affect intelligence? The `Significance value is 0.05`."
   ]
  },
  {
   "cell_type": "markdown",
   "metadata": {},
   "source": [
    "## 1. Without Python Module"
   ]
  },
  {
   "cell_type": "code",
   "execution_count": 1,
   "metadata": {},
   "outputs": [],
   "source": [
    "import numpy as np\n",
    "from scipy import stats\n",
    "\n",
    "# Given data\n",
    "population_mean = 100\n",
    "population_stddev = 15\n",
    "sample_mean = 140\n",
    "sample_size = 30\n",
    "significance_level = 0.05"
   ]
  },
  {
   "cell_type": "code",
   "execution_count": 2,
   "metadata": {},
   "outputs": [
    {
     "name": "stdout",
     "output_type": "stream",
     "text": [
      "2.7386127875258306\n"
     ]
    }
   ],
   "source": [
    "# caculate standard error (SE)\n",
    "standard_error = population_stddev / np.sqrt(sample_size)\n",
    "print(standard_error)"
   ]
  },
  {
   "cell_type": "code",
   "execution_count": 3,
   "metadata": {},
   "outputs": [
    {
     "name": "stdout",
     "output_type": "stream",
     "text": [
      "14.60593486680443\n"
     ]
    }
   ],
   "source": [
    "# Calculate the Z-statistic\n",
    "Z = (sample_mean - population_mean) / standard_error\n",
    "print(Z)"
   ]
  },
  {
   "cell_type": "code",
   "execution_count": 4,
   "metadata": {},
   "outputs": [
    {
     "name": "stdout",
     "output_type": "stream",
     "text": [
      "1.959963984540054\n"
     ]
    }
   ],
   "source": [
    "# Calculate the critical Z-value for a two-tailed test\n",
    "critical_Z = stats.norm.ppf(1 - significance_level / 2)\n",
    "print(critical_Z)"
   ]
  },
  {
   "cell_type": "markdown",
   "metadata": {},
   "source": [
    "- This steps gives the critical Z-value, for right tailed, as we get this value by looking into Z-table in case of calculation by hand."
   ]
  },
  {
   "cell_type": "code",
   "execution_count": 5,
   "metadata": {},
   "outputs": [
    {
     "name": "stdout",
     "output_type": "stream",
     "text": [
      "0.0\n"
     ]
    }
   ],
   "source": [
    "# Calculate the p-value\n",
    "p_value = 2 * (1 - stats.norm.cdf(abs(Z)))\n",
    "print(p_value)"
   ]
  },
  {
   "cell_type": "markdown",
   "metadata": {},
   "source": [
    "- p-value of zero indicates, it is impossible to occur test-statistics given null hypothesis is True. This is the strong evidence against null hypothesis i.e. to reject null hypothesis."
   ]
  },
  {
   "cell_type": "code",
   "execution_count": 6,
   "metadata": {},
   "outputs": [
    {
     "name": "stdout",
     "output_type": "stream",
     "text": [
      "Z = 14.61\n",
      "Critical Z = 1.96\n",
      "P-value = 0.0000\n",
      "Reject the null hypothesis. The medication affects intelligence.\n"
     ]
    }
   ],
   "source": [
    "# Get Decision\n",
    "# Perform the hypothesis test\n",
    "if p_value < significance_level:\n",
    "    print(f\"Z = {Z:.2f}\")\n",
    "    print(f\"Critical Z = {critical_Z:.2f}\")\n",
    "    print(f\"P-value = {p_value:.4f}\")\n",
    "    print(\"Reject the null hypothesis. The medication affects intelligence.\")\n",
    "else:\n",
    "    print(f\"Z = {Z:.2f}\")\n",
    "    print(f\"Critical Z = {critical_Z:.2f}\")\n",
    "    print(f\"P-value = {p_value:.4f}\")\n",
    "    print(\"Fail to reject the null hypothesis. There is no significant evidence that the medication affects intelligence.\")"
   ]
  },
  {
   "cell_type": "code",
   "execution_count": null,
   "metadata": {},
   "outputs": [],
   "source": []
  },
  {
   "cell_type": "markdown",
   "metadata": {},
   "source": [
    "## 1. Using Python Module"
   ]
  },
  {
   "cell_type": "code",
   "execution_count": 24,
   "metadata": {},
   "outputs": [
    {
     "name": "stdout",
     "output_type": "stream",
     "text": [
      "Z = 81.51\n",
      "P-value = 0.0000\n",
      "Reject the null hypothesis. The medication affects intelligence.\n"
     ]
    }
   ],
   "source": [
    "from statsmodels.stats.weightstats import ztest\n",
    "\n",
    "# Given data\n",
    "population_mean = 100\n",
    "population_stddev = 15\n",
    "sample_mean = 140\n",
    "sample_size = 30\n",
    "significance_level = 0.05\n",
    "\n",
    "# Generate the sample data as a numpy array\n",
    "sample_data = np.random.normal(sample_mean, standard_error, size=sample_size)\n",
    "\n",
    "# Perform the one-sample Z-test\n",
    "# we, do not need to pass population variance, it is esimated from sample data itself\n",
    "Z, p_value = ztest(x1=sample_data, value=population_mean) # Output: Z_test value, p_value\n",
    "\n",
    "# Determine whether to reject the null hypothesis\n",
    "if p_value < significance_level:\n",
    "    print(f\"Z = {Z:.2f}\")\n",
    "    print(f\"P-value = {p_value:.4f}\")\n",
    "    print(\"Reject the null hypothesis. The medication affects intelligence.\")\n",
    "else:\n",
    "    print(f\"Z = {Z:.2f}\")\n",
    "    print(f\"P-value = {p_value:.4f}\")\n",
    "    print(\"Fail to reject the null hypothesis. There is no significant evidence that the medication affects intelligence.\")"
   ]
  }
 ],
 "metadata": {
  "kernelspec": {
   "display_name": "Python 3",
   "language": "python",
   "name": "python3"
  },
  "language_info": {
   "codemirror_mode": {
    "name": "ipython",
    "version": 3
   },
   "file_extension": ".py",
   "mimetype": "text/x-python",
   "name": "python",
   "nbconvert_exporter": "python",
   "pygments_lexer": "ipython3",
   "version": "3.8.10"
  },
  "orig_nbformat": 4
 },
 "nbformat": 4,
 "nbformat_minor": 2
}
