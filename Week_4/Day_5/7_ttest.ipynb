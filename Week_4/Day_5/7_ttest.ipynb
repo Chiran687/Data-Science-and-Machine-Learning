{
 "cells": [
  {
   "cell_type": "markdown",
   "metadata": {},
   "source": [
    "Q. In a population average IQ (population mean $\\mu$ = 100). Then, The doctor tested a new medication to find out whether it increases a IQ or Decreases the IQ.   \n",
    "\n",
    "Then after doing the medication, probably after 1 month the sample (n) of 30 participants were taken. Then this 30 population had a average mean of IQ (sample mean = 140) with a sample standard deviation of 20.   \n",
    "\n",
    "Did medication affect intelligence? The `Significance value is 0.05`."
   ]
  },
  {
   "cell_type": "markdown",
   "metadata": {},
   "source": [
    "## Using Python Library"
   ]
  },
  {
   "cell_type": "code",
   "execution_count": 1,
   "metadata": {},
   "outputs": [],
   "source": [
    "import numpy as np\n",
    "import scipy.stats as stats"
   ]
  },
  {
   "cell_type": "code",
   "execution_count": 5,
   "metadata": {},
   "outputs": [
    {
     "name": "stdout",
     "output_type": "stream",
     "text": [
      "t = 12.16\n",
      "P-value = 0.0000\n",
      "Reject the null hypothesis. The medication affects intelligence.\n"
     ]
    }
   ],
   "source": [
    "# Given data\n",
    "population_mean = 100\n",
    "sample_stddev = 20\n",
    "sample_mean = 140\n",
    "sample_size = 30\n",
    "significance_level = 0.05\n",
    "\n",
    "# Generate the sample data as a numpy array\n",
    "np.random.seed(0)  # For reproducibility\n",
    "data_samples = np.random.normal(sample_mean, sample_stddev, size=sample_size)\n",
    "\n",
    "# perform one sample t-test\n",
    "t_statistics, p_value = stats.ttest_1samp(data_samples, population_mean)\n",
    "\n",
    "# Determine whether to reject the null hypothesis\n",
    "if p_value < significance_level:\n",
    "    print(f\"t = {t_statistics:.2f}\")\n",
    "    print(f\"P-value = {p_value:.4f}\")\n",
    "    print(\"Reject the null hypothesis. The medication affects intelligence.\")\n",
    "else:\n",
    "    print(f\"t = {t_statistics:.2f}\")\n",
    "    print(f\"P-value = {p_value:.4f}\")\n",
    "    print(\"Fail to reject the null hypothesis. There is no significant evidence that the medication affects intelligence.\")"
   ]
  },
  {
   "cell_type": "code",
   "execution_count": null,
   "metadata": {},
   "outputs": [],
   "source": []
  }
 ],
 "metadata": {
  "kernelspec": {
   "display_name": "Python 3",
   "language": "python",
   "name": "python3"
  },
  "language_info": {
   "codemirror_mode": {
    "name": "ipython",
    "version": 3
   },
   "file_extension": ".py",
   "mimetype": "text/x-python",
   "name": "python",
   "nbconvert_exporter": "python",
   "pygments_lexer": "ipython3",
   "version": "3.8.10"
  },
  "orig_nbformat": 4
 },
 "nbformat": 4,
 "nbformat_minor": 2
}
