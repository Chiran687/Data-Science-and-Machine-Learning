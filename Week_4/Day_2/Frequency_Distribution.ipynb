{
 "cells": [
  {
   "cell_type": "markdown",
   "id": "94c9094d-53f5-4a95-9649-16dd2af966d1",
   "metadata": {},
   "source": [
    "<h1>Steps</h1>"
   ]
  },
  {
   "cell_type": "markdown",
   "id": "8a983947-24ae-488e-94b0-f0c8879022ab",
   "metadata": {},
   "source": [
    "<p>1. Data Collection</p>\n",
    "<p>2. Data Sorting</p>\n",
    "<p>3. Identify Categories</p>\n",
    "<p>4. Create Intervals</p>\n",
    "<p>5. Count Frequencies</p>\n",
    "<p>6. Create Frequency Table</p>\n",
    "<p>7. Visual Representation</p>\n",
    "<p>8. Bar chart or Histograms</p>"
   ]
  },
  {
   "cell_type": "code",
   "execution_count": 2,
   "id": "93ebfc2c-1781-4cef-a99e-5875c93e2ab8",
   "metadata": {},
   "outputs": [],
   "source": [
    "import pandas as pd\n",
    "import matplotlib.pyplot as plt\n",
    "import numpy as np\n",
    "import seaborn as sbs\n",
    "from collections import Counter"
   ]
  },
  {
   "cell_type": "code",
   "execution_count": 4,
   "id": "eb41b278-349d-48c8-9c9d-78cd316ac01f",
   "metadata": {},
   "outputs": [],
   "source": [
    "colors = [\n",
    "    \"Red\", \"Blue\", \"Green\", \"Red\", \"Yellow\", \"Blue\", \"Green\", \"Green\", \"Blue\", \"Red\",\n",
    "    \"Red\", \"Blue\", \"Yellow\", \"Green\", \"Green\", \"Blue\", \"Red\", \"Red\", \"Red\", \"Blue\",\n",
    "    \"Green\", \"Yellow\", \"Blue\", \"Blue\", \"Green\", \"Red\", \"Red\", \"Green\", \"Blue\", \"Green\",\n",
    "    \"Yellow\", \"Red\", \"Blue\", \"Green\", \"Blue\", \"Red\", \"Blue\", \"Green\", \"Blue\", \"Red\",\n",
    "    \"Green\", \"Green\", \"Yellow\", \"Red\", \"Blue\", \"Green\", \"Blue\", \"Red\", \"Green\", \"Red\"\n",
    "]"
   ]
  },
  {
   "cell_type": "code",
   "execution_count": 5,
   "id": "ca470b89-1c60-46d9-9702-720a3cd415cb",
   "metadata": {},
   "outputs": [
    {
     "data": {
      "text/plain": [
       "Counter({'Red': 15, 'Blue': 15, 'Green': 15, 'Yellow': 5})"
      ]
     },
     "execution_count": 5,
     "metadata": {},
     "output_type": "execute_result"
    }
   ],
   "source": [
    "Counter(colors)"
   ]
  },
  {
   "cell_type": "code",
   "execution_count": 9,
   "id": "c73ad60a-1c2c-4b26-a588-aea895791e72",
   "metadata": {},
   "outputs": [],
   "source": [
    "color_count = Counter(colors)"
   ]
  },
  {
   "cell_type": "code",
   "execution_count": 10,
   "id": "f89ace73-a18f-4a24-b5a8-fb9a8d2f3596",
   "metadata": {},
   "outputs": [
    {
     "data": {
      "text/plain": [
       "Counter({'Red': 15, 'Blue': 15, 'Green': 15, 'Yellow': 5})"
      ]
     },
     "execution_count": 10,
     "metadata": {},
     "output_type": "execute_result"
    }
   ],
   "source": [
    "color_count"
   ]
  },
  {
   "cell_type": "code",
   "execution_count": 15,
   "id": "4b31102d-3eb8-49ac-bddb-c99031e074c0",
   "metadata": {},
   "outputs": [
    {
     "name": "stdout",
     "output_type": "stream",
     "text": [
      "Red\t15\n",
      "Blue\t15\n",
      "Green\t15\n",
      "Yellow\t5\n"
     ]
    }
   ],
   "source": [
    "for color, count in color_count.items():\n",
    "    print(f\"{color}\\t{count}\")\n",
    "    "
   ]
  },
  {
   "cell_type": "code",
   "execution_count": 16,
   "id": "234359f6-730b-430d-82be-eab1dae75d38",
   "metadata": {},
   "outputs": [
    {
     "name": "stderr",
     "output_type": "stream",
     "text": [
      "/home/chiran/miniconda3/lib/python3.11/site-packages/seaborn/_oldcore.py:1765: FutureWarning: unique with argument that is not not a Series, Index, ExtensionArray, or np.ndarray is deprecated and will raise in a future version.\n",
      "  order = pd.unique(vector)\n"
     ]
    },
    {
     "data": {
      "text/plain": [
       "<Axes: >"
      ]
     },
     "execution_count": 16,
     "metadata": {},
     "output_type": "execute_result"
    },
    {
     "data": {
      "image/png": "[encoded data removed]",
      "text/plain": [
       "<Figure size 640x480 with 1 Axes>"
      ]
     },
     "metadata": {},
     "output_type": "display_data"
    }
   ],
   "source": [
    "color_count = dict(color_count)\n",
    "index_list = list(color_count.keys())\n",
    "value_list = list(color_count.values())\n",
    "sbs.barplot(x=index_list, y=value_list)"
   ]
  },
  {
   "cell_type": "code",
   "execution_count": 17,
   "id": "0c384e97-3b0a-498f-a9c2-83c40063d39f",
   "metadata": {},
   "outputs": [],
   "source": [
    "ages = [\n",
    "    28, 34, 25, 28, 22, 31, 25, 27, 30, 24,\n",
    "    22, 29, 26, 31, 28, 34, 30, 25, 27, 26,\n",
    "    23, 29, 32, 28, 26, 24, 30, 25, 28, 31,\n",
    "    33, 27\n",
    "]"
   ]
  },
  {
   "cell_type": "code",
   "execution_count": 18,
   "id": "ae543579-213c-4950-9612-70a0f11edc8a",
   "metadata": {},
   "outputs": [],
   "source": [
    "age = sorted(ages)"
   ]
  },
  {
   "cell_type": "code",
   "execution_count": 19,
   "id": "29b7f7be-ed88-4b6d-9a2f-cf7f6d2ea2b1",
   "metadata": {},
   "outputs": [
    {
     "name": "stdout",
     "output_type": "stream",
     "text": [
      "[22, 22, 23, 24, 24, 25, 25, 25, 25, 26, 26, 26, 27, 27, 27, 28, 28, 28, 28, 28, 29, 29, 30, 30, 30, 31, 31, 31, 32, 33, 34, 34]\n"
     ]
    }
   ],
   "source": [
    "print(age)"
   ]
  },
  {
   "cell_type": "code",
   "execution_count": 24,
   "id": "9f6dead4-b269-476c-a667-12d4db446007",
   "metadata": {},
   "outputs": [],
   "source": [
    "intervals = [(20,24), (25, 29), (30, 34), (35, 39)]"
   ]
  },
  {
   "cell_type": "code",
   "execution_count": 26,
   "id": "f18223fd-a236-43d0-bd0c-bf7acc02fc40",
   "metadata": {},
   "outputs": [],
   "source": [
    "interval_counts = np.zeros(len(intervals), dtype = int)\n",
    "for age in ages:\n",
    "    for i, (lower, upper) in enumerate(intervals):\n",
    "        if lower <= age <= upper:\n",
    "            interval_counts[i] += 1"
   ]
  },
  {
   "cell_type": "code",
   "execution_count": 27,
   "id": "113e5775-68ca-42ad-8864-30d293179c7b",
   "metadata": {},
   "outputs": [
    {
     "name": "stdout",
     "output_type": "stream",
     "text": [
      "20-24\t\t5\n",
      "25-29\t\t17\n",
      "30-34\t\t10\n",
      "35-39\t\t0\n"
     ]
    }
   ],
   "source": [
    "for (lower, upper), count in zip(intervals, interval_counts):\n",
    "    print(f\"{lower}-{upper}\\t\\t{count}\")"
   ]
  },
  {
   "cell_type": "code",
   "execution_count": 28,
   "id": "1854e231-9fc9-41d8-819a-8c950a9d5e96",
   "metadata": {},
   "outputs": [
    {
     "name": "stdout",
     "output_type": "stream",
     "text": [
      "['20-24', '25-29', '30-34', '35-39']\n"
     ]
    }
   ],
   "source": [
    "interval_labels = [f\"{lower}-{upper}\" for (lower, upper) in intervals]\n",
    "print(interval_labels)"
   ]
  },
  {
   "cell_type": "code",
   "execution_count": 29,
   "id": "fd745eef-e9a1-4ca1-b1b3-822a62ec6f96",
   "metadata": {},
   "outputs": [
    {
     "data": {
      "text/plain": [
       "<BarContainer object of 4 artists>"
      ]
     },
     "execution_count": 29,
     "metadata": {},
     "output_type": "execute_result"
    },
    {
     "data": {
      "image/png": "[encoded data removed]",
      "text/plain": [
       "<Figure size 640x480 with 1 Axes>"
      ]
     },
     "metadata": {},
     "output_type": "display_data"
    }
   ],
   "source": [
    "plt.bar(interval_labels, interval_counts, color = \"skyblue\")"
   ]
  },
  {
   "cell_type": "code",
   "execution_count": null,
   "id": "f821ede7-a185-4397-9c98-e5a7a59632f0",
   "metadata": {},
   "outputs": [],
   "source": [
    "bin_edges = "
   ]
  }
 ],
 "metadata": {
  "kernelspec": {
   "display_name": "Python 3 (ipykernel)",
   "language": "python",
   "name": "python3"
  },
  "language_info": {
   "codemirror_mode": {
    "name": "ipython",
    "version": 3
   },
   "file_extension": ".py",
   "mimetype": "text/x-python",
   "name": "python",
   "nbconvert_exporter": "python",
   "pygments_lexer": "ipython3",
   "version": "3.11.7"
  }
 },
 "nbformat": 4,
 "nbformat_minor": 5
}
