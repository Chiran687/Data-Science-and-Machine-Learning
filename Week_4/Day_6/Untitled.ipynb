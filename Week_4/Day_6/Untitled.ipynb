{
 "cells": [
  {
   "cell_type": "code",
   "execution_count": 2,
   "id": "73e432f8-962e-43d4-bea8-da0725cb9924",
   "metadata": {},
   "outputs": [
    {
     "data": {
      "text/plain": [
       "array([2, 6, 7, 8, 2, 4])"
      ]
     },
     "execution_count": 2,
     "metadata": {},
     "output_type": "execute_result"
    }
   ],
   "source": [
    "import numpy as np\n",
    "arr=np.array([2,6,7,8,2,4])\n",
    "arr"
   ]
  },
  {
   "cell_type": "code",
   "execution_count": 5,
   "id": "48209c86-5447-44ad-a461-eb8036d64981",
   "metadata": {},
   "outputs": [
    {
     "data": {
      "text/plain": [
       "array(['2', '6', '7', '8', '2', '4', 'hello'], dtype='<U21')"
      ]
     },
     "execution_count": 5,
     "metadata": {},
     "output_type": "execute_result"
    }
   ],
   "source": [
    "arr=np.array([2,6,7,8,2,4, 'hello'])\n",
    "arr"
   ]
  },
  {
   "cell_type": "code",
   "execution_count": 8,
   "id": "e2b88389-c897-4768-8367-2d022a09e8f3",
   "metadata": {},
   "outputs": [
    {
     "data": {
      "text/plain": [
       "array([2, 6, 7, 8, 2, 4, 'hello'], dtype=object)"
      ]
     },
     "execution_count": 8,
     "metadata": {},
     "output_type": "execute_result"
    }
   ],
   "source": [
    "arr=np.array([2,6,7,8,2,4, 'hello'], dtype='object')\n",
    "arr"
   ]
  },
  {
   "cell_type": "markdown",
   "id": "f8737856-9597-466a-be39-eb819a977cc4",
   "metadata": {},
   "source": [
    "<h1>Array Indexing</h1>"
   ]
  },
  {
   "cell_type": "code",
   "execution_count": 10,
   "id": "ff5deb4b-b7b7-4c46-b9a1-390ba36682b4",
   "metadata": {},
   "outputs": [],
   "source": [
    "arr = np.array([0,1,2,3,4])\n"
   ]
  },
  {
   "cell_type": "code",
   "execution_count": 11,
   "id": "811c0217-7433-44b0-93ec-3fe8705ff35e",
   "metadata": {},
   "outputs": [
    {
     "name": "stdout",
     "output_type": "stream",
     "text": [
      "1st item: 0\n",
      "2nd item: 1\n",
      "3rd item: 2\n",
      "4th item: 3\n"
     ]
    }
   ],
   "source": [
    "print(f\"1st item: {arr[0]}\")\n",
    "print(f\"2nd item: {arr[1]}\")\n",
    "print(f\"3rd item: {arr[2]}\")\n",
    "print(f\"4th item: {arr[3]}\")"
   ]
  },
  {
   "cell_type": "code",
   "execution_count": 16,
   "id": "aa128d2b-9e5c-4b55-914c-dd20b750598f",
   "metadata": {},
   "outputs": [
    {
     "data": {
      "text/plain": [
       "array([[16, 19, 10],\n",
       "       [ 4,  3,  8],\n",
       "       [ 5,  5,  9]])"
      ]
     },
     "execution_count": 16,
     "metadata": {},
     "output_type": "execute_result"
    }
   ],
   "source": [
    "arr = np.random.randint(20, size=(3,3))\n",
    "arr\n"
   ]
  },
  {
   "cell_type": "code",
   "execution_count": 17,
   "id": "0c2c92cc-643a-40e5-8914-edf3b0fce76e",
   "metadata": {},
   "outputs": [
    {
     "name": "stdout",
     "output_type": "stream",
     "text": [
      "10\n"
     ]
    }
   ],
   "source": [
    "print(arr[0][2])"
   ]
  },
  {
   "cell_type": "code",
   "execution_count": 24,
   "id": "93cf95e9-3647-4d04-a17a-6aa036cf1c1e",
   "metadata": {},
   "outputs": [],
   "source": [
    "arr = np.array([0,1,2,3,4,6,7,8,9,33])"
   ]
  },
  {
   "cell_type": "code",
   "execution_count": 21,
   "id": "2f51a172-da9f-45da-a663-babc5dd6237b",
   "metadata": {},
   "outputs": [
    {
     "data": {
      "text/plain": [
       "array([1, 2])"
      ]
     },
     "execution_count": 21,
     "metadata": {},
     "output_type": "execute_result"
    }
   ],
   "source": [
    "arr_slice=arr[1:3]\n",
    "arr_slice"
   ]
  },
  {
   "cell_type": "code",
   "execution_count": 25,
   "id": "65a15b96-63f5-4378-ac3d-950d59ad5c5b",
   "metadata": {},
   "outputs": [
    {
     "data": {
      "text/plain": [
       "array([ 4,  6,  7,  8,  9, 33])"
      ]
     },
     "execution_count": 25,
     "metadata": {},
     "output_type": "execute_result"
    }
   ],
   "source": [
    "arr[4:]"
   ]
  },
  {
   "cell_type": "code",
   "execution_count": 26,
   "id": "d103b8ac-e8f5-4bf2-aff7-e48a08dc0722",
   "metadata": {},
   "outputs": [
    {
     "data": {
      "text/plain": [
       "array([0, 2, 4, 7, 9])"
      ]
     },
     "execution_count": 26,
     "metadata": {},
     "output_type": "execute_result"
    }
   ],
   "source": [
    "arr[::2]"
   ]
  },
  {
   "cell_type": "code",
   "execution_count": 27,
   "id": "16035045-9bc9-437f-9150-a3d762457cf8",
   "metadata": {},
   "outputs": [
    {
     "data": {
      "text/plain": [
       "array([8, 9])"
      ]
     },
     "execution_count": 27,
     "metadata": {},
     "output_type": "execute_result"
    }
   ],
   "source": [
    "arr[-3:-1]"
   ]
  },
  {
   "cell_type": "code",
   "execution_count": 28,
   "id": "e9860c00-482c-4cd3-8144-c92033822e94",
   "metadata": {},
   "outputs": [
    {
     "data": {
      "text/plain": [
       "array([33,  9,  8,  7,  6,  4,  3,  2,  1,  0])"
      ]
     },
     "execution_count": 28,
     "metadata": {},
     "output_type": "execute_result"
    }
   ],
   "source": [
    "arr[::-1]"
   ]
  },
  {
   "cell_type": "code",
   "execution_count": 29,
   "id": "fc791452-fa6d-45bc-9a06-0a1765d26950",
   "metadata": {},
   "outputs": [
    {
     "data": {
      "text/plain": [
       "array([[28, 24,  7],\n",
       "       [14,  8, 12],\n",
       "       [ 8, 11, 16]])"
      ]
     },
     "execution_count": 29,
     "metadata": {},
     "output_type": "execute_result"
    }
   ],
   "source": [
    "arr = np.random.randint(33, size=(3,3))\n",
    "arr"
   ]
  },
  {
   "cell_type": "markdown",
   "id": "f8b5fc5f-3cbc-4c42-a3b9-3b3feae3a724",
   "metadata": {},
   "source": [
    "<h1>Array Copy and View</h1>"
   ]
  },
  {
   "cell_type": "code",
   "execution_count": 30,
   "id": "b7daac3a-3cdd-4060-9f39-36956c489b79",
   "metadata": {},
   "outputs": [
    {
     "data": {
      "text/plain": [
       "array([1, 4, 5, 6, 7, 8, 7, 8, 9])"
      ]
     },
     "execution_count": 30,
     "metadata": {},
     "output_type": "execute_result"
    }
   ],
   "source": [
    "base_array = np.array([1,4,5,6,7,8,7,8,9])\n",
    "base_array"
   ]
  },
  {
   "cell_type": "code",
   "execution_count": 36,
   "id": "71030ecf-632c-4fdf-a3d6-3b9b8488519f",
   "metadata": {},
   "outputs": [
    {
     "data": {
      "text/plain": [
       "array([1, 4, 5, 6, 7, 8, 7, 8, 9])"
      ]
     },
     "execution_count": 36,
     "metadata": {},
     "output_type": "execute_result"
    }
   ],
   "source": [
    "copr_arr = np.copy(base_array)\n",
    "copr_arr"
   ]
  },
  {
   "cell_type": "code",
   "execution_count": 37,
   "id": "3ef04a24-5887-4f19-87a0-8ed64e47cc0b",
   "metadata": {},
   "outputs": [
    {
     "data": {
      "text/plain": [
       "False"
      ]
     },
     "execution_count": 37,
     "metadata": {},
     "output_type": "execute_result"
    }
   ],
   "source": [
    "np.shares_memory(base_array, copr_arr)"
   ]
  },
  {
   "cell_type": "code",
   "execution_count": null,
   "id": "c777b9d1-dc65-4e30-ac86-acc590f5b934",
   "metadata": {},
   "outputs": [],
   "source": []
  }
 ],
 "metadata": {
  "kernelspec": {
   "display_name": "Python 3 (ipykernel)",
   "language": "python",
   "name": "python3"
  },
  "language_info": {
   "codemirror_mode": {
    "name": "ipython",
    "version": 3
   },
   "file_extension": ".py",
   "mimetype": "text/x-python",
   "name": "python",
   "nbconvert_exporter": "python",
   "pygments_lexer": "ipython3",
   "version": "3.11.7"
  }
 },
 "nbformat": 4,
 "nbformat_minor": 5
}
