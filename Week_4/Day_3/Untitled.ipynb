{
 "cells": [
  {
   "cell_type": "markdown",
   "id": "06639416-3f10-4a2d-b8cc-0996ae51b43e",
   "metadata": {},
   "source": [
    "<h1>Outlier</h1>"
   ]
  },
  {
   "cell_type": "code",
   "execution_count": 10,
   "id": "252b0768-d4a6-40fb-9100-3eb048328c03",
   "metadata": {},
   "outputs": [],
   "source": [
    "import numpy as np\n",
    "import matplotlib.pyplot as plt\n",
    "import seaborn as sbs\n",
    "import statistics as sts"
   ]
  },
  {
   "cell_type": "code",
   "execution_count": 23,
   "id": "ce895c36-d2ff-4764-9983-c665a7740713",
   "metadata": {},
   "outputs": [],
   "source": [
    "data = [11,10,12,14,12,15,14,13,15,102,12,14,17,19,107,10,13,12,14,108,12,11,14,13,15,10,15,12,10,14,13,15,10]"
   ]
  },
  {
   "cell_type": "code",
   "execution_count": 5,
   "id": "a6de19d7-6b50-4723-a3a2-18a538beca84",
   "metadata": {},
   "outputs": [
    {
     "name": "stderr",
     "output_type": "stream",
     "text": [
      "/home/chiran/miniconda3/lib/python3.11/site-packages/seaborn/_oldcore.py:1119: FutureWarning: use_inf_as_na option is deprecated and will be removed in a future version. Convert inf values to NaN before operating instead.\n",
      "  with pd.option_context('mode.use_inf_as_na', True):\n"
     ]
    },
    {
     "data": {
      "text/plain": [
       "<Axes: ylabel='Count'>"
      ]
     },
     "execution_count": 5,
     "metadata": {},
     "output_type": "execute_result"
    },
    {
     "data": {
      "image/png": "[encoded data removed]",
      "text/plain": [
       "<Figure size 640x480 with 1 Axes>"
      ]
     },
     "metadata": {},
     "output_type": "display_data"
    }
   ],
   "source": [
    "sbs.histplot(data, kde=True)"
   ]
  },
  {
   "cell_type": "markdown",
   "id": "36ca9047-bdeb-45e9-8ccb-3e5a3b8e8fe7",
   "metadata": {},
   "source": [
    "<h2>Above Distr. is not normally distributer.</h2>\n",
    "<h2>It is right tailed</h2>\n",
    "<h2></h2>"
   ]
  },
  {
   "cell_type": "code",
   "execution_count": 6,
   "id": "ab3caf93-511e-44e4-8e81-4277fe6357a3",
   "metadata": {},
   "outputs": [
    {
     "data": {
      "text/plain": [
       "21.454545454545453"
      ]
     },
     "execution_count": 6,
     "metadata": {},
     "output_type": "execute_result"
    }
   ],
   "source": [
    "mean_value = np.mean(data)\n",
    "mean_value"
   ]
  },
  {
   "cell_type": "code",
   "execution_count": 12,
   "id": "b3769f15-e31b-49d8-b464-77190cede0c8",
   "metadata": {},
   "outputs": [
    {
     "data": {
      "text/plain": [
       "27.134031801746342"
      ]
     },
     "execution_count": 12,
     "metadata": {},
     "output_type": "execute_result"
    }
   ],
   "source": [
    "sdv =sts.stdev(data)\n",
    "sdv"
   ]
  },
  {
   "cell_type": "code",
   "execution_count": 15,
   "id": "ac0aa12d-bf11-48ce-bd43-9e558ae325bf",
   "metadata": {},
   "outputs": [
    {
     "name": "stdout",
     "output_type": "stream",
     "text": [
      "Retrieving notices: ...working... done\n",
      "Channels:\n",
      " - defaults\n",
      " - conda-forge\n",
      "Platform: linux-64\n",
      "Collecting package metadata (repodata.json): done\n",
      "Solving environment: done\n",
      "\n",
      "## Package Plan ##\n",
      "\n",
      "  environment location: /home/chiran/miniconda3\n",
      "\n",
      "  added / updated specs:\n",
      "    - scipy\n",
      "\n",
      "\n",
      "The following packages will be downloaded:\n",
      "\n",
      "    package                    |            build\n",
      "    ---------------------------|-----------------\n",
      "    scipy-1.11.4               |  py311h24aa872_0        21.9 MB\n",
      "    ------------------------------------------------------------\n",
      "                                           Total:        21.9 MB\n",
      "\n",
      "The following NEW packages will be INSTALLED:\n",
      "\n",
      "  scipy              pkgs/main/linux-64::scipy-1.11.4-py311h24aa872_0 \n",
      "\n",
      "\n",
      "\n",
      "Downloading and Extracting Packages:\n",
      "                                                                                \n",
      "Preparing transaction: done\n",
      "Verifying transaction: done\n",
      "Executing transaction: done\n",
      "\n",
      "Note: you may need to restart the kernel to use updated packages.\n"
     ]
    }
   ],
   "source": [
    "conda install scipy"
   ]
  },
  {
   "cell_type": "code",
   "execution_count": 16,
   "id": "8f866a09-a51a-4ac0-94c8-21ab19b93d35",
   "metadata": {},
   "outputs": [],
   "source": [
    "import scipy.stats as stats"
   ]
  },
  {
   "cell_type": "code",
   "execution_count": 24,
   "id": "39b1542e-9469-4458-b589-3bb4ce893215",
   "metadata": {},
   "outputs": [],
   "source": [
    "z_score = stats.zscore(data)"
   ]
  },
  {
   "cell_type": "code",
   "execution_count": 25,
   "id": "3054fa8f-3331-4d60-8d9f-7f7f205811cb",
   "metadata": {},
   "outputs": [
    {
     "data": {
      "text/plain": [
       "array([-0.39126663, -0.42869213, -0.35384112, -0.27899012, -0.35384112,\n",
       "       -0.24156461, -0.27899012, -0.31641562, -0.24156461,  3.01445419,\n",
       "       -0.35384112, -0.27899012, -0.16671361, -0.0918626 ,  3.2015817 ,\n",
       "       -0.42869213, -0.31641562, -0.35384112, -0.27899012,  3.23900721,\n",
       "       -0.35384112, -0.39126663, -0.27899012, -0.31641562, -0.24156461,\n",
       "       -0.42869213, -0.24156461, -0.35384112, -0.42869213, -0.27899012,\n",
       "       -0.31641562, -0.24156461, -0.42869213])"
      ]
     },
     "execution_count": 25,
     "metadata": {},
     "output_type": "execute_result"
    }
   ],
   "source": [
    "z_score"
   ]
  },
  {
   "cell_type": "code",
   "execution_count": 31,
   "id": "9e8c540b-dda6-4014-9074-3f89b8d952eb",
   "metadata": {},
   "outputs": [
    {
     "data": {
      "text/plain": [
       "<Axes: >"
      ]
     },
     "execution_count": 31,
     "metadata": {},
     "output_type": "execute_result"
    },
    {
     "data": {
      "image/png": "[encoded data removed]",
      "text/plain": [
       "<Figure size 640x480 with 1 Axes>"
      ]
     },
     "metadata": {},
     "output_type": "display_data"
    }
   ],
   "source": [
    "sbs.boxplot(data)"
   ]
  },
  {
   "cell_type": "code",
   "execution_count": 39,
   "id": "726213f7-3d2b-4d7c-afa1-f60088af2ff9",
   "metadata": {},
   "outputs": [
    {
     "name": "stdout",
     "output_type": "stream",
     "text": [
      "(array([ 9, 14, 19]),)\n"
     ]
    }
   ],
   "source": [
    "print(np.where(z_score>3))"
   ]
  },
  {
   "cell_type": "code",
   "execution_count": 41,
   "id": "b8856a98-18ea-470c-8b31-f64f5f37a622",
   "metadata": {},
   "outputs": [
    {
     "ename": "AttributeError",
     "evalue": "'list' object has no attribute 'drop'",
     "output_type": "error",
     "traceback": [
      "\u001b[0;31m---------------------------------------------------------------------------\u001b[0m",
      "\u001b[0;31mAttributeError\u001b[0m                            Traceback (most recent call last)",
      "Cell \u001b[0;32mIn[41], line 2\u001b[0m\n\u001b[1;32m      1\u001b[0m x\u001b[38;5;241m=\u001b[39m np\u001b[38;5;241m.\u001b[39mwhere(z_score\u001b[38;5;241m>\u001b[39m\u001b[38;5;241m1\u001b[39m)\n\u001b[0;32m----> 2\u001b[0m data\u001b[38;5;241m.\u001b[39mdrop(x)\n\u001b[1;32m      3\u001b[0m data\n",
      "\u001b[0;31mAttributeError\u001b[0m: 'list' object has no attribute 'drop'"
     ]
    }
   ],
   "source": [
    "    "
   ]
  },
  {
   "cell_type": "code",
   "execution_count": 42,
   "id": "5d31ae6b-5f77-4d6e-9a32-2b430a5b3268",
   "metadata": {},
   "outputs": [],
   "source": [
    "dataset = [11, 10, 12, 14, 12, 15, 14, 13, 15, 102, 12, 14, 17, 19, 107, 10, 13, 12, 14, 12, 108, 12, 11, 14, 13, 15, 10, 15, 12, 10, 14, 13, 15, 10]\n",
    "sorted_data = sorted(dataset)\n"
   ]
  },
  {
   "cell_type": "code",
   "execution_count": 44,
   "id": "c09d63c9-6220-458e-9a0a-1dd5ba623135",
   "metadata": {},
   "outputs": [],
   "source": [
    "q1 = np.percentile(sorted_data, 25)\n",
    "q3 = np.percentile(sorted_data, 75)\n"
   ]
  },
  {
   "cell_type": "code",
   "execution_count": null,
   "id": "7076ee43-3801-424a-b1b5-a187f9206b7d",
   "metadata": {},
   "outputs": [],
   "source": []
  }
 ],
 "metadata": {
  "kernelspec": {
   "display_name": "Python 3 (ipykernel)",
   "language": "python",
   "name": "python3"
  },
  "language_info": {
   "codemirror_mode": {
    "name": "ipython",
    "version": 3
   },
   "file_extension": ".py",
   "mimetype": "text/x-python",
   "name": "python",
   "nbconvert_exporter": "python",
   "pygments_lexer": "ipython3",
   "version": "3.11.7"
  }
 },
 "nbformat": 4,
 "nbformat_minor": 5
}
