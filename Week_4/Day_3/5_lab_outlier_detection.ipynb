{
 "cells": [
  {
   "cell_type": "markdown",
   "metadata": {
    "id": "D7gWtXlMirLo"
   },
   "source": [
    "## Outlier Detection\n",
    "- In this notebook we'll look into the techniques on Outlier detection.\n",
    "- We will learn:\n",
    "  - z score\n",
    "  - Interquartile Range (IQR)\n",
    "  - Box Plot (from package seaborn)"
   ]
  },
  {
   "cell_type": "markdown",
   "metadata": {
    "id": "_WxO4ASNi-5V"
   },
   "source": [
    "**1. Outlier Detection using Z score**\n",
    "- Z score for item x gives how many standard deviation it is away from the mean.\n",
    "- As per Empirical Formulae:\n",
    "  - 68% of data points will be in the region of 1 standard deviation.\n",
    "  - 95% of data points will be in the region of 2 standard deviation.\n",
    "  - 99.7% of data points will be in the region of 3 standard deviation.\n",
    "\n",
    "- So, we can say any data points above `mean + 3*SD` or below `mean - 3*SD` as outliers\n",
    "- **`Formulae:`**\n",
    "  - The z-score formula is given by:  \n",
    "$$ z = \\frac{x - \\mu}{\\sigma} $$\n",
    "\n",
    "    Where,\n",
    "    - \\( z \\) represents the z-score.\n",
    "    - \\( x \\) is the individual data point.\n",
    "    - $ ( \\mu ) $ is the mean of the data set.\n",
    "    - $( \\sigma ) $ is the standard deviation of the data set."
   ]
  },
  {
   "cell_type": "code",
   "execution_count": 1,
   "metadata": {
    "executionInfo": {
     "elapsed": 1954,
     "status": "ok",
     "timestamp": 1692157011849,
     "user": {
      "displayName": "Anish Thapaliya",
      "userId": "06325140887572930045"
     },
     "user_tz": -345
    },
    "id": "m1SRqN7qsFxa"
   },
   "outputs": [],
   "source": [
    "# import package\n",
    "\n",
    "import numpy as np\n",
    "import matplotlib.pyplot as plt\n",
    "import seaborn as sns"
   ]
  },
  {
   "cell_type": "code",
   "execution_count": 2,
   "metadata": {
    "colab": {
     "base_uri": "https://localhost:8080/"
    },
    "executionInfo": {
     "elapsed": 7,
     "status": "ok",
     "timestamp": 1691993804844,
     "user": {
      "displayName": "Anish Thapaliya",
      "userId": "06325140887572930045"
     },
     "user_tz": -345
    },
    "id": "1sOd90CTia99",
    "outputId": "c84c52ba-f0a2-4c28-8549-22b1ec3e64fb"
   },
   "outputs": [
    {
     "name": "stdout",
     "output_type": "stream",
     "text": [
      "[11, 10, 12, 14, 12, 15, 14, 13, 15, 102, 12, 14, 17, 19, 107, 10, 13, 12, 14, 12, 108, 12, 11, 14, 13, 15, 10, 15, 12, 10, 14, 13, 15, 10]\n"
     ]
    }
   ],
   "source": [
    "# Create Custom Dataset\n",
    "dataset = [11, 10, 12, 14, 12, 15, 14, 13, 15, 102, 12, 14, 17, 19, 107, 10, 13, 12, 14, 12, 108, 12, 11, 14, 13, 15, 10, 15, 12, 10, 14, 13, 15, 10]\n",
    "print(dataset)"
   ]
  },
  {
   "cell_type": "markdown",
   "metadata": {
    "id": "VEFdfzxhuqN9"
   },
   "source": [
    "**histogram plot**"
   ]
  },
  {
   "cell_type": "code",
   "execution_count": 3,
   "metadata": {
    "colab": {
     "base_uri": "https://localhost:8080/",
     "height": 430
    },
    "executionInfo": {
     "elapsed": 1218,
     "status": "ok",
     "timestamp": 1691994547902,
     "user": {
      "displayName": "Anish Thapaliya",
      "userId": "06325140887572930045"
     },
     "user_tz": -345
    },
    "id": "nFp5YxO7utOT",
    "outputId": "ab7a827f-05e0-45d7-99b6-163f5dff1cc7"
   },
   "outputs": [
    {
     "name": "stderr",
     "output_type": "stream",
     "text": [
      "/home/chiran/miniconda3/lib/python3.11/site-packages/seaborn/_oldcore.py:1119: FutureWarning: use_inf_as_na option is deprecated and will be removed in a future version. Convert inf values to NaN before operating instead.\n",
      "  with pd.option_context('mode.use_inf_as_na', True):\n"
     ]
    },
    {
     "data": {
      "image/png": "[encoded data removed]",
      "text/plain": [
       "<Figure size 640x480 with 1 Axes>"
      ]
     },
     "metadata": {},
     "output_type": "display_data"
    }
   ],
   "source": [
    "sns.histplot(dataset, kde=True)\n",
    "plt.show()"
   ]
  },
  {
   "cell_type": "markdown",
   "metadata": {
    "id": "ZhqZ_xrTu9SD"
   },
   "source": [
    "- Above distribution is not normally distributed.\n",
    "- It is Right Tailed i.e. Right Skewed.\n",
    "- It may be due to some high values i.e. near to 100.\n",
    "- Let's try to detect outliers and remove if any."
   ]
  },
  {
   "cell_type": "markdown",
   "metadata": {
    "id": "ipSkOMmnvUb3"
   },
   "source": [
    "**outlier detection**"
   ]
  },
  {
   "cell_type": "code",
   "execution_count": 4,
   "metadata": {
    "id": "wvosnZSqqt_z"
   },
   "outputs": [],
   "source": [
    "# Detect outliers\n",
    "THRESHOLD = 3\n",
    "\n",
    "\n",
    "def detect_outliers(data):\n",
    "  outliers = []\n",
    "\n",
    "  # get mean\n",
    "  mean = np.mean(data)\n",
    "\n",
    "  # get standard deviation\n",
    "  std = np.std(data)\n",
    "\n",
    "  # Apply Z score for each and every point in the datasets.\n",
    "  for i in data:\n",
    "    z_score = (i - mean) / std\n",
    "\n",
    "    # check for outliers\n",
    "    # append to outlier list in the case of outlier\n",
    "    if np.abs(z_score) > THRESHOLD:\n",
    "      outliers.append(i)\n",
    "  return outliers"
   ]
  },
  {
   "cell_type": "code",
   "execution_count": 5,
   "metadata": {
    "colab": {
     "base_uri": "https://localhost:8080/"
    },
    "executionInfo": {
     "elapsed": 6,
     "status": "ok",
     "timestamp": 1691994703181,
     "user": {
      "displayName": "Anish Thapaliya",
      "userId": "06325140887572930045"
     },
     "user_tz": -345
    },
    "id": "zqdaqFWovaAc",
    "outputId": "b686c3b2-0a0b-4468-c9e5-7e672461de67"
   },
   "outputs": [
    {
     "data": {
      "text/plain": [
       "[102, 107, 108]"
      ]
     },
     "execution_count": 5,
     "metadata": {},
     "output_type": "execute_result"
    }
   ],
   "source": [
    "# function call\n",
    "outliers = detect_outliers(dataset)\n",
    "outliers"
   ]
  },
  {
   "cell_type": "markdown",
   "metadata": {
    "id": "CXU807svvnPk"
   },
   "source": [
    "- Here, data points 102, 107, 108 falls under the section of outliers."
   ]
  },
  {
   "cell_type": "code",
   "execution_count": 6,
   "metadata": {
    "id": "NhXEp7gPvkDx"
   },
   "outputs": [
    {
     "name": "stderr",
     "output_type": "stream",
     "text": [
      "/home/chiran/miniconda3/lib/python3.11/site-packages/seaborn/_oldcore.py:1119: FutureWarning: use_inf_as_na option is deprecated and will be removed in a future version. Convert inf values to NaN before operating instead.\n",
      "  with pd.option_context('mode.use_inf_as_na', True):\n"
     ]
    },
    {
     "data": {
      "text/plain": [
       "<Axes: ylabel='Count'>"
      ]
     },
     "execution_count": 6,
     "metadata": {},
     "output_type": "execute_result"
    },
    {
     "data": {
      "image/png": "[encoded data removed]",
      "text/plain": [
       "<Figure size 640x480 with 1 Axes>"
      ]
     },
     "metadata": {},
     "output_type": "display_data"
    }
   ],
   "source": [
    "## **Remove Outliers** *italicized text*\n",
    "\n",
    "dataset_new = [item for item in dataset if item not in [102, 107, 108]]\n",
    "\n",
    "sns.histplot(dataset_new, kde=True)"
   ]
  },
  {
   "cell_type": "code",
   "execution_count": null,
   "metadata": {
    "id": "U1XDoEp8wwT_"
   },
   "outputs": [],
   "source": []
  },
  {
   "cell_type": "markdown",
   "metadata": {
    "id": "d78p5SWHwpnF"
   },
   "source": [
    "**2. Outlier Detection using Interquartile Range (IQR)**\n",
    "- IQR is the difference between Q3 and Q1 i.e.\n",
    "  - `IQR = Q3 - Q1`,  \n",
    "  where,  \n",
    "  Q3 is 75% percentile  \n",
    "  Q1 is 50% percentile\n",
    "\n",
    "- For Detecting Outliers we need to identify Lower Fence and Upper Fence i.e.\n",
    "  - Lower Fence = Q1 - 1.5 * IQR\n",
    "  - Upper Fence = Q3 + 1.5 * IQR\n",
    "\n",
    "  - For Outliers:\n",
    "    - Data points > Upper Fence or\n",
    "    - Data points < Lower Fence\n",
    "\n",
    "- **`Steps:`**  \n",
    "  1. Sort the data in ascending Order.\n",
    "  2. Calculate Q1 and Q3.\n",
    "  3. Calculate IQR.\n",
    "  4. Find Lower Fence and Upper Fence.\n",
    "  5. Make Conclusion."
   ]
  },
  {
   "cell_type": "code",
   "execution_count": 7,
   "metadata": {
    "executionInfo": {
     "elapsed": 15,
     "status": "ok",
     "timestamp": 1692151638634,
     "user": {
      "displayName": "Anish Thapaliya",
      "userId": "06325140887572930045"
     },
     "user_tz": -345
    },
    "id": "Zx84RPg4wpNa"
   },
   "outputs": [],
   "source": [
    "# redefine dataset\n",
    "\n",
    "dataset = [11, 10, 12, 14, 12, 15, 14, 13, 15, 102, 12, 14, 17, 19,\n",
    "           107, 10, 13, 12, 14, 12, 108, 12, 11, 14, 13, 15, 10, 15,\n",
    "           12, 10, 14, 13, 15, 10]"
   ]
  },
  {
   "cell_type": "code",
   "execution_count": 8,
   "metadata": {
    "colab": {
     "base_uri": "https://localhost:8080/"
    },
    "executionInfo": {
     "elapsed": 13,
     "status": "ok",
     "timestamp": 1692151638636,
     "user": {
      "displayName": "Anish Thapaliya",
      "userId": "06325140887572930045"
     },
     "user_tz": -345
    },
    "id": "6Brg15c7wpFw",
    "outputId": "304b08e5-2fc1-41a5-f47a-2b13c331aacf"
   },
   "outputs": [
    {
     "name": "stdout",
     "output_type": "stream",
     "text": [
      "[10, 10, 10, 10, 10, 11, 11, 12, 12, 12, 12, 12, 12, 12, 13, 13, 13, 13, 14, 14, 14, 14, 14, 14, 15, 15, 15, 15, 15, 17, 19, 102, 107, 108]\n"
     ]
    }
   ],
   "source": [
    "## Step 1: sort the dataset in ascending order\n",
    "dataset = sorted(dataset)\n",
    "print(dataset)"
   ]
  },
  {
   "cell_type": "code",
   "execution_count": 9,
   "metadata": {
    "colab": {
     "base_uri": "https://localhost:8080/"
    },
    "executionInfo": {
     "elapsed": 8,
     "status": "ok",
     "timestamp": 1692151817808,
     "user": {
      "displayName": "Anish Thapaliya",
      "userId": "06325140887572930045"
     },
     "user_tz": -345
    },
    "id": "Va_IcWiNwU3L",
    "outputId": "04c7fe54-ca37-47c2-ebc4-dcf394d74e92"
   },
   "outputs": [
    {
     "name": "stdout",
     "output_type": "stream",
     "text": [
      "Q1: 12.0\n",
      "Q3: 15.0\n"
     ]
    }
   ],
   "source": [
    "## Step 2: calculate Q1 and Q3\n",
    "# Q1: 25% percentile\n",
    "# Q3: 75% percentile\n",
    "\n",
    "Q1, Q3 = np.percentile(dataset, [25, 75])\n",
    "\n",
    "print(f\"Q1: {Q1}\")\n",
    "print(f\"Q3: {Q3}\")"
   ]
  },
  {
   "cell_type": "code",
   "execution_count": 10,
   "metadata": {
    "colab": {
     "base_uri": "https://localhost:8080/"
    },
    "executionInfo": {
     "elapsed": 4,
     "status": "ok",
     "timestamp": 1691996111621,
     "user": {
      "displayName": "Anish Thapaliya",
      "userId": "06325140887572930045"
     },
     "user_tz": -345
    },
    "id": "sA31ivz701Ew",
    "outputId": "758aa186-5b74-4138-cc4d-084bee5bf05a"
   },
   "outputs": [
    {
     "name": "stdout",
     "output_type": "stream",
     "text": [
      "IQR: 3.0\n"
     ]
    }
   ],
   "source": [
    "## Step 3: Compute IQR\n",
    "\n",
    "iqr = Q3 - Q1\n",
    "\n",
    "print(f\"IQR: {iqr}\")"
   ]
  },
  {
   "cell_type": "code",
   "execution_count": 11,
   "metadata": {
    "colab": {
     "base_uri": "https://localhost:8080/"
    },
    "executionInfo": {
     "elapsed": 13,
     "status": "ok",
     "timestamp": 1691996192845,
     "user": {
      "displayName": "Anish Thapaliya",
      "userId": "06325140887572930045"
     },
     "user_tz": -345
    },
    "id": "aCaBI6xl0rzw",
    "outputId": "01d30115-41bf-4e9a-fda0-196d38b32efb"
   },
   "outputs": [
    {
     "name": "stdout",
     "output_type": "stream",
     "text": [
      "Lower Fence: 7.5\n",
      "Upper Fence: 19.5\n"
     ]
    }
   ],
   "source": [
    "## Step 4: Compute Lower Fence and Upper Fence\n",
    "\n",
    "lower_fence = Q1 - (1.5 * iqr)\n",
    "upper_fence = Q3 + (1.5 * iqr)\n",
    "\n",
    "print(f\"Lower Fence: {lower_fence}\")\n",
    "print(f\"Upper Fence: {upper_fence}\")"
   ]
  },
  {
   "cell_type": "code",
   "execution_count": 12,
   "metadata": {
    "id": "YjI00zrJ1Pxg"
   },
   "outputs": [],
   "source": [
    "## Step 5: Make Conclusion\n",
    "\n",
    "def detect_outlier_using_iqr(data, iqr, lower_fence, upper_fence):\n",
    "  outliers = []\n",
    "  for i in data:\n",
    "    if i < lower_fence or i > upper_fence:\n",
    "      outliers.append(i)\n",
    "\n",
    "  return outliers"
   ]
  },
  {
   "cell_type": "code",
   "execution_count": 13,
   "metadata": {
    "colab": {
     "base_uri": "https://localhost:8080/"
    },
    "executionInfo": {
     "elapsed": 5,
     "status": "ok",
     "timestamp": 1691996416857,
     "user": {
      "displayName": "Anish Thapaliya",
      "userId": "06325140887572930045"
     },
     "user_tz": -345
    },
    "id": "czgeWB6i11_R",
    "outputId": "5d2ee62e-7b3f-4825-de48-46f9ce76dd4a"
   },
   "outputs": [
    {
     "name": "stdout",
     "output_type": "stream",
     "text": [
      "Detected Outliers:\n",
      " [102, 107, 108]\n"
     ]
    }
   ],
   "source": [
    "# function call\n",
    "outliers = detect_outlier_using_iqr(dataset, iqr, lower_fence, upper_fence)\n",
    "print(f'Detected Outliers:\\n {outliers}')"
   ]
  },
  {
   "cell_type": "markdown",
   "metadata": {
    "id": "JoGFnvoR2HhN"
   },
   "source": [
    "```\n",
    "- This means the detected Outliers using Z-score and IQR are same.\n",
    "- Here data points [102, 107, 108] are considered as an outliers.\n",
    "- This is handled in data preparations phase of Data science Methodology.\n",
    "```"
   ]
  },
  {
   "cell_type": "markdown",
   "metadata": {
    "id": "xW6xZp8d3Sn4"
   },
   "source": [
    "**3. Outliers Detection using Box plot**\n",
    "- Box plots are great way to visualize numeric data.\n",
    "- In order to draw Box plot, we need:  \n",
    "  1. Minimum\n",
    "  2. First Quartile (Q1)\n",
    "  3. Median\n",
    "  4. Third Quartile (Q3)\n",
    "  5. Maximum\n",
    "\n",
    "- Let's use seaborn package to draw Box plot."
   ]
  },
  {
   "cell_type": "code",
   "execution_count": 14,
   "metadata": {
    "colab": {
     "base_uri": "https://localhost:8080/"
    },
    "executionInfo": {
     "elapsed": 557,
     "status": "ok",
     "timestamp": 1692157027422,
     "user": {
      "displayName": "Anish Thapaliya",
      "userId": "06325140887572930045"
     },
     "user_tz": -345
    },
    "id": "7fDChg192GWs",
    "outputId": "b9d768dd-b1b8-427d-e5f7-8b3a3459ddd5"
   },
   "outputs": [
    {
     "name": "stdout",
     "output_type": "stream",
     "text": [
      "[11, 10, 12, 14, 12, 15, 14, 13, 15, 102, 12, 14, 17, 19, 107, 10, 13, 12, 14, 12, 108, 12, 11, 14, 13, 15, 10, 15, 12, 10, 14, 13, 15, 10]\n"
     ]
    }
   ],
   "source": [
    "# redefine dataset\n",
    "dataset = [11, 10, 12, 14, 12, 15, 14, 13, 15, 102, 12, 14, 17, 19, 107, 10, 13, 12, 14, 12, 108, 12, 11, 14, 13, 15, 10, 15, 12, 10, 14, 13, 15, 10]\n",
    "print(dataset)"
   ]
  },
  {
   "cell_type": "code",
   "execution_count": 15,
   "metadata": {
    "colab": {
     "base_uri": "https://localhost:8080/",
     "height": 564
    },
    "executionInfo": {
     "elapsed": 1006,
     "status": "ok",
     "timestamp": 1692157132651,
     "user": {
      "displayName": "Anish Thapaliya",
      "userId": "06325140887572930045"
     },
     "user_tz": -345
    },
    "id": "BdG1Mg5N4SeN",
    "outputId": "2bc59ce5-4787-4aec-dc97-4e8f116ba691"
   },
   "outputs": [
    {
     "data": {
      "image/png": "[encoded data removed]",
      "text/plain": [
       "<Figure size 800x600 with 1 Axes>"
      ]
     },
     "metadata": {},
     "output_type": "display_data"
    }
   ],
   "source": [
    "# Draw Box plot\n",
    "\n",
    "plt.figure(figsize=(8, 6)) # set the figure size\n",
    "sns.boxplot(data=dataset, color='skyblue') # create the box plot\n",
    "plt.xlabel('Data')\n",
    "plt.ylabel('Values')\n",
    "plt.title('Box plot of Data points')\n",
    "plt.show()"
   ]
  },
  {
   "cell_type": "markdown",
   "metadata": {
    "id": "xeXUXzZe4cjY"
   },
   "source": [
    "From above box plot also, we get the 3 values around 100 as outliers. Since it is above Maximum values of our Box plot."
   ]
  },
  {
   "cell_type": "markdown",
   "metadata": {
    "id": "E5jEa2ls4qxj"
   },
   "source": [
    "### Assignments:\n",
    "\n",
    "**`Q. From the above dataset remove detected outliers and draw the histogram plot to see data distributions.`**"
   ]
  }
 ],
 "metadata": {
  "colab": {
   "authorship_tag": "ABX9TyME6FjKa6eefjxHAmfKMbqV",
   "provenance": []
  },
  "kernelspec": {
   "display_name": "Python 3 (ipykernel)",
   "language": "python",
   "name": "python3"
  },
  "language_info": {
   "codemirror_mode": {
    "name": "ipython",
    "version": 3
   },
   "file_extension": ".py",
   "mimetype": "text/x-python",
   "name": "python",
   "nbconvert_exporter": "python",
   "pygments_lexer": "ipython3",
   "version": "3.11.7"
  }
 },
 "nbformat": 4,
 "nbformat_minor": 4
}
