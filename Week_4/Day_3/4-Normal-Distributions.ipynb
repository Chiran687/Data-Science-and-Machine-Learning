{
 "cells": [
  {
   "cell_type": "markdown",
   "metadata": {
    "id": "1BP20a397WVK"
   },
   "source": [
    "## Normal Distribution\n",
    "- Data distribution is the shape of graph when all possible values are plotted on a frequency graph (e.g. Histogram)\n",
    "\n",
    "- The Normal distribution is a continuous probability distribution that showcases a symmetric bell-shaped curve.\n",
    "\n",
    "- It fully characterized by two parameters:\n",
    "  - Mean\n",
    "    - Represent central value\n",
    "  - standard deviation\n",
    "    - Measures spread or dispersion of the data points.\n",
    "\n",
    "- Normal Distribution is bell-shaped curve, also known as Gaussian Curve.\n",
    "\n",
    "- Example:\n",
    "  - Height follows normal distribution.\n",
    "  - Weight follows normal distribution and others.\n",
    "\n",
    "- **Properties:**\n",
    "  - The mean, median, and mode are equal.\n",
    "\n",
    "  - The normal curve is bell-shaped and is symmetric about the mean.\n",
    "\n",
    "  - The total area under the normal curve is equal to 1.\n",
    "\n",
    "  - The normal curve approaches,  but never touches the x-axis.\n",
    "\n",
    "  - Distribution is unimodal, the only mode occurring at x = mean.\n",
    "\n",
    "- **Emperical Formulae:**\n",
    "  - Around 68% of the distribution is present within 1 standard distribution.\n",
    "  - Around 95% of the distribution is present within 2 standard distribution.\n",
    "  - Around 99.7% of the distribution is present within 3 standard distribution.\n"
   ]
  },
  {
   "cell_type": "markdown",
   "metadata": {
    "id": "28B28-Ow79pM"
   },
   "source": [
    "**Q. Suppose Mean = 4, SD = 1,\n",
    "    Construct Normal Distribution using Python.**\n",
    "    "
   ]
  },
  {
   "cell_type": "code",
   "execution_count": 1,
   "metadata": {
    "executionInfo": {
     "elapsed": 1532,
     "status": "ok",
     "timestamp": 1692237313488,
     "user": {
      "displayName": "Anish Thapaliya",
      "userId": "06325140887572930045"
     },
     "user_tz": -345
    },
    "id": "5BxC2pA17Hsu"
   },
   "outputs": [],
   "source": [
    "import numpy as np\n",
    "import seaborn as sns"
   ]
  },
  {
   "cell_type": "code",
   "execution_count": 2,
   "metadata": {
    "executionInfo": {
     "elapsed": 5,
     "status": "ok",
     "timestamp": 1692237982277,
     "user": {
      "displayName": "Anish Thapaliya",
      "userId": "06325140887572930045"
     },
     "user_tz": -345
    },
    "id": "iZovJV-S8L5h"
   },
   "outputs": [],
   "source": [
    "MEAN = 4\n",
    "SD = 1\n",
    "N = 100000"
   ]
  },
  {
   "cell_type": "code",
   "execution_count": 3,
   "metadata": {
    "executionInfo": {
     "elapsed": 3,
     "status": "ok",
     "timestamp": 1692237982707,
     "user": {
      "displayName": "Anish Thapaliya",
      "userId": "06325140887572930045"
     },
     "user_tz": -345
    },
    "id": "SSd51HV18P-M"
   },
   "outputs": [],
   "source": [
    "# sample data from normal distributions\n",
    "data = np.random.normal(MEAN, SD, N)"
   ]
  },
  {
   "cell_type": "code",
   "execution_count": 4,
   "metadata": {
    "colab": {
     "base_uri": "https://localhost:8080/",
     "height": 448
    },
    "executionInfo": {
     "elapsed": 815,
     "status": "ok",
     "timestamp": 1692237987026,
     "user": {
      "displayName": "Anish Thapaliya",
      "userId": "06325140887572930045"
     },
     "user_tz": -345
    },
    "id": "V_28PTmJ8UQq",
    "outputId": "ad3f5893-82ad-4595-b37b-132842c18526"
   },
   "outputs": [
    {
     "name": "stderr",
     "output_type": "stream",
     "text": [
      "/home/chiran/miniconda3/lib/python3.11/site-packages/seaborn/_oldcore.py:1119: FutureWarning: use_inf_as_na option is deprecated and will be removed in a future version. Convert inf values to NaN before operating instead.\n",
      "  with pd.option_context('mode.use_inf_as_na', True):\n"
     ]
    },
    {
     "data": {
      "text/plain": [
       "<Axes: ylabel='Count'>"
      ]
     },
     "execution_count": 4,
     "metadata": {},
     "output_type": "execute_result"
    },
    {
     "data": {
      "image/png": "[encoded data removed]",
      "text/plain": [
       "<Figure size 640x480 with 1 Axes>"
      ]
     },
     "metadata": {},
     "output_type": "display_data"
    }
   ],
   "source": [
    "# Create a histogram to visualize the distribution\n",
    "sns.histplot(data, bins=30, kde=True, alpha=0.6, color='blue')"
   ]
  },
  {
   "cell_type": "markdown",
   "metadata": {
    "id": "dTZGf2br-ApB"
   },
   "source": [
    "-"
   ]
  },
  {
   "cell_type": "markdown",
   "metadata": {
    "id": "19M8bqaX-Fs9"
   },
   "source": [
    "- `np.random.normal`\n",
    "  - np.random is a module for generating random numbers.\n",
    "  - np.random.normal() is function that is used to sample specified datapoints from Normal Distributions given mean and standard deviation.\n",
    "    - In our case, mean = 4, SD = 1.\n",
    "    - We sampled 1000, Data points from Normal Distributions having mean = 4 and SD = 1.\n",
    "\n",
    "- `Note:`\n",
    "  - Experiment with several value of N like 10, 100, 200, 1000, 100000, etc.\n",
    "  - Lesser number of data points sampled, chances of Skewness in the plot may apper."
   ]
  },
  {
   "cell_type": "markdown",
   "metadata": {
    "id": "HtWy7yACmmze"
   },
   "source": [
    "### Normal Distribution to Standard Normal Distribution\n",
    "- Standard Normal Distribution has mean = 0 and standard deviation = 1.\n",
    "- If we apply Z-score to all the data points Normal Distribution we get, Standard Normal Distribution.\n",
    "- The resulting data points will now have mean=0 and standard deviation = 1"
   ]
  },
  {
   "cell_type": "code",
   "execution_count": 5,
   "metadata": {
    "id": "fHGUyETfwMkd"
   },
   "outputs": [],
   "source": [
    "# sample data from normal distributions\n",
    "data = np.random.normal(4, 1, 1000)\n",
    "\n",
    "# calculate mean and standard deviation\n",
    "mean = np.mean(data)\n",
    "std = np.std(data)\n",
    "\n",
    "# apply z-score\n",
    "standardized_data = (data - mean) / std"
   ]
  },
  {
   "cell_type": "code",
   "execution_count": 6,
   "metadata": {
    "colab": {
     "base_uri": "https://localhost:8080/",
     "height": 447
    },
    "executionInfo": {
     "elapsed": 571,
     "status": "ok",
     "timestamp": 1692196396708,
     "user": {
      "displayName": "Anish Thapaliya",
      "userId": "06325140887572930045"
     },
     "user_tz": -345
    },
    "id": "vSVgFj1bw1T5",
    "outputId": "0189d5f4-2ed9-4f99-ec2f-f629b335ed50"
   },
   "outputs": [
    {
     "name": "stderr",
     "output_type": "stream",
     "text": [
      "/home/chiran/miniconda3/lib/python3.11/site-packages/seaborn/_oldcore.py:1119: FutureWarning: use_inf_as_na option is deprecated and will be removed in a future version. Convert inf values to NaN before operating instead.\n",
      "  with pd.option_context('mode.use_inf_as_na', True):\n"
     ]
    },
    {
     "data": {
      "text/plain": [
       "<Axes: ylabel='Count'>"
      ]
     },
     "execution_count": 6,
     "metadata": {},
     "output_type": "execute_result"
    },
    {
     "data": {
      "image/png": "[encoded data removed]",
      "text/plain": [
       "<Figure size 640x480 with 1 Axes>"
      ]
     },
     "metadata": {},
     "output_type": "display_data"
    }
   ],
   "source": [
    "# histogram plot\n",
    "\n",
    "sns.histplot(standardized_data, bins=30, kde=True, alpha=0.6, color='red')"
   ]
  },
  {
   "cell_type": "markdown",
   "metadata": {
    "id": "nYFbiuBQxDwJ"
   },
   "source": [
    "- Here we can see we got data distributions with,\n",
    "  - mean = 0\n",
    "  - std = 1\n",
    "- This is the Standard Normal Distribution `SND(0, 1)`."
   ]
  }
 ],
 "metadata": {
  "colab": {
   "authorship_tag": "ABX9TyM57SuwYitm+0oyQ66KdmBV",
   "provenance": []
  },
  "kernelspec": {
   "display_name": "Python 3 (ipykernel)",
   "language": "python",
   "name": "python3"
  },
  "language_info": {
   "codemirror_mode": {
    "name": "ipython",
    "version": 3
   },
   "file_extension": ".py",
   "mimetype": "text/x-python",
   "name": "python",
   "nbconvert_exporter": "python",
   "pygments_lexer": "ipython3",
   "version": "3.11.7"
  }
 },
 "nbformat": 4,
 "nbformat_minor": 4
}
