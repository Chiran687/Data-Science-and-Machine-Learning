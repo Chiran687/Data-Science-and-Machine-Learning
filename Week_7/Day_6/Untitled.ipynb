{
 "cells": [
  {
   "cell_type": "code",
   "execution_count": 2,
   "id": "9acc2dc7-7e04-4a36-ba5c-1000a8013604",
   "metadata": {},
   "outputs": [],
   "source": [
    "import numpy as np"
   ]
  },
  {
   "cell_type": "code",
   "execution_count": 6,
   "id": "a04dc59d-d03d-452f-b66c-afe5413ed6da",
   "metadata": {},
   "outputs": [
    {
     "data": {
      "text/plain": [
       "array([[34, 13,  5],\n",
       "       [ 0, 52,  0],\n",
       "       [13,  0, 33]])"
      ]
     },
     "execution_count": 6,
     "metadata": {},
     "output_type": "execute_result"
    }
   ],
   "source": [
    "data=np.array([[34,13,5],[0,52,0],[13,0,33]])\n",
    "data"
   ]
  },
  {
   "cell_type": "code",
   "execution_count": 7,
   "id": "776dbe37-d1c7-4443-9580-c365bc275464",
   "metadata": {},
   "outputs": [
    {
     "data": {
      "text/plain": [
       "3"
      ]
     },
     "execution_count": 7,
     "metadata": {},
     "output_type": "execute_result"
    }
   ],
   "source": [
    "len(data)"
   ]
  },
  {
   "cell_type": "code",
   "execution_count": null,
   "id": "974c0499-c603-4327-aaec-57cab1b4d197",
   "metadata": {},
   "outputs": [],
   "source": [
    "def confusion(data):\n",
    "    if len(data)>3:\n",
    "        print(\"Please provide 3x3 matrix for this operation\")\n",
    "        return 0\n",
    "    \n",
    "    "
   ]
  },
  {
   "cell_type": "code",
   "execution_count": null,
   "id": "7db332a2-8fff-4447-af30-9415de8fa2ca",
   "metadata": {},
   "outputs": [],
   "source": [
    "class Confusion:\n",
    "    def __init_\n",
    "    "
   ]
  }
 ],
 "metadata": {
  "kernelspec": {
   "display_name": "Python 3 (ipykernel)",
   "language": "python",
   "name": "python3"
  },
  "language_info": {
   "codemirror_mode": {
    "name": "ipython",
    "version": 3
   },
   "file_extension": ".py",
   "mimetype": "text/x-python",
   "name": "python",
   "nbconvert_exporter": "python",
   "pygments_lexer": "ipython3",
   "version": "3.11.8"
  }
 },
 "nbformat": 4,
 "nbformat_minor": 5
}
