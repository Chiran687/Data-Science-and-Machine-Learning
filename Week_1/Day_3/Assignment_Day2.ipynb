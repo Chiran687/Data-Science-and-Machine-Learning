{
 "cells": [
  {
   "cell_type": "markdown",
   "id": "b5058dbd-9c9d-48dc-8790-4cc963308e9d",
   "metadata": {},
   "source": [
    "<h1>Assignment_Day2</h1>"
   ]
  },
  {
   "cell_type": "markdown",
   "id": "41e8dd4c-4ad4-49c3-b3d5-8b28453c1556",
   "metadata": {},
   "source": [
    "<h2>1. Create a variable named variable test in snake case format and assign value “my\n",
    "ﬁrst variable assignment”. Print the result.</h2>"
   ]
  },
  {
   "cell_type": "code",
   "execution_count": 2,
   "id": "cd3baa1d-f49b-4b7a-8f5c-4ed80ffbf879",
   "metadata": {},
   "outputs": [
    {
     "name": "stdout",
     "output_type": "stream",
     "text": [
      "my first variable assignment\n"
     ]
    }
   ],
   "source": [
    "variable_test = (\"my first variable assignment\")\n",
    "print(variable_test)"
   ]
  },
  {
   "cell_type": "markdown",
   "id": "e9855ae3-8cee-41c6-bc9d-e8b880f7efde",
   "metadata": {},
   "source": [
    "<h2>2. Create a variable named age and assign value as 20. Print the result.</h2>"
   ]
  },
  {
   "cell_type": "code",
   "execution_count": 3,
   "id": "4cf1d5f4-06be-4568-86ff-32a2216498d8",
   "metadata": {},
   "outputs": [
    {
     "name": "stdout",
     "output_type": "stream",
     "text": [
      "20\n"
     ]
    }
   ],
   "source": [
    "age = 20\n",
    "print(age)"
   ]
  },
  {
   "cell_type": "markdown",
   "id": "6f783a0f-60ee-4c80-bdf0-e59ef32f1f73",
   "metadata": {},
   "source": [
    "<h2>3. Create a variable called z, assign x + y to it, and Display the result.</h2>"
   ]
  },
  {
   "cell_type": "code",
   "execution_count": 4,
   "id": "0c7c9ecc-bb5f-43ef-90cb-85c64f9f03ee",
   "metadata": {},
   "outputs": [
    {
     "name": "stdout",
     "output_type": "stream",
     "text": [
      "50\n"
     ]
    }
   ],
   "source": [
    "x = 20\n",
    "y = 30\n",
    "\n",
    "z = x+y\n",
    "print(z)"
   ]
  },
  {
   "cell_type": "markdown",
   "id": "a008198b-e934-4a21-b94a-7e3d4521e6e1",
   "metadata": {},
   "source": [
    "<h2>4. Develop basic calculator app for the user:</h2>"
   ]
  },
  {
   "cell_type": "code",
   "execution_count": 5,
   "id": "d7ae17bf-d7af-48a1-b1f7-421f6984be35",
   "metadata": {},
   "outputs": [
    {
     "name": "stdin",
     "output_type": "stream",
     "text": [
      "Give your first Num:   5\n",
      "Give your second Num:   7\n",
      "Please choose the required operator: \n",
      " \n",
      "                             1 For addition. \n",
      "\n",
      "                             2 For Subtraction. \n",
      "\n",
      "                             3 For Division. \n",
      "\n",
      "                             4 For Multiplication. \n",
      "  4\n"
     ]
    },
    {
     "name": "stdout",
     "output_type": "stream",
     "text": [
      " \n",
      " Your Multiplied Result is :35.0\n"
     ]
    }
   ],
   "source": [
    "class simpleCalculator():\n",
    "    def Take_Input():\n",
    "        Num1 = float(input(\"Give your first Num:  \"))\n",
    "        Num2 = float(input(\"Give your second Num:  \"))\n",
    "        operator = str(input(\"\"\"Please choose the required operator: \\n \n",
    "                             1 For addition. \\n\n",
    "                             2 For Subtraction. \\n\n",
    "                             3 For Division. \\n\n",
    "                             4 For Multiplication. \\n \"\"\"))\n",
    "        if operator == \"1\":\n",
    "            operation.Add(Num1, Num2)\n",
    "        elif operator == \"2\":\n",
    "            operation.Subtract(Num1, Num2)\n",
    "        elif operator == \"3\":\n",
    "            operation.Divide(Num1, Num2)\n",
    "        elif operator == \"4\":\n",
    "            operation.Multiply(Num1, Num2)\n",
    "\n",
    "\n",
    "class operation():\n",
    "    def Add(Num1, Num2):\n",
    "        result = Num1 + Num2\n",
    "        print(\" \\n Your Added Result Is: \" + str(result))\n",
    "\n",
    "    def Subtract(Num1, Num2):\n",
    "        result = Num1 - Num2\n",
    "        print(\" \\n Your Subtracted Result Is :\" + str(result))\n",
    "\n",
    "    def Divide(Num1, Num2):\n",
    "        result = Num1 / Num2\n",
    "        print(\" \\n Your Divided Result is : \" + str(result))\n",
    "\n",
    "    def Multiply(Num1, Num2):\n",
    "        result = Num1 * Num2\n",
    "        print(\" \\n Your Multiplied Result is :\" + str(result))\n",
    "\n",
    "\n",
    "if __name__ == \"__main__\":\n",
    "    simpleCalculator.Take_Input()"
   ]
  },
  {
   "cell_type": "markdown",
   "id": "d2065dfd-1b8c-4957-afbd-f343749c499a",
   "metadata": {},
   "source": [
    "<h2>5. Write a python program to draw a triangle shape using print statement only.</h2>"
   ]
  },
  {
   "cell_type": "code",
   "execution_count": 6,
   "id": "8d00fcaa-7666-4c24-a9ad-ec3028abe2a7",
   "metadata": {},
   "outputs": [
    {
     "name": "stdout",
     "output_type": "stream",
     "text": [
      "     * \n",
      "    * * \n",
      "   * * * \n",
      "  * * * * \n",
      " * * * * * \n"
     ]
    }
   ],
   "source": [
    "for i in range(1, 6):\n",
    "    print(' ' * (5 - i), '* ' * i)"
   ]
  },
  {
   "cell_type": "markdown",
   "id": "f81b8045-cb23-4267-a122-7b9104be76dd",
   "metadata": {},
   "source": [
    "<h2>6. Create three variables x, y, z and assign same value to all 3 variables in one code\n",
    "line.</h2>"
   ]
  },
  {
   "cell_type": "code",
   "execution_count": 9,
   "id": "fcee5c79-1098-4541-9173-bd301c8f392a",
   "metadata": {},
   "outputs": [
    {
     "name": "stdout",
     "output_type": "stream",
     "text": [
      "3 3 3\n"
     ]
    }
   ],
   "source": [
    "x, y, z = 3, 3, 3\n",
    "print(x, y, z)"
   ]
  }
 ],
 "metadata": {
  "kernelspec": {
   "display_name": "Python 3 (ipykernel)",
   "language": "python",
   "name": "python3"
  },
  "language_info": {
   "codemirror_mode": {
    "name": "ipython",
    "version": 3
   },
   "file_extension": ".py",
   "mimetype": "text/x-python",
   "name": "python",
   "nbconvert_exporter": "python",
   "pygments_lexer": "ipython3",
   "version": "3.11.7"
  }
 },
 "nbformat": 4,
 "nbformat_minor": 5
}
