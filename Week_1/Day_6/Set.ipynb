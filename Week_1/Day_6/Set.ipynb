{
 "cells": [
  {
   "cell_type": "markdown",
   "metadata": {
    "id": "GmOMmhkZvVoe"
   },
   "source": [
    "## Set\n",
    "- A set is a collection, which is unordered, Unchangeable, and Duplicates are not allowed.\n",
    "  - `Unordered:` \n",
    "    - It means that the items in a set do not have defined order. Concepts of Indexing is not used.\n",
    "  - `Unchangeable:`\n",
    "    - Once set is created, you cannot change the items, but you can remove items and add new items i.e. **sets are mutable**.\n",
    "  - Unidexed:\n",
    "    - `Duplicates are not allowed:`\n",
    "      - Sets cannot have two items with same value.\n",
    "      - _`True and 1 are considered as same in set`_ \n",
    "\n",
    "- Sets are written with curly **{}** brackets. Python will automatically remove duplicates.\n",
    "  - _`True and 1 are considered as same in set`_ \n",
    "  - _`False and 0 are considered as same in set`_\n",
    "\n",
    "- We only work with simple sets. There is no concepts of nested sets in python.\n",
    "  - We can achieve nested sets like concepts using frozenset (which is out of scope of this class).\n",
    "  - Example: `simple_set = {'item1', True, False}`\n",
    "\n",
    "- In this lecture we'll cover:\n",
    "  - Creating Sets\n",
    "  - Sets methods / Operations\n",
    "  - Sets are mutable\n",
    "  - Loop Sets\n",
    "  - Set Comprehension"
   ]
  },
  {
   "cell_type": "markdown",
   "metadata": {
    "id": "JsEiswP-BAQX"
   },
   "source": [
    "## 1. Creating Sets\n",
    "- To create a Set, type the set items within curly brackets **{ }**, separated by commas.\n",
    "- Example: {\"item1\", 2, 'item3', 4}"
   ]
  },
  {
   "cell_type": "code",
   "execution_count": 1,
   "metadata": {
    "executionInfo": {
     "elapsed": 523,
     "status": "ok",
     "timestamp": 1686379385620,
     "user": {
      "displayName": "Anish Thapaliya",
      "userId": "06325140887572930045"
     },
     "user_tz": -345
    },
    "id": "Sje6eyg_Cvt_"
   },
   "outputs": [
    {
     "name": "stdout",
     "output_type": "stream",
     "text": [
      "set()\n"
     ]
    }
   ],
   "source": [
    "# create empty set\n",
    "# use: set()\n",
    "new = set()\n",
    "print(new)"
   ]
  },
  {
   "cell_type": "code",
   "execution_count": 2,
   "metadata": {
    "id": "MN64vCIgC13R"
   },
   "outputs": [
    {
     "name": "stdout",
     "output_type": "stream",
     "text": [
      "<class 'set'>\n"
     ]
    }
   ],
   "source": [
    "# display type \n",
    "print(type(new))"
   ]
  },
  {
   "cell_type": "code",
   "execution_count": 3,
   "metadata": {
    "executionInfo": {
     "elapsed": 10,
     "status": "ok",
     "timestamp": 1686378684489,
     "user": {
      "displayName": "Anish Thapaliya",
      "userId": "06325140887572930045"
     },
     "user_tz": -345
    },
    "id": "uF5arSxwuyfm"
   },
   "outputs": [],
   "source": [
    "# create simple set with mixed data types\n",
    "simple_set = {'item1', True, False}"
   ]
  },
  {
   "cell_type": "code",
   "execution_count": 5,
   "metadata": {
    "executionInfo": {
     "elapsed": 10,
     "status": "ok",
     "timestamp": 1686378684491,
     "user": {
      "displayName": "Anish Thapaliya",
      "userId": "06325140887572930045"
     },
     "user_tz": -345
    },
    "id": "YMTKLBcpAH0W"
   },
   "outputs": [
    {
     "name": "stdout",
     "output_type": "stream",
     "text": [
      "<class 'set'>\n"
     ]
    }
   ],
   "source": [
    "# display type \n",
    "print(type(simple_set))\n"
   ]
  },
  {
   "cell_type": "code",
   "execution_count": 6,
   "metadata": {
    "executionInfo": {
     "elapsed": 3,
     "status": "ok",
     "timestamp": 1686378805437,
     "user": {
      "displayName": "Anish Thapaliya",
      "userId": "06325140887572930045"
     },
     "user_tz": -345
    },
    "id": "7hL7GQ86AJSM"
   },
   "outputs": [
    {
     "name": "stdout",
     "output_type": "stream",
     "text": [
      "3\n"
     ]
    }
   ],
   "source": [
    "# display length of set\n",
    "# Hint: len(set)\n",
    "print(len(simple_set))"
   ]
  },
  {
   "cell_type": "markdown",
   "metadata": {
    "id": "pO1khB5yA8DC"
   },
   "source": [
    "`Since Sets are unordered, there is no concepts of Set Indexing and Slicing`"
   ]
  },
  {
   "cell_type": "markdown",
   "metadata": {
    "id": "ktwR3hLrCkJ-"
   },
   "source": [
    "## 2. Sets Methods/Operations.\n",
    "- Most common set methods/operations are:\n",
    "  - `add(): ` Method to add a new element to a set.\n",
    "  - `remove():` Method to remove item from a set.\n",
    "  - `pop(): ` Method to remove item from a set and returns removed item\n",
    "  - `union(): ` Method that return a set containing union of sets..\n",
    "  - `intersection(): ` Method that return a set that is intersection of 2 other sets.\n",
    "  - `difference(): ` Method that return a set containing difference between two or more sets."
   ]
  },
  {
   "cell_type": "markdown",
   "metadata": {
    "id": "oHAsL14-KHAI"
   },
   "source": [
    "**add()**  \n",
    "- Method to add a new element to a set itself\n",
    "- `Syntax: set.add(<item>)`"
   ]
  },
  {
   "cell_type": "code",
   "execution_count": 7,
   "metadata": {
    "colab": {
     "base_uri": "https://localhost:8080/"
    },
    "executionInfo": {
     "elapsed": 526,
     "status": "ok",
     "timestamp": 1686381393071,
     "user": {
      "displayName": "Anish Thapaliya",
      "userId": "06325140887572930045"
     },
     "user_tz": -345
    },
    "id": "NiqAsOzTKDE_",
    "outputId": "89591976-7062-44a0-e3e6-4039e7ac6676"
   },
   "outputs": [
    {
     "name": "stdout",
     "output_type": "stream",
     "text": [
      "{0, True, 'methods', 'set'}\n"
     ]
    }
   ],
   "source": [
    "# inialize set\n",
    "set_methods = {True, 1, 'set', 'methods', 0}\n",
    "print(set_methods)"
   ]
  },
  {
   "cell_type": "code",
   "execution_count": 12,
   "metadata": {
    "executionInfo": {
     "elapsed": 3,
     "status": "ok",
     "timestamp": 1686381462108,
     "user": {
      "displayName": "Anish Thapaliya",
      "userId": "06325140887572930045"
     },
     "user_tz": -345
    },
    "id": "JTRG7AbEKDCL"
   },
   "outputs": [
    {
     "name": "stdout",
     "output_type": "stream",
     "text": [
      "{0, True, 'new_item', 'awesome', 'set', 'methods'}\n"
     ]
    }
   ],
   "source": [
    "# add item \"awesome\"\n",
    "# hint: set.add(<item>)\n",
    "set_methods.add(\"awesome\")\n",
    "print(set_methods)"
   ]
  },
  {
   "cell_type": "markdown",
   "metadata": {
    "id": "Ob-kL370K6JE"
   },
   "source": [
    "**remove()**  \n",
    "- Method to remove item from a set itself, without returning new set.\n",
    "- `Syntax: set.remove(<item>)`"
   ]
  },
  {
   "cell_type": "code",
   "execution_count": 15,
   "metadata": {
    "executionInfo": {
     "elapsed": 7,
     "status": "ok",
     "timestamp": 1686381615458,
     "user": {
      "displayName": "Anish Thapaliya",
      "userId": "06325140887572930045"
     },
     "user_tz": -345
    },
    "id": "Ft24hiFLKC_l"
   },
   "outputs": [
    {
     "name": "stdout",
     "output_type": "stream",
     "text": [
      "{0, True, 'set', 'methods'}\n"
     ]
    }
   ],
   "source": [
    "# remove item \"awesome\" from set\n",
    "# hint: set.remove(<awesome>)\n",
    "set_methods.remove(\"awesome\")\n",
    "print(set_methods)"
   ]
  },
  {
   "cell_type": "markdown",
   "metadata": {
    "id": "8szKRgGbLZ-r"
   },
   "source": [
    "`Note: If item name is not present in Set, it will raise an error/exception.`\n"
   ]
  },
  {
   "cell_type": "markdown",
   "metadata": {
    "id": "adlX-XAKLrHH"
   },
   "source": [
    "**pop()**\n",
    "- You can also use the pop() method to remove an item, but this method will remove a random item, so you cannot be sure what item that gets removed.\n",
    "- Generally, it will remove from starting item in a set.\n",
    "- It returns a item that is removed from a set.\n",
    "- `syntax: removed_item = set.pop()`"
   ]
  },
  {
   "cell_type": "code",
   "execution_count": 16,
   "metadata": {
    "executionInfo": {
     "elapsed": 503,
     "status": "ok",
     "timestamp": 1686381959714,
     "user": {
      "displayName": "Anish Thapaliya",
      "userId": "06325140887572930045"
     },
     "user_tz": -345
    },
    "id": "zJk87bC9KC0z"
   },
   "outputs": [
    {
     "name": "stdout",
     "output_type": "stream",
     "text": [
      "{True, 'set', 'methods'}\n"
     ]
    }
   ],
   "source": [
    "# remove set item using \"pop()\"\n",
    "# hint: removed_item = set.pop()\n",
    "set_methods.pop()\n",
    "print(set_methods)"
   ]
  },
  {
   "cell_type": "markdown",
   "metadata": {
    "id": "xTxKcoF8MrK7"
   },
   "source": [
    "**union()**\n",
    "- Method that return a set containing union of sets.\n",
    "- The union of two sets A and B include all the elements of set A and B. No duplicates in final obtained set.\n",
    "- `syntax:`\n",
    "  1. set_union = set1.union(set2)\n",
    "  2. set_union = set1 | set2\n"
   ]
  },
  {
   "cell_type": "code",
   "execution_count": 17,
   "metadata": {
    "colab": {
     "base_uri": "https://localhost:8080/"
    },
    "executionInfo": {
     "elapsed": 454,
     "status": "ok",
     "timestamp": 1686382566963,
     "user": {
      "displayName": "Anish Thapaliya",
      "userId": "06325140887572930045"
     },
     "user_tz": -345
    },
    "id": "DEdcazwIOxdO",
    "outputId": "52773fc7-5385-4d57-892e-fc0eb82d3600"
   },
   "outputs": [
    {
     "name": "stdout",
     "output_type": "stream",
     "text": [
      "{1, 2, 3, 4, 5}\n",
      "{4, 5, 6, 7, 8}\n"
     ]
    }
   ],
   "source": [
    "## create two sets\n",
    "set1 = {1, 2, 3, 4, 5}\n",
    "set2= {4, 5, 6, 7, 8}\n",
    "\n",
    "print(set1)\n",
    "print(set2)"
   ]
  },
  {
   "cell_type": "code",
   "execution_count": 18,
   "metadata": {
    "colab": {
     "base_uri": "https://localhost:8080/"
    },
    "executionInfo": {
     "elapsed": 454,
     "status": "ok",
     "timestamp": 1686384030511,
     "user": {
      "displayName": "Anish Thapaliya",
      "userId": "06325140887572930045"
     },
     "user_tz": -345
    },
    "id": "uimcdFr2OxaZ",
    "outputId": "441d18b9-5551-4688-83a5-d4a119e7a944"
   },
   "outputs": [
    {
     "name": "stdout",
     "output_type": "stream",
     "text": [
      "Union of set1 and set2 is: {1, 2, 3, 4, 5, 6, 7, 8}\n"
     ]
    }
   ],
   "source": [
    "# union of set using union() method\n",
    "# hint: set_union = set1.union(set2)\n",
    "\n",
    "set_union = set1.union(set2)\n",
    "\n",
    "print(f\"Union of set1 and set2 is: {set_union}\")\n"
   ]
  },
  {
   "cell_type": "code",
   "execution_count": 19,
   "metadata": {
    "executionInfo": {
     "elapsed": 4,
     "status": "ok",
     "timestamp": 1686382754963,
     "user": {
      "displayName": "Anish Thapaliya",
      "userId": "06325140887572930045"
     },
     "user_tz": -345
    },
    "id": "NjImWpKAOxWd"
   },
   "outputs": [
    {
     "name": "stdout",
     "output_type": "stream",
     "text": [
      "{1, 2, 3, 4, 5, 6, 7, 8}\n"
     ]
    }
   ],
   "source": [
    "# union of set using (|) operator\n",
    "# hint: set_union_pipe = set1 |set2 \n",
    "set_union_pipe = set1 |set2 \n",
    "print(set_union_pipe)"
   ]
  },
  {
   "cell_type": "markdown",
   "metadata": {
    "id": "74YET12AR3oh"
   },
   "source": [
    "**intersection()**\n",
    "- Method that return a set containing intesection of sets.\n",
    "- The intersection of two sets A and B include the common elements between set A and B. No duplicates in final obtained set.\n",
    "\n",
    "- `syntax:`\n",
    "  1. set_common = set1.intersection(set2)\n",
    "  2. set_union = set1 & set2"
   ]
  },
  {
   "cell_type": "code",
   "execution_count": 20,
   "metadata": {
    "executionInfo": {
     "elapsed": 428,
     "status": "ok",
     "timestamp": 1686383604856,
     "user": {
      "displayName": "Anish Thapaliya",
      "userId": "06325140887572930045"
     },
     "user_tz": -345
    },
    "id": "IHB5efXvSmGi"
   },
   "outputs": [
    {
     "name": "stdout",
     "output_type": "stream",
     "text": [
      "{4, 5}\n"
     ]
    }
   ],
   "source": [
    "# intersection of set using intersection() method\n",
    "# hint: set_common = set1.intersection(set2)\n",
    "set_common = set1.intersection(set2)\n",
    "print(set_common)"
   ]
  },
  {
   "cell_type": "code",
   "execution_count": 21,
   "metadata": {
    "executionInfo": {
     "elapsed": 3,
     "status": "ok",
     "timestamp": 1686383713794,
     "user": {
      "displayName": "Anish Thapaliya",
      "userId": "06325140887572930045"
     },
     "user_tz": -345
    },
    "id": "4XaJBiH8Sl6K"
   },
   "outputs": [
    {
     "name": "stdout",
     "output_type": "stream",
     "text": [
      "{4, 5}\n"
     ]
    }
   ],
   "source": [
    "# intersection of set using (&) operator\n",
    "# hint: set_common2 = set1 & set2\n",
    "set_common2 = set1 & set2\n",
    "print(set_common2)"
   ]
  },
  {
   "cell_type": "markdown",
   "metadata": {
    "id": "Z9SBdMwlTbcW"
   },
   "source": [
    "**difference():** \n",
    "- Method that return a set containing difference between two or more sets.\n",
    "- The difference between two sets A and B denoted by `A-B`include elements of set A that are not present on set B.\n",
    "- `syntax: set_diff = set1.difference(set2)`"
   ]
  },
  {
   "cell_type": "code",
   "execution_count": 22,
   "metadata": {
    "executionInfo": {
     "elapsed": 510,
     "status": "ok",
     "timestamp": 1686384161612,
     "user": {
      "displayName": "Anish Thapaliya",
      "userId": "06325140887572930045"
     },
     "user_tz": -345
    },
    "id": "jerPC--eSluE"
   },
   "outputs": [
    {
     "name": "stdout",
     "output_type": "stream",
     "text": [
      "{1, 2, 3}\n"
     ]
    }
   ],
   "source": [
    "# difference of set using difference() method\n",
    "# hint: set_diff = set1.difference(set2)\n",
    "# or\n",
    "# hint: set_diff = set1 - set2\n",
    "set_diff = set1.difference(set2)\n",
    "print(set_diff)"
   ]
  },
  {
   "cell_type": "markdown",
   "metadata": {
    "id": "2ikdrVm2Pshw"
   },
   "source": [
    "**Different Set Methods:**  \n",
    "\n",
    "| Method                  | Description                                                          |\n",
    "|-------------------------|----------------------------------------------------------------------|\n",
    "| add()                   | Adds an element to the set                                            |\n",
    "| clear()                 | Removes all the elements from the set                                  |\n",
    "| copy()                  | Returns a copy of the set                                             |\n",
    "| difference()            | Returns a set containing the difference between two or more sets      |\n",
    "| difference_update()     | Removes the items in this set that are also included in another, specified set |\n",
    "| discard()               | Remove the specified item                                             |\n",
    "| intersection()          | Returns a set, that is the intersection of two other sets             |\n",
    "| intersection_update()   | Removes the items in this set that are not present in other, specified set(s) |\n",
    "| isdisjoint()            | Returns whether two sets have an intersection or not                  |\n",
    "| issubset()              | Returns whether another set contains this set or not                  |\n",
    "| issuperset()            | Returns whether this set contains another set or not                  |\n",
    "| pop()                   | Removes an element from the set                                       |\n",
    "| remove()                | Removes the specified element                                         |\n",
    "| symmetric_difference()  | Returns a set with the symmetric differences of two sets              |\n",
    "| symmetric_difference_update() | Inserts the symmetric differences from this set and another           |\n",
    "| union()                 | Return a set containing the union of sets                             |\n",
    "| update()                | Update the set with the union of this set and others                  |\n"
   ]
  },
  {
   "cell_type": "markdown",
   "metadata": {
    "id": "2Xi4lLsHBNfB"
   },
   "source": [
    "## 3 .Sets are Mutable\n",
    "- Like Lists, Sets are mutable.\n",
    "  - We can add new items to set.\n",
    "  - We can delete existing items in set.\n",
    "  - However, we cannot change existing item to another item in a set.\n",
    "\n"
   ]
  },
  {
   "cell_type": "code",
   "execution_count": 24,
   "metadata": {
    "executionInfo": {
     "elapsed": 541,
     "status": "ok",
     "timestamp": 1686384577070,
     "user": {
      "displayName": "Anish Thapaliya",
      "userId": "06325140887572930045"
     },
     "user_tz": -345
    },
    "id": "L0EwJLuUAnPC"
   },
   "outputs": [
    {
     "name": "stdout",
     "output_type": "stream",
     "text": [
      "{1, 2, 3, 4, 5, 6, 7, 8, 9}\n"
     ]
    }
   ],
   "source": [
    "# Given Set, verify Sets are mutable\n",
    "# Hint: .add(item)\n",
    "\n",
    "sets_mutable = {1, 2, 3, 4, 5, 6, 7, 8}\n",
    "sets_mutable.add(9)\n",
    "print(sets_mutable)"
   ]
  },
  {
   "cell_type": "markdown",
   "metadata": {
    "id": "rCwJNVjbWsNN"
   },
   "source": [
    "## 5 Loop Sets.\n",
    "\n",
    "- Similar to Strings, List, Tuple, you can also loop through list items using a **for** loop.\n",
    "\n",
    "`Q. Initialize Set and print set items one by one using for loop.`"
   ]
  },
  {
   "cell_type": "code",
   "execution_count": 27,
   "metadata": {
    "executionInfo": {
     "elapsed": 2,
     "status": "ok",
     "timestamp": 1686385534571,
     "user": {
      "displayName": "Anish Thapaliya",
      "userId": "06325140887572930045"
     },
     "user_tz": -345
    },
    "id": "dnHXmm3RWkF9"
   },
   "outputs": [
    {
     "name": "stdout",
     "output_type": "stream",
     "text": [
      "0 1\n",
      "___\n",
      "1 2\n",
      "___\n",
      "2 3\n",
      "___\n",
      "3 4\n",
      "___\n",
      "4 5\n",
      "___\n",
      "5 6\n",
      "___\n",
      "6 7\n",
      "___\n",
      "7 8\n",
      "___\n",
      "8 9\n",
      "___\n"
     ]
    }
   ],
   "source": [
    "# write your program\n",
    "for x, i in enumerate(sets_mutable):\n",
    "    print(x, i)\n",
    "    print(\"___\")"
   ]
  },
  {
   "cell_type": "markdown",
   "metadata": {
    "id": "0kLQt4glaWZj"
   },
   "source": [
    "## 6. Set Comprehension\n",
    "- As seen in List chapter, we can also use concept of List comprehension in set as well.\n",
    "\n",
    "`Q. Given List = ['item1', 1, 2, 'item4'], create Set using list items using Set comprehension.`\n",
    "\n",
    "_output: {'item4', 1, 2, 'item1'}_"
   ]
  },
  {
   "cell_type": "code",
   "execution_count": 28,
   "metadata": {
    "id": "rGXA2T-gaRvB"
   },
   "outputs": [
    {
     "name": "stdout",
     "output_type": "stream",
     "text": [
      "{1, 2, 'item4', 'item1'}\n"
     ]
    }
   ],
   "source": [
    "# Initialize list \n",
    "# create set using set comprehension\n",
    "\n",
    "sample_list = ['item1', 1, 2, 'item4']\n",
    "sample_set = set(sample_list)\n",
    "print(sample_set)"
   ]
  },
  {
   "cell_type": "code",
   "execution_count": 30,
   "metadata": {
    "id": "Jxt7JMENcA76"
   },
   "outputs": [
    {
     "name": "stdout",
     "output_type": "stream",
     "text": [
      "<class 'set'>\n"
     ]
    }
   ],
   "source": [
    "print(type(sample_set))"
   ]
  },
  {
   "cell_type": "markdown",
   "metadata": {
    "id": "O4tq4QdEeq_T"
   },
   "source": [
    "**Q. Write a python program to sort Set items in ascending order.**\n",
    "\n",
    "`Hint: sorted(<iterable>, reverse=False`\n"
   ]
  },
  {
   "cell_type": "code",
   "execution_count": 34,
   "metadata": {
    "id": "H-HB0RzTcAyD"
   },
   "outputs": [
    {
     "name": "stdout",
     "output_type": "stream",
     "text": [
      "[0, 1, 3, 6, 8, 33]\n"
     ]
    }
   ],
   "source": [
    "new_set = {1,3,6,3,8,0,33}\n",
    "print(sorted(new_set, reverse=False))"
   ]
  },
  {
   "cell_type": "code",
   "execution_count": 35,
   "metadata": {},
   "outputs": [
    {
     "name": "stdout",
     "output_type": "stream",
     "text": [
      "[33, 8, 6, 3, 1, 0]\n"
     ]
    }
   ],
   "source": [
    "new_set = {1,3,6,3,8,0,33}\n",
    "print(sorted(new_set, reverse=True))"
   ]
  },
  {
   "cell_type": "markdown",
   "metadata": {
    "id": "M5T037lfbUws"
   },
   "source": [
    "                          \n",
    "\n",
    "<hr>\n",
    "<h2>Congratulations, you have completed your hands-on lab in Python Set. \n",
    "<hr>\n",
    "\n"
   ]
  }
 ],
 "metadata": {
  "colab": {
   "authorship_tag": "ABX9TyOqU14YOFy6ulQ21rKK1vIR",
   "provenance": []
  },
  "kernelspec": {
   "display_name": "Python 3 (ipykernel)",
   "language": "python",
   "name": "python3"
  },
  "language_info": {
   "codemirror_mode": {
    "name": "ipython",
    "version": 3
   },
   "file_extension": ".py",
   "mimetype": "text/x-python",
   "name": "python",
   "nbconvert_exporter": "python",
   "pygments_lexer": "ipython3",
   "version": "3.11.7"
  }
 },
 "nbformat": 4,
 "nbformat_minor": 4
}
