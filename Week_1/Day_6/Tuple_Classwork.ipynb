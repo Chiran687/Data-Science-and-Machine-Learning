{
 "cells": [
  {
   "cell_type": "markdown",
   "id": "8a83a259-c3e4-4a09-a92a-779063a97e55",
   "metadata": {},
   "source": [
    "<h1>Tuple</h1>"
   ]
  },
  {
   "cell_type": "markdown",
   "id": "06955cf3-0bea-4bd3-9f02-e5c301e540bb",
   "metadata": {},
   "source": [
    "<h2>Creating Tuple</h2>"
   ]
  },
  {
   "cell_type": "code",
   "execution_count": 1,
   "id": "bba653d0-a290-4f77-98a2-fceb94457139",
   "metadata": {},
   "outputs": [
    {
     "name": "stdout",
     "output_type": "stream",
     "text": [
      "('tset', 68, 9.0, 'tttt')\n"
     ]
    }
   ],
   "source": [
    "simple_tuple = (\"tset\", 68, 9.0, \"tttt\")\n",
    "print(simple_tuple)"
   ]
  },
  {
   "cell_type": "markdown",
   "id": "b22e8a59-178d-4d47-8b32-01d6bfae0f57",
   "metadata": {},
   "source": [
    "<h2>Printing Type</h2>"
   ]
  },
  {
   "cell_type": "code",
   "execution_count": 2,
   "id": "7e3e74f5-bccf-4134-ade9-da81ca56f0ef",
   "metadata": {},
   "outputs": [
    {
     "name": "stdout",
     "output_type": "stream",
     "text": [
      "<class 'tuple'>\n"
     ]
    }
   ],
   "source": [
    "print(type(simple_tuple))"
   ]
  },
  {
   "cell_type": "markdown",
   "id": "ee5df9f6-ef7e-4048-85ac-b6634b71fd5b",
   "metadata": {},
   "source": [
    "<h2>Getting Length</h2>"
   ]
  },
  {
   "cell_type": "code",
   "execution_count": 3,
   "id": "875ff235-a77e-4f30-94be-f722f18586ba",
   "metadata": {},
   "outputs": [
    {
     "name": "stdout",
     "output_type": "stream",
     "text": [
      "4\n"
     ]
    }
   ],
   "source": [
    "print(len(simple_tuple))"
   ]
  },
  {
   "cell_type": "markdown",
   "id": "8a8c9f05-81e1-404a-9cef-ff01825ecbf3",
   "metadata": {},
   "source": [
    "<h2>Nested_Tuple</h2>"
   ]
  },
  {
   "cell_type": "code",
   "execution_count": 4,
   "id": "c6c641a0-0487-453e-993e-c22a7191d82d",
   "metadata": {},
   "outputs": [
    {
     "name": "stdout",
     "output_type": "stream",
     "text": [
      "(('test', 'data'), ('Test', 'data2'), (2, 6, 3, 8))\n"
     ]
    }
   ],
   "source": [
    "nested_tuple = ((\"test\", \"data\"), (\"Test\", \"data2\"), (2,6,3,8))\n",
    "print(nested_tuple)"
   ]
  },
  {
   "cell_type": "markdown",
   "id": "62ff82bd-1a57-44f5-b387-8ab4bf0fc7ff",
   "metadata": {},
   "source": [
    "<h2>Type of Nested Tuple</h2>"
   ]
  },
  {
   "cell_type": "code",
   "execution_count": 5,
   "id": "a26dc249-c6ec-45fe-ae4d-3ba1b3ed749f",
   "metadata": {},
   "outputs": [
    {
     "name": "stdout",
     "output_type": "stream",
     "text": [
      "<class 'tuple'>\n"
     ]
    }
   ],
   "source": [
    "print(type(nested_tuple))"
   ]
  },
  {
   "cell_type": "markdown",
   "id": "e4304d95-dd0b-475f-b9e9-82728c42761d",
   "metadata": {},
   "source": [
    "<h2>Length Of Nested tuple</h2>"
   ]
  },
  {
   "cell_type": "code",
   "execution_count": 6,
   "id": "b658c119-d15a-45b0-ba3f-69d29329c2b4",
   "metadata": {},
   "outputs": [
    {
     "name": "stdout",
     "output_type": "stream",
     "text": [
      "3\n"
     ]
    }
   ],
   "source": [
    "print(len(nested_tuple))"
   ]
  },
  {
   "cell_type": "markdown",
   "id": "3835883d-4094-4022-a4fb-482db2fce563",
   "metadata": {},
   "source": [
    "<h2>Tuple Creation using split</h2>"
   ]
  },
  {
   "cell_type": "code",
   "execution_count": 7,
   "id": "c2d9a50d-8579-450b-b5a7-34595d02184d",
   "metadata": {},
   "outputs": [
    {
     "name": "stdout",
     "output_type": "stream",
     "text": [
      "['Create', 'Tuple', 'from', 'String']\n"
     ]
    }
   ],
   "source": [
    "sample_str = \"Create Tuple from String\"\n",
    "print(sample_str.split())"
   ]
  },
  {
   "cell_type": "markdown",
   "id": "cef9b91c-9432-43dd-a5b2-652a8fe5bd91",
   "metadata": {},
   "source": [
    "<h2>Tuple Indexing</h2>"
   ]
  },
  {
   "cell_type": "code",
   "execution_count": 8,
   "id": "01d2183f-ccce-40ea-869c-b38a87513abf",
   "metadata": {},
   "outputs": [
    {
     "name": "stdout",
     "output_type": "stream",
     "text": [
      "(0, 1, 2, 3, 4)\n"
     ]
    }
   ],
   "source": [
    "tuple_indexing = (0, 1, 2, 3, 4)\n",
    "print(tuple_indexing)"
   ]
  },
  {
   "cell_type": "code",
   "execution_count": 9,
   "id": "e8835c3f-5f24-4d29-a5a1-66d29165ac40",
   "metadata": {},
   "outputs": [
    {
     "name": "stdout",
     "output_type": "stream",
     "text": [
      "0\n"
     ]
    }
   ],
   "source": [
    "print(tuple_indexing[0])"
   ]
  },
  {
   "cell_type": "code",
   "execution_count": 10,
   "id": "be09f226-8943-49ba-b7d3-92312fdfe006",
   "metadata": {},
   "outputs": [
    {
     "data": {
      "text/plain": [
       "0"
      ]
     },
     "execution_count": 10,
     "metadata": {},
     "output_type": "execute_result"
    }
   ],
   "source": [
    "tuple_indexing[-len(tuple_indexing)]"
   ]
  },
  {
   "cell_type": "code",
   "execution_count": 11,
   "id": "886abd29-b98d-45a4-b821-5ddce90aff94",
   "metadata": {},
   "outputs": [
    {
     "data": {
      "text/plain": [
       "4"
      ]
     },
     "execution_count": 11,
     "metadata": {},
     "output_type": "execute_result"
    }
   ],
   "source": [
    "tuple_indexing[-1]"
   ]
  },
  {
   "cell_type": "code",
   "execution_count": 12,
   "id": "6355dbfd-e64d-495a-8b0f-5caeba91768c",
   "metadata": {},
   "outputs": [],
   "source": [
    "simple_tuple = (\"item1\", 2, 'item3', 4)"
   ]
  },
  {
   "cell_type": "code",
   "execution_count": 13,
   "id": "87f85b9e-f285-4318-9280-f687ffdeb75c",
   "metadata": {},
   "outputs": [
    {
     "data": {
      "text/plain": [
       "('item1', 2, 'item3')"
      ]
     },
     "execution_count": 13,
     "metadata": {},
     "output_type": "execute_result"
    }
   ],
   "source": [
    "simple_tuple[:3]"
   ]
  },
  {
   "cell_type": "code",
   "execution_count": 14,
   "id": "af2d0094-eeb3-4cbd-a1c5-22b5783409ae",
   "metadata": {},
   "outputs": [
    {
     "data": {
      "text/plain": [
       "('item1', 'item3')"
      ]
     },
     "execution_count": 14,
     "metadata": {},
     "output_type": "execute_result"
    }
   ],
   "source": [
    "simple_tuple[::2]"
   ]
  },
  {
   "cell_type": "code",
   "execution_count": 15,
   "id": "1f7f45be-b989-42c5-80bd-08fa5fff1c65",
   "metadata": {},
   "outputs": [
    {
     "data": {
      "text/plain": [
       "('item3', 2, 'item1')"
      ]
     },
     "execution_count": 15,
     "metadata": {},
     "output_type": "execute_result"
    }
   ],
   "source": [
    "simple_tuple[2::-1]"
   ]
  },
  {
   "cell_type": "markdown",
   "id": "3505c1c6-12ea-43a9-a492-1599e1603b83",
   "metadata": {},
   "source": [
    "<h2>Verification of tuple mutability</h2>"
   ]
  },
  {
   "cell_type": "code",
   "execution_count": 16,
   "id": "bb453e65-6b8e-4bd5-b8a9-f1e0ed351df0",
   "metadata": {},
   "outputs": [
    {
     "ename": "TypeError",
     "evalue": "'tuple' object does not support item assignment",
     "output_type": "error",
     "traceback": [
      "\u001b[0;31m---------------------------------------------------------------------------\u001b[0m",
      "\u001b[0;31mTypeError\u001b[0m                                 Traceback (most recent call last)",
      "Cell \u001b[0;32mIn[16], line 3\u001b[0m\n\u001b[1;32m      1\u001b[0m simple_tuple \u001b[38;5;241m=\u001b[39m (\u001b[38;5;124m\"\u001b[39m\u001b[38;5;124mitem1\u001b[39m\u001b[38;5;124m\"\u001b[39m, \u001b[38;5;241m2\u001b[39m, \u001b[38;5;124m'\u001b[39m\u001b[38;5;124mitem3\u001b[39m\u001b[38;5;124m'\u001b[39m, \u001b[38;5;241m4\u001b[39m)\n\u001b[0;32m----> 3\u001b[0m simple_tuple[\u001b[38;5;241m0\u001b[39m] \u001b[38;5;241m=\u001b[39m \u001b[38;5;124m\"\u001b[39m\u001b[38;5;124mitem0\u001b[39m\u001b[38;5;124m\"\u001b[39m\n",
      "\u001b[0;31mTypeError\u001b[0m: 'tuple' object does not support item assignment"
     ]
    }
   ],
   "source": [
    "simple_tuple = (\"item1\", 2, 'item3', 4)\n",
    "\n",
    "simple_tuple[0] = \"item0\""
   ]
  },
  {
   "cell_type": "markdown",
   "id": "9b625c5f-31ad-4ad5-8e82-68d1073e2037",
   "metadata": {},
   "source": [
    "<h2>Tuple Methods</h2>"
   ]
  },
  {
   "cell_type": "code",
   "execution_count": 17,
   "id": "7d1cbc3e-57ed-407b-bc37-41217733faf0",
   "metadata": {},
   "outputs": [
    {
     "name": "stdout",
     "output_type": "stream",
     "text": [
      "4\n"
     ]
    }
   ],
   "source": [
    "tuple_method = (1, 2, 2, 2, 3, 4, 2, 5, 6, 7)\n",
    "print(tuple_method.count(2))"
   ]
  },
  {
   "cell_type": "code",
   "execution_count": 18,
   "id": "942a0c94-2660-4c37-9a44-e5a046294387",
   "metadata": {},
   "outputs": [
    {
     "data": {
      "text/plain": [
       "5"
      ]
     },
     "execution_count": 18,
     "metadata": {},
     "output_type": "execute_result"
    }
   ],
   "source": [
    "tuple_method.index(4)"
   ]
  },
  {
   "cell_type": "markdown",
   "id": "eac699ac-3287-47f2-9f2b-bf8342541f60",
   "metadata": {},
   "source": [
    "<h2>Typecasting Tuple</h2>"
   ]
  },
  {
   "cell_type": "code",
   "execution_count": 19,
   "id": "251f5798-1b60-499b-8cd7-027e3d934ebb",
   "metadata": {},
   "outputs": [
    {
     "name": "stdout",
     "output_type": "stream",
     "text": [
      "['item1', 2, 'item3', 4]\n"
     ]
    }
   ],
   "source": [
    "simple_tuple = (\"item1\", 2, 'item3', 4)\n",
    "simple_list = list(simple_tuple)\n",
    "print(simple_list)"
   ]
  },
  {
   "cell_type": "code",
   "execution_count": 20,
   "id": "75088c75-663a-4ecf-b2bc-f0d54cc1592e",
   "metadata": {},
   "outputs": [],
   "source": [
    "simple_list.append(5)"
   ]
  },
  {
   "cell_type": "code",
   "execution_count": 21,
   "id": "52547130-2ffb-4198-a8d7-a8f3983f5a6d",
   "metadata": {},
   "outputs": [
    {
     "name": "stdout",
     "output_type": "stream",
     "text": [
      "('item1', 2, 'item3', 4, 5)\n"
     ]
    }
   ],
   "source": [
    "simple_tuple = tuple(simple_list)\n",
    "print(simple_tuple)"
   ]
  },
  {
   "cell_type": "code",
   "execution_count": 23,
   "id": "69eafed7-907a-4391-928c-25df3981e472",
   "metadata": {},
   "outputs": [
    {
     "name": "stdout",
     "output_type": "stream",
     "text": [
      "('item1', 2, 'item3', 4)\n",
      "('item1', 2, 'item3', 4, 5, 7)\n"
     ]
    }
   ],
   "source": [
    "simple_tuple = (\"item1\", 2, 'item3', 4)\n",
    "new= (5, 7)\n",
    "print(simple_tuple)\n",
    "simple_tuple = simple_tuple+new\n",
    "print(simple_tuple)"
   ]
  },
  {
   "cell_type": "markdown",
   "id": "b2a3115d-6b4b-438f-a8ee-94799f884bf8",
   "metadata": {},
   "source": [
    "<h2>Unpacking Tuples</h2>"
   ]
  },
  {
   "cell_type": "code",
   "execution_count": 24,
   "id": "878af0be-a675-40b9-817b-e7324a01056c",
   "metadata": {},
   "outputs": [
    {
     "name": "stdout",
     "output_type": "stream",
     "text": [
      "item1\n",
      "2\n",
      "item3\n",
      "4\n"
     ]
    }
   ],
   "source": [
    "a, b, c, d = simple_tuple = (\"item1\", 2, 'item3', 4)\n",
    "print(a)\n",
    "print(b)\n",
    "print(c)\n",
    "print(d)"
   ]
  },
  {
   "cell_type": "code",
   "execution_count": 25,
   "id": "eb77a39e-b17c-4480-bbbc-02b72df6acf3",
   "metadata": {},
   "outputs": [
    {
     "name": "stdout",
     "output_type": "stream",
     "text": [
      "item1\n",
      "[2, 'item3']\n",
      "4\n"
     ]
    }
   ],
   "source": [
    "a, *b, c = simple_tuple\n",
    "\n",
    "print(a)\n",
    "print(b)\n",
    "print(c)"
   ]
  },
  {
   "cell_type": "code",
   "execution_count": 26,
   "id": "d8666f36-d56b-40b8-893f-1bbf8297e562",
   "metadata": {},
   "outputs": [
    {
     "name": "stdout",
     "output_type": "stream",
     "text": [
      "item1\n",
      "---------------\n",
      "2\n",
      "---------------\n",
      "item3\n",
      "---------------\n",
      "4\n",
      "---------------\n"
     ]
    }
   ],
   "source": [
    "simple_tuple = (\"item1\", 2, 'item3', 4)\n",
    "\n",
    "for item in simple_tuple:\n",
    "    print(item)\n",
    "    print('---------------')"
   ]
  },
  {
   "cell_type": "code",
   "execution_count": 27,
   "id": "7fd8fb80-bd58-4baf-9ebf-9aaf8092d25a",
   "metadata": {},
   "outputs": [
    {
     "name": "stdout",
     "output_type": "stream",
     "text": [
      "0 item1\n",
      "--------------------\n",
      "1 2\n",
      "--------------------\n",
      "2 item3\n",
      "--------------------\n",
      "3 4\n",
      "--------------------\n"
     ]
    }
   ],
   "source": [
    "simple_tuple = (\"item1\", 2, 'item3', 4)\n",
    "\n",
    "for idx, item in enumerate(simple_tuple):\n",
    "    print(idx, item)\n",
    "    print('--------------------')"
   ]
  },
  {
   "cell_type": "code",
   "execution_count": 28,
   "id": "387ff721-e1ea-4feb-8bee-a4d96497f919",
   "metadata": {},
   "outputs": [
    {
     "name": "stdout",
     "output_type": "stream",
     "text": [
      "('apple', 'mango', 'banana', 'grapes')\n"
     ]
    }
   ],
   "source": [
    "sample_tuple = (\"APPLE\", \"Mango\", \"BaNaNa\", \"GRapes\")\n",
    "\n",
    "lower_tuple = tuple(item.lower() for item in sample_tuple)\n",
    "\n",
    "print(lower_tuple)"
   ]
  },
  {
   "cell_type": "code",
   "execution_count": null,
   "id": "7fc4c6b4-256e-4036-8d33-5e40f03b37e3",
   "metadata": {},
   "outputs": [],
   "source": []
  }
 ],
 "metadata": {
  "kernelspec": {
   "display_name": "Python 3 (ipykernel)",
   "language": "python",
   "name": "python3"
  },
  "language_info": {
   "codemirror_mode": {
    "name": "ipython",
    "version": 3
   },
   "file_extension": ".py",
   "mimetype": "text/x-python",
   "name": "python",
   "nbconvert_exporter": "python",
   "pygments_lexer": "ipython3",
   "version": "3.11.7"
  }
 },
 "nbformat": 4,
 "nbformat_minor": 5
}
