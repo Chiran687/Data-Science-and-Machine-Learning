{
 "cells": [
  {
   "cell_type": "markdown",
   "id": "970d6652-215c-471c-8ec1-8c0c167e5e89",
   "metadata": {},
   "source": [
    "<h1>Data Science and Machine Learning</h1>"
   ]
  },
  {
   "cell_type": "markdown",
   "id": "6c8caac3-afe9-43a9-9ea6-169358d7f0e7",
   "metadata": {},
   "source": [
    "<h2>CRUD Operation in python</h2>"
   ]
  },
  {
   "cell_type": "code",
   "execution_count": 4,
   "id": "0828897e-4d29-4718-8fa7-2beab1f7b41a",
   "metadata": {},
   "outputs": [
    {
     "name": "stdout",
     "output_type": "stream",
     "text": [
      "('Data_Science',)\n",
      "('information_schema',)\n",
      "('mysql',)\n",
      "('performance_schema',)\n",
      "('sys',)\n"
     ]
    }
   ],
   "source": [
    "import mysql.connector\n",
    "db = mysql.connector.connect(\n",
    "    host=\"localhost\",\n",
    "    user=\"root\",\n",
    "    passwd=\"root\"\n",
    ")\n",
    "\n",
    "c = db.cursor()\n",
    " \n",
    "c.execute(\"SHOW DATABASES\")\n",
    "\n",
    "for i in c:\n",
    "    print(i)\n",
    "c = db.cursor()\n",
    " \n",
    "db.close()"
   ]
  },
  {
   "cell_type": "markdown",
   "id": "e8cb96e5-2bd9-4038-88de-be0f14707929",
   "metadata": {},
   "source": [
    "<h2>Create Table</h2>"
   ]
  },
  {
   "cell_type": "code",
   "execution_count": 3,
   "id": "eade3326-4cb4-4e49-b04f-990a46d96809",
   "metadata": {},
   "outputs": [
    {
     "name": "stdout",
     "output_type": "stream",
     "text": [
      "Table Creation Success.\n",
      "('id', b'int', 'NO', 'PRI', None, 'auto_increment')\n",
      "('name', b'varchar(50)', 'YES', '', None, '')\n",
      "('address', b'varchar(50)', 'YES', '', None, '')\n",
      "('Salary', b'varchar(50)', 'YES', '', None, '')\n"
     ]
    }
   ],
   "source": [
    "import mysql.connector\n",
    "from mysql.connector import Error\n",
    "\n",
    "try:\n",
    "    db = mysql.connector.connect(\n",
    "        host=\"localhost\",\n",
    "        user=\"root\",\n",
    "        passwd=\"root\",\n",
    "        database=\"Data_Science\"\n",
    "    )\n",
    "    c = db.cursor()\n",
    "\n",
    "    c.execute(\"CREATE TABLE IF NOT EXISTS Tbl1 (id INT NOT NULL AUTO_INCREMENT PRIMARY KEY, name VARCHAR(50), address VARCHAR(50), Salary VARCHAR(50))\")\n",
    "    print(\"Table Creation Success.\")\n",
    "\n",
    "    c.execute(\"SHOW COLUMNS FROM Tbl1\")\n",
    "    columns = c.fetchall()\n",
    "    for column in columns:\n",
    "        print(column)\n",
    "\n",
    "except Error as e:\n",
    "    print(\"Error:\", e)\n",
    "\n",
    "finally:\n",
    "    if c:\n",
    "        c.close()\n"
   ]
  },
  {
   "cell_type": "markdown",
   "id": "6a13ceec-20bd-48ef-afae-a9abf27bc9bb",
   "metadata": {},
   "source": [
    "<h2>Insert and Read data</h2>"
   ]
  },
  {
   "cell_type": "code",
   "execution_count": 18,
   "id": "27d64908-1f7d-4938-9243-7a80f7f43f08",
   "metadata": {},
   "outputs": [
    {
     "name": "stdout",
     "output_type": "stream",
     "text": [
      "Insertion Success\n",
      "(7, 'Pradeep', 'Surkhet Sahare', '30000')\n"
     ]
    }
   ],
   "source": [
    "import mysql.connector\n",
    "from mysql.connector import Error\n",
    "\n",
    "try:\n",
    "    db = mysql.connector.connect(\n",
    "        host=\"localhost\",\n",
    "        user=\"root\",\n",
    "        passwd=\"root\",\n",
    "        database=\"Data_Science\"\n",
    "    )\n",
    "    c = db.cursor()\n",
    "    sql = \"INSERT INTO Tbl1 (name, address, salary) VALUES (%s, %s, %s)\"\n",
    "    val = (\"Pradeep\", \"Surkhet Sahare\", \"30000\")\n",
    "    c.execute(sql, val)\n",
    "    print(\"Insertion Success\")\n",
    "    \n",
    "    db.commit()\n",
    "    \n",
    "    c.execute(\"SELECT * FROM Tbl1\")\n",
    "    data = c.fetchall()\n",
    "    for d in data:\n",
    "        print(d)\n",
    "\n",
    "except Error as e:\n",
    "    print(\"Error:\", e)\n",
    "\n",
    "finally:\n",
    "    if c:\n",
    "        c.close()"
   ]
  },
  {
   "cell_type": "markdown",
   "id": "85f6e141-b832-46d8-b4d9-b99bacb2a641",
   "metadata": {},
   "source": [
    "<h2>Update Data</h2>"
   ]
  },
  {
   "cell_type": "code",
   "execution_count": 20,
   "id": "972fc77c-cfda-402e-8310-c8def5e929ca",
   "metadata": {},
   "outputs": [
    {
     "name": "stdout",
     "output_type": "stream",
     "text": [
      "1 record(s) affected\n",
      "(7, 'Pradeep', 'Surkhet Sahare', '20000')\n"
     ]
    }
   ],
   "source": [
    "import mysql.connector\n",
    "from mysql.connector import Error\n",
    "\n",
    "try:\n",
    "    db = mysql.connector.connect(\n",
    "        host=\"localhost\",\n",
    "        user=\"root\",\n",
    "        passwd=\"root\",\n",
    "        database=\"Data_Science\"\n",
    "    )\n",
    "    c = db.cursor()\n",
    "    c.execute(\"UPDATE Tbl1 SET salary = '20000' WHERE id = '7'\")\n",
    "    \n",
    "    db.commit()\n",
    "    \n",
    "    print(c.rowcount, \"record(s) affected\")\n",
    "    c = db.cursor()\n",
    "    c.execute(\"SELECT * FROM Tbl1 WHERE id=7\")\n",
    "    data = c.fetchall()\n",
    "    for d in data:\n",
    "        print(d)\n",
    "\n",
    "except Error as e:\n",
    "    print(\"Error:\", e)\n",
    "\n",
    "finally:\n",
    "    if c:\n",
    "        c.close()\n",
    "    "
   ]
  },
  {
   "cell_type": "markdown",
   "id": "1f1108f3-8884-4f54-8059-a291f34aaf33",
   "metadata": {},
   "source": [
    "<h2>Delete Data</h2>"
   ]
  },
  {
   "cell_type": "code",
   "execution_count": 21,
   "id": "d8436378-0c17-41ad-8873-d5779020f40d",
   "metadata": {},
   "outputs": [
    {
     "name": "stdout",
     "output_type": "stream",
     "text": [
      "1 record(s) affected\n"
     ]
    }
   ],
   "source": [
    "import mysql.connector\n",
    "from mysql.connector import Error\n",
    "\n",
    "try:\n",
    "    db = mysql.connector.connect(\n",
    "        host=\"localhost\",\n",
    "        user=\"root\",\n",
    "        passwd=\"root\",\n",
    "        database=\"Data_Science\"\n",
    "    )\n",
    "    c = db.cursor()\n",
    "    c.execute(\"DELETE FROM Tbl1 WHERE id = '7'\")\n",
    "    \n",
    "    db.commit()\n",
    "    \n",
    "    print(c.rowcount, \"record(s) affected\")\n",
    "\n",
    "except Error as e:\n",
    "    print(\"Error:\", e)\n",
    "\n",
    "finally:\n",
    "    if c:\n",
    "        c.close()\n",
    "    "
   ]
  },
  {
   "cell_type": "code",
   "execution_count": null,
   "id": "ad0aefbf-1bbe-4f1f-a9a7-e7c216ed24c7",
   "metadata": {},
   "outputs": [],
   "source": []
  }
 ],
 "metadata": {
  "kernelspec": {
   "display_name": "Python 3 (ipykernel)",
   "language": "python",
   "name": "python3"
  },
  "language_info": {
   "codemirror_mode": {
    "name": "ipython",
    "version": 3
   },
   "file_extension": ".py",
   "mimetype": "text/x-python",
   "name": "python",
   "nbconvert_exporter": "python",
   "pygments_lexer": "ipython3",
   "version": "3.11.7"
  }
 },
 "nbformat": 4,
 "nbformat_minor": 5
}
