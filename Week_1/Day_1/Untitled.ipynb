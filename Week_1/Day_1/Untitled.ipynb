{
 "cells": [
  {
   "cell_type": "markdown",
   "id": "adddaf89-592d-479f-bd20-770618134a36",
   "metadata": {},
   "source": [
    "<h1>Class Work</h1>"
   ]
  },
  {
   "cell_type": "markdown",
   "id": "415e7742-e471-410b-ba85-d73ea93a398b",
   "metadata": {},
   "source": [
    "<h2>Triangle</h2>"
   ]
  },
  {
   "cell_type": "code",
   "execution_count": 7,
   "id": "29be3c87-5fcb-4c09-b48b-bdca9c66aaed",
   "metadata": {},
   "outputs": [
    {
     "name": "stdout",
     "output_type": "stream",
     "text": [
      "    *\n",
      "   * *\n",
      "  *  **\n",
      " *   ***\n",
      "*    ****\n"
     ]
    }
   ],
   "source": [
    "rows = 5\n",
    "\n",
    "\n",
    "for i in range(1, rows + 1):\n",
    "    for j in range(rows - i):\n",
    "        print(\" \", end=\"\")\n",
    "\n",
    "    print(\"*\", end=\"\")\n",
    "\n",
    "    for j in range(1, i):\n",
    "        print(\" \", end=\"\")\n",
    "    for j in range(1, i):\n",
    "        print(\"*\", end=\"\")\n",
    "\n",
    "    print(\"\")  "
   ]
  },
  {
   "cell_type": "code",
   "execution_count": 8,
   "id": "1f21bee9-ebf9-4aa0-9054-b5c31f6f74d5",
   "metadata": {},
   "outputs": [
    {
     "name": "stdout",
     "output_type": "stream",
     "text": [
      "True\n"
     ]
    }
   ],
   "source": [
    "x=6\n",
    "print(x>3 and x<10)"
   ]
  },
  {
   "cell_type": "code",
   "execution_count": 9,
   "id": "7467df09-69b9-4c72-9021-8ba6beddb0f3",
   "metadata": {},
   "outputs": [
    {
     "name": "stdout",
     "output_type": "stream",
     "text": [
      "True\n"
     ]
    }
   ],
   "source": [
    "print(x>3 or x<8)"
   ]
  },
  {
   "cell_type": "code",
   "execution_count": 10,
   "id": "cc244ba0-8f2e-42ea-99b5-e79346490d85",
   "metadata": {},
   "outputs": [
    {
     "name": "stdout",
     "output_type": "stream",
     "text": [
      "False\n"
     ]
    }
   ],
   "source": [
    "print(not(x >3 and x < 10))"
   ]
  },
  {
   "cell_type": "code",
   "execution_count": 11,
   "id": "9744e905-e68f-45f1-b757-583e75bcf62b",
   "metadata": {},
   "outputs": [],
   "source": [
    "x = 7\n",
    "y = 14\n"
   ]
  },
  {
   "cell_type": "code",
   "execution_count": 12,
   "id": "1c302950-eaca-4ea5-bc4e-e2b90373b171",
   "metadata": {},
   "outputs": [
    {
     "data": {
      "text/plain": [
       "False"
      ]
     },
     "execution_count": 12,
     "metadata": {},
     "output_type": "execute_result"
    }
   ],
   "source": [
    "x is y"
   ]
  },
  {
   "cell_type": "code",
   "execution_count": 13,
   "id": "208e1580-7bee-4679-8beb-32cdd9795eb4",
   "metadata": {},
   "outputs": [
    {
     "data": {
      "text/plain": [
       "True"
      ]
     },
     "execution_count": 13,
     "metadata": {},
     "output_type": "execute_result"
    }
   ],
   "source": [
    "x is not y"
   ]
  },
  {
   "cell_type": "code",
   "execution_count": 14,
   "id": "c8148cbf-ed9d-4c24-92f2-6dcc32156fd2",
   "metadata": {},
   "outputs": [
    {
     "data": {
      "text/plain": [
       "512"
      ]
     },
     "execution_count": 14,
     "metadata": {},
     "output_type": "execute_result"
    }
   ],
   "source": [
    "2**3**2"
   ]
  },
  {
   "cell_type": "markdown",
   "id": "6c3148d0-4a97-4da6-8ed7-f1d7949cec52",
   "metadata": {},
   "source": [
    "<h1>Classwork</h1>"
   ]
  },
  {
   "cell_type": "code",
   "execution_count": 15,
   "id": "05c9dee1-9da2-42b1-b2dc-0c5494b42361",
   "metadata": {},
   "outputs": [
    {
     "data": {
      "text/plain": [
       "14.0"
      ]
     },
     "execution_count": 15,
     "metadata": {},
     "output_type": "execute_result"
    }
   ],
   "source": [
    "(5+3) * 2 -4 /2"
   ]
  },
  {
   "cell_type": "code",
   "execution_count": 16,
   "id": "b6298cf3-662e-49c8-80d2-ac117087f050",
   "metadata": {},
   "outputs": [
    {
     "data": {
      "text/plain": [
       "38"
      ]
     },
     "execution_count": 16,
     "metadata": {},
     "output_type": "execute_result"
    }
   ],
   "source": [
    "3**2 * 4+5 //2"
   ]
  },
  {
   "cell_type": "code",
   "execution_count": 17,
   "id": "9f64c217-e509-4727-8135-8013fdb27722",
   "metadata": {},
   "outputs": [
    {
     "data": {
      "text/plain": [
       "8.0"
      ]
     },
     "execution_count": 17,
     "metadata": {},
     "output_type": "execute_result"
    }
   ],
   "source": [
    "10 / (2 + 3) * (8-4)"
   ]
  },
  {
   "cell_type": "code",
   "execution_count": 18,
   "id": "1f53091f-57bc-4892-aab1-f2efe22cac43",
   "metadata": {},
   "outputs": [
    {
     "data": {
      "text/plain": [
       "2.5"
      ]
     },
     "execution_count": 18,
     "metadata": {},
     "output_type": "execute_result"
    }
   ],
   "source": [
    "5 / 2"
   ]
  },
  {
   "cell_type": "code",
   "execution_count": 19,
   "id": "d4fad1e7-1021-4057-a697-e1999d78192e",
   "metadata": {},
   "outputs": [
    {
     "data": {
      "text/plain": [
       "2"
      ]
     },
     "execution_count": 19,
     "metadata": {},
     "output_type": "execute_result"
    }
   ],
   "source": [
    "5 // 2"
   ]
  },
  {
   "cell_type": "code",
   "execution_count": 20,
   "id": "59d48e22-1ea5-4d3d-928a-d346ffef1c0c",
   "metadata": {},
   "outputs": [
    {
     "data": {
      "text/plain": [
       "9"
      ]
     },
     "execution_count": 20,
     "metadata": {},
     "output_type": "execute_result"
    }
   ],
   "source": [
    "3 **2"
   ]
  },
  {
   "cell_type": "code",
   "execution_count": null,
   "id": "8500fd8d-4c97-4352-b4ba-c0627803e649",
   "metadata": {},
   "outputs": [],
   "source": []
  }
 ],
 "metadata": {
  "kernelspec": {
   "display_name": "Python 3 (ipykernel)",
   "language": "python",
   "name": "python3"
  },
  "language_info": {
   "codemirror_mode": {
    "name": "ipython",
    "version": 3
   },
   "file_extension": ".py",
   "mimetype": "text/x-python",
   "name": "python",
   "nbconvert_exporter": "python",
   "pygments_lexer": "ipython3",
   "version": "3.11.7"
  }
 },
 "nbformat": 4,
 "nbformat_minor": 5
}
