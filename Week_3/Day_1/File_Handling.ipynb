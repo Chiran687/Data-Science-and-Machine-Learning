{
  "cells": [
    {
      "cell_type": "markdown",
      "metadata": {
        "id": "a4iIcED1iuiC"
      },
      "source": [
        "# **Python File Handling**\n",
        "- `As a programmer, How can we interact with the files that are avilable in our computer storage device?`\n",
        "- Python File Handling allows you to interact with files that are present in your pc.\n",
        "- Interaction of files means, `opening file`, `reading file`, `writing to a file`, `closing file`.\n",
        "- Python provides a straightforward and powerful way to work with files using built-in functions and methods.\n",
        "\n",
        "- **Use Cases:**\n",
        "  - Imagine you scraped some website content (e.g. `Onlinekhabar.com`)\n",
        "  - You can use Python File Handling to Save such scraped content on some files.\n",
        "\n",
        "- In this lecture we'll cover:\n",
        "  - `Opening Files in Python`\n",
        "  - `Reading Files in Python`\n",
        "  - `Closing Files in Python`\n",
        "  - `Writing Files in Python`\n",
        "  - `Delete Files in Python`"
      ]
    },
    {
      "cell_type": "code",
      "execution_count": 3,
      "metadata": {
        "id": "1IWnSsrgmn7M"
      },
      "outputs": [],
      "source": [
        "# !touch demo.txt\n",
        "\n",
        "# Hi am Learning python.\n",
        "# Python is awesome language."
      ]
    },
    {
      "cell_type": "code",
      "execution_count": 4,
      "metadata": {
        "colab": {
          "base_uri": "https://localhost:8080/"
        },
        "id": "TF2GYHqq991V",
        "outputId": "b84340ca-a06b-4c61-b9bb-7e60f8ef6ed5"
      },
      "outputs": [
        {
          "name": "stdout",
          "output_type": "stream",
          "text": [
            "\n",
            "Hi am Learning python.\n",
            "Python is awesome language."
          ]
        }
      ],
      "source": [
        "!cat demo.txt"
      ]
    },
    {
      "cell_type": "markdown",
      "metadata": {
        "id": "6emB1JW3mILw"
      },
      "source": [
        "### **Opening Files in Python**\n",
        "- Python has built-in `open()` function to open files.\n",
        "- **syntax:**\n",
        "  ```python\n",
        "  file_object = open('filename', 'mode')\n",
        "  ```\n",
        "\n",
        "- **Different modes**\n",
        "\n",
        "| Mode   | Description                                   |\n",
        "|--------|-----------------------------------------------|\n",
        "| \"r\"    | Read mode. Opens a file for reading. Error if file doesn't exists          |\n",
        "| \"a\"    | Append mode. Opens a file for appending data. create a file if file doesn't exists |\n",
        "| \"w\"    | Write mode. Opens a file for writing data. create a file if file doesn't exist    |\n",
        "| \"x\"    | Create mode. Creates a new file for writing.  Returns error if file already exists |\n"
      ]
    },
    {
      "cell_type": "code",
      "execution_count": 5,
      "metadata": {
        "id": "FYCkEXiDn5NI"
      },
      "outputs": [],
      "source": [
        "# open file in read mode (r)\n",
        "# file name demo.txt\n",
        "# Hint: file_obj = open(\"file\", \"mode\")\n",
        "filename = \"demo.txt\"\n",
        "\n",
        "file_obj = open('demo.txt', 'r')"
      ]
    },
    {
      "cell_type": "code",
      "execution_count": 6,
      "metadata": {
        "colab": {
          "base_uri": "https://localhost:8080/"
        },
        "id": "aTrOdSVVsQGj",
        "outputId": "edd1fa8c-f9f5-4539-e5ff-9c3c0d06e9e5"
      },
      "outputs": [
        {
          "name": "stdout",
          "output_type": "stream",
          "text": [
            "<class '_io.TextIOWrapper'>\n"
          ]
        }
      ],
      "source": [
        "# check type\n",
        "print(type(file_obj))"
      ]
    },
    {
      "cell_type": "code",
      "execution_count": 7,
      "metadata": {
        "id": "abWK6mgHqmmS"
      },
      "outputs": [],
      "source": [
        "# open file in write mode (w)\n",
        "# Hint: file_obj = open(\"file\", \"mode\")\n",
        "file_obj = open('demo.txt', 'w')"
      ]
    },
    {
      "cell_type": "code",
      "execution_count": 8,
      "metadata": {
        "id": "2YzdWtF6q6df"
      },
      "outputs": [],
      "source": [
        "# open file in append mode (a)\n",
        "# Hint: file_obj = open(\"file\", \"mode\")\n",
        "file_obj = open('demo.txt', 'a')"
      ]
    },
    {
      "cell_type": "code",
      "execution_count": 9,
      "metadata": {
        "colab": {
          "base_uri": "https://localhost:8080/",
          "height": 200
        },
        "id": "c4t030Raq9Na",
        "outputId": "04ffc5a0-660c-4e16-cc75-959c3769642c"
      },
      "outputs": [],
      "source": [
        "# open file in create mode (x)\n",
        "# Hint: file_obj = open(\"file\", \"mode\")\n",
        "file_obj = open('demo1.txt', 'x')"
      ]
    },
    {
      "cell_type": "markdown",
      "metadata": {
        "id": "00HReY-4rqij"
      },
      "source": [
        "**Alternative way**\n",
        "\n",
        "`syntax`\n",
        "\n",
        "```python\n",
        "with open('filename', 'mode') as file_obj:\n",
        "  pass\n",
        "```"
      ]
    },
    {
      "cell_type": "code",
      "execution_count": 10,
      "metadata": {
        "id": "J-HGeKsjrp-F"
      },
      "outputs": [],
      "source": [
        "# write your program here\n",
        "with open('demo.txt', 'r') as file_obj:\n",
        "  pass"
      ]
    },
    {
      "cell_type": "markdown",
      "metadata": {
        "id": "4OsNP3xzsd0T"
      },
      "source": [
        "### **Reading Files in Python**\n",
        "- Built-in `open()` function returns a file object.\n",
        "- Now, we can use file object to read the file contents with the help of available methods.\n",
        "- **Different methods**\n",
        "  - `.read()`\n",
        "  - `.readline()`\n",
        "  - `.readlines()`\n"
      ]
    },
    {
      "cell_type": "code",
      "execution_count": 12,
      "metadata": {
        "colab": {
          "base_uri": "https://localhost:8080/"
        },
        "id": "lfwVtilXtZDD",
        "outputId": "692dabcd-6439-4747-c1c2-dd9e940428f0"
      },
      "outputs": [
        {
          "name": "stdout",
          "output_type": "stream",
          "text": [
            "\n",
            "Hi am Learning python.\n",
            "Python is awesome language.\n"
          ]
        }
      ],
      "source": [
        "# read whole file content\n",
        "# Hint: .read()\n",
        "\n",
        "with open(\"demo.txt\", 'r') as file_obj:\n",
        "  # file_content = file_obj.read()\n",
        "  file_content = file_obj.read()\n",
        "\n",
        "print(file_content)"
      ]
    },
    {
      "cell_type": "code",
      "execution_count": 13,
      "metadata": {
        "colab": {
          "base_uri": "https://localhost:8080/"
        },
        "id": "XcEL8VdtBGaJ",
        "outputId": "7d8103be-9bb4-4656-c378-c840427389b0"
      },
      "outputs": [
        {
          "name": "stdout",
          "output_type": "stream",
          "text": [
            "<class 'str'>\n"
          ]
        }
      ],
      "source": [
        "print(type(file_content))"
      ]
    },
    {
      "cell_type": "code",
      "execution_count": 14,
      "metadata": {
        "colab": {
          "base_uri": "https://localhost:8080/"
        },
        "id": "h0XO2-cMtbWk",
        "outputId": "4a2bfd50-6e4c-45bd-aadc-f777b9f02508"
      },
      "outputs": [
        {
          "name": "stdout",
          "output_type": "stream",
          "text": [
            "\n",
            "Hi am Lea\n"
          ]
        }
      ],
      "source": [
        "# read first 10 characters in file\n",
        "# Hint: .read(10)\n",
        "with open(\"demo.txt\", 'r') as file_obj:\n",
        "  file_content = file_obj.read(10)\n",
        "print(file_content)"
      ]
    },
    {
      "cell_type": "code",
      "execution_count": 17,
      "metadata": {
        "colab": {
          "base_uri": "https://localhost:8080/"
        },
        "id": "AQn6GmDur0KD",
        "outputId": "2b82f0c3-a0df-4aa3-c852-558dcebdf972"
      },
      "outputs": [
        {
          "name": "stdout",
          "output_type": "stream",
          "text": [
            "Hi am Learning python.\n",
            "\n"
          ]
        }
      ],
      "source": [
        "# read single line in file\n",
        "# Hint: .readline()\n",
        "\n",
        "with open(\"demo.txt\", 'r') as file_obj:\n",
        "  file_content_line = file_obj.readline()\n",
        "\n",
        "print(file_content_line)"
      ]
    },
    {
      "cell_type": "code",
      "execution_count": 18,
      "metadata": {
        "colab": {
          "base_uri": "https://localhost:8080/"
        },
        "id": "V-yC_PrEtVWL",
        "outputId": "9c06d26e-f609-4ff3-b9e0-c837bf26e4a8"
      },
      "outputs": [
        {
          "name": "stdout",
          "output_type": "stream",
          "text": [
            "['Hi am Learning python.\\n', 'Python is awesome language.']\n"
          ]
        }
      ],
      "source": [
        "# read all file content line by line\n",
        "# Hint: .readlines()\n",
        "\n",
        "with open(\"demo.txt\", 'r') as file_obj:\n",
        "  all_file_content_line = file_obj.readlines()\n",
        "\n",
        "print(all_file_content_line)"
      ]
    },
    {
      "cell_type": "markdown",
      "metadata": {
        "id": "AgfBL0HhyMd5"
      },
      "source": [
        "- `Closing Files in Python`\n",
        "- Once we open a file it is always best practice to close the file.\n",
        "- Closing a file will free up the resources that were tied with the file.\n",
        "- `close()` method is used to close the file.\n"
      ]
    },
    {
      "cell_type": "code",
      "execution_count": 19,
      "metadata": {
        "id": "Vqei8JWutXLh"
      },
      "outputs": [],
      "source": [
        "## open file in read mode\n",
        "# without using `with` keyword\n",
        "\n",
        "file_obj = open('demo.txt', 'r')"
      ]
    },
    {
      "cell_type": "code",
      "execution_count": 20,
      "metadata": {
        "colab": {
          "base_uri": "https://localhost:8080/",
          "height": 35
        },
        "id": "F3KXExbezfyg",
        "outputId": "ea13cdae-a447-4415-f79a-898945d070e8"
      },
      "outputs": [
        {
          "data": {
            "text/plain": [
              "'Hi am Learning python.\\n'"
            ]
          },
          "execution_count": 20,
          "metadata": {},
          "output_type": "execute_result"
        }
      ],
      "source": [
        "# read a single line\n",
        "file_obj.readline()"
      ]
    },
    {
      "cell_type": "code",
      "execution_count": 21,
      "metadata": {
        "colab": {
          "base_uri": "https://localhost:8080/",
          "height": 35
        },
        "id": "RHczOAyizdJf",
        "outputId": "f47fd848-8dfc-468e-e028-f1cdbcddfb8e"
      },
      "outputs": [
        {
          "data": {
            "text/plain": [
              "'Pytho'"
            ]
          },
          "execution_count": 21,
          "metadata": {},
          "output_type": "execute_result"
        }
      ],
      "source": [
        "# read a 5 character\n",
        "# Hint: read(5)\n",
        "file_obj.read(5)"
      ]
    },
    {
      "cell_type": "code",
      "execution_count": 22,
      "metadata": {
        "colab": {
          "base_uri": "https://localhost:8080/",
          "height": 35
        },
        "id": "8kIRlOJuE1z5",
        "outputId": "ed2f30cc-3a6a-46a8-ce19-0efa592e6a4d"
      },
      "outputs": [
        {
          "data": {
            "text/plain": [
              "'n is '"
            ]
          },
          "execution_count": 22,
          "metadata": {},
          "output_type": "execute_result"
        }
      ],
      "source": [
        "file_obj.read(5)"
      ]
    },
    {
      "cell_type": "markdown",
      "metadata": {
        "id": "76yKdIZXzrBG"
      },
      "source": [
        "- `We can see, reading automatically starts from the second line.`\n",
        "\n",
        "- To solve this, we have 2 options:\n",
        "  1. use **seek()** method to reset file pointer to start of the file.\n",
        "  2. Close file using **close()** method and read file again"
      ]
    },
    {
      "cell_type": "code",
      "execution_count": 23,
      "metadata": {
        "colab": {
          "base_uri": "https://localhost:8080/"
        },
        "id": "sk3DHDqAPOmT",
        "outputId": "55a33c72-4bdf-4aed-97d2-466c1434fcdd"
      },
      "outputs": [
        {
          "data": {
            "text/plain": [
              "0"
            ]
          },
          "execution_count": 23,
          "metadata": {},
          "output_type": "execute_result"
        }
      ],
      "source": [
        "# reset file pointer\n",
        "# Hint: .seek()\n",
        "file_obj.seek(0)"
      ]
    },
    {
      "cell_type": "code",
      "execution_count": 24,
      "metadata": {
        "colab": {
          "base_uri": "https://localhost:8080/",
          "height": 35
        },
        "id": "J9J_zHByFCzJ",
        "outputId": "2e3b2297-b7fa-40b1-c757-fabc5647d898"
      },
      "outputs": [
        {
          "data": {
            "text/plain": [
              "'Hi am'"
            ]
          },
          "execution_count": 24,
          "metadata": {},
          "output_type": "execute_result"
        }
      ],
      "source": [
        "file_obj.read(5)"
      ]
    },
    {
      "cell_type": "code",
      "execution_count": 25,
      "metadata": {
        "id": "-kIoyXpLzCFA"
      },
      "outputs": [],
      "source": [
        "# close a file\n",
        "# hint: .close()\n",
        "file_obj.close()"
      ]
    },
    {
      "cell_type": "code",
      "execution_count": 26,
      "metadata": {
        "id": "bKGdXOYxCFTv"
      },
      "outputs": [],
      "source": [
        "file_obj.close()"
      ]
    },
    {
      "cell_type": "markdown",
      "metadata": {
        "id": "dRWd6d0r338W"
      },
      "source": [
        "**Automatic file closing**  \n",
        "- When we open a file using `with` keyword, File is closed automatically once the code exits the `with` block."
      ]
    },
    {
      "cell_type": "code",
      "execution_count": 27,
      "metadata": {
        "colab": {
          "base_uri": "https://localhost:8080/"
        },
        "id": "BOUGpI53zDlL",
        "outputId": "bf568b3b-771e-42ed-9c3f-4d907924dea8"
      },
      "outputs": [
        {
          "name": "stdout",
          "output_type": "stream",
          "text": [
            "Hi am Learning python.\n",
            "\n"
          ]
        }
      ],
      "source": [
        "# read a file using `with` keyword\n",
        "\n",
        "with open('demo.txt', 'r') as file_obj:\n",
        "  line = file_obj.readline()\n",
        "\n",
        "\n",
        "print(line)"
      ]
    },
    {
      "cell_type": "markdown",
      "metadata": {
        "id": "ZQdshJbs4gW-"
      },
      "source": [
        "`Read file content using same file object i.e. file_obj`"
      ]
    },
    {
      "cell_type": "code",
      "execution_count": 28,
      "metadata": {
        "colab": {
          "base_uri": "https://localhost:8080/",
          "height": 190
        },
        "id": "lzJsePdG4aYM",
        "outputId": "d10f7201-1c03-46a7-d9b6-f92076b68126"
      },
      "outputs": [
        {
          "ename": "ValueError",
          "evalue": "I/O operation on closed file.",
          "output_type": "error",
          "traceback": [
            "\u001b[0;31m---------------------------------------------------------------------------\u001b[0m",
            "\u001b[0;31mValueError\u001b[0m                                Traceback (most recent call last)",
            "Cell \u001b[0;32mIn[28], line 2\u001b[0m\n\u001b[1;32m      1\u001b[0m \u001b[39m# read file using file_obj\u001b[39;00m\n\u001b[0;32m----> 2\u001b[0m file_obj\u001b[39m.\u001b[39;49mread()\n",
            "\u001b[0;31mValueError\u001b[0m: I/O operation on closed file."
          ]
        }
      ],
      "source": [
        "# read file using file_obj\n",
        "file_obj.read()"
      ]
    },
    {
      "cell_type": "markdown",
      "metadata": {},
      "source": [
        "This shows that we cannot perform read/write operations on closed files."
      ]
    },
    {
      "cell_type": "markdown",
      "metadata": {
        "id": "11sL5e9O4vYp"
      },
      "source": [
        "### **Writing Files in Python**\n",
        "- For writing in files, we can open file in one of 2 modes.\n",
        "  - write mode: `w`\n",
        "    - overwrites the file, if it has any existing content.\n",
        "    - Use **write()** method to write content in file\n",
        "  - append mode: `a`\n",
        "    - Do not overwrite the file, but it appends new content to the end of the file"
      ]
    },
    {
      "cell_type": "markdown",
      "metadata": {
        "id": "g6Ozvdh77Tvb"
      },
      "source": [
        "**write mode (w)**"
      ]
    },
    {
      "cell_type": "code",
      "execution_count": 29,
      "metadata": {
        "id": "pVf73r-O4b0T"
      },
      "outputs": [],
      "source": [
        "## write content in a file\n",
        "file_name = \"test.txt\"\n",
        "with open(file_name, \"w\") as file_obj:\n",
        "  file_obj.write(\"Hi I am learning how to write in a file using python\")"
      ]
    },
    {
      "cell_type": "code",
      "execution_count": 30,
      "metadata": {
        "colab": {
          "base_uri": "https://localhost:8080/"
        },
        "id": "TPkUg9DhGyTc",
        "outputId": "58f51632-c20c-4f50-a3fd-7cbbe59d179a"
      },
      "outputs": [
        {
          "name": "stdout",
          "output_type": "stream",
          "text": [
            "Hi I am learning how to write in a file using python"
          ]
        }
      ],
      "source": [
        "!cat test.txt"
      ]
    },
    {
      "cell_type": "code",
      "execution_count": 31,
      "metadata": {
        "colab": {
          "base_uri": "https://localhost:8080/"
        },
        "id": "iQ003y9IG4-L",
        "outputId": "e9a37828-ddc4-437f-d2c3-94269bdfd84a"
      },
      "outputs": [
        {
          "name": "stdout",
          "output_type": "stream",
          "text": [
            "demo1.txt  demo.txt  File_Handling.ipynb  test.txt\n"
          ]
        }
      ],
      "source": [
        "!ls"
      ]
    },
    {
      "cell_type": "markdown",
      "metadata": {
        "id": "6-bFqVUY7fhG"
      },
      "source": [
        "**append mode (a)**"
      ]
    },
    {
      "cell_type": "code",
      "execution_count": 32,
      "metadata": {
        "id": "NbTTfCD57hYu"
      },
      "outputs": [],
      "source": [
        "## append content in a file\n",
        "with open(file_name, \"a\") as file_obj:\n",
        "  file_obj.write(\"\\nHi I am learning how to append in a end of file using python\")"
      ]
    },
    {
      "cell_type": "code",
      "execution_count": 33,
      "metadata": {
        "colab": {
          "base_uri": "https://localhost:8080/"
        },
        "id": "xOww-4-yQWG9",
        "outputId": "740bdb11-1ced-4805-8d97-2438bb4cb9cb"
      },
      "outputs": [
        {
          "name": "stdout",
          "output_type": "stream",
          "text": [
            "Hi I am learning how to write in a file using python\n",
            "Hi I am learning how to append in a end of file using python"
          ]
        }
      ],
      "source": [
        "# visualize file content\n",
        "!cat test.txt"
      ]
    },
    {
      "cell_type": "markdown",
      "metadata": {
        "id": "0c_-EuvT7kMv"
      },
      "source": [
        "### **Deleting Files in Python**\n",
        "- you can use `os` module to remove a file\n",
        "\n",
        "```python\n",
        "\n",
        "import os\n",
        "\n",
        "os.remove('file_name')\n",
        "\n",
        "```"
      ]
    },
    {
      "cell_type": "code",
      "execution_count": 34,
      "metadata": {
        "colab": {
          "base_uri": "https://localhost:8080/",
          "height": 200
        },
        "id": "EG4di71l7lRi",
        "outputId": "82a7289c-de50-475c-e1e6-5f872c4b0d16"
      },
      "outputs": [],
      "source": [
        "# write your program here\n",
        "import os\n",
        "\n",
        "os.remove(\"test.txt\")"
      ]
    },
    {
      "cell_type": "code",
      "execution_count": 35,
      "metadata": {
        "colab": {
          "base_uri": "https://localhost:8080/"
        },
        "id": "dwSQffRbJNQY",
        "outputId": "da51452a-0565-46fe-e3dd-71f77ff932b6"
      },
      "outputs": [
        {
          "name": "stdout",
          "output_type": "stream",
          "text": [
            "file named demo1.txt deleted\n"
          ]
        }
      ],
      "source": [
        "filename = 'demo1.txt'\n",
        "if os.path.exists(filename):\n",
        "  os.remove(filename)\n",
        "  print(f\"file named {filename} deleted\")\n",
        "else:\n",
        "  print('No file')"
      ]
    },
    {
      "cell_type": "code",
      "execution_count": null,
      "metadata": {
        "id": "Y3lg-Z88IYz_"
      },
      "outputs": [],
      "source": []
    }
  ],
  "metadata": {
    "colab": {
      "provenance": []
    },
    "kernelspec": {
      "display_name": "Python 3",
      "name": "python3"
    },
    "language_info": {
      "codemirror_mode": {
        "name": "ipython",
        "version": 3
      },
      "file_extension": ".py",
      "mimetype": "text/x-python",
      "name": "python",
      "nbconvert_exporter": "python",
      "pygments_lexer": "ipython3",
      "version": "3.8.10"
    }
  },
  "nbformat": 4,
  "nbformat_minor": 0
}
