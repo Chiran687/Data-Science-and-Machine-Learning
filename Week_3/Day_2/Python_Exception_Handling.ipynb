{
 "cells": [
  {
   "cell_type": "markdown",
   "metadata": {
    "id": "l1fHi_Y2Ausw"
   },
   "source": [
    "# Exception Handling\n",
    "- Exception Handling allows you to handle and manage errors that may occur during the execution of your python code.\n",
    "\n",
    "- The purpose of exception handling is to prevent the program from crashing when an exception occurs.\n",
    "\n",
    "- Different types of common Exception are:\n",
    "  - `SyntaxError`\n",
    "  - `ValueError`\n",
    "  - `ZeroDivisionError`\n",
    "  - `FileNotFoundError`\n",
    "  - `AssertionError`\n",
    "\n",
    "- In this lecture we'll cover:\n",
    "  - `try except block`\n",
    "  - `try except else block`\n",
    "  - `try except finally block`\n",
    "  - `Raise an Exception`"
   ]
  },
  {
   "cell_type": "markdown",
   "metadata": {
    "id": "G52zeiqZT2tH"
   },
   "source": [
    "## **try except block**\n",
    "- The `try` block lets you test a block of code for errors.\n",
    "- The `except` block lets you handle the error.\n",
    "\n",
    "**Q. `Write a python program to take two integer a and b from user. Then display Division of input numbers i.e. a/b back to the user.`**"
   ]
  },
  {
   "cell_type": "code",
   "execution_count": 1,
   "metadata": {
    "colab": {
     "base_uri": "https://localhost:8080/",
     "height": 269
    },
    "id": "vvvUd48sUT_u",
    "outputId": "2be974db-b837-49dc-c1a6-a9a12eebb382"
   },
   "outputs": [
    {
     "name": "stdin",
     "output_type": "stream",
     "text": [
      "enter number 1:  7\n",
      "enter number 2:  8\n"
     ]
    },
    {
     "name": "stdout",
     "output_type": "stream",
     "text": [
      "Division a/b = 0.875\n"
     ]
    }
   ],
   "source": [
    "# write  program with out try except\n",
    "a = int(input(\"enter number 1: \"))\n",
    "b = int(input(\"enter number 2: \"))\n",
    "\n",
    "division = a/b\n",
    "\n",
    "print(f\"Division a/b = {division}\")"
   ]
  },
  {
   "cell_type": "code",
   "execution_count": 2,
   "metadata": {
    "colab": {
     "base_uri": "https://localhost:8080/"
    },
    "id": "1tf68lkAUT7F",
    "outputId": "337ae21b-3e71-43a8-bc40-01fb0b1bdbbe"
   },
   "outputs": [
    {
     "name": "stdin",
     "output_type": "stream",
     "text": [
      "enter number 1:  6\n",
      "enter number 2:  9\n"
     ]
    }
   ],
   "source": [
    "# write program with try except\n",
    "a = int(input(\"enter number 1: \"))\n",
    "b = int(input(\"enter number 2: \"))\n",
    "\n",
    "try:\n",
    "  division = a/b\n",
    "\n",
    "except Exception as e:\n",
    "  print(\"Exception occured: \", e)\n"
   ]
  },
  {
   "cell_type": "code",
   "execution_count": null,
   "metadata": {
    "colab": {
     "base_uri": "https://localhost:8080/"
    },
    "id": "F1kH7JsXUQ8i",
    "outputId": "2d340908-d68c-4030-86b9-190aec8eb093"
   },
   "outputs": [
    {
     "name": "stdout",
     "output_type": "stream",
     "text": [
      "Division of 0 occured which is not possible.\n"
     ]
    }
   ],
   "source": [
    "# write a python program with try except to handle ZeroDivisionError exception\n",
    "\n",
    "try:\n",
    "  division = a/b\n",
    "\n",
    "except ZeroDivisionError:\n",
    "  print(\"Division of 0 occured which is not possible.\")"
   ]
  },
  {
   "cell_type": "markdown",
   "metadata": {
    "id": "Jih4yQyqYGTP"
   },
   "source": [
    "**`Can we type cast string \"test\" into integer? If not then handle the raise exception in the process.`**"
   ]
  },
  {
   "cell_type": "code",
   "execution_count": 3,
   "metadata": {
    "colab": {
     "base_uri": "https://localhost:8080/",
     "height": 183
    },
    "id": "D2eIP_8AYbps",
    "outputId": "2c74e46a-9862-4709-823b-754343ddfb16"
   },
   "outputs": [
    {
     "ename": "ValueError",
     "evalue": "invalid literal for int() with base 10: 'test'",
     "output_type": "error",
     "traceback": [
      "\u001b[0;31m---------------------------------------------------------------------------\u001b[0m",
      "\u001b[0;31mValueError\u001b[0m                                Traceback (most recent call last)",
      "Cell \u001b[0;32mIn[3], line 2\u001b[0m\n\u001b[1;32m      1\u001b[0m \u001b[38;5;66;03m# example test\u001b[39;00m\n\u001b[0;32m----> 2\u001b[0m \u001b[38;5;28mint\u001b[39m(\u001b[38;5;124m\"\u001b[39m\u001b[38;5;124mtest\u001b[39m\u001b[38;5;124m\"\u001b[39m)\n",
      "\u001b[0;31mValueError\u001b[0m: invalid literal for int() with base 10: 'test'"
     ]
    }
   ],
   "source": [
    "# example test\n",
    "int(\"test\")"
   ]
  },
  {
   "cell_type": "markdown",
   "metadata": {
    "id": "LiFTblTpYfSQ"
   },
   "source": [
    "`We got a ValueError. We can handle such exception with Try Except`"
   ]
  },
  {
   "cell_type": "code",
   "execution_count": 4,
   "metadata": {
    "colab": {
     "base_uri": "https://localhost:8080/"
    },
    "id": "aHLQBjZkUQ52",
    "outputId": "4775df9f-4523-499c-c49b-0f823bbd9210"
   },
   "outputs": [
    {
     "name": "stdin",
     "output_type": "stream",
     "text": [
      "enter integer number:  uuu\n"
     ]
    },
    {
     "name": "stdout",
     "output_type": "stream",
     "text": [
      "\n",
      "!!!!!!cannot type cast string to integer. Please enter only integer!!!!!\n"
     ]
    }
   ],
   "source": [
    "# Write a python program with try except to handle ValueError exception\n",
    "\n",
    "try:\n",
    "  int_num = int(input(\"enter integer number: \"))\n",
    "\n",
    "except ValueError:\n",
    "  print(\"\\n!!!!!!cannot type cast string to integer. Please enter only integer!!!!!\")"
   ]
  },
  {
   "cell_type": "markdown",
   "metadata": {
    "id": "GPDyW_PIZ1PM"
   },
   "source": [
    "-----\n",
    "**Exception Handling with multiple except block**\n",
    "\n",
    "----"
   ]
  },
  {
   "cell_type": "code",
   "execution_count": 12,
   "metadata": {
    "id": "O-McKceUUQ3W"
   },
   "outputs": [
    {
     "name": "stdin",
     "output_type": "stream",
     "text": [
      "enter number 1:  7\n",
      "enter number 2:  \n"
     ]
    },
    {
     "name": "stdout",
     "output_type": "stream",
     "text": [
      "\n",
      "!!!!!!cannot type cast string to integer. Please enter only integer!!!!!\n"
     ]
    }
   ],
   "source": [
    "# Exception handling with multiple except block\n",
    "try:\n",
    "  a = int(input(\"enter number 1: \"))\n",
    "  b = int(input(\"enter number 2: \"))\n",
    "\n",
    "  division = a/b # if b = 0, ZeroDivisionError Exception\n",
    "\n",
    "except ValueError:\n",
    "  print(\"\\n!!!!!!cannot type cast string to integer. Please enter only integer!!!!!\")\n",
    "\n",
    "except ZeroDivisionError:\n",
    "  print(\"Division of 0 occured which is not possible.\")\n",
    "\n",
    "except Exception as e:\n",
    "  print(\"Exception occured. Exception name is: \", e)"
   ]
  },
  {
   "cell_type": "code",
   "execution_count": null,
   "metadata": {
    "id": "456XxSdkUQvY"
   },
   "outputs": [],
   "source": []
  },
  {
   "cell_type": "code",
   "execution_count": 8,
   "metadata": {
    "colab": {
     "base_uri": "https://localhost:8080/"
    },
    "id": "KCRsI8n2AjQQ",
    "outputId": "2831324c-ca39-488f-d893-edad11d50bdc"
   },
   "outputs": [
    {
     "name": "stdout",
     "output_type": "stream",
     "text": [
      "Cannot divide by zero!\n"
     ]
    }
   ],
   "source": [
    "try:\n",
    "    # Code that may raise an exception\n",
    "    x = 10 / 0  # Division by zero\n",
    "    int(\"abc\")\n",
    "except ZeroDivisionError:\n",
    "    # Code to handle the ZeroDivisionError exception\n",
    "    print(\"Cannot divide by zero!\")\n",
    "except ValueError:\n",
    "    # Code to handle the ValueError exception\n",
    "    print(\"Invalid input!\")"
   ]
  },
  {
   "cell_type": "markdown",
   "metadata": {
    "id": "NDUKRPEKaRIZ"
   },
   "source": [
    "## **try except else block**\n",
    "- You can use the `else` keyword to define a block of code to be executed if no errors were raised."
   ]
  },
  {
   "cell_type": "code",
   "execution_count": 9,
   "metadata": {
    "colab": {
     "base_uri": "https://localhost:8080/"
    },
    "id": "Qk84rCNMB6YN",
    "outputId": "182da9c1-0e5f-49d8-f610-e813d828aa0d"
   },
   "outputs": [
    {
     "name": "stdout",
     "output_type": "stream",
     "text": [
      "no exception, from else block\n",
      "10/10 = 1.0\n"
     ]
    }
   ],
   "source": [
    "a = 10\n",
    "b = 10\n",
    "\n",
    "try:\n",
    "  division = a/b\n",
    "\n",
    "except ZeroDivisionError:\n",
    "  print('from except block')\n",
    "  print(\"Cannot divide by zero\")\n",
    "\n",
    "else:\n",
    "  print('no exception, from else block')\n",
    "  print(f\"{a}/{b} = {division}\")"
   ]
  },
  {
   "cell_type": "markdown",
   "metadata": {
    "id": "Apmmy5TxeiFz"
   },
   "source": [
    "## **try except finally block**\n",
    "- The `finally` block is used in exception handling to specify code that must be exceuted regardless of whether an exception occurs or not.\n",
    "- Example: closing files\n",
    "\n"
   ]
  },
  {
   "cell_type": "code",
   "execution_count": 10,
   "metadata": {
    "colab": {
     "base_uri": "https://localhost:8080/"
    },
    "id": "Ne3XmuqLhe9x",
    "outputId": "e8ccdd6c-1347-4932-e2c8-8f514572e57a"
   },
   "outputs": [
    {
     "name": "stdin",
     "output_type": "stream",
     "text": [
      "Enter a number:  77\n"
     ]
    },
    {
     "name": "stdout",
     "output_type": "stream",
     "text": [
      "Result: 0.12987012987012986\n",
      "Program execution completed.\n"
     ]
    }
   ],
   "source": [
    "# write a python program to explain try except finally\n",
    "try:\n",
    "    num = int(input(\"Enter a number: \"))\n",
    "    result = 10 / num\n",
    "    print(\"Result:\", result)\n",
    "\n",
    "except ValueError:\n",
    "    print(\"Invalid input! Please enter a valid number.\")\n",
    "\n",
    "except ZeroDivisionError:\n",
    "    print(\"Cannot divide by zero!\")\n",
    "\n",
    "finally:\n",
    "    print(\"Program execution completed.\")"
   ]
  },
  {
   "cell_type": "markdown",
   "metadata": {
    "id": "JJgB51jloWeJ"
   },
   "source": [
    "## **Raise an Exception**\n",
    "- As a python developer, there will be certain situation where you need to raise an exception intentionally.\n",
    "\n",
    "- You can use `raise` keyword to throw an Exception intentionally.\n",
    "\n",
    "\n",
    "**`Q. Write a python function to caculate square root of number taken input from user. If user input negative number then raise an exception.`**"
   ]
  },
  {
   "cell_type": "code",
   "execution_count": 11,
   "metadata": {
    "id": "b1PEnxfthfNB"
   },
   "outputs": [],
   "source": [
    "# write your program here\n",
    "def calculate_square_root(number):\n",
    "  if number < 0:\n",
    "    raise ValueError(\"cannot calulate square root of negative number\")\n",
    "  else:\n",
    "    return number ** 0.5\n",
    "\n"
   ]
  },
  {
   "cell_type": "code",
   "execution_count": null,
   "metadata": {
    "colab": {
     "base_uri": "https://localhost:8080/"
    },
    "id": "teAebyfaqnAD",
    "outputId": "6f0d6430-6f04-47e9-9a92-64596865a10f"
   },
   "outputs": [
    {
     "name": "stdout",
     "output_type": "stream",
     "text": [
      "ValueError:  cannot calulate square root of negative number\n"
     ]
    }
   ],
   "source": [
    "num = -4\n",
    "try:\n",
    "  result = calculate_square_root(num)\n",
    "\n",
    "except ValueError as e:\n",
    "  print(\"ValueError: \", e)\n"
   ]
  },
  {
   "cell_type": "code",
   "execution_count": null,
   "metadata": {},
   "outputs": [],
   "source": []
  }
 ],
 "metadata": {
  "colab": {
   "provenance": []
  },
  "kernelspec": {
   "display_name": "Python 3 (ipykernel)",
   "language": "python",
   "name": "python3"
  },
  "language_info": {
   "codemirror_mode": {
    "name": "ipython",
    "version": 3
   },
   "file_extension": ".py",
   "mimetype": "text/x-python",
   "name": "python",
   "nbconvert_exporter": "python",
   "pygments_lexer": "ipython3",
   "version": "3.11.7"
  }
 },
 "nbformat": 4,
 "nbformat_minor": 4
}
