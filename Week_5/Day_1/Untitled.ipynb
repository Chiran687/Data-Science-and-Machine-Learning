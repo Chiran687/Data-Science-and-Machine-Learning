{
 "cells": [
  {
   "cell_type": "code",
   "execution_count": 10,
   "id": "758cc15c-ec17-4007-835b-89897b613d4d",
   "metadata": {},
   "outputs": [
    {
     "data": {
      "text/plain": [
       "array([[ 7, 18, 24, 13],\n",
       "       [29,  9, 23, 18],\n",
       "       [ 0, 11, 22, 19],\n",
       "       [16,  8, 17, 18]])"
      ]
     },
     "execution_count": 10,
     "metadata": {},
     "output_type": "execute_result"
    }
   ],
   "source": [
    "import numpy as np\n",
    "arr = np.random.randint(33, size=(4,4))\n",
    "arr"
   ]
  },
  {
   "cell_type": "code",
   "execution_count": 15,
   "id": "4c1263b2-45af-4ba7-beed-3012f8a97a20",
   "metadata": {},
   "outputs": [
    {
     "name": "stdout",
     "output_type": "stream",
     "text": [
      "8\n"
     ]
    },
    {
     "data": {
      "text/plain": [
       "array([[1, 1, 1, 1],\n",
       "       [1, 1, 1, 1]])"
      ]
     },
     "execution_count": 15,
     "metadata": {},
     "output_type": "execute_result"
    }
   ],
   "source": [
    "newarr= np.array([1,1,1,1,1,1,1,1])\n",
    "print(len(newarr))\n",
    "np.reshape(newarr, (2,4))"
   ]
  },
  {
   "cell_type": "code",
   "execution_count": 17,
   "id": "0dd61aa1-aa6e-40a8-a59f-10757d8970eb",
   "metadata": {},
   "outputs": [
    {
     "data": {
      "text/plain": [
       "array([1, 1, 1, 1, 2, 2, 2, 2])"
      ]
     },
     "execution_count": 17,
     "metadata": {},
     "output_type": "execute_result"
    }
   ],
   "source": [
    "arr1 = np.array([1,1,1,1])\n",
    "arr2 = np.array([2,2,2,2])\n",
    "concat = np.concatenate((arr1, arr2))\n",
    "concat"
   ]
  },
  {
   "cell_type": "code",
   "execution_count": 22,
   "id": "b6d10718-af16-4ff4-ab99-9f08fb7c0c8e",
   "metadata": {},
   "outputs": [
    {
     "data": {
      "text/plain": [
       "array([[1, 1, 1],\n",
       "       [2, 2, 2],\n",
       "       [3, 3, 3],\n",
       "       [4, 4, 4]])"
      ]
     },
     "execution_count": 22,
     "metadata": {},
     "output_type": "execute_result"
    }
   ],
   "source": [
    "a = np.array([[1,1,1],[2,2,2]])\n",
    "b = np.array([[3,3,3],[4,4,4]])\n",
    "conct = np.concatenate((a,b))\n",
    "conct"
   ]
  },
  {
   "cell_type": "code",
   "execution_count": 24,
   "id": "92c3b501-8f54-4983-8cad-f42997d80cba",
   "metadata": {},
   "outputs": [
    {
     "data": {
      "text/plain": [
       "array([[1, 1, 1, 3, 3, 3],\n",
       "       [2, 2, 2, 4, 4, 4]])"
      ]
     },
     "execution_count": 24,
     "metadata": {},
     "output_type": "execute_result"
    }
   ],
   "source": [
    "new_concat = np.concatenate((a,b), axis=1)\n",
    "new_concat"
   ]
  },
  {
   "cell_type": "code",
   "execution_count": 27,
   "id": "5e7ce51c-4471-4c09-a59e-63dde7975db4",
   "metadata": {},
   "outputs": [
    {
     "ename": "ValueError",
     "evalue": "array split does not result in an equal division",
     "output_type": "error",
     "traceback": [
      "\u001b[0;31m---------------------------------------------------------------------------\u001b[0m",
      "\u001b[0;31mValueError\u001b[0m                                Traceback (most recent call last)",
      "Cell \u001b[0;32mIn[27], line 1\u001b[0m\n\u001b[0;32m----> 1\u001b[0m np\u001b[38;5;241m.\u001b[39msplit(new_concat, \u001b[38;5;241m4\u001b[39m)\n",
      "File \u001b[0;32m~/miniconda3/lib/python3.11/site-packages/numpy/lib/shape_base.py:864\u001b[0m, in \u001b[0;36msplit\u001b[0;34m(ary, indices_or_sections, axis)\u001b[0m\n\u001b[1;32m    862\u001b[0m     N \u001b[38;5;241m=\u001b[39m ary\u001b[38;5;241m.\u001b[39mshape[axis]\n\u001b[1;32m    863\u001b[0m     \u001b[38;5;28;01mif\u001b[39;00m N \u001b[38;5;241m%\u001b[39m sections:\n\u001b[0;32m--> 864\u001b[0m         \u001b[38;5;28;01mraise\u001b[39;00m \u001b[38;5;167;01mValueError\u001b[39;00m(\n\u001b[1;32m    865\u001b[0m             \u001b[38;5;124m'\u001b[39m\u001b[38;5;124marray split does not result in an equal division\u001b[39m\u001b[38;5;124m'\u001b[39m) \u001b[38;5;28;01mfrom\u001b[39;00m \u001b[38;5;28;01mNone\u001b[39;00m\n\u001b[1;32m    866\u001b[0m \u001b[38;5;28;01mreturn\u001b[39;00m array_split(ary, indices_or_sections, axis)\n",
      "\u001b[0;31mValueError\u001b[0m: array split does not result in an equal division"
     ]
    }
   ],
   "source": [
    "np.split(new_concat, 4)"
   ]
  },
  {
   "cell_type": "code",
   "execution_count": 28,
   "id": "5d0c2c5a-d2b6-4c4f-b41b-41035badb0fc",
   "metadata": {},
   "outputs": [
    {
     "data": {
      "text/plain": [
       "[array([[1, 1, 1, 3, 3, 3]]),\n",
       " array([[2, 2, 2, 4, 4, 4]]),\n",
       " array([], shape=(0, 6), dtype=int64),\n",
       " array([], shape=(0, 6), dtype=int64)]"
      ]
     },
     "execution_count": 28,
     "metadata": {},
     "output_type": "execute_result"
    }
   ],
   "source": [
    "np.array_split(new_concat, 4)"
   ]
  },
  {
   "cell_type": "code",
   "execution_count": 29,
   "id": "35890d3b-f4b9-49ea-97aa-88f864f40f46",
   "metadata": {},
   "outputs": [
    {
     "data": {
      "text/plain": [
       "array([[21, 16, 43, 38],\n",
       "       [13, 41, 20, 48],\n",
       "       [42, 10, 20, 35],\n",
       "       [ 1, 39,  9, 44]])"
      ]
     },
     "execution_count": 29,
     "metadata": {},
     "output_type": "execute_result"
    }
   ],
   "source": [
    "arr2d = np.random.randint(50, size=(4,4))\n",
    "arr2d"
   ]
  },
  {
   "cell_type": "code",
   "execution_count": 30,
   "id": "6b9e3f0b-d4de-4357-b317-82eef6ba76dc",
   "metadata": {},
   "outputs": [
    {
     "data": {
      "text/plain": [
       "[array([[21, 16, 43, 38]]),\n",
       " array([[13, 41, 20, 48]]),\n",
       " array([[42, 10, 20, 35]]),\n",
       " array([[ 1, 39,  9, 44]])]"
      ]
     },
     "execution_count": 30,
     "metadata": {},
     "output_type": "execute_result"
    }
   ],
   "source": [
    "np.array_split(arr2d, 4)"
   ]
  },
  {
   "cell_type": "code",
   "execution_count": 31,
   "id": "ad32913e-e68a-47b1-8ce0-05ec1729f438",
   "metadata": {},
   "outputs": [
    {
     "data": {
      "text/plain": [
       "[array([[21, 16, 43, 38],\n",
       "        [13, 41, 20, 48]]),\n",
       " array([[42, 10, 20, 35]]),\n",
       " array([[ 1, 39,  9, 44]])]"
      ]
     },
     "execution_count": 31,
     "metadata": {},
     "output_type": "execute_result"
    }
   ],
   "source": [
    "np.array_split(arr2d, 3)"
   ]
  },
  {
   "cell_type": "code",
   "execution_count": 33,
   "id": "78026989-c51b-48a4-bd29-8614bd1b73e8",
   "metadata": {},
   "outputs": [
    {
     "data": {
      "text/plain": [
       "[array([[21],\n",
       "        [13],\n",
       "        [42],\n",
       "        [ 1]]),\n",
       " array([[16],\n",
       "        [41],\n",
       "        [10],\n",
       "        [39]]),\n",
       " array([[43],\n",
       "        [20],\n",
       "        [20],\n",
       "        [ 9]]),\n",
       " array([[38],\n",
       "        [48],\n",
       "        [35],\n",
       "        [44]])]"
      ]
     },
     "execution_count": 33,
     "metadata": {},
     "output_type": "execute_result"
    }
   ],
   "source": [
    "np.split(arr2d, 4, axis=1)"
   ]
  },
  {
   "cell_type": "code",
   "execution_count": 35,
   "id": "85dce782-65d0-47d6-adcc-36465a72d4a0",
   "metadata": {},
   "outputs": [
    {
     "name": "stdout",
     "output_type": "stream",
     "text": [
      "[0. 0. 0. ... 0. 0. 0.]\n",
      "0.6111814330000005\n"
     ]
    }
   ],
   "source": [
    "import time\n",
    "x1 = np.arange(1, 1000000)\n",
    "x2 = np.arange(1, 1000000)\n",
    "\n",
    "mul = np.zeros(x1.shape)\n",
    "print(mul)\n",
    "start_time= time.process_time()\n",
    "\n",
    "for i in range(len(x1)):\n",
    "    mul[i] = x1[i] * x2[i]\n",
    "\n",
    "end_time = time.process_time()\n",
    "print(end_time - start_time)"
   ]
  },
  {
   "cell_type": "code",
   "execution_count": 36,
   "id": "d9a966c2-31a7-4f1d-a6e3-2ad60de0ae02",
   "metadata": {},
   "outputs": [
    {
     "name": "stdout",
     "output_type": "stream",
     "text": [
      "[3 4 5]\n"
     ]
    }
   ],
   "source": [
    "a= np.array([1,2,3])\n",
    "b = 2\n",
    "print(a+b)"
   ]
  },
  {
   "cell_type": "code",
   "execution_count": 37,
   "id": "5a882bbf-87cb-4204-b685-8f7d47fd94ce",
   "metadata": {},
   "outputs": [
    {
     "name": "stdout",
     "output_type": "stream",
     "text": [
      "(3,)\n",
      "(3, 1)\n",
      "[[11 12 13]\n",
      " [21 22 23]\n",
      " [31 32 33]]\n"
     ]
    }
   ],
   "source": [
    "b = np.array([[10], [20], [30]])\n",
    "print(a.shape)\n",
    "print(b.shape)\n",
    "print(a+b)"
   ]
  },
  {
   "cell_type": "code",
   "execution_count": 38,
   "id": "5f1b346d-c377-4822-82aa-1964198fa8bf",
   "metadata": {},
   "outputs": [
    {
     "ename": "ValueError",
     "evalue": "operands could not be broadcast together with shapes (2,) (3,) ",
     "output_type": "error",
     "traceback": [
      "\u001b[0;31m---------------------------------------------------------------------------\u001b[0m",
      "\u001b[0;31mValueError\u001b[0m                                Traceback (most recent call last)",
      "Cell \u001b[0;32mIn[38], line 3\u001b[0m\n\u001b[1;32m      1\u001b[0m a \u001b[38;5;241m=\u001b[39m np\u001b[38;5;241m.\u001b[39marray([\u001b[38;5;241m1\u001b[39m,\u001b[38;5;241m3\u001b[39m])\n\u001b[1;32m      2\u001b[0m b \u001b[38;5;241m=\u001b[39m np\u001b[38;5;241m.\u001b[39marray([\u001b[38;5;241m1\u001b[39m,\u001b[38;5;241m2\u001b[39m,\u001b[38;5;241m3\u001b[39m])\n\u001b[0;32m----> 3\u001b[0m a\u001b[38;5;241m+\u001b[39mb\n",
      "\u001b[0;31mValueError\u001b[0m: operands could not be broadcast together with shapes (2,) (3,) "
     ]
    }
   ],
   "source": [
    "a = np.array([1,3])\n",
    "b = np.array([1,2,3])\n",
    "a+b\n"
   ]
  },
  {
   "cell_type": "code",
   "execution_count": null,
   "id": "e5f6c688-5854-4432-ad09-e05ac15c9956",
   "metadata": {},
   "outputs": [],
   "source": []
  }
 ],
 "metadata": {
  "kernelspec": {
   "display_name": "Python 3 (ipykernel)",
   "language": "python",
   "name": "python3"
  },
  "language_info": {
   "codemirror_mode": {
    "name": "ipython",
    "version": 3
   },
   "file_extension": ".py",
   "mimetype": "text/x-python",
   "name": "python",
   "nbconvert_exporter": "python",
   "pygments_lexer": "ipython3",
   "version": "3.11.7"
  }
 },
 "nbformat": 4,
 "nbformat_minor": 5
}
