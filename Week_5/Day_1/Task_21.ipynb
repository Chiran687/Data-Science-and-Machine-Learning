{
 "cells": [
  {
   "cell_type": "markdown",
   "id": "ec1f5bcf-cf5f-43fc-b9b4-d9191a64b88e",
   "metadata": {},
   "source": [
    "<h1><strong>Numpy Assignment</h1>"
   ]
  },
  {
   "cell_type": "markdown",
   "id": "82cc8579-7f25-4fc8-ad0a-5e0ebe6bc75f",
   "metadata": {},
   "source": [
    "<h2>1. What is NumPy, and why is it important in the Python ecosystem? Provide a detailed\n",
    "explanation.</h2>"
   ]
  },
  {
   "cell_type": "markdown",
   "id": "a69ead6e-8acf-47c7-a9e1-c6bbd097c85c",
   "metadata": {},
   "source": [
    "<p>NumPy <strong>(Numerical Python)</strong> is an open source Python library that’s used in almost every field of science and engineering. It’s the universal standard for working with numerical data in Python, and it’s at the core of the scientific Python and PyData ecosystems. NumPy users include everyone from beginning coders to experienced researchers doing state-of-the-art scientific and industrial research and development. The NumPy API is used extensively in Pandas, SciPy, Matplotlib, scikit-learn, scikit-image and most other data science and scientific Python packages.</p>\n",
    "<p>The NumPy library contains multidimensional array and matrix data structures . It provides ndarray, a homogeneous n-dimensional array object, with methods to efficiently operate on it. NumPy can be used to perform a wide variety of mathematical operations on arrays. It adds powerful data structures to Python that guarantee efficient calculations with arrays and matrices and it supplies an enormous library of high-level mathematical functions that operate on these arrays and matrices.</p>\n"
   ]
  },
  {
   "cell_type": "markdown",
   "id": "56944f49-e54e-4587-bd9f-cea0c8282728",
   "metadata": {},
   "source": [
    "***"
   ]
  },
  {
   "cell_type": "markdown",
   "id": "6b4f92cd-aab8-4786-85d3-b8a126083e42",
   "metadata": {},
   "source": [
    "<h2>2. Discuss the history and development of NumPy. How has it evolved over time?</h2>"
   ]
  },
  {
   "cell_type": "markdown",
   "id": "806a8c3e-22c3-48cc-a66f-c36b909a817d",
   "metadata": {},
   "source": [
    "<p>NumPy was initially developed by Travis Oliphant in 2005 as an open-source replacement for Numeric, another array processing library for Python. NumPy was inspired by the array processing capabilities of languages like MATLAB and IDL, and aimed to provide similar functionality in Python.</p>"
   ]
  },
  {
   "cell_type": "markdown",
   "id": "14a71f2b-b19a-4749-a33f-c75a42c1cf3c",
   "metadata": {},
   "source": [
    "***"
   ]
  },
  {
   "cell_type": "markdown",
   "id": "ecb853e2-867e-4b62-9253-e440c88951da",
   "metadata": {},
   "source": [
    "<h2>3. Describe the core features of NumPy</h2>"
   ]
  },
  {
   "cell_type": "markdown",
   "id": "0a7118b0-c691-4678-a641-1fdec3ab5cd0",
   "metadata": {},
   "source": [
    "<p>NumPy support for multi-dimensional arrays, broadcasting, vectorized operations, indexing and slicing, array manipulation, linear algebra, and random number generation make it a popular choice for scientific and mathematical applications.</p>\n",
    "<p><strong>i. Multidimensional Arrays\n",
    "</strong></p>\n",
    "<p>Support for multi-dimensional arrays is one of the most essential features of NumPy. It provides a convenient way to create, manipulate, and perform operations on arrays of arbitrary dimensions.\n",
    "\n",
    "This makes it ideal for handling large datasets, images, and other types of numerical data. NumPy arrays are much more efficient than Python’s built-in lists, and they offer many additional features that make them easier to work with.</p>"
   ]
  },
  {
   "cell_type": "code",
   "execution_count": 8,
   "id": "3632bebd-0314-422b-bb4a-875a52560ca1",
   "metadata": {},
   "outputs": [
    {
     "name": "stdout",
     "output_type": "stream",
     "text": [
      "Two Dimensional array [[1 2 3]\n",
      " [4 5 6]\n",
      " [7 8 9]]\n",
      "\n",
      "First item of first netsed matrix 1\n",
      "\n",
      "Third item of second nested matrix 6\n",
      "\n",
      "Element after value changing [[ 1  2  3]\n",
      " [ 4 10  6]\n",
      " [ 7  8  9]]\n",
      "\n",
      "3D array [[[1 2]\n",
      "  [3 4]]\n",
      "\n",
      " [[5 6]\n",
      "  [7 8]]]\n",
      "\n",
      "Second item of nested matrix within first matrix 4\n",
      "\n",
      "First item of nested matrix within second matrix 5\n",
      "\n",
      "Value after changing [[[ 1  2]\n",
      "  [ 3  4]]\n",
      "\n",
      " [[ 5  6]\n",
      "  [ 7 10]]]\n"
     ]
    }
   ],
   "source": [
    "import numpy as np\n",
    "# Create a 2D array\n",
    "arr_2d = np.array([[1, 2, 3], [4, 5, 6], [7, 8, 9]])\n",
    "\n",
    "# Print the array\n",
    "print(f\"Two Dimensional array {arr_2d}\\n\")\n",
    "\n",
    "# Accessing elements of the array\n",
    "print(f\"First item of first netsed matrix {arr_2d[0][0]}\\n\")   \n",
    "print(f\"Third item of second nested matrix {arr_2d[1][2]}\\n\")  \n",
    "\n",
    "# Change an element of the array\n",
    "arr_2d[1][1] = 10\n",
    "print(f\"Element after value changing {arr_2d}\\n\")\n",
    "\n",
    "# Creating a 3D array\n",
    "arr_3d = np.array([[[1, 2], [3, 4]], [[5, 6], [7, 8]]])\n",
    "\n",
    "# Print the array\n",
    "print(f\"3D array {arr_3d}\\n\")\n",
    "# Accessing elements of the array\n",
    "print(f\"Second item of nested matrix within first matrix {arr_3d[0][1][1]}\\n\")   \n",
    "print(f\"First item of nested matrix within second matrix {arr_3d[1][0][0]}\\n\")   \n",
    "\n",
    "# Change an element of the array\n",
    "arr_3d[1][1][1] = 10\n",
    "print(f\"Value after changing {arr_3d}\")"
   ]
  },
  {
   "cell_type": "markdown",
   "id": "76ed7f8c-eb9f-4ae2-9c17-15ae5539ae0c",
   "metadata": {},
   "source": [
    "<p><strong>ii. Broadcasting</strong></p>\n",
    "<p>Broadcasting allows NumPy to operate on arrays of different dimensions and shapes without the need for explicit loops. This is a powerful feature that can greatly simplify code and make it more efficient.</p>"
   ]
  },
  {
   "cell_type": "code",
   "execution_count": 14,
   "id": "6b602c0c-2621-4c12-a2e3-87c43b4f4ee0",
   "metadata": {},
   "outputs": [
    {
     "name": "stdout",
     "output_type": "stream",
     "text": [
      "[1 2 3]\n",
      "\n",
      "[[4]\n",
      " [5]\n",
      " [6]]\n",
      "\n",
      "[[5 6 7]\n",
      " [6 7 8]\n",
      " [7 8 9]]\n"
     ]
    }
   ],
   "source": [
    "# Create two arrays\n",
    "a = np.array([1, 2, 3])\n",
    "b = np.array([[4], [5], [6]])\n",
    "\n",
    "# Print the arrays\n",
    "print(f\"{a}\\n\")\n",
    "print(f\"{b}\\n\")\n",
    "\n",
    "# Perform arithmetic operation with broadcasting\n",
    "c = a + b\n",
    "\n",
    "# Print the result\n",
    "print(c)"
   ]
  },
  {
   "cell_type": "markdown",
   "id": "51e1485f-f575-4245-ab36-cba9e0a1a1b7",
   "metadata": {},
   "source": [
    "<p><strong>iii. Vectorized Operations</strong></p>\n",
    "<p>NumPy provides a range of vectorized operations that make it easy to perform complex mathematical operations on arrays. Vectorized operations are performed element-wise on arrays, and they are much faster than using explicit loops. Vectorisation can greatly simplify code and make it more efficient, especially when working with large datasets.</p>"
   ]
  },
  {
   "cell_type": "markdown",
   "id": "eaf485c4-bfcf-4b42-9f93-7f8136c0b9a6",
   "metadata": {},
   "source": [
    "<p>a. Adding two vectors</p>"
   ]
  },
  {
   "cell_type": "code",
   "execution_count": 18,
   "id": "27121103-f77c-424a-846a-5feb5e967e9e",
   "metadata": {},
   "outputs": [
    {
     "name": "stdout",
     "output_type": "stream",
     "text": [
      "[5 7 9]\n"
     ]
    }
   ],
   "source": [
    "arr1 = np.array([1, 2, 3])\n",
    "arr2 = np.array([4, 5, 6])\n",
    "result = arr1 + arr2\n",
    "print(result)"
   ]
  },
  {
   "cell_type": "markdown",
   "id": "9c7c7431-ddee-4617-bd0e-6ce71d4c95fb",
   "metadata": {},
   "source": [
    "<p>b. Multiplying an array by a scalar</p>"
   ]
  },
  {
   "cell_type": "code",
   "execution_count": 17,
   "id": "af3f4c13-3365-444f-9a08-12cbc78b589e",
   "metadata": {},
   "outputs": [
    {
     "name": "stdout",
     "output_type": "stream",
     "text": [
      "[2 4 6]\n"
     ]
    }
   ],
   "source": [
    "arr1 = np.array([1, 2, 3])\n",
    "result = 2 * arr1\n",
    "print(result)"
   ]
  },
  {
   "cell_type": "markdown",
   "id": "339fdf77-517c-4093-821d-688867114f72",
   "metadata": {},
   "source": [
    "<p>c. Element-wise multiplication of two arrays</p>"
   ]
  },
  {
   "cell_type": "code",
   "execution_count": 16,
   "id": "3d2548f6-e358-4054-b093-caac5e87dadc",
   "metadata": {},
   "outputs": [
    {
     "name": "stdout",
     "output_type": "stream",
     "text": [
      "[ 4 10 18]\n"
     ]
    }
   ],
   "source": [
    "arr1 = np.array([1, 2, 3])\n",
    "arr2 = np.array([4, 5, 6])\n",
    "result = arr1 * arr2\n",
    "print(result)"
   ]
  },
  {
   "cell_type": "markdown",
   "id": "b4509cc9-e5b7-4e84-8b94-877c5ddfe41d",
   "metadata": {},
   "source": [
    "<p><strong>iv. Indexing and Slicing</strong></p>\n",
    "<p>NumPy provides powerful indexing and slicing capabilities that allow you to extract and manipulate subsets of arrays. NumPy arrays can be sliced along any axis, and we can use Boolean indexing to select elements that meet certain criteria.\n",
    "\n",
    "This makes it easy to perform complex operations on arrays without having to iterate over every element.</p>"
   ]
  },
  {
   "cell_type": "markdown",
   "id": "5ecfb838-acf7-471c-81ef-b3e4be280e7a",
   "metadata": {},
   "source": [
    "<p>a. Example for Indexing: to access the first element of a one-dimensional array</p>"
   ]
  },
  {
   "cell_type": "code",
   "execution_count": 21,
   "id": "c6e106f4-16a1-4662-be84-03b43cd75359",
   "metadata": {},
   "outputs": [
    {
     "data": {
      "text/plain": [
       "1"
      ]
     },
     "execution_count": 21,
     "metadata": {},
     "output_type": "execute_result"
    }
   ],
   "source": [
    "arr = np.array([1, 2, 3, 4, 5])\n",
    "first_element = arr[0]\n",
    "first_element"
   ]
  },
  {
   "cell_type": "markdown",
   "id": "c9fb00ca-c749-47c6-87c4-9f76f603cbb5",
   "metadata": {},
   "source": [
    "<p>b. Example for Slicing</p>"
   ]
  },
  {
   "cell_type": "code",
   "execution_count": 22,
   "id": "6f54203a-ea44-4cc1-a021-b2db3d478032",
   "metadata": {},
   "outputs": [
    {
     "data": {
      "text/plain": [
       "array([2, 3])"
      ]
     },
     "execution_count": 22,
     "metadata": {},
     "output_type": "execute_result"
    }
   ],
   "source": [
    "arr = np.array([1, 2, 3, 4, 5])\n",
    "# slice from index 1 to index 3 (exclusive)\n",
    "slice = arr[1:3]\n",
    "slice"
   ]
  },
  {
   "cell_type": "markdown",
   "id": "dd6fba49-f70a-49e9-8444-e0e292762339",
   "metadata": {},
   "source": [
    "<p><strong>v. Array Manipulation</strong></p>\n",
    "<p>NumPy provides a wide range of functions for manipulating arrays. We can concatenate, stack, split, and reshape arrays, and we can transpose and flatten arrays as well. NumPy also provides functions for finding unique values, sorting arrays, and performing other types of manipulations.</p>"
   ]
  },
  {
   "cell_type": "markdown",
   "id": "7f21c33c-ed4c-4047-96a4-0c5ee9020887",
   "metadata": {},
   "source": [
    "<p>a. Stacking Arrays:\n",
    "NumPy provides functions for stacking arrays vertically or horizontally. To stack two arrays vertically, we can use the vstack() function, and to stack them horizontally, we can use the hstack() function. For example, to stack two one-dimensional arrays a and b vertically</p>"
   ]
  },
  {
   "cell_type": "code",
   "execution_count": 24,
   "id": "037802b3-9aae-4ab2-8c4f-210d4b92f394",
   "metadata": {},
   "outputs": [
    {
     "data": {
      "text/plain": [
       "array([[1, 2, 3],\n",
       "       [4, 5, 6]])"
      ]
     },
     "execution_count": 24,
     "metadata": {},
     "output_type": "execute_result"
    }
   ],
   "source": [
    "a = np.array([1, 2, 3])\n",
    "b = np.array([4, 5, 6])\n",
    "stacked_arr = np.vstack((a, b))\n",
    "stacked_arr"
   ]
  },
  {
   "cell_type": "markdown",
   "id": "44b0c7ff-40e7-41de-86f3-326f21f5fee6",
   "metadata": {},
   "source": [
    "<p>b. Merging Arrays:\n",
    "NumPy also provides functions for merging two or more arrays into a single array. To merge two arrays horizontally, you can use the concatenate() function, and to merge them vertically, you can use the stack() function. For example, to concatenate two one-dimensional arrays a and b horizontally.</p>"
   ]
  },
  {
   "cell_type": "code",
   "execution_count": 25,
   "id": "006ae951-76b6-4b66-9a83-06bd7e1fa353",
   "metadata": {},
   "outputs": [
    {
     "data": {
      "text/plain": [
       "array([1, 2, 3, 4, 5, 6])"
      ]
     },
     "execution_count": 25,
     "metadata": {},
     "output_type": "execute_result"
    }
   ],
   "source": [
    "a = np.array([1, 2, 3])\n",
    "b = np.array([4, 5, 6])\n",
    "concatenated_arr = np.concatenate((a, b), axis=0)\n",
    "concatenated_arr"
   ]
  },
  {
   "cell_type": "markdown",
   "id": "a6df82c3-275c-4b7b-8317-77aa4529fcec",
   "metadata": {},
   "source": [
    "<p><strong>vi. Linear Algebra</strong></p>\n",
    "<p>NumPy includes a linear algebra library that provides functions for performing common operations such as matrix multiplication, determinants, and eigenvalues. This library also provides functions for solving linear systems of equations and performing least-squares fits.</p>"
   ]
  },
  {
   "cell_type": "code",
   "execution_count": 28,
   "id": "fd0e7168-ca18-4162-aedd-ddcc1c71f629",
   "metadata": {},
   "outputs": [
    {
     "name": "stdout",
     "output_type": "stream",
     "text": [
      "[-0.11764706  0.17647059]\n"
     ]
    }
   ],
   "source": [
    "# solve the linear system Ax = b\n",
    "A = np.random.randint(20, size=(2,2))\n",
    "b = np.array([1, 2])\n",
    "x = np.linalg.solve(A, b)\n",
    "print(x)"
   ]
  },
  {
   "cell_type": "markdown",
   "id": "4d6fb6c3-580e-4e4e-b6aa-8ed31912a871",
   "metadata": {},
   "source": [
    "<p><strong>vii. Random Number Generation</strong></p>\n",
    "<p>NumPy includes a random number generation library that provides a range of functions for generating random numbers. We can generate random integers, floats, and arrays, and we can control the distribution and parameters of the generated numbers. This library is useful for simulations, statistical analysis, and other applications where random numbers are needed.</p>"
   ]
  },
  {
   "cell_type": "code",
   "execution_count": 29,
   "id": "993cb7f0-0fdb-435a-b1b4-2c9733dfbd94",
   "metadata": {},
   "outputs": [
    {
     "name": "stdout",
     "output_type": "stream",
     "text": [
      "4\n"
     ]
    }
   ],
   "source": [
    "# generate a random integer between 0 and 9\n",
    "x = np.random.randint(10)\n",
    "print(x)"
   ]
  },
  {
   "cell_type": "markdown",
   "id": "67d14298-280a-4837-a378-2957009323e8",
   "metadata": {},
   "source": [
    "<p><strong>viii. Performance Optimization</strong></p>\n",
    "<p>NumPy is optimised for performance, which means that it can handle large datasets much faster than pure Python code. NumPy’s code is written in C and Fortran, which are much faster than Python.\n",
    "\n",
    "NumPy’s implementation of arrays also makes it easier for NumPy to take advantage of hardware acceleration, such as SIMD (Single Instruction Multiple Data) instructions and multi-core processors. This makes NumPy ideal for handling large datasets and performing complex numerical computations.</p>"
   ]
  },
  {
   "cell_type": "markdown",
   "id": "1dfd0e48-7f95-483c-8fbf-111600e67140",
   "metadata": {},
   "source": [
    "<p><strong>ix. Integration with Other Libraries</strong></p>\n",
    "<p>NumPy integrates well with other Python libraries, such as Pandas, SciPy, and Matplotlib. Pandas uses NumPy arrays for its data structures, and SciPy provides a range of scientific computing functions that build on NumPy. Matplotlib provides a range of plotting functions that work well with NumPy arrays. NumPy’s integration with other libraries makes it even more powerful and flexible.</p>"
   ]
  },
  {
   "cell_type": "markdown",
   "id": "2ad5102b-1750-44d9-8f7e-b2954dbd15f5",
   "metadata": {},
   "source": [
    "<p>a. Integration with Matplotlib</p>"
   ]
  },
  {
   "cell_type": "code",
   "execution_count": 30,
   "id": "0b3312d1-d7fa-435e-835f-9d13a2919d52",
   "metadata": {},
   "outputs": [
    {
     "data": {
      "image/png": "[encoded data removed]",
      "text/plain": [
       "<Figure size 640x480 with 1 Axes>"
      ]
     },
     "metadata": {},
     "output_type": "display_data"
    }
   ],
   "source": [
    "import matplotlib.pyplot as plt\n",
    "\n",
    "# generate data\n",
    "x = np.linspace(0, 2*np.pi, 100)\n",
    "y = np.sin(x)\n",
    "\n",
    "# plot data\n",
    "plt.plot(x, y)\n",
    "plt.show()"
   ]
  },
  {
   "cell_type": "markdown",
   "id": "81cdc930-a50a-4d34-acba-be48bdee038c",
   "metadata": {},
   "source": [
    "<p>b. Integration with Pandas</p>"
   ]
  },
  {
   "cell_type": "code",
   "execution_count": 31,
   "id": "39decffb-0aa5-4074-80ed-9f963cf62bd6",
   "metadata": {},
   "outputs": [
    {
     "name": "stdout",
     "output_type": "stream",
     "text": [
      "0    1\n",
      "1    2\n",
      "2    3\n",
      "3    4\n",
      "4    5\n",
      "dtype: int64\n"
     ]
    }
   ],
   "source": [
    "import pandas as pd\n",
    "\n",
    "# create a Numpy array\n",
    "arr = np.array([1, 2, 3, 4, 5])\n",
    "\n",
    "# convert to a Pandas Series\n",
    "s = pd.Series(arr)\n",
    "print(s)"
   ]
  },
  {
   "cell_type": "markdown",
   "id": "60113888-c097-43aa-9189-c8554e7e26a0",
   "metadata": {},
   "source": [
    "<p>c. Integration with Scikit-Learn</p>"
   ]
  },
  {
   "cell_type": "code",
   "execution_count": 32,
   "id": "94d126dd-55dc-478b-8b89-b359502cfd4b",
   "metadata": {},
   "outputs": [
    {
     "name": "stdout",
     "output_type": "stream",
     "text": [
      "[15.]\n"
     ]
    }
   ],
   "source": [
    "from sklearn.linear_model import LinearRegression\n",
    "\n",
    "# generate data\n",
    "x = np.array([[1, 2], [3, 4], [5, 6]])\n",
    "y = np.array([3, 7, 11])\n",
    "\n",
    "# create a linear regression model and fit the data\n",
    "model = LinearRegression()\n",
    "model.fit(x, y)\n",
    "\n",
    "# predict the output for a new input\n",
    "x_new = np.array([[7, 8]])\n",
    "y_new = model.predict(x_new)\n",
    "print(y_new)"
   ]
  },
  {
   "cell_type": "markdown",
   "id": "f05f7b8c-2d1a-44c3-81b0-961e001677d2",
   "metadata": {},
   "source": [
    "<p><strong>x. Ease of Use</strong></p>\n",
    "<p>NumPy is easy to use and learn. Its API is well-documented, and there are many tutorials and examples available online. NumPy’s syntax is also very similar to that of pure Python, which means that we can quickly get up to speed with NumPy if we already know Python. This makes NumPy a great choice for both beginners and advanced users.</p>"
   ]
  },
  {
   "cell_type": "markdown",
   "id": "a623444f-36dd-465e-8ed9-0fe2b57c556d",
   "metadata": {},
   "source": [
    "<p><strong>xi. Broadcasting Rules</strong></p>\n",
    "<p>NumPy’s broadcasting rules allow you to perform operations on arrays of different shapes and sizes. Broadcasting is a powerful feature that makes it possible to write concise code that can operate on arrays of different shapes and sizes. Broadcasting works by “stretching” the smaller array to match the shape of the larger array, which makes it possible to perform element-wise operations between the two arrays.</p>"
   ]
  },
  {
   "cell_type": "markdown",
   "id": "9888cf23-5de8-4151-9655-eb6cc2c4ce6d",
   "metadata": {},
   "source": [
    "<p><strong>xii. Universal Functions (ufuncs)</strong></p>\n",
    "<p>NumPy provides a wide range of universal functions (ufuncs) that allow us to perform element-wise operations on arrays. Universal functions are optimised for performance and can operate on arrays of any shape or size.\n",
    "\n",
    "NumPy’s ufuncs include basic mathematical operations such as addition, subtraction, multiplication, and division, as well as more complex operations such as trigonometric functions, exponential functions, and logarithmic functions.</p>"
   ]
  },
  {
   "cell_type": "markdown",
   "id": "7f4e1926-4264-440c-9eca-9305e07c26b6",
   "metadata": {},
   "source": [
    "<p>a. Arithmetic operations</p>"
   ]
  },
  {
   "cell_type": "code",
   "execution_count": 34,
   "id": "5c01dc98-275b-4143-b7df-87987cb85301",
   "metadata": {},
   "outputs": [
    {
     "name": "stdout",
     "output_type": "stream",
     "text": [
      "Addition[5 7 9]\n",
      "\n",
      "Subtraction [-3 -3 -3]\n",
      "\n",
      "Multiplication [ 4 10 18]\n",
      "\n",
      "Division[0.25 0.4  0.5 ]\n",
      "\n"
     ]
    }
   ],
   "source": [
    "# create two arrays\n",
    "x = np.array([1, 2, 3])\n",
    "y = np.array([4, 5, 6])\n",
    "\n",
    "# add the arrays element-wise\n",
    "z = np.add(x, y)\n",
    "print(f\"Addition{z}\\n\")\n",
    "\n",
    "# subtract the arrays element-wise\n",
    "z = np.subtract(x, y)\n",
    "print(f\"Subtraction {z}\\n\")\n",
    "\n",
    "# multiply the arrays element-wise\n",
    "z = np.multiply(x, y)\n",
    "print(f\"Multiplication {z}\\n\")\n",
    "\n",
    "# divide the arrays element-wise\n",
    "z = np.divide(x, y)\n",
    "print(f\"Division{z}\\n\")"
   ]
  },
  {
   "cell_type": "markdown",
   "id": "4e705cc0-ffa2-4034-96d3-053b6708dc12",
   "metadata": {},
   "source": [
    "<p>b. Logical Operations</p>"
   ]
  },
  {
   "cell_type": "code",
   "execution_count": 35,
   "id": "f6f332d8-ddf1-4677-b9d2-b637d6b57475",
   "metadata": {},
   "outputs": [
    {
     "name": "stdout",
     "output_type": "stream",
     "text": [
      "[ True False False]\n",
      "[ True  True  True]\n",
      "[False  True False]\n"
     ]
    }
   ],
   "source": [
    "# create two arrays\n",
    "x = np.array([True, False, True])\n",
    "y = np.array([True, True, False])\n",
    "    \n",
    "# perform element-wise logical AND\n",
    "z = np.logical_and(x, y)\n",
    "print(z)\n",
    "\n",
    "# perform element-wise logical OR\n",
    "z = np.logical_or(x, y)\n",
    "print(z)\n",
    "\n",
    "# perform element-wise logical NOT\n",
    "z = np.logical_not(x)\n",
    "print(z)"
   ]
  },
  {
   "cell_type": "markdown",
   "id": "5994cedc-a29a-4e75-abbe-c05efbceddbd",
   "metadata": {},
   "source": [
    "<p><strong>xiii. Masked Arrays</strong></p>\n",
    "<p>NumPy provides support for masked arrays, which allow us to mask certain elements of an array. Masked arrays are useful when we want to perform operations on arrays that contain missing or invalid values.\n",
    "\n",
    "We can use a mask to specify which elements of the array should be ignored during the operation.The mask is a Boolean array that specifies which elements of the original array should be masked or ignored. Masked arrays are useful when dealing with data that has missing or invalid values.</p>"
   ]
  },
  {
   "cell_type": "code",
   "execution_count": 36,
   "id": "b0c2ca60-9f1c-4e9c-ae04-e9a7c07650a3",
   "metadata": {},
   "outputs": [
    {
     "name": "stdout",
     "output_type": "stream",
     "text": [
      "[1 2 -- 4 5 --]\n"
     ]
    }
   ],
   "source": [
    "# create an array with some missing values\n",
    "x = np.array([1, 2, -999, 4, 5, -999])\n",
    "# create a mask for the missing values\n",
    "mask = x < 0\n",
    "# create the masked array\n",
    "masked_array = np.ma.array(x, mask=mask)\n",
    "print(masked_array)"
   ]
  },
  {
   "cell_type": "markdown",
   "id": "6dab82b4-249c-4e66-9a42-3fe915fd66a0",
   "metadata": {},
   "source": [
    "<p><strong>xiv.  Structured Arrays</strong></p>\n",
    "<p>NumPy provides support for structured arrays, which allow us to create arrays of structured data. Structured arrays are useful when we want to work with data that has a fixed set of fields, such as data from a database or a CSV file.</p>"
   ]
  },
  {
   "cell_type": "code",
   "execution_count": 38,
   "id": "3ef8c240-73d9-4ef2-b983-f3e6b07dc981",
   "metadata": {},
   "outputs": [
    {
     "data": {
      "text/plain": [
       "array([('Alice', 25), ('Bob', 30), ('Charlie', 35)],\n",
       "      dtype=[('name', '<U20'), ('age', '<i4')])"
      ]
     },
     "execution_count": 38,
     "metadata": {},
     "output_type": "execute_result"
    }
   ],
   "source": [
    "# create a structured array using a dictionary\n",
    "dt = np.dtype({'names': ['name', 'age'], 'formats': ['U20', 'i4']})\n",
    "x = np.array([('Alice', 25), ('Bob', 30), ('Charlie', 35)], dtype=dt)\n",
    "x"
   ]
  },
  {
   "cell_type": "markdown",
   "id": "ff058ff5-2a86-4b89-aa5d-86e307900abb",
   "metadata": {},
   "source": [
    "<p><strong>xv. Fourier Transforms</strong></p>\n",
    "<p>NumPy includes a Fourier transform library that provides functions for performing Fourier transforms and inverse Fourier transforms. Fourier transforms are useful for analysing periodic signals and for solving differential equations.\n",
    "\n",
    "NumPy’s Fourier transform library includes functions for computing discrete Fourier transforms, fast Fourier transforms, and inverse Fourier transforms.</p>"
   ]
  },
  {
   "cell_type": "code",
   "execution_count": 39,
   "id": "5508f988-548b-440b-b859-08a16e81b449",
   "metadata": {},
   "outputs": [
    {
     "data": {
      "image/png": "[encoded data removed]",
      "text/plain": [
       "<Figure size 640x480 with 1 Axes>"
      ]
     },
     "metadata": {},
     "output_type": "display_data"
    }
   ],
   "source": [
    "# create a signal\n",
    "t = np.linspace(0, 1, 1000)\n",
    "x = np.sin(2 * np.pi * 10 * t) + 0.5 * np.sin(2 * np.pi * 20 * t)\n",
    "\n",
    "# perform the Fourier Transform\n",
    "y = np.fft.fft(x)\n",
    "\n",
    "# calculate the frequencies\n",
    "freq = np.fft.fftfreq(len(x), t[1] - t[0])\n",
    "\n",
    "# plot the results\n",
    "import matplotlib.pyplot as plt\n",
    "plt.plot(freq, np.abs(y))\n",
    "plt.xlabel('Frequency (Hz)')\n",
    "plt.ylabel('Magnitude')\n",
    "plt.show()"
   ]
  },
  {
   "cell_type": "markdown",
   "id": "db8a3fc6-c2bd-4a9c-a63e-a714159c9f51",
   "metadata": {},
   "source": [
    "***"
   ]
  },
  {
   "cell_type": "markdown",
   "id": "6cde0800-2097-4aeb-85ef-17c25bf900b7",
   "metadata": {},
   "source": [
    "<h2>4. Explain the concept of ndarrays. How do ndarrays differ from standard Python lists?</h2>"
   ]
  },
  {
   "cell_type": "markdown",
   "id": "a21c6129-a0c6-4a09-811e-ffb3dbdb5368",
   "metadata": {},
   "source": [
    "<p>An array is a central data structure of the NumPy library. An array is a grid of values and it contains information about the raw data, how to locate an element, and how to interpret an element. It has a grid of elements that can be indexed in various ways. The elements are all of the same type, referred to as the array dtype.\n",
    "\n",
    "An array can be indexed by a tuple of nonnegative integers, by booleans, by another array, or by integers. The rank of the array is the number of dimensions. The shape of the array is a tuple of integers giving the size of the array along each dimension.\n",
    "\n",
    "One way we can initialize NumPy arrays is from Python lists, using nested lists for two- or higher-dimensional data.</p>"
   ]
  },
  {
   "cell_type": "code",
   "execution_count": 40,
   "id": "9cc36318-777b-4893-945f-ea6c5744dc5c",
   "metadata": {},
   "outputs": [
    {
     "data": {
      "text/plain": [
       "array([1, 2, 3, 4, 5, 6])"
      ]
     },
     "execution_count": 40,
     "metadata": {},
     "output_type": "execute_result"
    }
   ],
   "source": [
    "a = np.array([1, 2, 3, 4, 5, 6])\n",
    "a"
   ]
  },
  {
   "cell_type": "code",
   "execution_count": 41,
   "id": "fc121a1d-2708-4b8a-9929-16f1d0db70f6",
   "metadata": {},
   "outputs": [
    {
     "data": {
      "text/plain": [
       "array([[ 1,  2,  3,  4],\n",
       "       [ 5,  6,  7,  8],\n",
       "       [ 9, 10, 11, 12]])"
      ]
     },
     "execution_count": 41,
     "metadata": {},
     "output_type": "execute_result"
    }
   ],
   "source": [
    "a = np.array([[1, 2, 3, 4], [5, 6, 7, 8], [9, 10, 11, 12]])\n",
    "a"
   ]
  },
  {
   "cell_type": "markdown",
   "id": "9c064c44-7400-4b65-b5f4-94f8b8103f1f",
   "metadata": {},
   "source": [
    "<p>NumPy gives us an enormous range of fast and efficient ways of creating arrays and manipulating numerical data inside them. While a Python list can contain different data types within a single list, all of the elements in a NumPy array should be homogeneous. The mathematical operations that are meant to be performed on arrays would be extremely inefficient if the arrays weren’t homogeneous.</p>"
   ]
  },
  {
   "cell_type": "markdown",
   "id": "769d911a-808d-4c7a-b0cd-1a0b341404c6",
   "metadata": {},
   "source": [
    "***"
   ]
  },
  {
   "cell_type": "markdown",
   "id": "1a8d5503-108a-4606-a4c6-098cef366dd7",
   "metadata": {},
   "source": [
    "<h2>5. What are universal functions (ufuncs) in NumPy? Give examples and explain their\n",
    "significance.</h2>"
   ]
  },
  {
   "cell_type": "markdown",
   "id": "ab64358c-91a4-453f-88df-e836d887284b",
   "metadata": {},
   "source": [
    "<p>A universal function (or ufunc for short) is a function that operates on ndarrays in an element-by-element fashion, supporting array broadcasting, type casting, and several other standard features. That is, a ufunc is a “vectorized” wrapper for a function that takes a fixed number of specific inputs and produces a fixed number of specific outputs.</p>"
   ]
  },
  {
   "cell_type": "markdown",
   "id": "641d7095-58a0-4ab5-b725-8bf1cc4ae72d",
   "metadata": {},
   "source": [
    "<p><strong>i. numpy.add</strong></p>"
   ]
  },
  {
   "cell_type": "code",
   "execution_count": 43,
   "id": "bb84568d-0d9d-4f0f-bbd0-d34f3c6f60c7",
   "metadata": {},
   "outputs": [
    {
     "data": {
      "text/plain": [
       "array([[ 0.,  2.,  4.],\n",
       "       [ 3.,  5.,  7.],\n",
       "       [ 6.,  8., 10.]])"
      ]
     },
     "execution_count": 43,
     "metadata": {},
     "output_type": "execute_result"
    }
   ],
   "source": [
    "np.add(1.0, 4.0)\n",
    "x1 = np.arange(9.0).reshape((3, 3))\n",
    "x2 = np.arange(3.0)\n",
    "np.add(x1, x2)"
   ]
  },
  {
   "cell_type": "markdown",
   "id": "8335607e-eb99-47f3-93ab-2847cfd871ce",
   "metadata": {},
   "source": [
    "<p><strong>ii. numpy.subtract</strong></p>"
   ]
  },
  {
   "cell_type": "code",
   "execution_count": 44,
   "id": "9fd0e867-36d5-4d32-9136-2c937fbb9f23",
   "metadata": {},
   "outputs": [
    {
     "data": {
      "text/plain": [
       "array([[0., 0., 0.],\n",
       "       [3., 3., 3.],\n",
       "       [6., 6., 6.]])"
      ]
     },
     "execution_count": 44,
     "metadata": {},
     "output_type": "execute_result"
    }
   ],
   "source": [
    "x1 = np.arange(9.0).reshape((3, 3))\n",
    "x2 = np.arange(3.0)\n",
    "np.subtract(x1, x2)"
   ]
  },
  {
   "cell_type": "markdown",
   "id": "8b2093e6-5e58-4cdf-b741-09a1d07f05b9",
   "metadata": {},
   "source": [
    "<p><strong>iii. numpy.multiply</p>"
   ]
  },
  {
   "cell_type": "code",
   "execution_count": 45,
   "id": "ea59d174-02dd-4079-be5a-da4e52c110a5",
   "metadata": {},
   "outputs": [
    {
     "data": {
      "text/plain": [
       "array([[ 0.,  1.,  4.],\n",
       "       [ 0.,  4., 10.],\n",
       "       [ 0.,  7., 16.]])"
      ]
     },
     "execution_count": 45,
     "metadata": {},
     "output_type": "execute_result"
    }
   ],
   "source": [
    "x1 = np.arange(9.0).reshape((3, 3))\n",
    "x2 = np.arange(3.0)\n",
    "np.multiply(x1, x2)"
   ]
  },
  {
   "cell_type": "markdown",
   "id": "72c93250-8326-41ea-94f4-7c932ad4b62d",
   "metadata": {},
   "source": [
    "<p><strong>iv. numpy.divide</p>"
   ]
  },
  {
   "cell_type": "code",
   "execution_count": 50,
   "id": "a2c20041-ea7b-44d2-95c7-af16802370cd",
   "metadata": {},
   "outputs": [
    {
     "data": {
      "text/plain": [
       "array([[0. , 0.5, 1. ],\n",
       "       [1.5, 2. , 2.5],\n",
       "       [3. , 3.5, 4. ]])"
      ]
     },
     "execution_count": 50,
     "metadata": {},
     "output_type": "execute_result"
    }
   ],
   "source": [
    "x1 = np.arange(9.0).reshape((3, 3))\n",
    "x2 = 2 * np.ones(3)\n",
    "x1 / x2"
   ]
  },
  {
   "cell_type": "markdown",
   "id": "21ddfaba-11f1-4c56-8800-4dbcccc57ebb",
   "metadata": {},
   "source": [
    "<p><strong>v. numpy.floor_divide</p>"
   ]
  },
  {
   "cell_type": "code",
   "execution_count": 51,
   "id": "727b044c-628b-429b-abff-9fea62de9db9",
   "metadata": {},
   "outputs": [
    {
     "data": {
      "text/plain": [
       "array([0., 0., 1., 1.])"
      ]
     },
     "execution_count": 51,
     "metadata": {},
     "output_type": "execute_result"
    }
   ],
   "source": [
    "np.floor_divide([1., 2., 3., 4.], 2.5)"
   ]
  },
  {
   "cell_type": "markdown",
   "id": "822f0e1d-e45f-465d-8d8b-4f255701212b",
   "metadata": {},
   "source": [
    "<p><strong>vi. numpy.mod</strong></p>"
   ]
  },
  {
   "cell_type": "code",
   "execution_count": 52,
   "id": "2594d7de-0098-4482-a494-8e5ce1c34120",
   "metadata": {},
   "outputs": [
    {
     "data": {
      "text/plain": [
       "array([0, 1])"
      ]
     },
     "execution_count": 52,
     "metadata": {},
     "output_type": "execute_result"
    }
   ],
   "source": [
    "np.remainder([4, 7], [2, 3])"
   ]
  },
  {
   "cell_type": "markdown",
   "id": "454b4111-a6dd-41ea-bd3f-2b72efc7ec0f",
   "metadata": {},
   "source": [
    "<p><strong>vii. numpy.power</p>"
   ]
  },
  {
   "cell_type": "code",
   "execution_count": 54,
   "id": "1a1881ed-952b-479d-864d-a5ae5630daa3",
   "metadata": {},
   "outputs": [
    {
     "name": "stdout",
     "output_type": "stream",
     "text": [
      "[0 1 2 3 4 5]\n"
     ]
    },
    {
     "data": {
      "text/plain": [
       "array([  0,   1,   8,  27,  64, 125])"
      ]
     },
     "execution_count": 54,
     "metadata": {},
     "output_type": "execute_result"
    }
   ],
   "source": [
    "x1 = np.arange(6)\n",
    "print(x1)\n",
    "np.power(x1, 3)"
   ]
  },
  {
   "cell_type": "markdown",
   "id": "6e063eec-2cf1-4b9d-891a-344a27118639",
   "metadata": {},
   "source": [
    "<p><strong>viii. numpy.abs</p>"
   ]
  },
  {
   "cell_type": "code",
   "execution_count": 55,
   "id": "833ae727-8a30-4f9a-b798-7bfb9e8d99e1",
   "metadata": {},
   "outputs": [
    {
     "data": {
      "image/png": "[encoded data removed]",
      "text/plain": [
       "<Figure size 640x480 with 1 Axes>"
      ]
     },
     "metadata": {},
     "output_type": "display_data"
    }
   ],
   "source": [
    "x = np.linspace(start=-10, stop=10, num=101)\n",
    "plt.plot(x, np.absolute(x))\n",
    "plt.show()"
   ]
  },
  {
   "cell_type": "markdown",
   "id": "7c198bf1-55dc-4729-9415-1faf89dd505b",
   "metadata": {},
   "source": [
    "***"
   ]
  },
  {
   "cell_type": "markdown",
   "id": "f0becb6e-b8cd-4489-a561-1fcf3b24bf0e",
   "metadata": {},
   "source": [
    "<h2>6. Explain the concept of aggregation in NumPy. How does it differ from simple\n",
    "summation or multiplication?</h2>"
   ]
  },
  {
   "cell_type": "markdown",
   "id": "20bbacae-03b4-4a95-bf37-f592ddf3fac1",
   "metadata": {},
   "source": [
    "<p>Aggregation in NumPy refers to the process of summarizing or combining the values in an array to produce a summarized result, such as finding the sum, mean, maximum, minimum, etc., of the elements in the array. This is particularly useful when analyzing large datasets or performing statistical computations, as it allows you to quickly derive insights from the data.</p>\n",
    "\n",
    "<p>While simple summation (using np.sum()) and multiplication (using np.prod()) are indeed forms of aggregation, aggregation encompasses a wider range of operations beyond just these two. The difference lies in the variety of operations available and the flexibility offered by NumPy for performing these operations over entire arrays, along specific axes, or even on subarrays defined by certain conditions.</p>"
   ]
  },
  {
   "cell_type": "markdown",
   "id": "a2d69251-d85e-46d7-9721-f3652467c9be",
   "metadata": {},
   "source": [
    "<p><strong>i. Range of Functions:</strong> Besides summation (np.sum()) and multiplication (np.prod()), NumPy provides a variety of aggregation functions, including but not limited to:</p>\n",
    "\n",
    "* np.min() or np.amin() to find the minimum,\n",
    "* np.max() or np.amax() to find the maximum,\n",
    "* np.mean() for the average,\n",
    "* np.median() for the median,\n",
    "* np.std() for standard deviation,\n",
    "* np.var() for variance."
   ]
  },
  {
   "cell_type": "markdown",
   "id": "e81e2139-cd5a-489e-88e8-f410f7b690cd",
   "metadata": {},
   "source": [
    "<p><strong>ii. Axis-wise Aggregation:</strong> Unlike simple summation or multiplication that typically operate on the whole array, aggregation functions in NumPy can be applied along a specified axis (dimension) of a multi-dimensional array. For example, you can compute the sum of elements along each row or column of a matrix, which is particularly useful for data analysis.</p>"
   ]
  },
  {
   "cell_type": "markdown",
   "id": "7dda4164-7846-4858-8d41-97227721fab6",
   "metadata": {},
   "source": [
    "<p><strong>iii. Performance:</strong> Aggregation functions in NumPy are implemented in C, providing a performance advantage over Python loops or list comprehensions for equivalent operations. This is especially notable when dealing with large datasets.</p>"
   ]
  },
  {
   "cell_type": "markdown",
   "id": "8e690ab1-078e-4cc0-9dd6-068a3c44717a",
   "metadata": {},
   "source": [
    "<p><strong>iv. NaN-safe Aggregations:</strong> NumPy offers variants of some aggregation functions that ignore NaN (Not a Number) values, such as np.nansum(), np.nanmean(), etc. This is useful when dealing with datasets that may have missing or undefined values.</p>"
   ]
  },
  {
   "cell_type": "markdown",
   "id": "7618038e-004c-4b47-9402-7fb08ce519d1",
   "metadata": {},
   "source": [
    "<p><strong>v. Conditional Aggregation:</strong> With the help of boolean indexing or masks, you can perform aggregations conditionally on subsets of the data that satisfy certain criteria, without the need for looping or more complex data filtering techniques.</p>"
   ]
  },
  {
   "cell_type": "markdown",
   "id": "9e58f0ef-fad7-4483-89c2-7c6d82bb8a40",
   "metadata": {},
   "source": [
    "<p><strong>vi. Memory Efficiency:</strong> By reducing large arrays into smaller summaries, aggregation operations can help manage memory usage when working with large data sets, allowing for more efficient data analysis workflows.</p>"
   ]
  },
  {
   "cell_type": "markdown",
   "id": "bd9e45be-8ee3-4e83-95df-47c65d61042d",
   "metadata": {},
   "source": [
    "***"
   ]
  },
  {
   "cell_type": "markdown",
   "id": "b18370bc-900b-42ae-b4dc-9674913a5c9b",
   "metadata": {},
   "source": [
    "<h2>7. How does NumPy improve computational performance in Python? Provide a detailed\n",
    "explanation with examples.\n",
    "</h2>"
   ]
  },
  {
   "cell_type": "markdown",
   "id": "a30fb22d-f3a1-4696-9fee-cfcea847a05e",
   "metadata": {},
   "source": [
    "<p><strong>NumPy,</strong> short for Numerical Python, is a fundamental package for scientific computing in Python. Its importance in the context of efficiency and performance in scientific computing cannot be overstated. Here's why:\n",
    "\n",
    "<strong>Efficient Data Storage:</strong> NumPy arrays are homogeneous, meaning they store elements of the same data type in contiguous memory blocks. This layout allows for efficient storage and retrieval of data, reducing memory overhead compared to Python lists.\n",
    "\n",
    "<strong>Vectorized Operations:</strong> NumPy provides a wide range of mathematical functions and operators that operate element-wise on arrays, without the need for explicit looping. These vectorized operations leverage optimized C and Fortran code under the hood, resulting in significant performance improvements compared to equivalent Python loops.\n",
    "\n",
    "<strong>Optimized Computations:</strong> Many scientific computing libraries and tools in Python, such as SciPy, Pandas, and scikit-learn, are built on top of NumPy. By utilizing NumPy arrays as the underlying data structure, these libraries can perform computations efficiently, leading to faster execution times for complex algorithms.\n",
    "\n",
    "<strong>Integration with Low-Level Libraries:</strong> NumPy seamlessly integrates with low-level libraries such as BLAS (Basic Linear Algebra Subprograms) and LAPACK (Linear Algebra Package), which are highly optimized for numerical computations. This integration allows NumPy to offload computationally intensive tasks to these libraries, further enhancing performance.\n",
    "\n",
    "<strong>Parallelization and Multithreading:</strong> NumPy supports parallelization and multithreading through libraries like NumExpr and Numba. These libraries optimize and accelerate computations by leveraging multiple CPU cores or utilizing specialized hardware such as GPUs.\n",
    "\n",
    "<strong>Memory Efficiency:</strong> NumPy's array-oriented computing paradigm encourages memory-efficient programming practices. By performing operations on entire arrays rather than individual elements, unnecessary memory allocations and deallocations are minimized, leading to better memory utilization and reduced overhead.\n",
    "\n",
    "<strong>Interoperability:</strong> NumPy provides seamless interoperability with other scientific computing libraries and tools in the Python ecosystem. This interoperability enables easy exchange of data and results between different libraries, fostering collaboration and enhancing productivity in scientific computing workflows.\n",
    "\n",
    "<strong>Community and Ecosystem:</strong> NumPy has a large and active community of developers and users who contribute to its development, maintenance, and documentation. This vibrant ecosystem ensures that NumPy remains up-to-date with the latest advancements in scientific computing and continues to evolve to meet the needs of researchers, scientists, and engineers worldwide.</p>"
   ]
  },
  {
   "cell_type": "markdown",
   "id": "b27e0626-0d30-4e83-a918-b7236d827095",
   "metadata": {},
   "source": [
    "***"
   ]
  },
  {
   "cell_type": "markdown",
   "id": "81161426-6e92-48dd-af31-9834559cf65c",
   "metadata": {},
   "source": [
    "<h2>8. Explain how NumPy interacts with other Python libraries. Why is this interoperability\n",
    "important for data science and machine learning?</h2>"
   ]
  },
  {
   "cell_type": "markdown",
   "id": "1f929876-3e29-4547-8747-206f79026fe0",
   "metadata": {},
   "source": [
    "<p><strong>NumPy</strong> interacts with other Python libraries in various ways, primarily through data exchange, compatibility, and collaborative development efforts. This interoperability is crucial for data science and machine learning for several reasons:\n",
    "\n",
    "<strong>Data Exchange:</strong> NumPy provides a common data format (multi-dimensional arrays) that serves as a lingua franca for data exchange between different libraries. Many other libraries, including Pandas, SciPy, scikit-learn, TensorFlow, and PyTorch, accept and return NumPy arrays as input and output, enabling seamless integration and interoperability.\n",
    "\n",
    "<strong>Integration with Data Manipulation Libraries:</strong> NumPy integrates seamlessly with libraries like Pandas, which is widely used for data manipulation and analysis. Pandas builds upon NumPy and provides DataFrame objects that are built on top of NumPy arrays. This integration allows users to leverage the powerful data manipulation capabilities of Pandas while benefiting from NumPy's efficient numerical computations.\n",
    "\n",
    "<strong>Numerical Computing with SciPy:</strong> NumPy forms the foundation of SciPy, a library for scientific computing in Python. SciPy builds upon NumPy and provides additional functionality for scientific and technical computing, including optimization, interpolation, integration, linear algebra, and signal processing. The tight integration between NumPy and SciPy allows users to perform advanced numerical computations efficiently.\n",
    "\n",
    "<strong>Machine Learning Libraries:</strong> NumPy's interoperability with machine learning libraries like scikit-learn, TensorFlow, and PyTorch is essential for developing and deploying machine learning models. These libraries often expect data in the form of NumPy arrays for training, evaluation, and prediction tasks. By using NumPy arrays as the standard data format, machine learning practitioners can leverage a wide range of algorithms and techniques available in these libraries.\n",
    "\n",
    "<strong>Efficient Numerical Computations:</strong> NumPy's efficient numerical computations are foundational for many data science and machine learning tasks. By leveraging NumPy's optimized array operations, libraries and frameworks can perform computations efficiently, leading to faster model training and inference times.\n",
    "\n",
    "<strong>Collaborative Development:</strong> NumPy's open-source nature fosters collaborative development within the Python ecosystem. Many developers contribute to both NumPy and other libraries, leading to shared standards, best practices, and improved interoperability. This collaborative effort benefits the entire Python community by promoting consistency and compatibility across different libraries.</p>"
   ]
  },
  {
   "cell_type": "markdown",
   "id": "7823f6ab-f426-4a13-84a7-7bb70dd7a5d3",
   "metadata": {},
   "source": [
    "***"
   ]
  },
  {
   "cell_type": "markdown",
   "id": "457d8016-57ee-4344-9e4e-f77dd88f74b2",
   "metadata": {},
   "source": [
    "<h2>9. Compare the memory consumption between Python lists and NumPy arrays. Why is\n",
    "there a difference?</h2>"
   ]
  },
  {
   "cell_type": "markdown",
   "id": "5f7ac197-5ade-45d7-8bb8-c75e278d5a4d",
   "metadata": {},
   "source": [
    "Python Lists\n",
    "* Python lists are flexible and can contain elements of different data types.\n",
    "* Each element in a Python list is a full Python object, containing not only the data but also additional information like type, reference count, and  other metadata.\n",
    "* Python lists use dynamic arrays internally, which means they can resize dynamically, but this flexibility comes at the cost of additional memory overhead."
   ]
  },
  {
   "cell_type": "code",
   "execution_count": 57,
   "id": "8ca35ec4-e21b-4be3-8090-35519afa0277",
   "metadata": {},
   "outputs": [
    {
     "name": "stdout",
     "output_type": "stream",
     "text": [
      "Memory consumption of Python list: 104\n"
     ]
    }
   ],
   "source": [
    "import sys\n",
    "\n",
    "# Create a Python list containing integers\n",
    "py_list = [1, 2, 3, 4, 5]\n",
    "\n",
    "# Calculate memory consumption of the list\n",
    "py_list_memory = sys.getsizeof(py_list)\n",
    "print(\"Memory consumption of Python list:\", py_list_memory)"
   ]
  },
  {
   "cell_type": "markdown",
   "id": "9bba6550-6471-41a7-a4fc-5b69a9977229",
   "metadata": {},
   "source": [
    "NumPy Arrays:\n",
    "* NumPy arrays are homogeneous, meaning they contain elements of the same data type.\n",
    "* NumPy arrays are stored in contiguous memory blocks, allowing for efficient storage and retrieval of data.\n",
    "* NumPy arrays use fixed-size data types, resulting in reduced memory overhead compared to Python lists."
   ]
  },
  {
   "cell_type": "code",
   "execution_count": 58,
   "id": "03c46ca5-4efd-47b8-88a3-a8116e1cb46d",
   "metadata": {},
   "outputs": [
    {
     "name": "stdout",
     "output_type": "stream",
     "text": [
      "Memory consumption of NumPy array: 40\n"
     ]
    }
   ],
   "source": [
    "# Create a NumPy array containing integers\n",
    "np_array = np.array([1, 2, 3, 4, 5])\n",
    "\n",
    "# Calculate memory consumption of the array\n",
    "np_array_memory = np_array.nbytes\n",
    "print(\"Memory consumption of NumPy array:\", np_array_memory)\n"
   ]
  },
  {
   "cell_type": "markdown",
   "id": "17ae4f26-0e3a-457c-884b-a190be9c952f",
   "metadata": {},
   "source": [
    "***"
   ]
  },
  {
   "cell_type": "markdown",
   "id": "c712eb1b-c6ae-42d2-a1c4-19106678ec95",
   "metadata": {},
   "source": [
    "<h2>10. Conduct a performance analysis between Python lists and NumPy arrays for basic\n",
    "operations (addition, multiplication, etc.). Why does NumPy outperform Python lists?</h2>"
   ]
  },
  {
   "cell_type": "code",
   "execution_count": 59,
   "id": "16218171-1703-4152-92ee-4a14af1a7933",
   "metadata": {},
   "outputs": [
    {
     "name": "stdout",
     "output_type": "stream",
     "text": [
      "Python List Addition Time: 5.679523351995158\n",
      "NumPy Array Addition Time: 0.12915229400095996\n",
      "Python List Multiplication Time: 5.009827781999775\n",
      "NumPy Array Multiplication Time: 0.10341909599810606\n"
     ]
    }
   ],
   "source": [
    "import timeit\n",
    "# Define sizes of lists/arrays\n",
    "size = 10**6\n",
    "\n",
    "# Create Python list and NumPy array\n",
    "py_list = list(range(size))\n",
    "np_array = np.arange(size)\n",
    "\n",
    "# Addition operation\n",
    "py_add_time = timeit.timeit(stmt=\"result = [x + 1 for x in py_list]\", globals=globals(), number=100)\n",
    "np_add_time = timeit.timeit(stmt=\"result = np_array + 1\", globals=globals(), number=100)\n",
    "\n",
    "# Multiplication operation\n",
    "py_mult_time = timeit.timeit(stmt=\"result = [x * 2 for x in py_list]\", globals=globals(), number=100)\n",
    "np_mult_time = timeit.timeit(stmt=\"result = np_array * 2\", globals=globals(), number=100)\n",
    "\n",
    "print(\"Python List Addition Time:\", py_add_time)\n",
    "print(\"NumPy Array Addition Time:\", np_add_time)\n",
    "print(\"Python List Multiplication Time:\", py_mult_time)\n",
    "print(\"NumPy Array Multiplication Time:\", np_mult_time)\n"
   ]
  },
  {
   "cell_type": "markdown",
   "id": "1ce356b8-4c2c-44f3-8bf7-c97d7e7ac9bf",
   "metadata": {},
   "source": [
    "NumPy's superior performance stems from its optimized implementation, contiguous memory layout, and support for vectorized operations, which collectively make it more efficient than Python lists for numerical computations and array manipulations."
   ]
  },
  {
   "cell_type": "markdown",
   "id": "602987ff-d3d8-44c8-9fec-505b405a9bbb",
   "metadata": {},
   "source": [
    "***"
   ]
  },
  {
   "cell_type": "markdown",
   "id": "9274f35f-b9dc-4f1f-bba0-2e8b3201a454",
   "metadata": {},
   "source": [
    "<h2>11. Practical Application: Reading and Manipulating CSV Data with NumPy</h2>"
   ]
  },
  {
   "cell_type": "code",
   "execution_count": 2,
   "id": "02d50ebe-f7ec-4e9b-9499-01f45ea21ec5",
   "metadata": {},
   "outputs": [
    {
     "name": "stdout",
     "output_type": "stream",
     "text": [
      "Mean of Selling Price is 504127.3117511521\n",
      "Mean of KM Driven is 66215.77741935484\n",
      "Mean of year is 2013.0907834101383\n",
      "\n",
      "median of Selling Price is 350000.0\n",
      "median of KM Driven is 60000.0\n",
      "median of year is 2014.0\n",
      "\n",
      "Standard Deviation of Selling Price is 578482.0792187806\n",
      "Standard Deviation of KM Driven is 46638.728139545376\n",
      "Standard Deviation of year is 4.214858273043661\n",
      "\n",
      "Minimun of Selling Price is 20000\n",
      "Minimun of KM Driven is 1\n",
      "Minimum of year is 1992\n",
      "\n",
      "Varaince of Selling Price is 334641515977.2836\n",
      "Variance of KM Driven is 2175170962.4744215\n",
      "Variance of year is 17.765030261844593\n",
      "\n"
     ]
    },
    {
     "data": {
      "image/png": "[encoded data removed]",
      "text/plain": [
       "<Figure size 1000x600 with 1 Axes>"
      ]
     },
     "metadata": {},
     "output_type": "display_data"
    }
   ],
   "source": [
    "import csv\n",
    "import numpy as np\n",
    "import matplotlib.pyplot as plt\n",
    "\n",
    "\n",
    "class DataSet:\n",
    "    def __init__(self):\n",
    "        self.name, self.year, self.selling_price, self.km_driven, self.fuel, self.seller_type, self.transmission, self.owner = ([\n",
    "        ] for _ in range(8))\n",
    "        with open(\"car_details.csv\", mode=\"r\") as file:\n",
    "            csvFile = csv.DictReader(file)\n",
    "            dataset.conversion(self, csvFile)\n",
    "\n",
    "    def conversion(self, csvFile):\n",
    "\n",
    "        self.name, self.year, self.selling_price, self.km_driven, self.fuel, self.seller_type, self.transmission, self.owner = ([\n",
    "        ] for _ in range(8))\n",
    "        with open(\"car_details.csv\", mode=\"r\") as file:\n",
    "            csvFile = csv.DictReader(file)\n",
    "            for line in csvFile:\n",
    "                for attr, lst in zip(line.keys(), [self.name, self.year, self.selling_price, self.km_driven, self.fuel, self.seller_type, self.transmission, self.owner]):\n",
    "                    try:\n",
    "                        value = int(line[attr])\n",
    "                        lst.append(value)\n",
    "                    except ValueError:\n",
    "                        pass\n",
    "        self.name = np.array(self.name)\n",
    "        self.year = np.array(self.year)\n",
    "        self.selling_price = np.array(self.selling_price)\n",
    "        self.km_driven = np.array(self.km_driven)\n",
    "        self.fuel = np.array(self.fuel)\n",
    "        self.seller_type = np.array(self.seller_type)\n",
    "        self.transmission = np.array(self.transmission)\n",
    "        self.owner = np.array(self.owner)\n",
    "\n",
    "        analysis.calculate_mean(self)\n",
    "        analysis.calculate_median(self)\n",
    "        analysis.calculate_std(self)\n",
    "        analysis.calculate_min(self)\n",
    "        analysis.calculate_variance(self)\n",
    "        analysis.draw(self)\n",
    "\n",
    "\n",
    "class Analysis(DataSet):\n",
    "    def __call__(self):\n",
    "        return super().__call__()\n",
    "\n",
    "    def calculate_mean(self):\n",
    "        print(f\"Mean of Selling Price is {np.mean(self.selling_price)}\")\n",
    "        print(f\"Mean of KM Driven is {np.mean(self.km_driven)}\")\n",
    "        print(f\"Mean of year is {np.mean(self.year)}\\n\")\n",
    "\n",
    "    def calculate_median(self):\n",
    "        print(f\"median of Selling Price is {np.median(self.selling_price)}\")\n",
    "        print(f\"median of KM Driven is {np.median(self.km_driven)}\")\n",
    "        print(f\"median of year is {np.median(self.year)}\\n\")\n",
    "\n",
    "    def calculate_std(self):\n",
    "        print(\n",
    "            f\"Standard Deviation of Selling Price is {np.std(self.selling_price)}\")\n",
    "        print(f\"Standard Deviation of KM Driven is {np.std(self.km_driven)}\")\n",
    "        print(f\"Standard Deviation of year is {np.std(self.year)}\\n\")\n",
    "\n",
    "    def calculate_variance(self):\n",
    "        print(f\"Varaince of Selling Price is {np.var(self.selling_price)}\")\n",
    "        print(f\"Variance of KM Driven is {np.var(self.km_driven)}\")\n",
    "        print(f\"Variance of year is {np.var(self.year)}\\n\")\n",
    "\n",
    "    def calculate_min(self):\n",
    "        print(f\"Minimun of Selling Price is {np.min(self.selling_price)}\")\n",
    "        print(f\"Minimun of KM Driven is {np.min(self.km_driven)}\")\n",
    "        print(f\"Minimum of year is {np.min(self.year)}\\n\")\n",
    "\n",
    "    def draw(self):\n",
    "        plt.figure(figsize=(10, 6))\n",
    "        plt.plot(self.selling_price, label='Selling Price')\n",
    "        plt.title('Selling Price and Kilometers Driven Over Years')\n",
    "        plt.xlabel(self.year)\n",
    "        plt.ylabel(self.km_driven)\n",
    "        plt.grid(linestyle=':')\n",
    "        plt.legend()\n",
    "        plt.grid(True)\n",
    "        plt.show()\n",
    "\n",
    "\n",
    "if __name__ == \"__main__\":\n",
    "    dataset = DataSet\n",
    "    analysis = Analysis\n",
    "    dataset()\n"
   ]
  },
  {
   "cell_type": "markdown",
   "id": "40382511-833e-4adf-9cc2-fe6af5b676e8",
   "metadata": {},
   "source": [
    "***"
   ]
  },
  {
   "cell_type": "markdown",
   "id": "ba54e691-02d7-4080-b853-a4490d082b62",
   "metadata": {},
   "source": [
    "<h2>12. Explain the following with appropriate examples</h2>"
   ]
  },
  {
   "cell_type": "markdown",
   "id": "869dc759-28bf-412d-9209-5b489ec2dde0",
   "metadata": {},
   "source": [
    "<p><strong>i. np.empty</p>\n",
    "<p>NumPy empty array is an array that is created without initializing its elements to any specific value. It contains random or garbage values from the memory. We can create an empty array using the numpy.empty() function in NumPy.</p>"
   ]
  },
  {
   "cell_type": "code",
   "execution_count": 4,
   "id": "ad2b0da9-6ef0-44b3-a081-59937606c12f",
   "metadata": {},
   "outputs": [
    {
     "data": {
      "text/plain": [
       "array([[ -0.        ,  -3.        ],\n",
       "       [123.76388889,  11.        ]])"
      ]
     },
     "execution_count": 4,
     "metadata": {},
     "output_type": "execute_result"
    }
   ],
   "source": [
    "np.empty([2, 2])"
   ]
  },
  {
   "cell_type": "markdown",
   "id": "0942625e-b58e-495c-8588-bcb543f1293e",
   "metadata": {},
   "source": [
    "<p><strong>ii. np.arange</strong></p>\n",
    "<p>Returns an array with evenly spaced elements as per the interval. The interval mentioned is half-opened i.e. [Start, Stop) \n",
    "\n",
    "</p>"
   ]
  },
  {
   "cell_type": "code",
   "execution_count": 5,
   "id": "6d7e6bab-ccff-4c77-84b9-659987210833",
   "metadata": {},
   "outputs": [
    {
     "data": {
      "text/plain": [
       "array([0, 0, 0, 0, 0, 0, 0, 0, 0, 0])"
      ]
     },
     "execution_count": 5,
     "metadata": {},
     "output_type": "execute_result"
    }
   ],
   "source": [
    "np.arange(0, 5, 0.5, dtype=int)"
   ]
  },
  {
   "cell_type": "markdown",
   "id": "3fd98eff-d9df-4292-b9e0-67ccd54f5cfc",
   "metadata": {},
   "source": [
    "<p><strong>iii. np.linspace</strong></p>\n",
    "<p>Returns num evenly spaced samples, calculated over the interval [start, stop].</p>"
   ]
  },
  {
   "cell_type": "code",
   "execution_count": 6,
   "id": "fbe5ead9-f394-44e0-9016-2907060eae95",
   "metadata": {},
   "outputs": [
    {
     "data": {
      "text/plain": [
       "array([2.  , 2.25, 2.5 , 2.75, 3.  ])"
      ]
     },
     "execution_count": 6,
     "metadata": {},
     "output_type": "execute_result"
    }
   ],
   "source": [
    "np.linspace(2.0, 3.0, num=5)"
   ]
  },
  {
   "cell_type": "markdown",
   "id": "409407d8-e8f5-4038-9490-41998697165d",
   "metadata": {},
   "source": [
    "<p><strong>iv. np.block</strong></p>\n",
    "<p>Blocks in the innermost lists are concatenated (see concatenate) along the last dimension (-1), then these are concatenated along the second-last dimension (-2), and so on until the outermost list is reached.</p>"
   ]
  },
  {
   "cell_type": "code",
   "execution_count": 8,
   "id": "8cc23c08-f7a2-4201-b619-cf90a5957593",
   "metadata": {},
   "outputs": [
    {
     "data": {
      "text/plain": [
       "array([[2., 0., 0., 0., 0.],\n",
       "       [0., 2., 0., 0., 0.],\n",
       "       [1., 1., 3., 0., 0.],\n",
       "       [1., 1., 0., 3., 0.],\n",
       "       [1., 1., 0., 0., 3.]])"
      ]
     },
     "execution_count": 8,
     "metadata": {},
     "output_type": "execute_result"
    }
   ],
   "source": [
    "A= np.eye(2) * 2\n",
    "B = np.eye(3) * 3\n",
    "np.block([\n",
    "    [A,               np.zeros((2, 3))],\n",
    "    [np.ones((3, 2)), B               ]\n",
    "])"
   ]
  },
  {
   "cell_type": "markdown",
   "id": "40c93895-1290-4e4e-a197-76927ee3bb98",
   "metadata": {},
   "source": [
    "<p><strong>v. np.hsplit</strong></p>\n",
    "<p>Split an array into multiple sub-arrays horizontally (column-wise).\n",
    "</p>"
   ]
  },
  {
   "cell_type": "code",
   "execution_count": 9,
   "id": "d3c81909-f43c-4ee3-b20b-46876ab3becf",
   "metadata": {},
   "outputs": [
    {
     "data": {
      "text/plain": [
       "array([[ 0.,  1.,  2.,  3.],\n",
       "       [ 4.,  5.,  6.,  7.],\n",
       "       [ 8.,  9., 10., 11.],\n",
       "       [12., 13., 14., 15.]])"
      ]
     },
     "execution_count": 9,
     "metadata": {},
     "output_type": "execute_result"
    }
   ],
   "source": [
    "x = np.arange(16.0).reshape(4, 4)\n",
    "x"
   ]
  },
  {
   "cell_type": "code",
   "execution_count": 10,
   "id": "3e0ebd78-77fc-4f88-8177-350d5570be7c",
   "metadata": {},
   "outputs": [
    {
     "data": {
      "text/plain": [
       "[array([[ 0.,  1.],\n",
       "        [ 4.,  5.],\n",
       "        [ 8.,  9.],\n",
       "        [12., 13.]]),\n",
       " array([[ 2.,  3.],\n",
       "        [ 6.,  7.],\n",
       "        [10., 11.],\n",
       "        [14., 15.]])]"
      ]
     },
     "execution_count": 10,
     "metadata": {},
     "output_type": "execute_result"
    }
   ],
   "source": [
    "np.hsplit(x, 2)"
   ]
  },
  {
   "cell_type": "markdown",
   "id": "2bef13a6-75eb-4a14-abdc-26447524d850",
   "metadata": {},
   "source": [
    "<p><strong>vi. np.vsplit</strong></p>\n",
    "<p>plit an array into multiple sub-arrays vertically (row-wise).</p>"
   ]
  },
  {
   "cell_type": "code",
   "execution_count": 11,
   "id": "e0e8bff7-4df8-4a49-b4cf-9f35fd6aeaf9",
   "metadata": {},
   "outputs": [
    {
     "data": {
      "text/plain": [
       "array([[ 0.,  1.,  2.,  3.],\n",
       "       [ 4.,  5.,  6.,  7.],\n",
       "       [ 8.,  9., 10., 11.],\n",
       "       [12., 13., 14., 15.]])"
      ]
     },
     "execution_count": 11,
     "metadata": {},
     "output_type": "execute_result"
    }
   ],
   "source": [
    "x = np.arange(16.0).reshape(4, 4)\n",
    "x"
   ]
  },
  {
   "cell_type": "code",
   "execution_count": 12,
   "id": "f10d1196-7ba5-4664-9b81-cde0d50f4946",
   "metadata": {},
   "outputs": [
    {
     "data": {
      "text/plain": [
       "[array([[0., 1., 2., 3.],\n",
       "        [4., 5., 6., 7.]]),\n",
       " array([[ 8.,  9., 10., 11.],\n",
       "        [12., 13., 14., 15.]])]"
      ]
     },
     "execution_count": 12,
     "metadata": {},
     "output_type": "execute_result"
    }
   ],
   "source": [
    "np.vsplit(x, 2)"
   ]
  },
  {
   "cell_type": "markdown",
   "id": "378a9147-e7e4-4296-9487-69a7a144a7fe",
   "metadata": {},
   "source": [
    "<p><strong>vii. np.dsplit</strong></p>\n",
    "<p>Split array into multiple sub-arrays along the 3rd axis (depth).</p>"
   ]
  },
  {
   "cell_type": "code",
   "execution_count": 13,
   "id": "36121853-8633-45b0-9585-df69c21295ed",
   "metadata": {},
   "outputs": [
    {
     "data": {
      "text/plain": [
       "array([[[ 0.,  1.,  2.,  3.],\n",
       "        [ 4.,  5.,  6.,  7.]],\n",
       "\n",
       "       [[ 8.,  9., 10., 11.],\n",
       "        [12., 13., 14., 15.]]])"
      ]
     },
     "execution_count": 13,
     "metadata": {},
     "output_type": "execute_result"
    }
   ],
   "source": [
    "x = np.arange(16.0).reshape(2, 2, 4)\n",
    "x"
   ]
  },
  {
   "cell_type": "code",
   "execution_count": 14,
   "id": "91bee2f6-4f3a-4e3c-8301-05b1e2a9a8f1",
   "metadata": {},
   "outputs": [
    {
     "data": {
      "text/plain": [
       "[array([[[ 0.,  1.],\n",
       "         [ 4.,  5.]],\n",
       " \n",
       "        [[ 8.,  9.],\n",
       "         [12., 13.]]]),\n",
       " array([[[ 2.,  3.],\n",
       "         [ 6.,  7.]],\n",
       " \n",
       "        [[10., 11.],\n",
       "         [14., 15.]]])]"
      ]
     },
     "execution_count": 14,
     "metadata": {},
     "output_type": "execute_result"
    }
   ],
   "source": [
    "np.dsplit(x, 2)"
   ]
  },
  {
   "cell_type": "markdown",
   "id": "d02fc521-bb0c-4abe-a042-96551a1eaa5a",
   "metadata": {},
   "source": [
    "<p><strong>ix. np.shuffle</strong></p>\n",
    "<p>Modify a sequence in-place by shuffling its contents.</p>"
   ]
  },
  {
   "cell_type": "code",
   "execution_count": 15,
   "id": "8fe6c4f2-e782-47d1-92d4-e7a16d987b8e",
   "metadata": {},
   "outputs": [
    {
     "data": {
      "text/plain": [
       "array([2, 8, 4, 1, 9, 6, 3, 0, 5, 7])"
      ]
     },
     "execution_count": 15,
     "metadata": {},
     "output_type": "execute_result"
    }
   ],
   "source": [
    "arr = np.arange(10)\n",
    "np.random.shuffle(arr)\n",
    "arr"
   ]
  },
  {
   "cell_type": "markdown",
   "id": "00954f59-b903-49fe-8e35-bdcc6a0fc691",
   "metadata": {},
   "source": [
    "<p><strong>x. np.unique</strong></p>\n",
    "Find the unique elements of an array.\n",
    "\n",
    "Returns the sorted unique elements of an array. There are three optional outputs in addition to the unique elements:\n",
    "\n",
    "* the indices of the input array that give the unique values\n",
    "\n",
    "* the indices of the unique array that reconstruct the input array\n",
    "\n",
    "* the number of times each unique value comes up in the input array"
   ]
  },
  {
   "cell_type": "code",
   "execution_count": 16,
   "id": "d74d8f05-d0cc-4078-994f-35f6b1beb9d8",
   "metadata": {},
   "outputs": [
    {
     "data": {
      "text/plain": [
       "array([1, 2, 3])"
      ]
     },
     "execution_count": 16,
     "metadata": {},
     "output_type": "execute_result"
    }
   ],
   "source": [
    "np.unique([1, 1, 2, 2, 3, 3])"
   ]
  },
  {
   "cell_type": "code",
   "execution_count": 17,
   "id": "40509fe1-b107-4f79-b18a-440dbe22689f",
   "metadata": {},
   "outputs": [
    {
     "data": {
      "text/plain": [
       "array([1, 2, 3])"
      ]
     },
     "execution_count": 17,
     "metadata": {},
     "output_type": "execute_result"
    }
   ],
   "source": [
    "a = np.array([[1, 1], [2, 3]])\n",
    "np.unique(a)"
   ]
  },
  {
   "cell_type": "markdown",
   "id": "65319769-b266-4f13-b5ac-1662361702c7",
   "metadata": {},
   "source": [
    "<p><strong>xi. numpy broadcasting</strong></p>\n",
    "The term broadcasting describes how numpy treats arrays with different shapes during arithmetic operations. Subject to certain constraints, the smaller array is “broadcast” across the larger array so that they have compatible shapes. Broadcasting provides a means of vectorizing array operations so that looping occurs in C instead of Python."
   ]
  },
  {
   "cell_type": "code",
   "execution_count": 18,
   "id": "ea48c01e-0418-4fde-a83c-1917aa14c7ba",
   "metadata": {},
   "outputs": [
    {
     "data": {
      "text/plain": [
       "array([2., 4., 6.])"
      ]
     },
     "execution_count": 18,
     "metadata": {},
     "output_type": "execute_result"
    }
   ],
   "source": [
    "from numpy import array\n",
    "a = array([1.0, 2.0, 3.0])\n",
    "b = array([2.0, 2.0, 2.0])\n",
    "a * b"
   ]
  },
  {
   "cell_type": "markdown",
   "id": "5baeec9b-0ee5-42e8-b6b2-50a0db65c0be",
   "metadata": {},
   "source": [
    "<p><strong>xii. numpy stacking</strong></p>\n",
    "Join a sequence of arrays along a new axis."
   ]
  },
  {
   "cell_type": "code",
   "execution_count": 19,
   "id": "47d555fd-6dfb-4d46-b35b-68d1fd3f1d0e",
   "metadata": {},
   "outputs": [
    {
     "data": {
      "text/plain": [
       "(10, 3, 4)"
      ]
     },
     "execution_count": 19,
     "metadata": {},
     "output_type": "execute_result"
    }
   ],
   "source": [
    "arrays = [np.random.randn(3, 4) for _ in range(10)]\n",
    "np.stack(arrays, axis=0).shape"
   ]
  },
  {
   "cell_type": "markdown",
   "id": "5b977edd-d02f-4a94-9b39-fb3ac17a8b8a",
   "metadata": {},
   "source": [
    "<p><strong>xiii. shape vs reshape</strong></p>\n",
    "Shape:\n",
    "\n",
    "* The shape attribute of a NumPy array tells you the dimensions of the array. \n",
    "* It returns a tuple indicating the size of each dimension of the array.\n",
    "* For example, if you have a 2D array with shape (3, 4), it means the array has 3 rows and 4 columns.\n",
    "* You can access the shape of an array using its shape attribute, like so:"
   ]
  },
  {
   "cell_type": "code",
   "execution_count": 20,
   "id": "96eab480-c4b9-48e8-a616-9afc88098eaa",
   "metadata": {},
   "outputs": [
    {
     "name": "stdout",
     "output_type": "stream",
     "text": [
      "(2, 3)\n"
     ]
    }
   ],
   "source": [
    "arr = np.array([[1, 2, 3], [4, 5, 6]])\n",
    "print(arr.shape)"
   ]
  },
  {
   "cell_type": "markdown",
   "id": "b36028d7-5fdf-4087-a12a-dd51dd089aff",
   "metadata": {},
   "source": [
    "Reshape:\n",
    "\n",
    "* The reshape function in NumPy allows you to change the shape of an array without changing its data. It returns a new view of the array with a different shape.\n",
    "* It's important to note that reshaping an array will only work if the total number of elements in the original array matches the total number of elements in the reshaped array. Otherwise, it will raise a ValueError.\n",
    "* Here's an example of reshaping a 1D array into a 2D array:"
   ]
  },
  {
   "cell_type": "code",
   "execution_count": 21,
   "id": "a313bd8b-dcc8-44fd-863c-c3fc4fd7bed5",
   "metadata": {},
   "outputs": [
    {
     "name": "stdout",
     "output_type": "stream",
     "text": [
      "[[1 2 3]\n",
      " [4 5 6]]\n"
     ]
    }
   ],
   "source": [
    "arr = np.array([1, 2, 3, 4, 5, 6])\n",
    "reshaped_arr = arr.reshape(2, 3)\n",
    "print(reshaped_arr)"
   ]
  },
  {
   "cell_type": "markdown",
   "id": "1f5dab41-b639-4ea1-8bbb-eab96ca0a621",
   "metadata": {},
   "source": [
    "<p><strong>xiv. np.searchsorted</strong></p>\n",
    "The np.searchsorted function in NumPy is used to find the indices where elements should be inserted to maintain the sorted order of the array. It returns the indices where the values would be inserted to maintain the order of the array.\n",
    "\n",
    "Here are the parameters of np.searchsorted:\n",
    "\n",
    "* a: This is the input array. It should be sorted in ascending order.\n",
    "* v: This is the value or array of values to be inserted into a. If it's an array, the return value will be an array of indices corresponding to each value.\n",
    "* side: This parameter specifies whether to return the index of the first occurrence of the value (left side) or the last occurrence of the value (right side). It takes two possible values:\n",
    "* 'left' (or 0): Return the index of the first occurrence of the value.\n",
    "* 'right' (or 1): Return the index of the last occurrence of the value.\n",
    "* sorter: This is an optional array specifying the indices that would sort the input * array. If provided, it must be an array of integers and have the same shape as the input array.\n",
    "* Return: The function returns the indices where the values would be inserted into the sorted array to maintain the order. If v is a scalar value, it returns an integer index. If v is an array, it returns an array of indices."
   ]
  },
  {
   "cell_type": "code",
   "execution_count": 22,
   "id": "5fcdfc73-cb98-47a4-a234-62add7397325",
   "metadata": {},
   "outputs": [
    {
     "name": "stdout",
     "output_type": "stream",
     "text": [
      "Indices: [1 2 3 4]\n"
     ]
    }
   ],
   "source": [
    "a = np.array([0, 2, 4, 6, 8])\n",
    "\n",
    "# Values to search for\n",
    "v = [1, 3, 5, 7]\n",
    "\n",
    "# Find indices where values would be inserted\n",
    "indices = np.searchsorted(a, v)\n",
    "\n",
    "print(\"Indices:\", indices)\n"
   ]
  },
  {
   "cell_type": "markdown",
   "id": "fed20a6f-674a-46af-ac5e-bd913769ef78",
   "metadata": {},
   "source": [
    "<p><strong>xv. np.sort and argsort</strong></p>\n",
    "np.sort:\n",
    "\n",
    "* np.sort is used to return a sorted copy of an array along a specified axis. It </p>sorts the elements of the array in ascending order by default.\n",
    "It can be called in two ways:</p>\n",
    "* np.sort(array): Returns a sorted copy of the array.\n",
    "* array.sort(): Sorts the array in-place.\n",
    "</p>By default, the sorting is done along the last axis (axis = -1).\n",
    "You can specify the axis along which to sort using the axis parameter.</p>"
   ]
  },
  {
   "cell_type": "code",
   "execution_count": 23,
   "id": "c576ca04-cab0-4694-b64e-1bdfc411041e",
   "metadata": {},
   "outputs": [
    {
     "name": "stdout",
     "output_type": "stream",
     "text": [
      "Sorted array: [1 2 3]\n"
     ]
    }
   ],
   "source": [
    "arr = np.array([3, 1, 2])\n",
    "sorted_arr = np.sort(arr)\n",
    "print(\"Sorted array:\", sorted_arr)"
   ]
  },
  {
   "cell_type": "markdown",
   "id": "b51f749d-2241-4056-a84f-88cb79bd7772",
   "metadata": {},
   "source": [
    "np.argsort:\n",
    "\n",
    "* np.argsort is used to return the indices that would sort an array. Instead of returning the sorted array, it returns the indices that would sort the array.\n",
    "\n",
    "<p>It can be called in a similar way to np.sort:</p>\n",
    "\n",
    "* np.argsort(array): Returns the indices of the sorted elements."
   ]
  },
  {
   "cell_type": "code",
   "execution_count": 24,
   "id": "2ad25cbf-5aac-405e-84ff-2255d82a4981",
   "metadata": {},
   "outputs": [
    {
     "name": "stdout",
     "output_type": "stream",
     "text": [
      "Indices to sort the array: [1 2 0]\n"
     ]
    }
   ],
   "source": [
    "arr = np.array([3, 1, 2])\n",
    "indices = np.argsort(arr)\n",
    "print(\"Indices to sort the array:\", indices)"
   ]
  },
  {
   "cell_type": "markdown",
   "id": "21917068-95a5-483a-822d-71caac2bd323",
   "metadata": {},
   "source": [
    "<p><strong>xvi. np.flatten vs np.ravel</strong></p>\n",
    "np.flatten():\n",
    "\n",
    "* np.flatten() is a method of the NumPy array object. It returns a flattened copy of the array, meaning it creates a new one-dimensional array containing all the elements of the original array in row-major order (C-style flattening).\n",
    "* It always returns a copy of the original array, regardless of whether the original array is contiguous in memory or not."
   ]
  },
  {
   "cell_type": "code",
   "execution_count": 25,
   "id": "8fbf75f5-7990-443e-9ce6-2eb1e6cbe978",
   "metadata": {},
   "outputs": [
    {
     "name": "stdout",
     "output_type": "stream",
     "text": [
      "Flattened array: [1 2 3 4]\n"
     ]
    }
   ],
   "source": [
    "arr = np.array([[1, 2], [3, 4]])\n",
    "flattened_arr = arr.flatten()\n",
    "print(\"Flattened array:\", flattened_arr)"
   ]
  },
  {
   "cell_type": "markdown",
   "id": "a236883a-c557-4533-ab1d-3d32a049f50e",
   "metadata": {},
   "source": [
    "np.ravel():\n",
    "\n",
    "* np.ravel() is a function in NumPy that returns a flattened view of the input array, if possible. If the input array is contiguous in memory, np.ravel() returns a view of the original array with a flattened shape.\n",
    "* If the input array is not contiguous in memory, np.ravel() will return a copy of the flattened array, similar to np.flatten().\n",
    "* np.ravel() is more memory efficient than np.flatten() as it returns a view (if possible) rather than always creating a copy."
   ]
  },
  {
   "cell_type": "code",
   "execution_count": 26,
   "id": "a44c563d-9cce-4398-8975-6b107d4ec8c8",
   "metadata": {},
   "outputs": [
    {
     "name": "stdout",
     "output_type": "stream",
     "text": [
      "Flattened array: [1 2 3 4]\n"
     ]
    }
   ],
   "source": [
    "arr = np.array([[1, 2], [3, 4]])\n",
    "flattened_arr = np.ravel(arr)\n",
    "print(\"Flattened array:\", flattened_arr)"
   ]
  },
  {
   "cell_type": "code",
   "execution_count": null,
   "id": "cb753de8-7733-46db-a8a9-b09ae71f71d1",
   "metadata": {},
   "outputs": [],
   "source": []
  }
 ],
 "metadata": {
  "kernelspec": {
   "display_name": "Python 3 (ipykernel)",
   "language": "python",
   "name": "python3"
  },
  "language_info": {
   "codemirror_mode": {
    "name": "ipython",
    "version": 3
   },
   "file_extension": ".py",
   "mimetype": "text/x-python",
   "name": "python",
   "nbconvert_exporter": "python",
   "pygments_lexer": "ipython3",
   "version": "3.11.7"
  }
 },
 "nbformat": 4,
 "nbformat_minor": 5
}
