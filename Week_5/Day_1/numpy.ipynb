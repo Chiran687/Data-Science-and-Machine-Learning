{
 "cells": [
  {
   "cell_type": "markdown",
   "metadata": {
    "id": "BhbHDJ9yTWsN"
   },
   "source": [
    "### NumPy\n",
    "- Stands for Numerical Python.\n",
    "- NumPy is a python library used for working with arrays.\n",
    "- NumPy array is a collection of homogeneous data types stored in contiguous memory location\n",
    "- Has function for working in domain of linear algebra, fourier transform, and matrices.\n",
    "- Written partially in Python, but parts that require fast computation are written in C or C++.\n",
    "- Source code of NumPy is located at github repository.\n",
    "    - https://github.com/numpy/numpy\n",
    "\n",
    "\n",
    "### Why Numpy is Fast?  \n",
    "- An array is a collection of homogeneous data types that are stored in contiguous memory locations.\n",
    "- Vectorized operations are possible in NumPy.\n",
    "- NumPy package integrates C, C++, and Fortran codes in Python.\n",
    "    - These programming language have very little execution time compared to Python.\n"
   ]
  },
  {
   "cell_type": "code",
   "execution_count": 1,
   "metadata": {
    "id": "P7W1zPu1TWsR"
   },
   "outputs": [],
   "source": [
    "# need to import 3rd python packages\n",
    "import numpy as np"
   ]
  },
  {
   "cell_type": "markdown",
   "metadata": {
    "id": "nOEMLjUZTWsS"
   },
   "source": [
    "### 1. Array Creation  \n",
    "- create numpy array via 1D list\n",
    "- create numpy array via 2D list\n",
    "- create numpy array via built-in array creation functions."
   ]
  },
  {
   "cell_type": "markdown",
   "metadata": {
    "id": "62Fm8fOITWsS"
   },
   "source": [
    "| Data type | Description |\n",
    "| --- | --- |\n",
    "| bool_ | It represents the boolean value indicating True or False. It is stored as a byte |\n",
    "| int_ | Default integer type (same as C long; normally either int64 or int32) |\n",
    "| intc | Identical to C int (normally int32 or int64) |\n",
    "| intp | Integer used for indexing (normally either int32 or int64) |\n",
    "| int8 | It is the 8-bit integer identical to byte. (range: -128 to 127) |\n",
    "| int16 | It is the 2byte 16 bit Integer (range: -32768 to 32767) |\n",
    "| int32 | 4 byte, (32 bit) Integer (-2147483648 to 2147483647) |\n",
    "| int64 | 8 byte, (64 bit) Integer (-9223372036854775808 to 9223372036854775807) |\n",
    "| uint8 | 1 byte (8 bit) Unsigned integer (0 to 255) |\n",
    "| uint16 | 2 byte (16 bit) Unsigned integer (0 to 65535) |\n",
    "| uint32 | 4 byte (32 bit) Unsigned integer (0 to 4294967295) |\n",
    "| uint64 | 8 byte (64-bit) Unsigned integer (0 to 18446744073709551615) |\n",
    "| float_ | Shorthand for float64. |\n",
    "| float16 | Half precision float: 5 bits are reserved for the exponent. 10 bits are reserved for mantissa, and 1 bit for sign |\n",
    "| float32 | Single precision float: 8 bits are reserved for the exponent. 23 bits are reserved for mantissa, and 1 bit for sign |\n",
    "| float64 | Double precision float: 11 bits are reserved for the exponent, 52 bits are reserved for mantissa, 1 bit for sign |\n",
    "| complex_ | Shorthand for complex128. |\n"
   ]
  },
  {
   "cell_type": "markdown",
   "metadata": {
    "id": "DFDcex3tTWsT"
   },
   "source": [
    "<b>NumPy Data Types</b>\n"
   ]
  },
  {
   "cell_type": "markdown",
   "metadata": {
    "id": "mfdDQ2LoTWsT"
   },
   "source": [
    "- **create numpy array via 1D list**"
   ]
  },
  {
   "cell_type": "code",
   "execution_count": 2,
   "metadata": {
    "id": "2GjOUIPiTWsU"
   },
   "outputs": [
    {
     "name": "stdout",
     "output_type": "stream",
     "text": [
      "[1 2 3 4 5 6]\n"
     ]
    }
   ],
   "source": [
    "# use .array() function\n",
    "\n",
    "list1 = [1, 2, 3, 4, 5, 6]\n",
    "arr1 = np.array(list1)\n",
    "print(arr1)"
   ]
  },
  {
   "cell_type": "markdown",
   "metadata": {
    "id": "-vFeHY1RTWsU"
   },
   "source": [
    "<details><summary>Click here for the solution</summary>\n",
    "\n",
    "```python\n",
    "list1 = [1, 2, 3, 4, 5, 6]\n",
    "arr1 = np.array(list1)\n",
    "print(arr1)\n",
    "```\n",
    "</details>"
   ]
  },
  {
   "cell_type": "markdown",
   "metadata": {
    "id": "U6bEw3BJTWsU"
   },
   "source": [
    "- **create numpy array via 2D list**\n",
    "    - set explicitly data type to float32"
   ]
  },
  {
   "cell_type": "code",
   "execution_count": 3,
   "metadata": {
    "id": "b4ycPs2BTWsV",
    "outputId": "255cfd2b-5884-4b57-fe5d-b436c5d1e950"
   },
   "outputs": [
    {
     "data": {
      "text/plain": [
       "array([[1., 2., 3.],\n",
       "       [4., 5., 6.]], dtype=float32)"
      ]
     },
     "execution_count": 3,
     "metadata": {},
     "output_type": "execute_result"
    }
   ],
   "source": [
    "# use .array(list ,dtype='float32')\n",
    "list2 = [\n",
    "    [1, 2, 3],\n",
    "    [4, 5, 6]\n",
    "]\n",
    "\n",
    "arr2 = np.array(list2, dtype='float32')\n",
    "arr2"
   ]
  },
  {
   "cell_type": "markdown",
   "metadata": {
    "id": "6HvGqD4yTWsW"
   },
   "source": [
    "<details><summary>Click here for the solution</summary>\n",
    "\n",
    "```python\n",
    "list2 = [[1, 2, 3], [4, 5, 6]]\n",
    "arr2 = np.array(list2, dtype='float32')\n",
    "print(arr2)\n",
    "```\n",
    "</details>"
   ]
  },
  {
   "cell_type": "markdown",
   "metadata": {
    "id": "qDUAV34MTWsW"
   },
   "source": [
    "**create numpy array via built-in array creation functions**"
   ]
  },
  {
   "cell_type": "code",
   "execution_count": 6,
   "metadata": {
    "id": "i4L6aTxxTWsW"
   },
   "outputs": [
    {
     "data": {
      "text/plain": [
       "array([0, 0, 0, 0, 0, 0, 0, 0, 0, 0])"
      ]
     },
     "execution_count": 6,
     "metadata": {},
     "output_type": "execute_result"
    }
   ],
   "source": [
    "# Q. create a length 10 integer array filled with zeros.\n",
    "np.zeros(10, dtype='int')"
   ]
  },
  {
   "cell_type": "markdown",
   "metadata": {
    "id": "Jc0YfzU8TWsW"
   },
   "source": [
    "<details><summary>Click here for the solution</summary>\n",
    "\n",
    "```python\n",
    "np.zeros(10, dtype='int')\n",
    "```\n",
    "</details>\n",
    "\n"
   ]
  },
  {
   "cell_type": "code",
   "execution_count": 7,
   "metadata": {
    "id": "BaBwkjieTWsW"
   },
   "outputs": [
    {
     "data": {
      "text/plain": [
       "array([[1., 1., 1., 1., 1.],\n",
       "       [1., 1., 1., 1., 1.],\n",
       "       [1., 1., 1., 1., 1.]])"
      ]
     },
     "execution_count": 7,
     "metadata": {},
     "output_type": "execute_result"
    }
   ],
   "source": [
    "# Q. create a 3x5 floating point array filled with ones\n",
    "np.ones((3, 5), dtype='float')"
   ]
  },
  {
   "cell_type": "markdown",
   "metadata": {
    "id": "YV4E2_GXTWsX"
   },
   "source": [
    "<details><summary>Click here for the solution</summary>\n",
    "\n",
    "```python\n",
    "np.ones((3, 5), dtype='float')\n",
    "```\n",
    "</details>\n"
   ]
  },
  {
   "cell_type": "code",
   "execution_count": 8,
   "metadata": {
    "id": "4ubWxB3kTWsX"
   },
   "outputs": [
    {
     "data": {
      "text/plain": [
       "array([[3.14, 3.14, 3.14, 3.14, 3.14],\n",
       "       [3.14, 3.14, 3.14, 3.14, 3.14],\n",
       "       [3.14, 3.14, 3.14, 3.14, 3.14]])"
      ]
     },
     "execution_count": 8,
     "metadata": {},
     "output_type": "execute_result"
    }
   ],
   "source": [
    "# Q. create a 3x5 array filled with 3.14\n",
    "np.full((3, 5), 3.14)"
   ]
  },
  {
   "cell_type": "markdown",
   "metadata": {
    "id": "l2_PdiRLTWsX"
   },
   "source": [
    "<details><summary>Click here for the solution</summary>\n",
    "\n",
    "```python\n",
    "np.full((3, 5), 3.14)\n",
    "```\n",
    "</details>"
   ]
  },
  {
   "cell_type": "code",
   "execution_count": 9,
   "metadata": {
    "id": "hvZwMH0ITWsX"
   },
   "outputs": [
    {
     "data": {
      "text/plain": [
       "array([ 0,  2,  4,  6,  8, 10, 12, 14, 16, 18])"
      ]
     },
     "execution_count": 9,
     "metadata": {},
     "output_type": "execute_result"
    }
   ],
   "source": [
    "# Q. create an array filled with number in between 0 to 20, with step size 2\n",
    "np.arange(0, 20, 2)"
   ]
  },
  {
   "cell_type": "markdown",
   "metadata": {
    "id": "BSMpL3CUTWsX"
   },
   "source": [
    "<details><summary>Click here for the solution</summary>\n",
    "\n",
    "```python\n",
    "np.arange(0, 20, 2)\n",
    "```\n",
    "</details>"
   ]
  },
  {
   "cell_type": "code",
   "execution_count": 11,
   "metadata": {
    "id": "rOeZbMmHTWsX"
   },
   "outputs": [
    {
     "data": {
      "text/plain": [
       "array([[0.56723407, 0.13122282, 0.2089109 ],\n",
       "       [0.66959534, 0.98199365, 0.54452705],\n",
       "       [0.01138079, 0.43453515, 0.11057522]])"
      ]
     },
     "execution_count": 11,
     "metadata": {},
     "output_type": "execute_result"
    }
   ],
   "source": [
    "# Q. create 3x3 array from uniform distribution between 0 and 1\n",
    "\n",
    "np.random.random((3, 3))"
   ]
  },
  {
   "cell_type": "markdown",
   "metadata": {
    "id": "eqNzl8nZTWsY"
   },
   "source": [
    "<details><summary>Click here for the solution</summary>\n",
    "\n",
    "```python\n",
    "np.random.random((3, 3))\n",
    "```\n",
    "</details>"
   ]
  },
  {
   "cell_type": "code",
   "execution_count": 12,
   "metadata": {
    "id": "XvJ1B5AqTWsY"
   },
   "outputs": [
    {
     "data": {
      "text/plain": [
       "array([[ 0.90260492,  0.3931753 ,  1.62831253],\n",
       "       [ 0.40040562, -0.35236601, -0.16139667],\n",
       "       [ 1.55566909,  2.34284971, -0.04619446]])"
      ]
     },
     "execution_count": 12,
     "metadata": {},
     "output_type": "execute_result"
    }
   ],
   "source": [
    "# Q. create 3x3 array from normal distribution with mean = 0 and standard deviation = 1\n",
    "\n",
    "np.random.normal(0, 1, (3, 3))\n"
   ]
  },
  {
   "cell_type": "markdown",
   "metadata": {
    "id": "ZTDRVtOVTWsY"
   },
   "source": [
    "<details><summary>Click here for the solution</summary>\n",
    "\n",
    "```python\n",
    "np.random.normal(0, 1, (3, 3))\n",
    "```\n",
    "</details>"
   ]
  },
  {
   "cell_type": "code",
   "execution_count": 13,
   "metadata": {
    "id": "C-aQEj-3TzcS"
   },
   "outputs": [
    {
     "data": {
      "text/plain": [
       "array([[7, 4, 7],\n",
       "       [6, 4, 4],\n",
       "       [9, 1, 5]])"
      ]
     },
     "execution_count": 13,
     "metadata": {},
     "output_type": "execute_result"
    }
   ],
   "source": [
    "# Q. Create a 3x3 array of random integers in the interval [0, 10)\n",
    "np.random.randint(0, 10, (3, 3))"
   ]
  },
  {
   "cell_type": "markdown",
   "metadata": {
    "id": "MgxBh7JOT_Vz"
   },
   "source": [
    "<details><summary>Click here for the solution</summary>\n",
    "\n",
    "```python\n",
    "np.random.randint(0, 10, (3, 3))\n",
    "```\n",
    "</details>"
   ]
  },
  {
   "cell_type": "markdown",
   "metadata": {
    "id": "1f_xXB6xTWsY"
   },
   "source": [
    "### 2. Attributes of NumPy Array  \n",
    "- **ndarray.ndim:** _Represents the number of dimensions(axes) of the ndarray_\n",
    "- **ndarray.shape:** _Gives the tuple of integers representing the size of the ndarray in each dimension_\n",
    "- **ndarray.size:** _Gives the total number of elements in the ndarray. Equals to the product of elements of the result of the attribute **shape**_\n",
    "- **ndarray.dtype:** _tells the data type of the elements of a Numpy array. In Numpy array, all the elements have the same data type._\n",
    "- **ndarray.itemsize:** _returns the size(in bytes) of each element of a Numpy array._\n",
    "\n",
    "\n"
   ]
  },
  {
   "cell_type": "code",
   "execution_count": 2,
   "metadata": {
    "id": "zNiTTCjVTWsY"
   },
   "outputs": [],
   "source": [
    "# create 2D numpy array\n",
    "import numpy as np\n",
    "sample_array = np.array([[\n",
    "    [1, 2, 3],\n",
    "    [4, 5, 6],\n",
    "    [7, 8, 9]\n",
    "]])"
   ]
  },
  {
   "cell_type": "code",
   "execution_count": 3,
   "metadata": {
    "id": "LLCMNqmkTWsY"
   },
   "outputs": [
    {
     "name": "stdout",
     "output_type": "stream",
     "text": [
      "The dimension of sample array is: 3\n"
     ]
    }
   ],
   "source": [
    "# ndarray.ndim\n",
    "print(f\"The dimension of sample array is: {sample_array.ndim}\")"
   ]
  },
  {
   "cell_type": "markdown",
   "metadata": {
    "id": "-DFrdKXOTWsZ"
   },
   "source": [
    "<details><summary>Click here for the solution</summary>\n",
    "\n",
    "```python\n",
    "print(f\"The dimension of sample array is: {sample_array.ndim}\")\n",
    "```\n",
    "</details>"
   ]
  },
  {
   "cell_type": "code",
   "execution_count": 4,
   "metadata": {
    "id": "JWlmGtplTWsZ"
   },
   "outputs": [
    {
     "name": "stdout",
     "output_type": "stream",
     "text": [
      "The shape of sample array is: (1, 3, 3)\n"
     ]
    }
   ],
   "source": [
    "# ndarray.shape\n",
    "\n",
    "print(f\"The shape of sample array is: {sample_array.shape}\")"
   ]
  },
  {
   "cell_type": "markdown",
   "metadata": {
    "id": "vhl3m5mGTWsZ"
   },
   "source": [
    "<details><summary>Click here for the solution</summary>\n",
    "\n",
    "```python\n",
    "print(f\"The shape of sample array is: {sample_array.shape}\")\n",
    "```\n",
    "</details>"
   ]
  },
  {
   "cell_type": "code",
   "execution_count": 5,
   "metadata": {
    "id": "gw37W6MwTWsZ"
   },
   "outputs": [
    {
     "name": "stdout",
     "output_type": "stream",
     "text": [
      "The total number of elements in the sample array is: 9\n"
     ]
    }
   ],
   "source": [
    "# ndarray.size\n",
    "\n",
    "print(f\"The total number of elements in the sample array is: {sample_array.size}\")"
   ]
  },
  {
   "cell_type": "markdown",
   "metadata": {
    "id": "QiMIAqkuTWsZ"
   },
   "source": [
    "<details><summary>Click here for the solution</summary>\n",
    "\n",
    "```python\n",
    "print(f\"The total number of elements in the sample array is: {sample_array.size}\")\n",
    "```\n",
    "</details>"
   ]
  },
  {
   "cell_type": "code",
   "execution_count": 6,
   "metadata": {
    "id": "wbFjKDBtTWsZ"
   },
   "outputs": [
    {
     "name": "stdout",
     "output_type": "stream",
     "text": [
      "The data type of elements of sample array is: int64\n"
     ]
    }
   ],
   "source": [
    "# ndrray.dtype\n",
    "\n",
    "print(f\"The data type of elements of sample array is: {sample_array.dtype}\")"
   ]
  },
  {
   "cell_type": "markdown",
   "metadata": {
    "id": "Wyc7s-2WTWsa"
   },
   "source": [
    "<details><summary>Click here for the solution</summary>\n",
    "\n",
    "```python\n",
    "print(f\"The data type of elements of sample array is: {sample_array.dtype}\")\n",
    "```\n",
    "</details>"
   ]
  },
  {
   "cell_type": "code",
   "execution_count": 7,
   "metadata": {
    "id": "dhGqvNkGTWsa"
   },
   "outputs": [
    {
     "name": "stdout",
     "output_type": "stream",
     "text": [
      "The size of each element in the numpy array is: 8\n"
     ]
    }
   ],
   "source": [
    "# ndarray.itemsize, returns the size (in bytes) of each element of a Numpy array\n",
    "\n",
    "print(f\"The size of each element in the numpy array is: {sample_array.itemsize}\")"
   ]
  },
  {
   "cell_type": "markdown",
   "metadata": {
    "id": "TffknJ6ATWsa"
   },
   "source": [
    "<details><summary>Click here for the solution</summary>\n",
    "\n",
    "```python\n",
    "print(f\"The size of each element in the numpy array is: {sample_array.itemsize}\")\n",
    "```\n",
    "</details>"
   ]
  },
  {
   "cell_type": "markdown",
   "metadata": {
    "id": "OSr2lgwRTWsa"
   },
   "source": [
    "### 3. Array Indexing  \n",
    "`3.1 Indexing 1D array`  \n",
    " <img src=\"https://s3-api.us-geo.objectstorage.softlayer.net/cf-courses-data/CognitiveClass/PY0101EN/Chapter%205/Images/NumOneNp.png\" width = \"400\">    \n",
    "\n",
    "      source: https://cognitiveclass.ai/\n",
    "\n"
   ]
  },
  {
   "cell_type": "code",
   "execution_count": 10,
   "metadata": {
    "id": "pdaVaPT9TWsa"
   },
   "outputs": [
    {
     "name": "stdout",
     "output_type": "stream",
     "text": [
      "1st item: 0\n",
      "2nd item: 1\n",
      "3rd item: 2\n",
      "4th item: 3\n"
     ]
    }
   ],
   "source": [
    "# create 1D array from 1D list of (length = 5) and value in range [0, 4].\n",
    "# access each array element via indexing\n",
    "a = np.array([0, 1, 2, 3, 4])\n",
    "\n",
    "print(f'1st item: {a[0]}')\n",
    "print(f'2nd item: {a[1]}')\n",
    "print(f'3rd item: {a[2]}')\n",
    "print(f'4th item: {a[3]}')"
   ]
  },
  {
   "cell_type": "markdown",
   "metadata": {
    "id": "VaecHk4VTWsa"
   },
   "source": [
    "\n",
    "`3.2 Indexing 2D array`  \n",
    "<img src=\"https://s3-api.us-geo.objectstorage.softlayer.net/cf-courses-data/CognitiveClass/PY0101EN/Chapter%205/Images/NumTwoFT.png\" width = \"400\">   \n",
    "\n",
    "         source: https://cognitiveclass.ai/"
   ]
  },
  {
   "cell_type": "code",
   "execution_count": 11,
   "metadata": {
    "id": "KZ1-tCDsTWsf"
   },
   "outputs": [
    {
     "name": "stdout",
     "output_type": "stream",
     "text": [
      "11\n",
      "12\n",
      "13\n",
      "21\n",
      "22\n",
      "23\n",
      "31\n",
      "32\n",
      "33\n"
     ]
    }
   ],
   "source": [
    "# create 2D array from 2D list as in above figure.\n",
    "# access each array element via @D array indexing\n",
    "arr_idx_2d = np.array([\n",
    "    [11, 12, 13],\n",
    "    [21, 22, 23],\n",
    "    [31, 32, 33]\n",
    "])\n",
    "\n",
    "print(arr_idx_2d[0,0])\n",
    "print(arr_idx_2d[0,1])\n",
    "print(arr_idx_2d[0,2])\n",
    "print(arr_idx_2d[1,0])\n",
    "print(arr_idx_2d[1,1])\n",
    "print(arr_idx_2d[1,2])\n",
    "print(arr_idx_2d[2,0])\n",
    "print(arr_idx_2d[2,1])\n",
    "print(arr_idx_2d[2,2])\n"
   ]
  },
  {
   "cell_type": "markdown",
   "metadata": {
    "id": "qma-9jDLTWsf"
   },
   "source": [
    "### 4. Array Slicing: Accessing Subarrays\n",
    "- Slicing means taking elements from one given index to another\n",
    "- Syntax: array[start_index:end_index:step]\n",
    "- conditions:\n",
    "    - If we don’t pass start its considered as 0\n",
    "    - If we don’t pass end its considered length of array in that dimension\n",
    "    - If we don’t pass step its considered as 1\n",
    "- case:\n",
    "    - step is positive: left to right indexing\n",
    "    - step is negative: right to left indexing\n",
    "\n",
    "- `Note`: end index is exclusive\n",
    "\n"
   ]
  },
  {
   "cell_type": "markdown",
   "metadata": {
    "id": "-e4N6fU6TWsf"
   },
   "source": [
    "`4.1 Slicing 1D array`\n",
    "\n",
    "\n",
    "example array: [1, 2, 3, 4, 5, 6, 7]\n"
   ]
  },
  {
   "cell_type": "code",
   "execution_count": 12,
   "metadata": {
    "id": "ufludMjiTWsg"
   },
   "outputs": [
    {
     "name": "stdout",
     "output_type": "stream",
     "text": [
      "[2 3 4 5]\n"
     ]
    }
   ],
   "source": [
    "# create array\n",
    "# slice array\n",
    "#\n",
    "# Q. Slice elements from index 1 to index 5 from the example array.\n",
    "\n",
    "arr1 = np.array([1, 2, 3, 4, 5, 6, 7])\n",
    "arr1_slice = arr1[1:5]\n",
    "\n",
    "print(arr1_slice)"
   ]
  },
  {
   "cell_type": "markdown",
   "metadata": {
    "id": "Y54pQE4WTWsg"
   },
   "source": [
    "<details><summary>Click here for the solution</summary>\n",
    "\n",
    "```python\n",
    "arr1 = np.array([1, 2, 3, 4, 5, 6, 7])\n",
    "arr1_slice = arr1[1:5]\n",
    "\n",
    "print(arr1_slice)\n",
    "```\n",
    "</details>"
   ]
  },
  {
   "cell_type": "code",
   "execution_count": 13,
   "metadata": {
    "id": "tbzipN3lTWsg"
   },
   "outputs": [
    {
     "data": {
      "text/plain": [
       "array([5, 6, 7])"
      ]
     },
     "execution_count": 13,
     "metadata": {},
     "output_type": "execute_result"
    }
   ],
   "source": [
    "# Q. slice elements from index 4 to  the end of the array\n",
    "# hint: [4:]\n",
    "\n",
    "arr1[4:]"
   ]
  },
  {
   "cell_type": "markdown",
   "metadata": {
    "id": "JS7KGUduTWsg"
   },
   "source": [
    "<details><summary>Click here for the solution</summary>\n",
    "\n",
    "```python\n",
    "arr1 = np.array([1, 2, 3, 4, 5, 6, 7])\n",
    "arr1_slice = arr1[4:]\n",
    "print(arr1_slice)\n",
    "```\n",
    "</details>"
   ]
  },
  {
   "cell_type": "code",
   "execution_count": 14,
   "metadata": {
    "id": "HVGyrxMATWsg"
   },
   "outputs": [
    {
     "data": {
      "text/plain": [
       "array([1, 3, 5, 7])"
      ]
     },
     "execution_count": 14,
     "metadata": {},
     "output_type": "execute_result"
    }
   ],
   "source": [
    "# Q. return every element from numpy array  with step 2 i.e. elements at even index.\n",
    "# hint: [::2]\n",
    "\n",
    "arr1[::2]"
   ]
  },
  {
   "cell_type": "markdown",
   "metadata": {
    "id": "QSoyj1Y1TWsh"
   },
   "source": [
    "<details><summary>Click here for the solution</summary>\n",
    "\n",
    "```python\n",
    "arr1 = np.array([1, 2, 3, 4, 5, 6, 7])\n",
    "arr1_slice = arr1[::2]\n",
    "print(arr1_slice)\n",
    "```\n",
    "</details>"
   ]
  },
  {
   "cell_type": "code",
   "execution_count": 15,
   "metadata": {
    "id": "7S31_T8uTWsh"
   },
   "outputs": [
    {
     "data": {
      "text/plain": [
       "array([5, 6])"
      ]
     },
     "execution_count": 15,
     "metadata": {},
     "output_type": "execute_result"
    }
   ],
   "source": [
    "# Q. Slice from the index 3 from the end to index 1 from the end\n",
    "# hint: [-3:-1]\n",
    "\n",
    "arr1[-3:-1]"
   ]
  },
  {
   "cell_type": "markdown",
   "metadata": {
    "id": "r-_SHsUwTWsh"
   },
   "source": [
    "<details><summary>Click here for the solution</summary>\n",
    "\n",
    "```python\n",
    "arr1 = np.array([1, 2, 3, 4, 5, 6, 7])\n",
    "arr1_slice = arr1[-3:-1]\n",
    "print(arr1_slice)\n",
    "```\n",
    "</details>"
   ]
  },
  {
   "cell_type": "code",
   "execution_count": 16,
   "metadata": {
    "id": "uDMre73RTWsh"
   },
   "outputs": [
    {
     "data": {
      "text/plain": [
       "array([7, 6, 5, 4, 3, 2, 1])"
      ]
     },
     "execution_count": 16,
     "metadata": {},
     "output_type": "execute_result"
    }
   ],
   "source": [
    "# Q. Reverse 1D array.\n",
    "# hint: [::-1]\n",
    "\n",
    "arr1[::-1]"
   ]
  },
  {
   "cell_type": "markdown",
   "metadata": {
    "id": "-jIBYYy8TWsh"
   },
   "source": [
    "<details><summary>Click here for the solution</summary>\n",
    "\n",
    "```python\n",
    "arr1 = np.array([1, 2, 3, 4, 5, 6, 7])\n",
    "arr1_rev = arr1[::-1]\n",
    "print(arr1_rev)\n",
    "```\n",
    "</details>"
   ]
  },
  {
   "cell_type": "markdown",
   "metadata": {
    "id": "15XunSikTWsh"
   },
   "source": [
    "`4.1 Slicing 2D array`\n",
    "\n",
    "\n",
    "example array:\n",
    "\n",
    "    [[11, 12, 13],  \n",
    "    [21, 22, 23],  \n",
    "    [31, 32, 33]]  "
   ]
  },
  {
   "cell_type": "code",
   "execution_count": 18,
   "metadata": {},
   "outputs": [
    {
     "data": {
      "text/plain": [
       "array([22, 33])"
      ]
     },
     "execution_count": 18,
     "metadata": {},
     "output_type": "execute_result"
    }
   ],
   "source": [
    "# create 2D array\n",
    "\n",
    "arr2 = np.array([\n",
    "    [11, 12, 13],\n",
    "    [21, 22, 33],\n",
    "    [31, 32, 33]\n",
    "])\n",
    "\n",
    "# slice number 22 and 23\n",
    "\n",
    "arr2[1, 1:]"
   ]
  },
  {
   "cell_type": "markdown",
   "metadata": {
    "id": "1KgvUthTaZAT"
   },
   "source": [
    "### 5. Copy and View [OPTIONAL]\n",
    "- Copy means copy of an original array.\n",
    "- view means just an view of an original array.\n",
    "- When new array is created via copying array, newly created array doesn't shares the memory with original array.\n",
    "- When new array is created via view of an array, newly created array shares the memory with original array."
   ]
  },
  {
   "cell_type": "code",
   "execution_count": 19,
   "metadata": {
    "colab": {
     "base_uri": "https://localhost:8080/"
    },
    "id": "9EhI-YGHTWsi",
    "outputId": "ffaba4c6-aca8-4b68-8529-750b74c69e73"
   },
   "outputs": [
    {
     "name": "stdout",
     "output_type": "stream",
     "text": [
      "[1 2 3 4 5 6]\n"
     ]
    }
   ],
   "source": [
    "# create sample array\n",
    "\n",
    "base_arr= np.array([1, 2, 3, 4, 5, 6])\n",
    "print(base_arr)"
   ]
  },
  {
   "cell_type": "code",
   "execution_count": 20,
   "metadata": {
    "id": "Sdy7ykY4bDg6"
   },
   "outputs": [
    {
     "name": "stdout",
     "output_type": "stream",
     "text": [
      "[1 2 3 4 5 6]\n"
     ]
    }
   ],
   "source": [
    "# 1. create copy of base array\n",
    "\n",
    "copy_arr = base_arr.copy() # same memory location share or NOT\n",
    "# copy_arr = base_arr # same memory location share or NOT\n",
    "print(copy_arr)"
   ]
  },
  {
   "cell_type": "code",
   "execution_count": null,
   "metadata": {},
   "outputs": [],
   "source": []
  },
  {
   "cell_type": "markdown",
   "metadata": {
    "id": "TV4IwTF8bTJg"
   },
   "source": [
    "<details><summary>Click here for the solution</summary>\n",
    "\n",
    "```python\n",
    "copy_arr = base_arr.copy()\n",
    "print(copy_arr)\n",
    "```\n",
    "</details>"
   ]
  },
  {
   "cell_type": "code",
   "execution_count": 21,
   "metadata": {
    "id": "rruE-fxibP4p"
   },
   "outputs": [
    {
     "name": "stdout",
     "output_type": "stream",
     "text": [
      "Do original array and copy array shares an memory?\n",
      "Ans: False\n"
     ]
    }
   ],
   "source": [
    "# test memory sharing between base and copy array\n",
    "# hint: np.shares_memory(arr1, arr2)\n",
    "\n",
    "print(f\"\"\"Do original array and copy array shares an memory?\n",
    "      Ans: {np.shares_memory(base_arr, copy_arr)}\"\"\")"
   ]
  },
  {
   "cell_type": "markdown",
   "metadata": {
    "id": "66_1fzyJbmDK"
   },
   "source": [
    "<details><summary>Click here for the solution</summary>\n",
    "\n",
    "```python\n",
    "print(f\"Do original array and copy aray shares an memory?\\nAns: {np.shares_memory(base_arr, copy_arr)}\")\n",
    "```\n",
    "</details>"
   ]
  },
  {
   "cell_type": "code",
   "execution_count": 22,
   "metadata": {
    "id": "qW3kWYnHb3JW"
   },
   "outputs": [
    {
     "name": "stdout",
     "output_type": "stream",
     "text": [
      "[1 2 3 4 5 6]\n"
     ]
    }
   ],
   "source": [
    "# 2. create view of base array\n",
    "\n",
    "view_arr = base_arr.view()\n",
    "print(view_arr)"
   ]
  },
  {
   "cell_type": "markdown",
   "metadata": {
    "id": "bcMJQ_oSirK-"
   },
   "source": [
    "<details><summary>Click here for the solution</summary>\n",
    "\n",
    "```python\n",
    "view_arr = base_arr.view()\n",
    "```\n",
    "</details>"
   ]
  },
  {
   "cell_type": "code",
   "execution_count": 23,
   "metadata": {
    "id": "nuW81dhNcQAB"
   },
   "outputs": [
    {
     "name": "stdout",
     "output_type": "stream",
     "text": [
      "Do original array and view array shares an memory?\n",
      "Ans: True\n"
     ]
    }
   ],
   "source": [
    "# test memory sharing between base and view array\n",
    "# hint: np.shares_memory(arr1, arr2)\n",
    "\n",
    "print(f\"Do original array and view array shares an memory?\\nAns: {np.shares_memory(base_arr, view_arr)}\")"
   ]
  },
  {
   "cell_type": "markdown",
   "metadata": {
    "id": "Qdj6fj7Oi2Uj"
   },
   "source": [
    "<details><summary>Click here for the solution</summary>\n",
    "\n",
    "```python\n",
    "print(f\"Do original array and copy aray shares an memory?\\nAns: {np.shares_memory(base_arr, view_arr)}\")\n",
    "```\n",
    "</details>"
   ]
  },
  {
   "cell_type": "markdown",
   "metadata": {
    "id": "L5vHznP_jINK"
   },
   "source": [
    "**Note:**\n",
    "- If view of an array shares the memory then the memory address of original array and view of an array should be equal.\n",
    "- Let's now test the memory address.\n",
    "- `id()` function gives the identity of the different python objects such as integer, string, etc but it doesn't mean that is the exacy memory address.\n",
    "\n",
    "Let's define a python function to print memory address of original_array, copy_array, and view_array."
   ]
  },
  {
   "cell_type": "code",
   "execution_count": 27,
   "metadata": {
    "id": "yJrQwCwrcZbS"
   },
   "outputs": [],
   "source": [
    "def get_memory_address(arr):\n",
    "    return arr.__array_interface__[\"data\"][0]"
   ]
  },
  {
   "cell_type": "code",
   "execution_count": 28,
   "metadata": {
    "id": "67s_zBh4dPko"
   },
   "outputs": [
    {
     "name": "stdout",
     "output_type": "stream",
     "text": [
      "48627104\n"
     ]
    }
   ],
   "source": [
    "# memory address of base array\n",
    "print(get_memory_address(base_arr))"
   ]
  },
  {
   "cell_type": "code",
   "execution_count": 29,
   "metadata": {
    "id": "8ySftcPjdWG5"
   },
   "outputs": [
    {
     "name": "stdout",
     "output_type": "stream",
     "text": [
      "48627104\n"
     ]
    }
   ],
   "source": [
    "# memory address of view array\n",
    "print(get_memory_address(view_arr))"
   ]
  },
  {
   "cell_type": "code",
   "execution_count": 30,
   "metadata": {
    "id": "aYaEa8hFdaMC"
   },
   "outputs": [
    {
     "name": "stdout",
     "output_type": "stream",
     "text": [
      "48969664\n"
     ]
    }
   ],
   "source": [
    "# memory address of copy array\n",
    "print(get_memory_address(copy_arr))"
   ]
  },
  {
   "cell_type": "markdown",
   "metadata": {
    "id": "GoePNjHrmHDK"
   },
   "source": [
    "- `memory address of base array and view array is same`\n",
    "- `memory address of base array and copy array is different`"
   ]
  },
  {
   "cell_type": "markdown",
   "metadata": {
    "id": "S1fgKLaGnNvv"
   },
   "source": [
    "**updating content of view array changes original base array**"
   ]
  },
  {
   "cell_type": "code",
   "execution_count": 31,
   "metadata": {
    "id": "XVvdVfedmDp3"
   },
   "outputs": [
    {
     "name": "stdout",
     "output_type": "stream",
     "text": [
      "[100   2   3   4   5   6]\n"
     ]
    }
   ],
   "source": [
    "# update item at index=0 from view array\n",
    "view_arr[0] = 100\n",
    "print(view_arr)"
   ]
  },
  {
   "cell_type": "code",
   "execution_count": 32,
   "metadata": {
    "colab": {
     "base_uri": "https://localhost:8080/"
    },
    "id": "8qS1YtPcniJ6",
    "outputId": "ffa851d7-2871-4a72-db4c-84f92e3e1669"
   },
   "outputs": [
    {
     "name": "stdout",
     "output_type": "stream",
     "text": [
      "[100   2   3   4   5   6]\n"
     ]
    }
   ],
   "source": [
    "# verify changes in base array\n",
    "print(base_arr)"
   ]
  },
  {
   "cell_type": "code",
   "execution_count": 33,
   "metadata": {
    "id": "ll4UBT6CnmaW"
   },
   "outputs": [
    {
     "name": "stdout",
     "output_type": "stream",
     "text": [
      "[1 2 3 4 5 6]\n"
     ]
    }
   ],
   "source": [
    "# but, copy array is unchanged\n",
    "print(copy_arr)"
   ]
  },
  {
   "cell_type": "markdown",
   "metadata": {
    "id": "ORZ5SsWsnyfU"
   },
   "source": [
    "- Thus,\n",
    "  - updating content of view array, updates original array\n",
    "  - updating content of copy array, doesn't changes the original array"
   ]
  },
  {
   "cell_type": "markdown",
   "metadata": {
    "id": "D3NbowZCoj67"
   },
   "source": [
    "### 6. Subarrays as no-copy view\n",
    "- Subarrays created via slicing original arrays is the view of an original arrays.\n",
    "- Changing content in the sliced array, changes the original array as well."
   ]
  },
  {
   "cell_type": "code",
   "execution_count": 34,
   "metadata": {
    "id": "ar7IvP7_nwgV"
   },
   "outputs": [
    {
     "name": "stdout",
     "output_type": "stream",
     "text": [
      "[1 2 3 4 5 6 7 8 3]\n"
     ]
    }
   ],
   "source": [
    "# create new 1D array of shape: (9, )\n",
    "base_arr = np.array([1, 2, 3, 4, 5, 6, 7, 8, 3])\n",
    "print(base_arr)"
   ]
  },
  {
   "cell_type": "code",
   "execution_count": 36,
   "metadata": {
    "id": "LHZTXrnSpLMA"
   },
   "outputs": [
    {
     "name": "stdout",
     "output_type": "stream",
     "text": [
      "[1 2 3]\n"
     ]
    }
   ],
   "source": [
    "# sliced first 3 items\n",
    "sliced_arr = base_arr[:3]\n",
    "print(sliced_arr)"
   ]
  },
  {
   "cell_type": "code",
   "execution_count": 37,
   "metadata": {
    "id": "PJbcMEecpOmy"
   },
   "outputs": [
    {
     "name": "stdout",
     "output_type": "stream",
     "text": [
      "48943456\n",
      "48943456\n"
     ]
    }
   ],
   "source": [
    "# test memory address\n",
    "print(get_memory_address(base_arr))\n",
    "print(get_memory_address(sliced_arr))"
   ]
  },
  {
   "cell_type": "markdown",
   "metadata": {
    "id": "eJ549yOTpY8z"
   },
   "source": [
    "- `Memory address of original array and sliced array is same.`\n",
    "- `Updating sliced array content also updates the original array content and vice-versa.`\n"
   ]
  },
  {
   "cell_type": "code",
   "execution_count": null,
   "metadata": {
    "id": "sHO3-lHvpXYw"
   },
   "outputs": [],
   "source": []
  },
  {
   "cell_type": "markdown",
   "metadata": {
    "id": "L9cJprbyqbsQ"
   },
   "source": [
    "### 7. Reshaping of Arrays\n",
    "- The shape of an array is number of element in each dimensions like (2, 3).\n",
    "- Reshaping means changing the shape of an array.\n",
    "- By reshaping we can add or remove dimensions or change the number of elements in each dimension.\n",
    "- **Example:**\n",
    "  - Resphape 1D to 2D\n",
    "  - Reshape 1D to 3D\n",
    "\n"
   ]
  },
  {
   "cell_type": "markdown",
   "metadata": {
    "id": "Z8AGf-2UuGVJ"
   },
   "source": [
    "#### 7.1 Reshape 1D to 2D  \n",
    "**`Q. Reshape following 1D array with 12 elements to 2D array of shape (4, 3)`**\n",
    "\n",
    "  - arr = np.array([1, 2, 3, 4, 5, 6, 7, 8, 9, 10, 11, 12])\n",
    "\n"
   ]
  },
  {
   "cell_type": "code",
   "execution_count": 4,
   "metadata": {
    "id": "4NhsQhgouFxH"
   },
   "outputs": [
    {
     "data": {
      "text/plain": [
       "array([[ 1,  2,  3],\n",
       "       [ 4,  5,  6],\n",
       "       [ 7,  8,  9],\n",
       "       [10, 11, 12]])"
      ]
     },
     "execution_count": 4,
     "metadata": {},
     "output_type": "execute_result"
    }
   ],
   "source": [
    "# write your program here\n",
    "arr = np.array([1, 2, 3, 4, 5, 6, 7, 8, 9, 10, 11, 12])\n",
    "np.reshape(arr, (4, 3))"
   ]
  },
  {
   "cell_type": "markdown",
   "metadata": {
    "id": "2Wo5Qd0AuSQ_"
   },
   "source": [
    "#### 7.2 Reshape 1D to 3D\n",
    "\n",
    "**`Q. Reshape following 1D array with 12 elements to 3D array of shape (2, 3, 2)`**\n",
    "- arr = np.array([1, 2, 3, 4, 5, 6, 7, 8, 9, 10, 11, 12])\n",
    "\n"
   ]
  },
  {
   "cell_type": "code",
   "execution_count": 5,
   "metadata": {
    "id": "BCwUS3HhuT9D"
   },
   "outputs": [
    {
     "data": {
      "text/plain": [
       "array([[[ 1,  2],\n",
       "        [ 3,  4],\n",
       "        [ 5,  6]],\n",
       "\n",
       "       [[ 7,  8],\n",
       "        [ 9, 10],\n",
       "        [11, 12]]])"
      ]
     },
     "execution_count": 5,
     "metadata": {},
     "output_type": "execute_result"
    }
   ],
   "source": [
    "# write your program here\n",
    "arr.reshape((2, 3, 2))"
   ]
  },
  {
   "cell_type": "code",
   "execution_count": null,
   "metadata": {},
   "outputs": [],
   "source": []
  },
  {
   "cell_type": "markdown",
   "metadata": {
    "id": "MvHnUCX_vPhr"
   },
   "source": [
    "#### 7.3 Can we reshape to any shape?\n",
    "- Yes, as long as element required for reshaping are equal in both shapes.\n",
    "\n",
    "**`Q. Convert 1D array with 8 elements to a 2D array with shape (3, 3)`**\n",
    "- arr = np.array([1, 2, 3, 4, 5, 6, 7, 8])\n"
   ]
  },
  {
   "cell_type": "code",
   "execution_count": 6,
   "metadata": {
    "id": "V_I0pi8jvs6w"
   },
   "outputs": [
    {
     "ename": "ValueError",
     "evalue": "cannot reshape array of size 8 into shape (3,3)",
     "output_type": "error",
     "traceback": [
      "\u001b[0;31m---------------------------------------------------------------------------\u001b[0m",
      "\u001b[0;31mValueError\u001b[0m                                Traceback (most recent call last)",
      "Cell \u001b[0;32mIn[6], line 3\u001b[0m\n\u001b[1;32m      1\u001b[0m \u001b[39m# write your program here\u001b[39;00m\n\u001b[1;32m      2\u001b[0m arr \u001b[39m=\u001b[39m np\u001b[39m.\u001b[39marray([\u001b[39m1\u001b[39m, \u001b[39m2\u001b[39m, \u001b[39m3\u001b[39m, \u001b[39m4\u001b[39m, \u001b[39m5\u001b[39m, \u001b[39m6\u001b[39m, \u001b[39m7\u001b[39m, \u001b[39m8\u001b[39m])\n\u001b[0;32m----> 3\u001b[0m arr\u001b[39m.\u001b[39;49mreshape((\u001b[39m3\u001b[39;49m, \u001b[39m3\u001b[39;49m))\n",
      "\u001b[0;31mValueError\u001b[0m: cannot reshape array of size 8 into shape (3,3)"
     ]
    }
   ],
   "source": [
    "# write your program here\n",
    "arr = np.array([1, 2, 3, 4, 5, 6, 7, 8])\n",
    "arr.reshape((3, 3))"
   ]
  },
  {
   "cell_type": "markdown",
   "metadata": {
    "id": "EbQOTCfQwh3_"
   },
   "source": [
    "- This process raise an exception, since there are 8 elements before reshaping and 9 elements after reshaping.\n",
    "- For reshaping to happen, number of elements before reshaping should be equal to number of elements after reshaping."
   ]
  },
  {
   "cell_type": "code",
   "execution_count": null,
   "metadata": {
    "id": "1Wzmdqojwd82"
   },
   "outputs": [],
   "source": []
  },
  {
   "cell_type": "markdown",
   "metadata": {
    "id": "EHKtHAAXyoZ_"
   },
   "source": [
    "### 8. Joining Arrays\n",
    "- Array Joining means putting content of two or more array in a single array\n",
    "- In SQL  we join tables based on keys, whereas in NumPy we join arrays by axes.\n",
    "- Array Joining can be done in two ways:\n",
    "  - `Concatenation:` using concatenate() function\n",
    "  - `Stacking:` using stack() function\n",
    "\n"
   ]
  },
  {
   "cell_type": "markdown",
   "metadata": {
    "id": "3PyxFvPHzBrU"
   },
   "source": [
    "#### 8.1 Concatenation\n",
    "- We pass  sequence of arrays that we want to the **concatenate()** function.\n",
    "- After concatenating dimensions of resulting array will be same as that of individual array.\n",
    "- Order of concatenation will be based on the order in which array are passed to the **concatenate()** function.\n",
    "\n",
    "- **Syntax:**\n",
    "  - `np.concatenate((a1, a2,....), axis=0, out=None)`\n",
    "    - a1, a2, … :  Sequence of array_like. The array must  have the same shape\n",
    "    - axis: Int, optional.  axis along which array will be concatenated\n",
    "    - out: ndarray, optional.  The destination to place the result."
   ]
  },
  {
   "cell_type": "markdown",
   "metadata": {
    "id": "hrqb4c-3z_t1"
   },
   "source": [
    "**Q. Concatenate 1D Array**"
   ]
  },
  {
   "cell_type": "code",
   "execution_count": 3,
   "metadata": {
    "id": "KjHE8dKny_AC"
   },
   "outputs": [
    {
     "data": {
      "text/plain": [
       "array([1, 1, 1, 1, 2, 2, 2, 2])"
      ]
     },
     "execution_count": 3,
     "metadata": {},
     "output_type": "execute_result"
    }
   ],
   "source": [
    "# write your program here\n",
    "arr1 = np.array([1, 1, 1, 1])\n",
    "arr2 = np.array([2, 2, 2, 2])\n",
    "\n",
    "concat_arr = np.concatenate((arr1, arr2))\n",
    "concat_arr"
   ]
  },
  {
   "cell_type": "markdown",
   "metadata": {
    "id": "xlLHFl7X0F4J"
   },
   "source": [
    "**Q. Concatenate 2D Array (axis = 0)**"
   ]
  },
  {
   "cell_type": "code",
   "execution_count": 4,
   "metadata": {
    "id": "skBa8-500FYj"
   },
   "outputs": [
    {
     "data": {
      "text/plain": [
       "array([[1, 1, 1],\n",
       "       [1, 1, 1],\n",
       "       [9, 9, 9],\n",
       "       [9, 9, 9]])"
      ]
     },
     "execution_count": 4,
     "metadata": {},
     "output_type": "execute_result"
    }
   ],
   "source": [
    "# write your program here\n",
    "\n",
    "a = np.array([\n",
    "    [1, 1, 1],\n",
    "    [1, 1, 1]\n",
    "])\n",
    "\n",
    "b = np.array([\n",
    "    [9, 9, 9],\n",
    "    [9, 9, 9]\n",
    "])\n",
    "\n",
    "concat_0 = np.concatenate((a, b))\n",
    "concat_0"
   ]
  },
  {
   "cell_type": "markdown",
   "metadata": {
    "id": "UP6XFoja0axP"
   },
   "source": [
    "**Q. Concatenate 2D Array (axis = 1)**"
   ]
  },
  {
   "cell_type": "code",
   "execution_count": 5,
   "metadata": {
    "id": "PGp6VPKW0aWX"
   },
   "outputs": [
    {
     "data": {
      "text/plain": [
       "array([[1, 1, 1, 9, 9, 9],\n",
       "       [1, 1, 1, 9, 9, 9]])"
      ]
     },
     "execution_count": 5,
     "metadata": {},
     "output_type": "execute_result"
    }
   ],
   "source": [
    "# write your program here\n",
    "\n",
    "concat_1 = np.concatenate((a, b), axis=1)\n",
    "concat_1"
   ]
  },
  {
   "cell_type": "markdown",
   "metadata": {
    "id": "5IPkaFhL0pyZ"
   },
   "source": [
    "### 9. Splitting Arrays\n",
    "- Splitting is reverse operations of joining\n",
    "- Joining merges multiple arrays into one.\n",
    "- Splitting breaks one array into multiple one.\n",
    "- Can be implemented using numpy functions:\n",
    "  - `numpy.split()`\n",
    "  - `numpy.array_split()`\n",
    "\n",
    "- We pass array we want to split and the number of split.\n",
    "- Sub-arrays obtained after splitting is only view of the original arrays.\n",
    "  - Changes made to the sub-arrays also reflect changes in the original array.\n"
   ]
  },
  {
   "cell_type": "markdown",
   "metadata": {
    "id": "7rQjilm9i-M0"
   },
   "source": [
    "**Splitting 1D array i.e. [1, 2, 3, 4, 5, 6] into 4 parts**"
   ]
  },
  {
   "cell_type": "code",
   "execution_count": 6,
   "metadata": {
    "colab": {
     "base_uri": "https://localhost:8080/"
    },
    "id": "jQQ1oxq3jRE0",
    "outputId": "ac1063a0-8ed2-486a-f9b2-15d208c5ba61"
   },
   "outputs": [
    {
     "name": "stdout",
     "output_type": "stream",
     "text": [
      "[1 2 3 4 5 6]\n"
     ]
    }
   ],
   "source": [
    "# initialize array\n",
    "split_array = np.array([1, 2, 3, 4, 5, 6])\n",
    "print(split_array)"
   ]
  },
  {
   "cell_type": "code",
   "execution_count": 18,
   "metadata": {
    "colab": {
     "base_uri": "https://localhost:8080/"
    },
    "id": "KsG3PWT10m5k",
    "outputId": "d0b1cd4f-31d4-4a50-a3fb-70c172ff4d51"
   },
   "outputs": [
    {
     "ename": "ValueError",
     "evalue": "array split does not result in an equal division",
     "output_type": "error",
     "traceback": [
      "\u001b[0;31m---------------------------------------------------------------------------\u001b[0m",
      "\u001b[0;31mValueError\u001b[0m                                Traceback (most recent call last)",
      "Cell \u001b[0;32mIn[18], line 3\u001b[0m\n\u001b[1;32m      1\u001b[0m \u001b[39m# 1. using numpy.split()\u001b[39;00m\n\u001b[1;32m      2\u001b[0m \u001b[39m# Hint: .split(array, 4)\u001b[39;00m\n\u001b[0;32m----> 3\u001b[0m np\u001b[39m.\u001b[39;49msplit(split_array, \u001b[39m4\u001b[39;49m)\n",
      "File \u001b[0;32m<__array_function__ internals>:200\u001b[0m, in \u001b[0;36msplit\u001b[0;34m(*args, **kwargs)\u001b[0m\n",
      "File \u001b[0;32m~/.local/lib/python3.8/site-packages/numpy/lib/shape_base.py:872\u001b[0m, in \u001b[0;36msplit\u001b[0;34m(ary, indices_or_sections, axis)\u001b[0m\n\u001b[1;32m    870\u001b[0m     N \u001b[39m=\u001b[39m ary\u001b[39m.\u001b[39mshape[axis]\n\u001b[1;32m    871\u001b[0m     \u001b[39mif\u001b[39;00m N \u001b[39m%\u001b[39m sections:\n\u001b[0;32m--> 872\u001b[0m         \u001b[39mraise\u001b[39;00m \u001b[39mValueError\u001b[39;00m(\n\u001b[1;32m    873\u001b[0m             \u001b[39m'\u001b[39m\u001b[39marray split does not result in an equal division\u001b[39m\u001b[39m'\u001b[39m) \u001b[39mfrom\u001b[39;00m \u001b[39mNone\u001b[39m\n\u001b[1;32m    874\u001b[0m \u001b[39mreturn\u001b[39;00m array_split(ary, indices_or_sections, axis)\n",
      "\u001b[0;31mValueError\u001b[0m: array split does not result in an equal division"
     ]
    }
   ],
   "source": [
    "# 1. using numpy.split()\n",
    "# Hint: .split(array, 4)\n",
    "np.split(split_array, 4)"
   ]
  },
  {
   "cell_type": "code",
   "execution_count": 19,
   "metadata": {
    "id": "NoTykq9ajiME"
   },
   "outputs": [
    {
     "data": {
      "text/plain": [
       "[array([1, 2]), array([3, 4]), array([5]), array([6])]"
      ]
     },
     "execution_count": 19,
     "metadata": {},
     "output_type": "execute_result"
    }
   ],
   "source": [
    "# 2. using numpy.array_split()\n",
    "# Hint: .array_split(array, 4)\n",
    "np.array_split(split_array, 4)"
   ]
  },
  {
   "cell_type": "markdown",
   "metadata": {
    "id": "1En57P2ck25p"
   },
   "source": [
    "**Splitting 2D array (axis = 0)**"
   ]
  },
  {
   "cell_type": "code",
   "execution_count": 3,
   "metadata": {
    "id": "al0gp6I8kVcq"
   },
   "outputs": [],
   "source": [
    "# Define array\n",
    "split_array_2d = np.array([\n",
    "    [1, 2, 3],\n",
    "    [4, 5, 6],\n",
    "    [7, 8, 9],\n",
    "    [10, 11, 12],\n",
    "    [13, 14, 15],\n",
    "    [16, 17, 18]\n",
    "])"
   ]
  },
  {
   "cell_type": "code",
   "execution_count": 15,
   "metadata": {
    "id": "jDJtsvlElpoT"
   },
   "outputs": [
    {
     "data": {
      "text/plain": [
       "[array([[1, 2, 3],\n",
       "        [4, 5, 6]]),\n",
       " array([[ 7,  8,  9],\n",
       "        [10, 11, 12]]),\n",
       " array([[13, 14, 15],\n",
       "        [16, 17, 18]])]"
      ]
     },
     "execution_count": 15,
     "metadata": {},
     "output_type": "execute_result"
    }
   ],
   "source": [
    "# 1. using array_split for 3 split\n",
    "# Hint: .array_split(array, 3)\n",
    "np.array_split(split_array_2d, 3)"
   ]
  },
  {
   "cell_type": "code",
   "execution_count": 4,
   "metadata": {
    "id": "sNEqOqWQl1Vl"
   },
   "outputs": [
    {
     "data": {
      "text/plain": [
       "[array([[1, 2, 3],\n",
       "        [4, 5, 6]]),\n",
       " array([[ 7,  8,  9],\n",
       "        [10, 11, 12]]),\n",
       " array([[13, 14, 15],\n",
       "        [16, 17, 18]])]"
      ]
     },
     "execution_count": 4,
     "metadata": {},
     "output_type": "execute_result"
    }
   ],
   "source": [
    "# 2. using split for 3 split\n",
    "# Hint: .split(array, 3)\n",
    "\n",
    "np.split(split_array_2d, 3)"
   ]
  },
  {
   "cell_type": "markdown",
   "metadata": {
    "id": "AqOxzMTumV3v"
   },
   "source": [
    "**Splitting 2D array (axis = 1)**"
   ]
  },
  {
   "cell_type": "code",
   "execution_count": 5,
   "metadata": {
    "id": "nalfssHkmW-w"
   },
   "outputs": [
    {
     "data": {
      "text/plain": [
       "[array([[ 1],\n",
       "        [ 4],\n",
       "        [ 7],\n",
       "        [10],\n",
       "        [13],\n",
       "        [16]]),\n",
       " array([[ 2],\n",
       "        [ 5],\n",
       "        [ 8],\n",
       "        [11],\n",
       "        [14],\n",
       "        [17]]),\n",
       " array([[ 3],\n",
       "        [ 6],\n",
       "        [ 9],\n",
       "        [12],\n",
       "        [15],\n",
       "        [18]])]"
      ]
     },
     "execution_count": 5,
     "metadata": {},
     "output_type": "execute_result"
    }
   ],
   "source": [
    "# 1. using array_split\n",
    "# Hint: .array_split(array, 3, axis=1)\n",
    "\n",
    "np.array_split(split_array_2d, 3, axis=1)"
   ]
  },
  {
   "cell_type": "code",
   "execution_count": 6,
   "metadata": {
    "id": "qiMoih2joCHN"
   },
   "outputs": [
    {
     "data": {
      "text/plain": [
       "[array([[ 1],\n",
       "        [ 4],\n",
       "        [ 7],\n",
       "        [10],\n",
       "        [13],\n",
       "        [16]]),\n",
       " array([[ 2],\n",
       "        [ 5],\n",
       "        [ 8],\n",
       "        [11],\n",
       "        [14],\n",
       "        [17]]),\n",
       " array([[ 3],\n",
       "        [ 6],\n",
       "        [ 9],\n",
       "        [12],\n",
       "        [15],\n",
       "        [18]])]"
      ]
     },
     "execution_count": 6,
     "metadata": {},
     "output_type": "execute_result"
    }
   ],
   "source": [
    "# 1. using split\n",
    "# Hint: .split(array, 3, axis=1)\n",
    "\n",
    "np.split(split_array_2d, 3, axis=1)"
   ]
  },
  {
   "cell_type": "code",
   "execution_count": null,
   "metadata": {
    "id": "kOgMTmN8oS7v"
   },
   "outputs": [],
   "source": []
  },
  {
   "cell_type": "markdown",
   "metadata": {
    "id": "fBemc-a5oheZ"
   },
   "source": [
    "### 9. Numpy Universal Functions (Ufuncs)\n",
    "- Looping over the array to perform repeated task like addition, subtraction, etc on each array element are common.\n",
    "- Computation time to perform such repeated task increases with relatively larger data.\n",
    "- NumPy makes this faster by using vectorized operations, implemented through **ufuncs**\n",
    "- **Types:**\n",
    "  - `Unary Ufuncs`\n",
    "    - Operates on single inputs.\n",
    "    - Example: negation of input array x\n",
    "\n",
    "  - `Binary Ufuncs`\n",
    "    - Operates on two inputs.\n",
    "    - Example: addition of two input array x and y\n",
    "\n",
    "\n",
    "\n",
    "| Operator | Equivalent ufunc | Description |  \n",
    "|----------|------------------|-------------|\n",
    "| `+`      | `np.add`         | Element-wise addition (e..g 1+1 = 2) |\n",
    "| `-`      | `np.subtract`    | Element-wise subtraction (e.g. 1-1 = 0) |\n",
    "| `*`      | `np.multiply`    | Element-wise multiplication (e.g. 1*1 = 1) |\n",
    "| `/`      | `np.divide`      | Element-wise division (e.g. 1/1 = 1) |\n",
    "| `//`     | `np.floor_divide`| Element-wise floor division (e.g. 1//1 = 1)|\n",
    "| `%`      | `np.mod`         | Element-wise modulo (e.g. 1%1 = 0)|\n",
    "| `**`     | `np.power`       | Element-wise exponentiation (e.g. 1**1 = 1)|\n",
    "| `abs()`  | `np.abs`         | Element-wise absolute value(e.g. np.abs(-1) = 1) |"
   ]
  },
  {
   "cell_type": "markdown",
   "metadata": {
    "id": "GqF5z7fmqmy8"
   },
   "source": [
    "#### 9.1 Computation Time (without Ufuncs)\n"
   ]
  },
  {
   "cell_type": "code",
   "execution_count": 2,
   "metadata": {
    "id": "YsnFSF47pCJ-"
   },
   "outputs": [
    {
     "name": "stdout",
     "output_type": "stream",
     "text": [
      "7.268750715000001\n"
     ]
    }
   ],
   "source": [
    "import time \n",
    "\n",
    "# write your program here\n",
    "\n",
    "x1 = np.arange(1, 10000000)\n",
    "x2 = np.arange(1, 10000000)\n",
    "\n",
    "# array to hold multiplications\n",
    "mul = np.zeros(x1.shape)\n",
    "\n",
    "start_time = time.process_time()\n",
    "\n",
    "for i in range(len(x1)):\n",
    "  mul[i] = x1[i] * x2[i]\n",
    "\n",
    "end_time = time.process_time()\n",
    "\n",
    "print(end_time - start_time)"
   ]
  },
  {
   "cell_type": "markdown",
   "metadata": {
    "id": "f4XG8s8xq0rC"
   },
   "source": [
    "#### 9.2 Computation Time (with Ufuncs)\n"
   ]
  },
  {
   "cell_type": "code",
   "execution_count": 3,
   "metadata": {
    "id": "BA6PgaJLqzjP"
   },
   "outputs": [
    {
     "name": "stdout",
     "output_type": "stream",
     "text": [
      "0.20835461899999963\n"
     ]
    }
   ],
   "source": [
    "# write your program here\n",
    "\n",
    "start_time = time.process_time()\n",
    "\n",
    "# mul_unfunc = np.multiply(x1, x2)\n",
    "mul_unfunc = x1 * x2\n",
    "\n",
    "end_time = time.process_time()\n",
    "\n",
    "print(end_time - start_time)"
   ]
  },
  {
   "cell_type": "markdown",
   "metadata": {
    "id": "phQ5Gyw4rptC"
   },
   "source": [
    "- **Note:**\n",
    "  - Using Ufuncs, computation time is less compared to classic python for loops.\n",
    "  - The reason behind less computation time using ufuncs is due to **Vectorization**"
   ]
  },
  {
   "cell_type": "markdown",
   "metadata": {
    "id": "U7GCel4ctZyD"
   },
   "source": [
    "### 10. Vectorization\n",
    "\n",
    "- It’s a technique in order to getting rid of  explicit for loop in python.\n",
    "- Vectorization can be performed using parallelization instruction called\n",
    " **SIMD** instruction.\n",
    " - SIMD stands for single instruction multiple data.\n",
    " - In python SIMD is enabled through Ufuncs.\n",
    "  - Helps python NumPy to take much better advantage of parallelism to do computation faster.\n",
    "\n",
    "\n",
    "- **Deep Learning**\n",
    "    - Famous in different task such as Classification, Segmentation, Detection, etc.\n",
    "    - Deep Learning demands large number of data that helps model to generalize.\n",
    "    - Large number of training set leads to large number of time to run the code i.e. need to wait long time to get the result.\n",
    "    - So, in deep learning ability to perform vectorization has become key skill.\n",
    "\n",
    "- **Note:**\n",
    "  - whenever possible avoid using explicit for loops\n",
    "\n",
    "\n",
    "\n"
   ]
  },
  {
   "cell_type": "code",
   "execution_count": null,
   "metadata": {
    "id": "ldsv23I5q_un"
   },
   "outputs": [],
   "source": []
  },
  {
   "cell_type": "markdown",
   "metadata": {
    "id": "NIDJb3B9t9oy"
   },
   "source": [
    "### 11. Broadcasting in Python\n",
    "- Broadcasting is a powerful feature in NumPy that allows for element-wise operations between arrays of different shapes and sizes.\n",
    "- What will happen if we add 2 numpy array of different shapes?\n",
    "  - This can be answered using the concepts of Broadcasting.\n",
    "\n",
    "\n",
    "- **Working:**\n",
    "  - NumPy performs broadcasting by automatically expanding dimensions of smaller arrays to match the shape of larger arrays.\n",
    "  - Broadcasting follows a set of rules to determine how dimensions should be aligned for element-wise operations.\n",
    "\n",
    "- **Broadcasting Rules:**\n",
    "  - `Rule 1: `\n",
    "    - If the two arrays differ in their number of dimensions, the shape of the one with fewer dimensions is padded with ones on its leading (left) side.\n",
    "\n",
    "  - `Rule 2:`\n",
    "    - If the shape of the two arrays does not match in any dimension, the array with shape equal to 1 in that dimension is stretched to match the other shape.\n",
    "\n",
    "  - `Rule 3:`\n",
    "    - If in any dimension the sizes disagree and neither is equal to 1, an error is raised."
   ]
  },
  {
   "cell_type": "markdown",
   "metadata": {
    "id": "JFy6bLjPxPMa"
   },
   "source": [
    "**1. Broadcasting with Scalars**"
   ]
  },
  {
   "cell_type": "code",
   "execution_count": null,
   "metadata": {
    "colab": {
     "base_uri": "https://localhost:8080/"
    },
    "id": "t9MFfug6uAx9",
    "outputId": "16ea32e8-b6ef-4510-df69-e39ff5f5e927"
   },
   "outputs": [
    {
     "name": "stdout",
     "output_type": "stream",
     "text": [
      "[3 4 5]\n"
     ]
    }
   ],
   "source": [
    "# write your program here\n",
    "\n",
    "a = np.array([1, 2, 3])\n",
    "b = 2\n",
    "\n",
    "print(a + b)"
   ]
  },
  {
   "cell_type": "markdown",
   "metadata": {
    "id": "EED5FUSt1RMg"
   },
   "source": [
    "- `Explanation:`\n",
    "  - shape of a: (3,)\n",
    "  - shape of b: None\n",
    "\n",
    "  - Rule1: Make shape of b to that of a\n",
    "    - i.e. shape of b: (1,)\n",
    "\n",
    "  - Rule2: Stretched b to make shape equal to a\n",
    "    - i.e. shape of b: (3,)\n",
    "\n",
    "  - Both a and b are of same shape Perform addition"
   ]
  },
  {
   "cell_type": "markdown",
   "metadata": {
    "id": "NahqGE85xSQP"
   },
   "source": [
    "**2. Broadcasting with 1D and 2D Arrays**"
   ]
  },
  {
   "cell_type": "code",
   "execution_count": null,
   "metadata": {
    "colab": {
     "base_uri": "https://localhost:8080/"
    },
    "id": "08IOXsu3xXMA",
    "outputId": "f22f7bd0-0924-4a53-eeb3-3a464be589d6"
   },
   "outputs": [
    {
     "name": "stdout",
     "output_type": "stream",
     "text": [
      "shape of a: (3,)\n",
      "shape of b: (3, 1)\n",
      "\n",
      "a + b = [[11 12 13]\n",
      " [21 22 23]\n",
      " [31 32 33]]\n"
     ]
    }
   ],
   "source": [
    "# write your program here\n",
    "\n",
    "a = np.array([1, 2, 3])\n",
    "b = np.array([[10], [20], [30]])\n",
    "\n",
    "print(f\"shape of a: {a.shape}\")\n",
    "print(f\"shape of b: {b.shape}\")\n",
    "\n",
    "print(f\"\\na + b = {a + b}\")"
   ]
  },
  {
   "cell_type": "markdown",
   "metadata": {
    "id": "8xu4y_QZ2L4K"
   },
   "source": [
    "- `Explanation:`\n",
    "  - a is 1 dimension less to that b.\n",
    "\n",
    "  - Rule1: increase dimension of a by adding 1 in left side.\n",
    "    - new shape of a: (1, 3)\n",
    "\n",
    "  - Rule2:\n",
    "    - stretch dimension 1 of a to match to dimension of b\n",
    "      - shape: (3, 3)\n",
    "    - stretch dimesion 1 of b to match to dimension of a\n",
    "      - shape: (3, 3)\n",
    "\n",
    "  - Perform addition, since shape of 2 arrays are same"
   ]
  },
  {
   "cell_type": "markdown",
   "metadata": {
    "id": "j_7utEuGxfDk"
   },
   "source": [
    "**3. Broadcasting with Incompatible Shapes**"
   ]
  },
  {
   "cell_type": "code",
   "execution_count": null,
   "metadata": {
    "colab": {
     "base_uri": "https://localhost:8080/",
     "height": 218
    },
    "id": "pD3HDh7Jxa9Z",
    "outputId": "9d34b209-c5b1-4f16-8d38-eebac72a8c17"
   },
   "outputs": [
    {
     "ename": "ValueError",
     "evalue": "ignored",
     "output_type": "error",
     "traceback": [
      "\u001b[0;31m---------------------------------------------------------------------------\u001b[0m",
      "\u001b[0;31mValueError\u001b[0m                                Traceback (most recent call last)",
      "\u001b[0;32m<ipython-input-40-a622059c572f>\u001b[0m in \u001b[0;36m<cell line: 5>\u001b[0;34m()\u001b[0m\n\u001b[1;32m      3\u001b[0m \u001b[0mb\u001b[0m \u001b[0;34m=\u001b[0m \u001b[0mnp\u001b[0m\u001b[0;34m.\u001b[0m\u001b[0marray\u001b[0m\u001b[0;34m(\u001b[0m\u001b[0;34m[\u001b[0m\u001b[0;36m1\u001b[0m\u001b[0;34m,\u001b[0m \u001b[0;36m2\u001b[0m\u001b[0;34m,\u001b[0m \u001b[0;36m3\u001b[0m\u001b[0;34m]\u001b[0m\u001b[0;34m)\u001b[0m\u001b[0;34m\u001b[0m\u001b[0;34m\u001b[0m\u001b[0m\n\u001b[1;32m      4\u001b[0m \u001b[0;34m\u001b[0m\u001b[0m\n\u001b[0;32m----> 5\u001b[0;31m \u001b[0mprint\u001b[0m\u001b[0;34m(\u001b[0m\u001b[0ma\u001b[0m \u001b[0;34m+\u001b[0m \u001b[0mb\u001b[0m\u001b[0;34m)\u001b[0m\u001b[0;34m\u001b[0m\u001b[0;34m\u001b[0m\u001b[0m\n\u001b[0m",
      "\u001b[0;31mValueError\u001b[0m: operands could not be broadcast together with shapes (2,) (3,) "
     ]
    }
   ],
   "source": [
    "# write your program here\n",
    "a = np.array([1, 3])\n",
    "b = np.array([1, 2, 3])\n",
    "\n",
    "print(a + b)"
   ]
  },
  {
   "cell_type": "markdown",
   "metadata": {
    "id": "lYr-C-b24grL"
   },
   "source": [
    "- `Explanation:`\n",
    "  - Both array a and b are of same dimensions. So Rule 1 is not applicable.\n",
    "  - Neither of array a and b have dimension 1 to stretch for making both array of same size. So, Rule 2 is not applicable.\n",
    "  \n",
    "  - Addition is not possible, since arrays are of different shape"
   ]
  },
  {
   "cell_type": "code",
   "execution_count": null,
   "metadata": {
    "id": "uMUnUHrgy0Fc"
   },
   "outputs": [],
   "source": []
  },
  {
   "cell_type": "markdown",
   "metadata": {
    "id": "XBXYGa1H8rKJ"
   },
   "source": [
    "### 12. Numpy Aggregations\n",
    "- It is the process of summarizing large dataset into a smaller set of values that capture key characteristics of the data.\n",
    "- Numpy consists of set of functions that allows user to perform aggregations operations on datasets.\n",
    "\n",
    "| Function Name | NaN-safe Version | Description |\n",
    "|---------------|------------------|-------------|\n",
    "| np.prod       | np.nanprod       | Compute product of elements |\n",
    "| np.mean       | np.nanmean       | Compute mean of elements |\n",
    "| np.std        | np.nanstd        | Compute standard deviation |\n",
    "| np.var        | np.nanvar        | Compute variance |\n",
    "| np.min        | np.nanmin        | Find minimum value |\n",
    "| np.max        | np.nanmax        | Find maximum value |\n",
    "| np.argmin     | np.nanargmin     | Find index of minimum value |\n",
    "| np.argmax     | np.nanargmax     | Find index of maximum value |\n",
    "| np.median     | np.nanmedian     | Compute median of elements |\n",
    "| np.percentile | np.nanpercentile | Compute rank-based statistics |\n",
    "| np.any        | N/A              | Evaluate whether any elements are true |\n",
    "| np.all        | N/A              | Evaluate whether all elements are true |\n",
    "\n"
   ]
  },
  {
   "cell_type": "code",
   "execution_count": 3,
   "metadata": {
    "id": "9_Sp5Ik19DsO"
   },
   "outputs": [],
   "source": [
    "# Define sample array\n",
    "arr = np.array([1, 2, 3, 4, 5, 6, 7, 8])"
   ]
  },
  {
   "cell_type": "code",
   "execution_count": 4,
   "metadata": {
    "id": "vtddbZGM9bdh"
   },
   "outputs": [
    {
     "data": {
      "text/plain": [
       "4.5"
      ]
     },
     "execution_count": 4,
     "metadata": {},
     "output_type": "execute_result"
    }
   ],
   "source": [
    "# compute mean\n",
    "# Hint: np.mean(arr)\n",
    "\n",
    "np.mean(arr)"
   ]
  },
  {
   "cell_type": "code",
   "execution_count": 5,
   "metadata": {
    "id": "BFdd05LY9f5l"
   },
   "outputs": [
    {
     "data": {
      "text/plain": [
       "2.29128784747792"
      ]
     },
     "execution_count": 5,
     "metadata": {},
     "output_type": "execute_result"
    }
   ],
   "source": [
    "# compute standard deviation\n",
    "# Hint: np.std(arr)\n",
    "\n",
    "np.std(arr)"
   ]
  },
  {
   "cell_type": "code",
   "execution_count": 6,
   "metadata": {
    "id": "_-RJxNhR9kjT"
   },
   "outputs": [
    {
     "data": {
      "text/plain": [
       "5.25"
      ]
     },
     "execution_count": 6,
     "metadata": {},
     "output_type": "execute_result"
    }
   ],
   "source": [
    "# compute variance\n",
    "# Hint: np.var(arr)\n",
    "\n",
    "np.var(arr)"
   ]
  },
  {
   "cell_type": "code",
   "execution_count": 7,
   "metadata": {
    "id": "NC-21o-t9nX-"
   },
   "outputs": [
    {
     "data": {
      "text/plain": [
       "1"
      ]
     },
     "execution_count": 7,
     "metadata": {},
     "output_type": "execute_result"
    }
   ],
   "source": [
    "# get min value\n",
    "# Hint: np.min(arr)\n",
    "\n",
    "np.min(arr)"
   ]
  },
  {
   "cell_type": "code",
   "execution_count": 8,
   "metadata": {
    "id": "cqU_2YmZ9rZv"
   },
   "outputs": [
    {
     "data": {
      "text/plain": [
       "8"
      ]
     },
     "execution_count": 8,
     "metadata": {},
     "output_type": "execute_result"
    }
   ],
   "source": [
    "# get max value\n",
    "# Hint: np.max(arr)\n",
    "\n",
    "np.max(arr)"
   ]
  },
  {
   "cell_type": "code",
   "execution_count": 9,
   "metadata": {
    "id": "OgbNFaU69t5m"
   },
   "outputs": [
    {
     "data": {
      "text/plain": [
       "0"
      ]
     },
     "execution_count": 9,
     "metadata": {},
     "output_type": "execute_result"
    }
   ],
   "source": [
    "# get index of min value\n",
    "# Hint: np.argmin(arr)\n",
    "\n",
    "np.argmin(arr)"
   ]
  },
  {
   "cell_type": "code",
   "execution_count": 10,
   "metadata": {
    "id": "_rin_Pc69x9v"
   },
   "outputs": [
    {
     "data": {
      "text/plain": [
       "7"
      ]
     },
     "execution_count": 10,
     "metadata": {},
     "output_type": "execute_result"
    }
   ],
   "source": [
    "# get index of max value\n",
    "# Hint: np.argmax(arr)\n",
    "\n",
    "np.argmax(arr)"
   ]
  },
  {
   "cell_type": "code",
   "execution_count": 11,
   "metadata": {
    "id": "F3KBiRnB93-j"
   },
   "outputs": [
    {
     "data": {
      "text/plain": [
       "2.75"
      ]
     },
     "execution_count": 11,
     "metadata": {},
     "output_type": "execute_result"
    }
   ],
   "source": [
    "# get 25% percentile\n",
    "# Hint: np.percentile(arr, 25)\n",
    "\n",
    "\n",
    "np.percentile(arr, 25)"
   ]
  },
  {
   "cell_type": "code",
   "execution_count": 12,
   "metadata": {
    "id": "St5VOIXK9-cV"
   },
   "outputs": [
    {
     "data": {
      "text/plain": [
       "True"
      ]
     },
     "execution_count": 12,
     "metadata": {},
     "output_type": "execute_result"
    }
   ],
   "source": [
    "# check if any value is less than 3\n",
    "# Hint: np.any(arr<3)\n",
    "\n",
    "np.any(arr<3)"
   ]
  },
  {
   "cell_type": "code",
   "execution_count": 13,
   "metadata": {
    "id": "7UrIZzJI-ce2"
   },
   "outputs": [
    {
     "data": {
      "text/plain": [
       "False"
      ]
     },
     "execution_count": 13,
     "metadata": {},
     "output_type": "execute_result"
    }
   ],
   "source": [
    "# check if all values are less than 3\n",
    "# Hint: np.all(arr<3)\n",
    "\n",
    "np.all(arr<3)"
   ]
  },
  {
   "cell_type": "code",
   "execution_count": null,
   "metadata": {
    "id": "_IDaD3WN-_ih"
   },
   "outputs": [],
   "source": []
  }
 ],
 "metadata": {
  "colab": {
   "provenance": [],
   "toc_visible": true
  },
  "kernelspec": {
   "display_name": "Python 3 (ipykernel)",
   "language": "python",
   "name": "python3"
  },
  "language_info": {
   "codemirror_mode": {
    "name": "ipython",
    "version": 3
   },
   "file_extension": ".py",
   "mimetype": "text/x-python",
   "name": "python",
   "nbconvert_exporter": "python",
   "pygments_lexer": "ipython3",
   "version": "3.11.7"
  }
 },
 "nbformat": 4,
 "nbformat_minor": 4
}
