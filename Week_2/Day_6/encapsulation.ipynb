{
 "cells": [
  {
   "cell_type": "markdown",
   "metadata": {},
   "source": [
    "# Bank Account Management\n",
    "\n",
    "## Objective\n",
    "Create a class for managing a bank account, emphasizing encapsulation with private attributes and methods.\n",
    "\n",
    "## Requirements\n",
    "1. Create a class named BankAccount with private attributes:\n",
    "   - \\_\\_account_number: A unique identifier for the bank account.\n",
    "   - \\_\\_balance: The current balance of the bank account.\n",
    "   - \\_\\_owner: The owner's name.\n",
    "\n",
    "2. Implement the following methods within the BankAccount class:\n",
    "   - A constructor `__init__` to initialize the attributes.\n",
    "   - Getter methods for each attribute (get_account_number, get_balance, get_owner).\n",
    "   - Setter methods for each attribute (set_balance, set_owner).\n",
    "   - A method `deposit` to add funds to the account.\n",
    "   - A method `withdraw` to deduct funds from the account.\n",
    "\n",
    "3. Implement input validation in the setter methods:\n",
    "   - Ensure that the balance is a non-negative value.\n",
    "   - Ensure that the owner's name is not empty.\n",
    "\n",
    "4. Implement input validation in the `withdraw` method:\n",
    "   - Ensure that the withdrawal amount is less than or equal to the current balance.\n",
    "\n",
    "5. Demonstrate the usage of the BankAccount class in the main program by creating an instance, setting attributes, depositing and withdrawing funds, and displaying account information."
   ]
  },
  {
   "cell_type": "markdown",
   "metadata": {},
   "source": []
  }
 ],
 "metadata": {
  "kernelspec": {
   "display_name": "Python 3 (ipykernel)",
   "language": "python",
   "name": "python3"
  },
  "language_info": {
   "codemirror_mode": {
    "name": "ipython",
    "version": 3
   },
   "file_extension": ".py",
   "mimetype": "text/x-python",
   "name": "python",
   "nbconvert_exporter": "python",
   "pygments_lexer": "ipython3",
   "version": "3.12.2"
  }
 },
 "nbformat": 4,
 "nbformat_minor": 4
}
