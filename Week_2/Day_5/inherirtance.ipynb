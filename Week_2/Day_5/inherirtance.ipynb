{
 "cells": [
  {
   "cell_type": "markdown",
   "metadata": {},
   "source": [
    "# Advanced Inheritance and Abstract Classes\n",
    "\n",
    "## Objective\n",
    "\n",
    "Create a set of classes representing different animals, introducing multiple levels of inheritance and abstract classes.\n",
    "\n",
    "## Requirements\n",
    "\n",
    "1. Create an abstract class called `Animal` with abstract methods:\n",
    "   - `speak`: Abstract method representing the sound the animal makes.\n",
    "   - `move`: Abstract method representing how the animal moves.\n",
    "   - `eat`: Abstract method representing what the animal eats.\n",
    "\n",
    "2. Implement three concrete classes: `Mammal`, `Bird`, and `Fish`, inheriting from the `Animal` class. Implement the abstract methods accordingly.\n",
    "\n",
    "3. Create concrete classes for specific animals within each category:\n",
    "   - For `Mammal`: Implement classes like `Dog` and `Cat`.\n",
    "   - For `Bird`: Implement classes like `Eagle` and `Penguin`.\n",
    "   - For `Fish`: Implement classes like `Salmon` and `Goldfish`.\n",
    "\n",
    "4. Add unique methods for each specific animal:\n",
    "   - For example, `bark` for `Dog`, `fly` for `Eagle`, `swim` for `Salmon`.\n",
    "\n",
    "5. Demonstrate the usage of these classes by creating instances and calling various methods."
   ]
  },
  {
   "cell_type": "markdown",
   "metadata": {},
   "source": [
    "# Advanced Inheritance with Multiple Levels\n",
    "\n",
    "## Objective\n",
    "\n",
    "Create a set of classes representing different types of vehicles, introducing multiple levels of inheritance, and demonstrating the use of `super().__init__`.\n",
    "\n",
    "## Requirements\n",
    "\n",
    "1. Create a base class called `Vehicle` with the following attributes:\n",
    "   - `make`: Make of the vehicle (e.g., Ford, Honda).\n",
    "   - `model`: Model of the vehicle (e.g., Civic, F-150).\n",
    "   - `year`: Year of manufacture.\n",
    "   - `fuel_type`: Type of fuel the vehicle uses (e.g., Gasoline, Electric).\n",
    "\n",
    "2. Create two subclasses: `Car` and `Truck`, inheriting from the `Vehicle` class. Implement the `__init__` method using `super().__init__` to initialize attributes from the parent class.\n",
    "\n",
    "3. Create a subclass of `Car` called `ElectricCar`. Add an additional attribute:\n",
    "   - `battery_capacity`: Capacity of the electric car's battery in kWh.\n",
    "\n",
    "4. Create a subclass of `Truck` called `HybridTruck`. Add an additional attribute:\n",
    "   - `electric_motor_power`: Power of the electric motor in the hybrid truck.\n",
    "\n",
    "5. Demonstrate the usage of these classes by creating instances and displaying information about the vehicles.\n"
   ]
  },
  {
   "cell_type": "markdown",
   "metadata": {},
   "source": []
  }
 ],
 "metadata": {
  "kernelspec": {
   "display_name": "Python 3 (ipykernel)",
   "language": "python",
   "name": "python3"
  },
  "language_info": {
   "codemirror_mode": {
    "name": "ipython",
    "version": 3
   },
   "file_extension": ".py",
   "mimetype": "text/x-python",
   "name": "python",
   "nbconvert_exporter": "python",
   "pygments_lexer": "ipython3",
   "version": "3.11.7"
  }
 },
 "nbformat": 4,
 "nbformat_minor": 4
}
