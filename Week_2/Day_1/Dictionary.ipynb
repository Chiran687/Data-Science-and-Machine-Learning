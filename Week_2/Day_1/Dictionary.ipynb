{
 "cells": [
  {
   "cell_type": "markdown",
   "metadata": {
    "id": "68mvMn_xA6XJ"
   },
   "source": [
    "## Python Dictionary\n",
    "- Dictionaries are used to store data values in key:value pairs.\n",
    "- A dictionary is collection which is:\n",
    "  - `Ordered:`\n",
    "    - Dictionaries are ordered means that the items have a defined order, and that will not change.\n",
    "  - `Changeable:`\n",
    "    - Dictionaries are changeable, meaning we can change, add, or remove items after the dictionary has been created.\n",
    "    \n",
    "  - `Duplicates not allowed:`\n",
    "    - Dictionaries cannot have two items with the same key.\n",
    "\n",
    "- Dictionary are also denoted by curly brackets *{ }*\n",
    "\n",
    "- Unlike Lists, Dictionaries are indexed by custom keys instead of sequence of numbers as in Lists.\n",
    "\n",
    "- In this lecture we'll cover:\n",
    "  - Creating Dictionaries\n",
    "  - Indexing Dictionaries\n",
    "  - Dictionaries are mutable\n",
    "  - Dictionary methods\n",
    "  - Loop Dictionary\n",
    "  - Dictionary Comprehension"
   ]
  },
  {
   "cell_type": "markdown",
   "metadata": {
    "id": "3Ejz4wArEudb"
   },
   "source": [
    "### 1. Creating Dictionary\n",
    "- Dictionary are create using curly brackets **{ }**\n",
    "- Unlike Lists, Dictionary has custom index created by user itself i.e. Dictionaries are used to store data values in key:value pairs.\n",
    "- Dictionary creation:\n",
    "  - `create empty dictionary`\n",
    "    - E.g empt_dict = {}\n",
    "  - `create simple dictionary`\n",
    "    - E.g. simple_dict = {'mango': 2, 'banana': 4}\n",
    "  - `create nested dictionary`\n",
    "    - E.g. nested_dict = {'fruits': {'mango': 2, 'banana': 4}, 'drinks': {'coke': 3, 'frooti': 4}}"
   ]
  },
  {
   "cell_type": "code",
   "execution_count": 2,
   "metadata": {
    "executionInfo": {
     "elapsed": 6,
     "status": "ok",
     "timestamp": 1686386891564,
     "user": {
      "displayName": "Anish Thapaliya",
      "userId": "06325140887572930045"
     },
     "user_tz": -345
    },
    "id": "AoTMnOvMfOxI"
   },
   "outputs": [],
   "source": [
    "# 1. create empty dict\n",
    "empty_dictionary = {}"
   ]
  },
  {
   "cell_type": "code",
   "execution_count": 3,
   "metadata": {
    "executionInfo": {
     "elapsed": 4,
     "status": "ok",
     "timestamp": 1686413894575,
     "user": {
      "displayName": "Anish Thapaliya",
      "userId": "06325140887572930045"
     },
     "user_tz": -345
    },
    "id": "8rpuJFXWGabt"
   },
   "outputs": [
    {
     "name": "stdout",
     "output_type": "stream",
     "text": [
      "<class 'dict'>\n"
     ]
    }
   ],
   "source": [
    "# check type \n",
    "print(type(empty_dictionary))"
   ]
  },
  {
   "cell_type": "code",
   "execution_count": 5,
   "metadata": {
    "executionInfo": {
     "elapsed": 3,
     "status": "ok",
     "timestamp": 1686413894575,
     "user": {
      "displayName": "Anish Thapaliya",
      "userId": "06325140887572930045"
     },
     "user_tz": -345
    },
    "id": "r02gjTnyGbwL"
   },
   "outputs": [
    {
     "data": {
      "text/plain": [
       "{'mango': 2, 'banana': 4}"
      ]
     },
     "execution_count": 5,
     "metadata": {},
     "output_type": "execute_result"
    }
   ],
   "source": [
    "# 2. create simple dict\n",
    "simple_dict = {'mango': 2, 'banana': 4}\n",
    "simple_dict"
   ]
  },
  {
   "cell_type": "code",
   "execution_count": 6,
   "metadata": {
    "executionInfo": {
     "elapsed": 8,
     "status": "ok",
     "timestamp": 1686413895760,
     "user": {
      "displayName": "Anish Thapaliya",
      "userId": "06325140887572930045"
     },
     "user_tz": -345
    },
    "id": "rOr0wmfhGdS6"
   },
   "outputs": [
    {
     "data": {
      "text/plain": [
       "dict"
      ]
     },
     "execution_count": 6,
     "metadata": {},
     "output_type": "execute_result"
    }
   ],
   "source": [
    "# check type\n",
    "type(simple_dict)"
   ]
  },
  {
   "cell_type": "code",
   "execution_count": 7,
   "metadata": {
    "executionInfo": {
     "elapsed": 2,
     "status": "ok",
     "timestamp": 1686413908071,
     "user": {
      "displayName": "Anish Thapaliya",
      "userId": "06325140887572930045"
     },
     "user_tz": -345
    },
    "id": "MAuUKQbVGd-6"
   },
   "outputs": [
    {
     "data": {
      "text/plain": [
       "{'fruits': {'mango': 2, 'banana': 4}, 'drinks': {'coke': 3, 'frooti': 4}}"
      ]
     },
     "execution_count": 7,
     "metadata": {},
     "output_type": "execute_result"
    }
   ],
   "source": [
    "# 3. create nested dict\n",
    "nested_dict = {'fruits': {'mango': 2, 'banana': 4}, 'drinks': {'coke': 3, 'frooti': 4}}\n",
    "nested_dict"
   ]
  },
  {
   "cell_type": "code",
   "execution_count": 8,
   "metadata": {
    "executionInfo": {
     "elapsed": 5,
     "status": "ok",
     "timestamp": 1686413911252,
     "user": {
      "displayName": "Anish Thapaliya",
      "userId": "06325140887572930045"
     },
     "user_tz": -345
    },
    "id": "Li5b6rCqGhNS"
   },
   "outputs": [
    {
     "data": {
      "text/plain": [
       "dict"
      ]
     },
     "execution_count": 8,
     "metadata": {},
     "output_type": "execute_result"
    }
   ],
   "source": [
    "# check type\n",
    "type(nested_dict)"
   ]
  },
  {
   "cell_type": "markdown",
   "metadata": {
    "id": "e-Wz0oX6HMja"
   },
   "source": [
    "## 2. Indexing Dictionaries\n",
    "-  Like List, we can use large brackets **[ ]** to extract dictionary values. However, main difference is List indexing starts with 0 i.e. sequence of numbers, But Dictionary indexing is performed using user inserted index/keys.\n",
    "\n",
    "<img src=\"https://cf-courses-data.s3.us.cloud-object-storage.appdomain.cloud/IBMDeveloperSkillsNetwork-PY0101EN-SkillsNetwork/labs/Module%202/images/DictsList.png\" width=\"500\">\n",
    "\n",
    "[Cognitiveclass.ai](https://cognitiveclass.ai/)\n"
   ]
  },
  {
   "cell_type": "markdown",
   "metadata": {
    "id": "b8LkTiasJWXc"
   },
   "source": [
    "**Indexing Simple Dictionary**\n",
    "\n",
    "```\n",
    "fruits_count = {'mango': 100, 'banana': 10, 'orange': 200, 'kiwi': 20}\n",
    "```"
   ]
  },
  {
   "cell_type": "code",
   "execution_count": 17,
   "metadata": {
    "executionInfo": {
     "elapsed": 9,
     "status": "ok",
     "timestamp": 1686414682484,
     "user": {
      "displayName": "Anish Thapaliya",
      "userId": "06325140887572930045"
     },
     "user_tz": -345
    },
    "id": "gWXPdwpsGh-F"
   },
   "outputs": [
    {
     "name": "stdout",
     "output_type": "stream",
     "text": [
      "{'mango': 100, 'banana': 10, 'orange': 200, 'kiwi': 20}\n"
     ]
    },
    {
     "data": {
      "text/plain": [
       "100"
      ]
     },
     "execution_count": 17,
     "metadata": {},
     "output_type": "execute_result"
    }
   ],
   "source": [
    "# create a fruits_count dictionary and access the values of mango, banana,orange, kiwi\n",
    "fruits_count = {'mango': 100, 'banana': 10, 'orange': 200, 'kiwi': 20}\n",
    "print(fruits_count)\n",
    "# access different items\n",
    "fruits_count['mango']"
   ]
  },
  {
   "cell_type": "markdown",
   "metadata": {
    "id": "Uo0VR5T5Je-G"
   },
   "source": [
    "**Indexing Nested Dictionary**\n",
    "```\n",
    "food_counts = {\n",
    "  'fruits': {\"mango\": 100, \"banana\": 10, \"orange\": 200, \"kiwi\": 20},\n",
    "  'drinks': {\"coke\": 20, \"redbull\": 30, \"lassi\": 10}\n",
    "}\n",
    "```"
   ]
  },
  {
   "cell_type": "code",
   "execution_count": 23,
   "metadata": {
    "executionInfo": {
     "elapsed": 787,
     "status": "ok",
     "timestamp": 1686415123778,
     "user": {
      "displayName": "Anish Thapaliya",
      "userId": "06325140887572930045"
     },
     "user_tz": -345
    },
    "id": "4McncoVRJeYB"
   },
   "outputs": [
    {
     "data": {
      "text/plain": [
       "100"
      ]
     },
     "execution_count": 23,
     "metadata": {},
     "output_type": "execute_result"
    }
   ],
   "source": [
    "# create a nested dictionary\n",
    "food_counts = {\n",
    "  'fruits': {\"mango\": 100, \"banana\": 10, \"orange\": 200, \"kiwi\": 20},\n",
    "  'drinks': {\"coke\": 20, \"redbull\": 30, \"lassi\": 10}\n",
    "}\n",
    "# access different items like above\n",
    "food_counts['fruits'][\"mango\"]"
   ]
  },
  {
   "cell_type": "markdown",
   "metadata": {
    "id": "HLqAtASGLUu3"
   },
   "source": [
    "### 3. Dictionaries are Mutable\n",
    "- Like Lists Dictionaries are mutable.\n",
    "- We can change items, add new items, remove existing items from dictionary after its creation. \n",
    "\n",
    "`Q. Create a simple Dictionary. Verify Dictionary is mutable by changing values. Adding new values.`"
   ]
  },
  {
   "cell_type": "code",
   "execution_count": 25,
   "metadata": {
    "id": "G-_uwJOsLJ8G"
   },
   "outputs": [
    {
     "name": "stdout",
     "output_type": "stream",
     "text": [
      "{'fruits': {'mango': 100, 'banana': 300, 'orange': 200, 'kiwi': 20}, 'drinks': {'coke': 20, 'redbull': 30, 'lassi': 10}}\n"
     ]
    }
   ],
   "source": [
    "## write your program here\n",
    "food_counts['fruits'][\"banana\"] = 300\n",
    "print(food_counts)"
   ]
  },
  {
   "cell_type": "markdown",
   "metadata": {
    "id": "VceNQ0zvM9Uq"
   },
   "source": [
    "`We, will learn Dictionary methods to add, remove items in below section`"
   ]
  },
  {
   "cell_type": "markdown",
   "metadata": {
    "id": "C-7x_GNhNK-g"
   },
   "source": [
    "### 4 Dictionary Methods\n",
    "- Most common Dictionary methods are:\n",
    "  - `get():`  Returns the value of the specified key\n",
    "  - `keys():`  Returns a list containing the dictionary's keys\n",
    "  - `values():`  Returns a list of all the values in the dictionary\n",
    "  - `items():`  Returns a list containing a tuple of each key-value pairs\n",
    "  - `update():`  Updates the dictionary with the specified key-value pairs\n",
    "  - `pop():`  Removes the element with the specified key\n",
    "\n",
    "```\n",
    "fruit_counts = {'mango': 100, 'banana': 10, 'orange': 200, 'kiwi': 20}\n",
    "```"
   ]
  },
  {
   "cell_type": "code",
   "execution_count": 26,
   "metadata": {
    "colab": {
     "base_uri": "https://localhost:8080/"
    },
    "executionInfo": {
     "elapsed": 14,
     "status": "ok",
     "timestamp": 1686416504491,
     "user": {
      "displayName": "Anish Thapaliya",
      "userId": "06325140887572930045"
     },
     "user_tz": -345
    },
    "id": "O4qy3rR3NFxB",
    "outputId": "c11fa357-330d-41c7-ecbc-98751eeb2b5b"
   },
   "outputs": [],
   "source": [
    "## initialize dictionary\n",
    "fruit_counts = {'mango': 100, 'banana': 10, 'orange': 200, 'kiwi': 20}"
   ]
  },
  {
   "cell_type": "code",
   "execution_count": 28,
   "metadata": {
    "id": "JORY1aPcQbGm"
   },
   "outputs": [
    {
     "data": {
      "text/plain": [
       "10"
      ]
     },
     "execution_count": 28,
     "metadata": {},
     "output_type": "execute_result"
    }
   ],
   "source": [
    "# access value for key = \"banana\"\n",
    "# hint: dict.get(<key>)\n",
    "fruit_counts.get('banana')"
   ]
  },
  {
   "cell_type": "code",
   "execution_count": 29,
   "metadata": {
    "id": "gxEci0wDQqKp"
   },
   "outputs": [
    {
     "data": {
      "text/plain": [
       "dict_keys(['mango', 'banana', 'orange', 'kiwi'])"
      ]
     },
     "execution_count": 29,
     "metadata": {},
     "output_type": "execute_result"
    }
   ],
   "source": [
    "# get list of all the keys present in the dictionary\n",
    "# Hint: dict.keys()\n",
    "fruit_counts.keys()"
   ]
  },
  {
   "cell_type": "code",
   "execution_count": 30,
   "metadata": {
    "id": "bcS1cSwDQ7pg"
   },
   "outputs": [
    {
     "data": {
      "text/plain": [
       "dict_values([100, 10, 200, 20])"
      ]
     },
     "execution_count": 30,
     "metadata": {},
     "output_type": "execute_result"
    }
   ],
   "source": [
    "# get list of all the values present in the dictionary\n",
    "# Hint: dict.values()\n",
    "fruit_counts.values()"
   ]
  },
  {
   "cell_type": "code",
   "execution_count": 31,
   "metadata": {
    "executionInfo": {
     "elapsed": 4,
     "status": "ok",
     "timestamp": 1686416743012,
     "user": {
      "displayName": "Anish Thapaliya",
      "userId": "06325140887572930045"
     },
     "user_tz": -345
    },
    "id": "Et8VvGPhRRwb"
   },
   "outputs": [
    {
     "data": {
      "text/plain": [
       "dict_items([('mango', 100), ('banana', 10), ('orange', 200), ('kiwi', 20)])"
      ]
     },
     "execution_count": 31,
     "metadata": {},
     "output_type": "execute_result"
    }
   ],
   "source": [
    "# get list containing tuples of key-value pairs\n",
    "# Hint: dict.items()\n",
    "fruit_counts.items()"
   ]
  },
  {
   "cell_type": "code",
   "execution_count": 32,
   "metadata": {
    "executionInfo": {
     "elapsed": 2,
     "status": "ok",
     "timestamp": 1686416792893,
     "user": {
      "displayName": "Anish Thapaliya",
      "userId": "06325140887572930045"
     },
     "user_tz": -345
    },
    "id": "l3qbewMhRVU8"
   },
   "outputs": [
    {
     "data": {
      "text/plain": [
       "{'mango': 100, 'banana': 10, 'orange': 200, 'kiwi': 20, 'apple': 25}"
      ]
     },
     "execution_count": 32,
     "metadata": {},
     "output_type": "execute_result"
    }
   ],
   "source": [
    "# add new item key = 'watermelon', value = 30\n",
    "# Hint: dict.update({key:value})\n",
    "fruit_counts.update({'apple':25})\n",
    "fruit_counts"
   ]
  },
  {
   "cell_type": "code",
   "execution_count": 34,
   "metadata": {
    "executionInfo": {
     "elapsed": 7,
     "status": "ok",
     "timestamp": 1686416977259,
     "user": {
      "displayName": "Anish Thapaliya",
      "userId": "06325140887572930045"
     },
     "user_tz": -345
    },
    "id": "pTv1RZ2KRhcf"
   },
   "outputs": [
    {
     "data": {
      "text/plain": [
       "{'mango': 100, 'orange': 200, 'kiwi': 20, 'apple': 25}"
      ]
     },
     "execution_count": 34,
     "metadata": {},
     "output_type": "execute_result"
    }
   ],
   "source": [
    "# remove new added items.\n",
    "# Hint: dict.pop(<key>)\n",
    "fruit_counts.pop('banana')\n",
    "fruit_counts"
   ]
  },
  {
   "cell_type": "markdown",
   "metadata": {
    "id": "9U1oIPylSd4L"
   },
   "source": [
    "**Other Methods:**\n",
    "\n",
    "| Method        | Description                                                       |\n",
    "|---------------|-------------------------------------------------------------------|\n",
    "| clear()       | Removes all the elements from the dictionary                       |\n",
    "| copy()        | Returns a copy of the dictionary                                   |\n",
    "| fromkeys()    | Returns a dictionary with the specified keys and value             |\n",
    "| get()         | Returns the value of the specified key                             |\n",
    "| items()       | Returns a list containing a tuple for each key value pair          |\n",
    "| keys()        | Returns a list containing the dictionary's keys                    |\n",
    "| pop()         | Removes the element with the specified key                         |\n",
    "| popitem()     | Removes the last inserted key-value pair                           |\n",
    "| setdefault()  | Returns the value of the specified key. If the key does not exist: insert the key, with the specified value |\n",
    "| update()      | Updates the dictionary with the specified key-value pairs          |\n",
    "| values()      | Returns a list of all the values in the dictionary                 |\n"
   ]
  },
  {
   "cell_type": "markdown",
   "metadata": {
    "id": "84qFY2o6Sm-f"
   },
   "source": [
    "### 5. Loop Dictionary\n",
    "- We can loop through a dictionary by using a `for` loop\n",
    "\n",
    "`Q1. Print all key names in the dictionary, one by one.`\n",
    "\n",
    "`Q2. Print all values in the dictionary one by one.`\n",
    "\n",
    "`Q3. Print all keys and values one by one, using items() method.`"
   ]
  },
  {
   "cell_type": "code",
   "execution_count": 38,
   "metadata": {
    "id": "MaCV0u_XSOeM"
   },
   "outputs": [
    {
     "name": "stdout",
     "output_type": "stream",
     "text": [
      "0 mango\n",
      "1 orange\n",
      "2 kiwi\n",
      "3 apple\n"
     ]
    }
   ],
   "source": [
    "# write your program here (for Q1)\n",
    "for i, x in enumerate(fruit_counts.keys()):\n",
    "    print(i, x)"
   ]
  },
  {
   "cell_type": "code",
   "execution_count": 36,
   "metadata": {
    "id": "JhofY3qfTXdN"
   },
   "outputs": [
    {
     "name": "stdout",
     "output_type": "stream",
     "text": [
      "0 100\n",
      "1 200\n",
      "2 20\n",
      "3 25\n"
     ]
    }
   ],
   "source": [
    "# write your program here (for Q2)\n",
    "for i, x in enumerate(fruit_counts.values()):\n",
    "    print(i,x)"
   ]
  },
  {
   "cell_type": "code",
   "execution_count": 39,
   "metadata": {
    "executionInfo": {
     "elapsed": 8,
     "status": "ok",
     "timestamp": 1686417308159,
     "user": {
      "displayName": "Anish Thapaliya",
      "userId": "06325140887572930045"
     },
     "user_tz": -345
    },
    "id": "dXYnbMVBTa5n"
   },
   "outputs": [
    {
     "name": "stdout",
     "output_type": "stream",
     "text": [
      "('mango', 100)\n",
      "('orange', 200)\n",
      "('kiwi', 20)\n",
      "('apple', 25)\n"
     ]
    }
   ],
   "source": [
    "# write your program here (for Q3)\n",
    "for i in (fruit_counts.items()):\n",
    "    print(i)"
   ]
  },
  {
   "cell_type": "markdown",
   "metadata": {
    "id": "a8-Rs2suTgCA"
   },
   "source": [
    "### 5. Dictionary comprehension\n",
    "- Dictionary comprehension offers shortest syntax for looping.\n"
   ]
  },
  {
   "cell_type": "code",
   "execution_count": 41,
   "metadata": {
    "id": "uSSpu7ZfTfYn"
   },
   "outputs": [
    {
     "data": {
      "text/plain": [
       "{'What is the capital of France?': 'Paris',\n",
       " \"Who wrote the play 'Romeo and Juliet'?\": 'William Shakespeare',\n",
       " 'What is the symbol for the chemical element oxygen?': 'O',\n",
       " 'In which year did World War II end?': '1945',\n",
       " 'What is the tallest mammal on Earth?': 'Giraffe'}"
      ]
     },
     "execution_count": 41,
     "metadata": {},
     "output_type": "execute_result"
    }
   ],
   "source": [
    "# write your program here\n",
    "\n",
    "# Sample list of questions\n",
    "questions = [\n",
    "    \"What is the capital of France?\",\n",
    "    \"Who wrote the play 'Romeo and Juliet'?\",\n",
    "    \"What is the symbol for the chemical element oxygen?\",\n",
    "    \"In which year did World War II end?\",\n",
    "    \"What is the tallest mammal on Earth?\",\n",
    "]\n",
    "\n",
    "# Sample list of corresponding answers\n",
    "answers = [\n",
    "    \"Paris\",\n",
    "    \"William Shakespeare\",\n",
    "    \"O\",\n",
    "    \"1945\",\n",
    "    \"Giraffe\",\n",
    "]\n",
    "\n",
    "New_Dictionary = dict(zip(questions, answers))\n",
    "New_Dictionary"
   ]
  },
  {
   "cell_type": "code",
   "execution_count": 42,
   "metadata": {},
   "outputs": [
    {
     "data": {
      "text/plain": [
       "<zip at 0x7fceb2029d40>"
      ]
     },
     "execution_count": 42,
     "metadata": {},
     "output_type": "execute_result"
    }
   ],
   "source": [
    "Updated_Dictionary = zip(questions, answers)\n",
    "Updated_Dictionary"
   ]
  },
  {
   "cell_type": "code",
   "execution_count": 43,
   "metadata": {},
   "outputs": [
    {
     "data": {
      "text/plain": [
       "[('What is the capital of France?', 'Paris'),\n",
       " (\"Who wrote the play 'Romeo and Juliet'?\", 'William Shakespeare'),\n",
       " ('What is the symbol for the chemical element oxygen?', 'O'),\n",
       " ('In which year did World War II end?', '1945'),\n",
       " ('What is the tallest mammal on Earth?', 'Giraffe')]"
      ]
     },
     "execution_count": 43,
     "metadata": {},
     "output_type": "execute_result"
    }
   ],
   "source": [
    "list(Updated_Dictionary)"
   ]
  },
  {
   "cell_type": "code",
   "execution_count": 51,
   "metadata": {},
   "outputs": [
    {
     "data": {
      "text/plain": [
       "{'What is the capital of France?': 'Paris',\n",
       " \"Who wrote the play 'Romeo and Juliet'?\": 'William Shakespeare',\n",
       " 'What is the symbol for the chemical element oxygen?': 'O',\n",
       " 'In which year did World War II end?': '1945',\n",
       " 'What is the tallest mammal on Earth?': 'Giraffe'}"
      ]
     },
     "execution_count": 51,
     "metadata": {},
     "output_type": "execute_result"
    }
   ],
   "source": [
    "Updated_Dictionary= {q : a for q, a in zip(questions, answers)}\n",
    "Updated_Dictionary"
   ]
  },
  {
   "cell_type": "code",
   "execution_count": null,
   "metadata": {},
   "outputs": [],
   "source": []
  }
 ],
 "metadata": {
  "colab": {
   "authorship_tag": "ABX9TyOakka6etVrgLo94ZJ1JHaN",
   "provenance": []
  },
  "kernelspec": {
   "display_name": "Python 3 (ipykernel)",
   "language": "python",
   "name": "python3"
  },
  "language_info": {
   "codemirror_mode": {
    "name": "ipython",
    "version": 3
   },
   "file_extension": ".py",
   "mimetype": "text/x-python",
   "name": "python",
   "nbconvert_exporter": "python",
   "pygments_lexer": "ipython3",
   "version": "3.11.7"
  }
 },
 "nbformat": 4,
 "nbformat_minor": 4
}
