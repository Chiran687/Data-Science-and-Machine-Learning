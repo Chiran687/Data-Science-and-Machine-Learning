{
 "cells": [
  {
   "cell_type": "markdown",
   "metadata": {
    "id": "MvglpuaaLqhj"
   },
   "source": [
    "## Conditions and Branching.\n",
    "- `if`, `elif`, `else` keywords are used to accomplish conditions and branching in python.\n",
    "\n",
    "  ```\n",
    "  if case1:\n",
    "      perform action1\n",
    "    \n",
    "  elif case2:\n",
    "      perform action2\n",
    "\n",
    "  else:\n",
    "      perform action3\n",
    "  ```\n",
    "\n",
    "- Different comparison operators shown below, can be used with if statements.\n",
    "  - `Equals: a == b`\n",
    "  - `Not Equals: a != b`\n",
    "  - `Less than: a < b`\n",
    "  - `Less than or equal to: a <= b`\n",
    "  - `Greater than: a > b`\n",
    "  - `Greater than or equal to: a >= b`\n",
    "\n",
    "  ```\n",
    "  if a > b:\n",
    "      print(\"a is greater than b\")\n",
    "\n",
    "  elif a == b:\n",
    "      print(\"a is equal to b\")\n",
    "\n",
    "  else:\n",
    "      print(\"a is less than b\")\n",
    "  ```\n",
    "\n",
    "- In this lecture we'll cover:\n",
    "  - if statement: How program enters if block.\n",
    "  - Simple if else statements.\n",
    "  - Nested if else statements.\n",
    "  - Short Hand if....else statements / Ternary Operators\n",
    "  - pass keyword"
   ]
  },
  {
   "cell_type": "markdown",
   "metadata": {
    "id": "I6S9Qqz8QS4v"
   },
   "source": [
    "##1. if statement: How python program enters if blocks?\n",
    "\n",
    "`Hint: when if conditions is True`\n",
    "\n",
    "```\n",
    "if True:\n",
    "  print(\"if block goes here\")\n",
    "\n",
    "if False:\n",
    ";\n",
    "  print(\"if block goes here\")\n",
    "```"
   ]
  },
  {
   "cell_type": "code",
   "execution_count": 1,
   "metadata": {
    "id": "ezC-IIvtKzzI"
   },
   "outputs": [
    {
     "name": "stdout",
     "output_type": "stream",
     "text": [
      "if block goes here\n"
     ]
    }
   ],
   "source": [
    "# explain here\n",
    "\n",
    "if True:\n",
    "  print(\"if block goes here\")\n",
    "\n",
    "\n",
    "if False:\n",
    "  print(\"If block goes here\")"
   ]
  },
  {
   "cell_type": "markdown",
   "metadata": {
    "id": "9WXagrx5QyYk"
   },
   "source": [
    "- Python relies on Indentation (whitespace at the beginning of a line)\n",
    "  - Other programming languages often use curly-brackets for this purpose."
   ]
  },
  {
   "cell_type": "markdown",
   "metadata": {
    "id": "2idqIUn0RC5t"
   },
   "source": [
    "`Q.Try if statement without Indentation.`"
   ]
  },
  {
   "cell_type": "code",
   "execution_count": 2,
   "metadata": {
    "id": "TmMELBr8RCXv"
   },
   "outputs": [
    {
     "ename": "IndentationError",
     "evalue": "expected an indented block after 'if' statement on line 2 (833065042.py, line 3)",
     "output_type": "error",
     "traceback": [
      "\u001b[0;36m  Cell \u001b[0;32mIn[2], line 3\u001b[0;36m\u001b[0m\n\u001b[0;31m    print(\"if block statement\")\u001b[0m\n\u001b[0m    ^\u001b[0m\n\u001b[0;31mIndentationError\u001b[0m\u001b[0;31m:\u001b[0m expected an indented block after 'if' statement on line 2\n"
     ]
    }
   ],
   "source": [
    "# write your program here.\n",
    "if True:\n",
    "print(\"if block statement\")"
   ]
  },
  {
   "cell_type": "markdown",
   "metadata": {
    "id": "FRm1t1k7Ru6D"
   },
   "source": [
    "_`if statement, without indentation (will raise an error)`_\n",
    "\n",
    "\n",
    "\n"
   ]
  },
  {
   "cell_type": "markdown",
   "metadata": {
    "id": "4XRlodbLU1bU"
   },
   "source": [
    "##2. Simple if else statements\n",
    "- Generally, if statement has an optional elif, else clause.\n",
    "- **syntax 1**\n",
    "\n",
    "  ```\n",
    "  if condition:\n",
    "      # block of code if condition is True\n",
    "  \n",
    "  else:\n",
    "      # block of code if condition is False\n",
    "  ```\n",
    "\n",
    "- **syntax 2**\n",
    "\n",
    "  ```\n",
    "  if condition1:\n",
    "      # code block 1\n",
    "  \n",
    "  elif condition2:\n",
    "      # code block 2\n",
    "\n",
    "  else:\n",
    "      # code block 3\n",
    "  ```\n",
    "\n",
    "\n",
    " **Q1. Input number from user. print \"postive number\" if number is positive else print \"negative number. Consider 0 as positive as well.\"**\n",
    "\n"
   ]
  },
  {
   "cell_type": "code",
   "execution_count": 5,
   "metadata": {
    "id": "_M417gwzRKmf"
   },
   "outputs": [
    {
     "name": "stdin",
     "output_type": "stream",
     "text": [
      "Give your Number:  -7\n"
     ]
    },
    {
     "name": "stdout",
     "output_type": "stream",
     "text": [
      "negative Number\n"
     ]
    }
   ],
   "source": [
    " ## write your program here\n",
    "def take_input(User_Data):\n",
    "    \n",
    "    if User_Data >= 0:\n",
    "        print(\"Positive Number\")\n",
    "    else:\n",
    "        print(\"negative Number\")\n",
    "User_Data = int(input(\"Give your Number: \"))\n",
    "take_input(User_Data)"
   ]
  },
  {
   "cell_type": "markdown",
   "metadata": {
    "id": "vX4GOQeDXtDv"
   },
   "source": [
    "**Q2. Input two numbers num1, and num2 from user,**\n",
    "  - _**if num1 > num2: print \"num1 > num2\"**_\n",
    "  - _**if num1 == num2: print \"num1 = num2\"**_\n",
    "  - _**if num1 < num2: print \"num1 < num2\"**_"
   ]
  },
  {
   "cell_type": "code",
   "execution_count": 6,
   "metadata": {
    "id": "3N7MZiOpXsG2"
   },
   "outputs": [
    {
     "name": "stdin",
     "output_type": "stream",
     "text": [
      "Give Number 1 7\n",
      "Give Number 2 8\n"
     ]
    },
    {
     "name": "stdout",
     "output_type": "stream",
     "text": [
      "num1 < num2\n"
     ]
    }
   ],
   "source": [
    "## write your program here\n",
    "def Compare_Num(num1, num2):\n",
    "    \n",
    "    if num1 > num2:\n",
    "        print(\" num1 > num2\")\n",
    "    elif num1 == num2:\n",
    "        print (\"num1 = num2\")\n",
    "    elif num1 < num2:\n",
    "        print (\"num1 < num2\")\n",
    "        \n",
    "num1 = int(input(\"Give Number 1\"))\n",
    "num2 = int(input(\"Give Number 2\"))\n",
    "\n",
    "Compare_Num(num1, num2)"
   ]
  },
  {
   "cell_type": "markdown",
   "metadata": {
    "id": "CZLxsunEYuDY"
   },
   "source": [
    "##3. Nested if else statements.\n",
    "- if or else statements inside if or else statements.\n",
    "\n",
    "- **Syntax:**\n",
    "  ```\n",
    "  if condition1:\n",
    "    if condition:\n",
    "      # code block\n",
    "    else:\n",
    "      # code block\n",
    "\n",
    "  elif condition2:\n",
    "    if condition:\n",
    "      # code block\n",
    "    else:\n",
    "      # code block\n",
    "  \n",
    "  :::::::::::::::::\n",
    "  :::::::::::::::::\n",
    "\n",
    "  else:\n",
    "    if condition:\n",
    "      # code block\n",
    "\n",
    "    elif condition:\n",
    "      # code block\n",
    "    else:\n",
    "      # code block\n",
    "  ```"
   ]
  },
  {
   "cell_type": "markdown",
   "metadata": {
    "id": "k1-Yny8Yeezg"
   },
   "source": [
    "**Q. Write a python program to find max of three numbers.**\n",
    "\n",
    "```\n",
    "Given three numbers num1, num2, num3\n",
    "\n",
    "if num1 > num2:\n",
    "  if num1 > num3:\n",
    "    print(f\"max number: {num1}\")\n",
    "  else:\n",
    "    print(f\"max number: {num3}\")\n",
    "\n",
    "\n",
    "else:\n",
    "  if num2 > num3:\n",
    "    print(f\"max number: {num2}\")\n",
    "  else:\n",
    "    print(f\"max number: {num3}\")\n",
    "```\n",
    "\n",
    "\n",
    "\n"
   ]
  },
  {
   "cell_type": "code",
   "execution_count": 11,
   "metadata": {
    "id": "2Kr8jw0GYizG"
   },
   "outputs": [
    {
     "name": "stdin",
     "output_type": "stream",
     "text": [
      "Give Number 1 6\n",
      "Give Number 2 9\n",
      "Give Number 3 3\n"
     ]
    },
    {
     "name": "stdout",
     "output_type": "stream",
     "text": [
      "\n",
      "Max number: 9\n"
     ]
    }
   ],
   "source": [
    "## write your program here\n",
    "\n",
    "def Calculate_Max(num1, num2, num3):\n",
    "\n",
    "    if num1 > num2:\n",
    "      if num1 > num3:\n",
    "        print(f\"\\nMax number: {num1}\")\n",
    "      else:\n",
    "        print(f\"\\nMax number: {num3}\")\n",
    "\n",
    "    else:\n",
    "      if num2 > num3:\n",
    "        print(f\"\\nMax number: {num2}\")\n",
    "      else:\n",
    "        print(f\"\\Max number: {num3}\")\n",
    "\n",
    "num1 = int(input(\"Give Number 1\"))\n",
    "num2 = int(input(\"Give Number 2\"))\n",
    "num3 = int(input(\"Give Number 3\"))\n",
    "\n",
    "Calculate_Max(num1, num2, num3)"
   ]
  },
  {
   "cell_type": "markdown",
   "metadata": {
    "id": "xAEwKbyj2pTz"
   },
   "source": [
    "##4. Short Hand if...else statements / Ternary Operators\n",
    "- It is way of writing if else statement in a single line of code.\n",
    "- Also, called Ternary operators.\n",
    "- **Syntax (simple if else)**\n",
    "\n",
    "  `<if_block> if <condition>  else  <else_block> `\n",
    "\n",
    "\n",
    "- **Syntax (nested simple if else)**\n",
    "\n",
    "  `(<code_block> if <condition> else <code_block>)` **if**  < if_condition >\n",
    "   **else** `(<code_block> if <condition> else <code_block>)`\n",
    "\n",
    "\n",
    "\n",
    "   **Q1. Write a python program to print max of 2 numbers using ternary operator.**\n",
    "\n",
    "      ```\n",
    "      Input: a = 20, b = 30\n",
    "      Output: Max number is 30\n",
    "      ```\n"
   ]
  },
  {
   "cell_type": "code",
   "execution_count": 14,
   "metadata": {
    "id": "En4idN1K2mbm"
   },
   "outputs": [
    {
     "name": "stdin",
     "output_type": "stream",
     "text": [
      "Give num to check ternery use case -4\n"
     ]
    },
    {
     "name": "stdout",
     "output_type": "stream",
     "text": [
      "nehative\n"
     ]
    }
   ],
   "source": [
    "## write your Ternary program here\n",
    "def Ternery_Use(num1):\n",
    "    print(\"Positive\") if num1 >= 0 else print(\"negative\")\n",
    "\n",
    "num1 = int(input(\"Give num to check ternery use case\"))\n",
    "Ternery_Use(num1)"
   ]
  },
  {
   "cell_type": "markdown",
   "metadata": {
    "id": "HlaAYU6T6V1x"
   },
   "source": [
    "**Q2. Write a python program to print max of 3 numbers using ternary operator.**"
   ]
  },
  {
   "cell_type": "code",
   "execution_count": 20,
   "metadata": {},
   "outputs": [
    {
     "name": "stdout",
     "output_type": "stream",
     "text": [
      "30\n"
     ]
    }
   ],
   "source": [
    "num1 = 10\n",
    "num2 = 20\n",
    "num3 = 30\n",
    "\n",
    "max = print(num1) if num1 > num2 and num > num3 else print(num2) if num2 > num3 else print(num3)"
   ]
  },
  {
   "cell_type": "code",
   "execution_count": 21,
   "metadata": {
    "id": "ky0kf5MB6eet"
   },
   "outputs": [
    {
     "name": "stdin",
     "output_type": "stream",
     "text": [
      "Give Number 1 5\n",
      "Give Number 2 8\n",
      "Give Number 3 3\n"
     ]
    },
    {
     "name": "stdout",
     "output_type": "stream",
     "text": [
      "\n",
      "Max number: 8\n"
     ]
    }
   ],
   "source": [
    "## write your program here\n",
    "# max between three numbers\n",
    "\n",
    "def Ternery_Use(num1, num2, num3):\n",
    "    print(f\"\\nMax number: {num1}\") if num1 > num2 and num1 > num3  else print(f\"\\nMax number: {num2}\") if num2 > num3 else print(f\"\\Max number: {num3}\")\n",
    "\n",
    "num1 = int(input(\"Give Number 1\"))\n",
    "num2 = int(input(\"Give Number 2\"))\n",
    "num3 = int(input(\"Give Number 3\"))\n",
    "\n",
    "Ternery_Use(num1, num2, num3)\n"
   ]
  },
  {
   "cell_type": "markdown",
   "metadata": {
    "id": "RQrLzpAA6sh8"
   },
   "source": [
    "## 5. Pass Keyword\n",
    "- `pass` keyword acts as a placeholder for code to be added in if..else block.\n",
    "\n",
    "- **Use case**\n",
    "  - consider case, when you want to determine your python code structure in advance before adding actual code.\n",
    "\n",
    "- **Syntax:**\n",
    "\n",
    "  ```\n",
    "  if <condition>:\n",
    "    pass\n",
    "  else <condition>:\n",
    "    pass\n",
    "  ```"
   ]
  },
  {
   "cell_type": "code",
   "execution_count": 22,
   "metadata": {
    "id": "m_zFUnMs65_C"
   },
   "outputs": [],
   "source": [
    "## write your program using \"pass\" keyword\n",
    "if True:\n",
    "  pass\n",
    "\n",
    "else:\n",
    "  pass"
   ]
  },
  {
   "cell_type": "markdown",
   "metadata": {},
   "source": [
    "# Task 01: Grading System Exercise\n",
    "\n",
    "## Objective\n",
    "Create a simple grading system where a student's score is entered, and the program determines the corresponding grade.\n",
    "\n",
    "## Requirements\n",
    "\n",
    "1. Get the student's score as input.\n",
    "2. Use the following grading scale:\n",
    "   - 90-100: A\n",
    "   - 80-89: B\n",
    "   - 70-79: C\n",
    "   - 60-69: D\n",
    "   - Below 60: F\n",
    "3. Print the grade based on the input score.\n",
    "4. Handle cases where the entered score is not within the valid range (0-100)."
   ]
  },
  {
   "cell_type": "code",
   "execution_count": 26,
   "metadata": {},
   "outputs": [
    {
     "name": "stdin",
     "output_type": "stream",
     "text": [
      "Give Number of Student:  67\n"
     ]
    },
    {
     "name": "stdout",
     "output_type": "stream",
     "text": [
      "The grade is C\n"
     ]
    }
   ],
   "source": [
    "def Grade_Calculate(marks):\n",
    "    \n",
    "    if marks>90 and marks <100:\n",
    "        print(\"The grade is A\")\n",
    "    elif marks>80 and marks<89:\n",
    "        print(\"The grade is B\")\n",
    "    elif marks>70 and marks<79:\n",
    "        print(\"The grade is C\")\n",
    "    elif marks>60 and marks<69:\n",
    "        print(\"The grade is C\")\n",
    "    elif marks>=0 and marks<60:\n",
    "        print(\"The grade is F\")\n",
    "    else:\n",
    "        print(\"Please Double check your marks\")\n",
    "\n",
    "marks = float(input(\"Give Number of Student: \"))\n",
    "Grade_Calculate(marks)"
   ]
  },
  {
   "cell_type": "markdown",
   "metadata": {},
   "source": [
    "# Task 02: Ticket Price Calculator Exercise\n",
    "\n",
    "## Objective\n",
    "Create a program that calculates the ticket price for a movie based on the age and whether the customer is a student.\n",
    "\n",
    "## Requirements\n",
    "\n",
    "1. Get the user's age and whether they are a student (True or False) as input.\n",
    "2. Define the ticket prices:\n",
    "   - Children (age 0-12): \\$10\n",
    "   - Teenagers (age 13-17): \\$15\n",
    "   - Adults (age 18 and above): $20\n",
    "   - Students (regardless of age): \\$18 (discounted price)\n",
    "3. Calculate and print the ticket price based on the user's age and student status.\n",
    "4. Handle cases where the entered age is not a valid numeric value.\n",
    "5. Provide a message for cases where the age is negative or non-integer."
   ]
  },
  {
   "cell_type": "code",
   "execution_count": 17,
   "metadata": {},
   "outputs": [
    {
     "name": "stdin",
     "output_type": "stream",
     "text": [
      "Please type y if you are student, n if you are not student uh\n",
      "Please give age:  8\n"
     ]
    },
    {
     "name": "stdout",
     "output_type": "stream",
     "text": [
      "Invalid command\n",
      "Unable to provide student discount\n"
     ]
    }
   ],
   "source": [
    "def Ticket_Price(student, age):\n",
    "    \n",
    "    if student == \"y\" and \"Y\":\n",
    "        if age>=0 and age<12:\n",
    "            print(\"Price is $10\")\n",
    "        elif age>13 and age<17:\n",
    "            print(\"Price is $15\")\n",
    "        elif age>18:\n",
    "            print(\"Price is $20\")\n",
    "        else:\n",
    "            print(\"invalid age\")\n",
    "    elif student == \"n\" and \"N\":\n",
    "        print(\"Unable to provide student discount\")\n",
    "    else:\n",
    "        print(\"Invalid command\")\n",
    "        print(\"Unable to provide student discount\")\n",
    "        \n",
    "def User_Input():\n",
    "\n",
    "    student = str(input(\"Please type y if you are student, n if you are not student\"))\n",
    "    \n",
    "    age = int(input(\"Please give age: \"))\n",
    "\n",
    "    Ticket_Price(student, age)\n",
    "\n",
    "User_Input()"
   ]
  },
  {
   "cell_type": "markdown",
   "metadata": {},
   "source": [
    "# Task 03: Word Frequency Counter\n",
    "\n",
    "## Objective\n",
    "Create a program that analyzes a given text and counts the frequency of each unique word.\n",
    "\n",
    "## Requirements\n",
    "\n",
    "1. Ask the user to input a paragraph or sentence.\n",
    "2. Tokenize the input into words (ignoring punctuation and case sensitivity).\n",
    "3. Count the frequency of each unique word.\n",
    "4. Display the word frequencies in alphabetical order.\n",
    "5. Handle cases where the input is empty."
   ]
  },
  {
   "cell_type": "code",
   "execution_count": 2,
   "metadata": {},
   "outputs": [
    {
     "name": "stdin",
     "output_type": "stream",
     "text": [
      "Give you paragraph to parse:  With these adjustments, the LaTeX document should compile without errors and include the table as intended.\n"
     ]
    },
    {
     "name": "stdout",
     "output_type": "stream",
     "text": [
      "0 ('LaTeX', 1)\n",
      "1 ('With', 1)\n",
      "2 ('adjustments,', 1)\n",
      "3 ('and', 1)\n",
      "4 ('as', 1)\n",
      "5 ('compile', 1)\n",
      "6 ('document', 1)\n",
      "7 ('errors', 1)\n",
      "8 ('include', 1)\n",
      "9 ('intended.', 1)\n",
      "10 ('should', 1)\n",
      "11 ('table', 1)\n",
      "12 ('the', 2)\n",
      "13 ('these', 1)\n",
      "14 ('without', 1)\n"
     ]
    }
   ],
   "source": [
    "def Frequency_Counter(data):\n",
    "    result = {key: data.split(\" \").count(key) for key in data.split(\" \") }\n",
    "    for x, i in enumerate(sorted(result.items())):\n",
    "        print(x, str(i))\n",
    "\n",
    "data = str(input(\"Give you paragraph to parse: \"))\n",
    "Frequency_Counter(data)"
   ]
  },
  {
   "cell_type": "markdown",
   "metadata": {},
   "source": [
    "# Task 04: Magic Square Validator\n",
    "\n",
    "## Objective\n",
    "Create a program that checks if a given 3x3 matrix forms a magic square.\n",
    "\n",
    "## Requirements\n",
    "\n",
    "1. A magic square is a square matrix where the sums of the numbers in each row, column, and both main diagonals are the same.\n",
    "2. Ask the user to input a 3x3 matrix (nine integer values).\n",
    "3. Check and print whether the given matrix forms a magic square.\n",
    "4. Handle cases where the input matrix is not of size 3x3 or contains non-integer values."
   ]
  },
  {
   "cell_type": "code",
   "execution_count": 2,
   "metadata": {},
   "outputs": [
    {
     "name": "stdout",
     "output_type": "stream",
     "text": [
      "[[6 6 5]\n",
      " [3 6 6]\n",
      " [1 5 1]]\n",
      "Not Magic square\n"
     ]
    }
   ],
   "source": [
    "import numpy as np\n",
    "\n",
    "def Magic_checker(matrix):\n",
    "    \n",
    "    print(matrix)\n",
    "    \n",
    "    n = len(matrix)\n",
    "    sum1 = 0\n",
    "    sum2 = 0\n",
    "\n",
    "    for i in range(n):\n",
    "        sum1+=matrix[i][i]\n",
    "        sum2+=matrix[i][n-i-1]\n",
    "        \n",
    "    if not (sum1==sum2):\n",
    "        return False\n",
    "        \n",
    "    for i in range(n):\n",
    "        sumr=0\n",
    "        sumc=0\n",
    "        \n",
    "        for x in range(n):\n",
    "            sumr+=matrix[i][x]\n",
    "            sumc+=matrix[x][i]\n",
    "        if not(sumr==sumc==sum1):\n",
    "            return False\n",
    "            \n",
    "    return True\n",
    "\n",
    "matrix = np.random.randint(1,9, size=(3,3))\n",
    "\n",
    "if (Magic_checker(matrix)):\n",
    "    print(\"Magic square\")\n",
    "else:\n",
    "    print(\"Not Magic square\")\n"
   ]
  },
  {
   "cell_type": "markdown",
   "metadata": {},
   "source": [
    "# Task 05: Palindromic Anagram Checker\n",
    "\n",
    "## Objective\n",
    "Create a program that checks if a given string can be rearranged to form a palindromic string.\n",
    "\n",
    "## Requirements\n",
    "\n",
    "1. A palindrome is a word, phrase, number, or other sequences of characters that reads the same forward and backward.\n",
    "2. Ask the user to input a string.\n",
    "3. Check and print whether the given string can be rearranged to form a palindrome.\n",
    "4. Ignore spaces and consider the characters in a case-insensitive manner.\n",
    "5. Handle cases where the input is empty or contains non-alphabetic characters."
   ]
  },
  {
   "cell_type": "code",
   "execution_count": 6,
   "metadata": {},
   "outputs": [
    {
     "name": "stdin",
     "output_type": "stream",
     "text": [
      "Give any word:  completed\n"
     ]
    },
    {
     "name": "stdout",
     "output_type": "stream",
     "text": [
      "Palindrome\n"
     ]
    }
   ],
   "source": [
    "def Palindrome_Check(data):\n",
    "    NO_OF_CHARS = 256\n",
    "    \n",
    "    count = [0 for i in range (NO_OF_CHARS)]\n",
    "\n",
    "    for i in data:\n",
    "        count[ord(i)] +=1\n",
    "\n",
    "    odd = 0\n",
    "    for i in range(NO_OF_CHARS):\n",
    "        if (count[i] & 1):\n",
    "            odd += 1\n",
    "\n",
    "        if (odd > 1):\n",
    "            return False\n",
    "    return True\n",
    "\n",
    "data = str(input(\"Give any word: \"))\n",
    "\n",
    "Palindrome_Check(data)\n",
    "\n",
    "if data:\n",
    "    print(\"Palindrome\")\n",
    "else:\n",
    "    print(\"Not Palindrome\")\n",
    "        "
   ]
  },
  {
   "cell_type": "markdown",
   "metadata": {
    "id": "j5rQsUXT8hn7"
   },
   "source": [
    "\n",
    "<hr>\n",
    "<h2>Congratulations, you have completed your hands-on lab in Python Conditions and Branching.\n",
    "<hr>\n"
   ]
  }
 ],
 "metadata": {
  "colab": {
   "provenance": []
  },
  "kernelspec": {
   "display_name": "Python 3 (ipykernel)",
   "language": "python",
   "name": "python3"
  },
  "language_info": {
   "codemirror_mode": {
    "name": "ipython",
    "version": 3
   },
   "file_extension": ".py",
   "mimetype": "text/x-python",
   "name": "python",
   "nbconvert_exporter": "python",
   "pygments_lexer": "ipython3",
   "version": "3.11.7"
  }
 },
 "nbformat": 4,
 "nbformat_minor": 4
}
