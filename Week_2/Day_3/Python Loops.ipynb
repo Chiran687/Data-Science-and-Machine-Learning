{
 "cells": [
  {
   "cell_type": "markdown",
   "metadata": {
    "id": "vimaFMEf-ClU"
   },
   "source": [
    "# Python Loops\n",
    "- Python Loops are used for executing block of code repeatedly until some condition is satisfied.\n",
    "\n",
    "- Python loops can be categorized into 2 types:\n",
    "  1. `while loop`\n",
    "  2. `for loop`\n",
    "\n",
    "\n",
    "- In this lecture we will cover:\n",
    "  1. `while loop`\n",
    "    - syntax of while loop\n",
    "    - break statement\n",
    "    - continue statement\n",
    "    - Infinite Loop\n",
    "\n",
    "  2. `for loop`\n",
    "    - syntax of for loop\n",
    "    - loop over a sequence (string, list, tuple, set, dictionary)\n",
    "    - loop using range() function\n",
    "    - simple vs nested for loops"
   ]
  },
  {
   "cell_type": "markdown",
   "metadata": {
    "id": "uu0yuA6kBNXu"
   },
   "source": [
    "# 1. While Loop\n",
    "- With the `while` loop we can execute set of statements as long as a condition is true.\n",
    "\n",
    "- **Syntax (simple while loop)**\n",
    "\n",
    "  ```\n",
    "  while <condition>:\n",
    "    #while block code logic\n",
    "  ```\n",
    "\n",
    "- **syntax (nested while loop)**\n",
    "\n",
    "  ```\n",
    "  # outer while loop\n",
    "  while <condition>:\n",
    "\n",
    "    # inner while loop\n",
    "    while <condition>:\n",
    "      # code logic\n",
    "  ```\n",
    "\n",
    "  _`we will only look into simple while loop`_"
   ]
  },
  {
   "cell_type": "markdown",
   "metadata": {
    "id": "qzhuF5GJBtqv"
   },
   "source": [
    "`Q. Write a python program to print \"Hello world\" 10 times using while loop.`"
   ]
  },
  {
   "cell_type": "code",
   "execution_count": 2,
   "metadata": {
    "id": "PkNnESDi8y8D"
   },
   "outputs": [
    {
     "name": "stdout",
     "output_type": "stream",
     "text": [
      "Hello World\n",
      "Hello World\n",
      "Hello World\n",
      "Hello World\n",
      "Hello World\n",
      "Hello World\n",
      "Hello World\n",
      "Hello World\n",
      "Hello World\n"
     ]
    }
   ],
   "source": [
    "# write your program here\n",
    "data = 1\n",
    "while data<10:\n",
    "    print(\"Hello World\")\n",
    "    data += 1"
   ]
  },
  {
   "cell_type": "markdown",
   "metadata": {
    "id": "0MjWjeyiE6qa"
   },
   "source": [
    "## 1.2. Break Statement\n",
    "- `break` keyword is used to break and exit from the loop.\n",
    "\n",
    "```\n",
    "Q. Given list = ['mango', 'banana', 'apple', 'kiwi', 'orange']. print every items, if item = apple, then exit from loop.\n",
    "\n",
    "Output:\n",
    "  - mango\n",
    "  - banana\n",
    "```"
   ]
  },
  {
   "cell_type": "code",
   "execution_count": 6,
   "metadata": {
    "id": "G4XjkrUNB1-O"
   },
   "outputs": [
    {
     "name": "stdout",
     "output_type": "stream",
     "text": [
      "mango\n",
      "banana\n"
     ]
    }
   ],
   "source": [
    "# write your program here\n",
    "Given_list = ['mango', 'banana', 'apple', 'kiwi', 'orange']\n",
    "for i in Given_list:\n",
    "    print(i)\n",
    "    if i==Given_list[1]:\n",
    "        break"
   ]
  },
  {
   "cell_type": "markdown",
   "metadata": {
    "id": "5m-YqAE7FoLo"
   },
   "source": [
    "## 1.3. Continue Statement\n",
    "- `continue` keyword is used to stop current iteration and continue with next iteration.\n",
    "\n",
    "\n",
    "```\n",
    "Q. Given list = ['mango', 'banana', 'apple', 'kiwi', 'orange'].\n",
    " **print** every items, if item = apple, simply continue with next item without printing.\n",
    "\n",
    "Output:\n",
    "  - mango\n",
    "  - banana\n",
    "  - kiwi\n",
    "  - orange\n",
    "```\n",
    "\n"
   ]
  },
  {
   "cell_type": "code",
   "execution_count": 5,
   "metadata": {
    "id": "r6ZiD2LOFnAB"
   },
   "outputs": [
    {
     "name": "stdout",
     "output_type": "stream",
     "text": [
      "mango\n",
      "banana\n",
      "kiwi\n",
      "orange\n"
     ]
    }
   ],
   "source": [
    "# write your program here\n",
    "Given_list = ['mango', 'banana', 'apple', 'kiwi', 'orange']\n",
    "for i in Given_list:\n",
    "    if i=='apple':\n",
    "        continue\n",
    "    print(i)\n",
    "        "
   ]
  },
  {
   "cell_type": "markdown",
   "metadata": {
    "id": "1vLG1cdjHIm5"
   },
   "source": [
    "# 1. 4 Infinite Loop\n",
    "\n",
    "**Q. How can I execute block of code infinite times?**\n",
    "\n",
    "`Warning: May crash your system`"
   ]
  },
  {
   "cell_type": "code",
   "execution_count": null,
   "metadata": {
    "id": "PoO_g9OqHUmH"
   },
   "outputs": [],
   "source": [
    "## write your program here\n",
    "\n",
    "while True:\n",
    "    print('infine loop')"
   ]
  },
  {
   "cell_type": "markdown",
   "metadata": {
    "id": "wN7L-NSzG0MR"
   },
   "source": [
    "# 2. for loop\n",
    "- A for loop is used for iterating over a sequence (string, list, tuple, set, dictionary).\n",
    "- A for loop is used using `for` keyword in python.\n",
    "\n",
    "- **Syntax (simple for loop)**\n",
    "  \n",
    "  ```\n",
    "  for <item> in <iterable>:\n",
    "    # for code block\n",
    "  ```\n",
    "\n",
    "- **Syntax (nested for loop)**  \n",
    "\n",
    "  ```\n",
    "  for <outer_item> in <outer_iterable>:  \n",
    "      # code to be executed for each outer_item\n",
    "      \n",
    "      for <inner_item> in <inner_iterable>:\n",
    "          # code to be executed for each inner_item\n",
    "  ```"
   ]
  },
  {
   "cell_type": "markdown",
   "metadata": {
    "id": "vjWQ3cZY5fzB"
   },
   "source": [
    "## 2.2 Loop Over a Sequence (String, List, Tuple, Set, Dictionary)\n",
    "- We have seen in the respective chapter, how we can loop through different data types.\n",
    "\n",
    "**Q.1. Given List of numbers, [10, 20, 5, 7, 2, 9, 13, 100]. Print items that are even.**  \n",
    "_`Hint: even numbers has reminder = 0`_\n",
    "****"
   ]
  },
  {
   "cell_type": "code",
   "execution_count": 15,
   "metadata": {
    "id": "28fo2D0EIfDj"
   },
   "outputs": [
    {
     "name": "stdout",
     "output_type": "stream",
     "text": [
      "10\n",
      "20\n",
      "2\n",
      "100\n"
     ]
    }
   ],
   "source": [
    "# write your program here\n",
    "Num_List = [10, 20, 5, 7, 2, 9, 13, 100]\n",
    "for i in range (0, len(Num_List)):\n",
    "    if Num_List[i] % 2== 0:\n",
    "        print(Num_List[i])"
   ]
  },
  {
   "cell_type": "markdown",
   "metadata": {
    "id": "wrzJYRMY7Rr5"
   },
   "source": [
    "`Similar loop concepts will be applicable to String, Tuple, Set, Dictionary.`"
   ]
  },
  {
   "cell_type": "markdown",
   "metadata": {
    "id": "seaAHPiIHpLn"
   },
   "source": [
    "## 2.3 Loop using range() function\n",
    "- To loop through a set of code specified number of times, we can use the `range()` function.\n",
    "- The `range()` function returns a sequence of numbers, starting from 0 by default. and increments by 1 (by default), and ends at a specified number.\n",
    "- **Syntax:**\n",
    "\n",
    "\n",
    "<img src='https://drive.google.com/uc?id=1PGfdHRK-JwiUDMIFEViFm34IR70a5oRl'>\n"
   ]
  },
  {
   "cell_type": "markdown",
   "metadata": {
    "id": "sWK1M2vfPOIs"
   },
   "source": [
    "**Q. Write a python program to print following patterns using range() function.**\n",
    "\n",
    "```\n",
    "*                                       \n",
    "**\n",
    "***                                               \n",
    "****\n",
    "*****\n",
    "```"
   ]
  },
  {
   "cell_type": "code",
   "execution_count": 20,
   "metadata": {
    "executionInfo": {
     "elapsed": 468,
     "status": "ok",
     "timestamp": 1686501489191,
     "user": {
      "displayName": "Anish Thapaliya",
      "userId": "06325140887572930045"
     },
     "user_tz": -345
    },
    "id": "MYV-B-hqPE4Y"
   },
   "outputs": [
    {
     "name": "stdout",
     "output_type": "stream",
     "text": [
      "*\n",
      "**\n",
      "***\n",
      "****\n",
      "*****\n"
     ]
    }
   ],
   "source": [
    "## write your program here\n",
    "for i in range (5):\n",
    "    for j in range(i+1):\n",
    "        print(\"*\", end=\"\")\n",
    "    print()"
   ]
  },
  {
   "cell_type": "markdown",
   "metadata": {
    "id": "CUzqC-xf7c7i"
   },
   "source": [
    "## 2.4 Simple vs  Nested for Loops\n",
    "\n",
    "**Q.1. Write a program that takes a string as input and counts the number of vowels (a, e, i, o, u) using a for loop.**\n",
    "\n",
    "**Q.2 Write a program that generates all possible combinations of three numbers from 1 to 5 using nested for loops and prints them.**"
   ]
  },
  {
   "cell_type": "code",
   "execution_count": 28,
   "metadata": {
    "executionInfo": {
     "elapsed": 5,
     "status": "ok",
     "timestamp": 1686500463337,
     "user": {
      "displayName": "Anish Thapaliya",
      "userId": "06325140887572930045"
     },
     "user_tz": -345
    },
    "id": "Pq-nExtJ7NU_"
   },
   "outputs": [
    {
     "name": "stdin",
     "output_type": "stream",
     "text": [
      "Give String apple\n"
     ]
    },
    {
     "name": "stdout",
     "output_type": "stream",
     "text": [
      "2\n",
      "['a', 'e']\n"
     ]
    }
   ],
   "source": [
    "## write your program for Q.1\n",
    "data =str(input(\"Give String\"))\n",
    "vowel = ('a', 'e', 'i','o', 'u')\n",
    "final = [each for each in data if each in vowel]\n",
    "print(len(final))\n",
    "print(final)"
   ]
  },
  {
   "cell_type": "code",
   "execution_count": 33,
   "metadata": {
    "executionInfo": {
     "elapsed": 3,
     "status": "ok",
     "timestamp": 1686500478051,
     "user": {
      "displayName": "Anish Thapaliya",
      "userId": "06325140887572930045"
     },
     "user_tz": -345
    },
    "id": "oNayYFoZJYSJ"
   },
   "outputs": [],
   "source": [
    "# write your program for Q.2 \n",
    "import numpy as np"
   ]
  },
  {
   "cell_type": "code",
   "execution_count": 34,
   "metadata": {},
   "outputs": [
    {
     "name": "stdout",
     "output_type": "stream",
     "text": [
      "4 2 2\n",
      "4 2 2\n",
      "2 4 2\n",
      "2 2 4\n",
      "2 4 2\n",
      "2 2 4\n"
     ]
    }
   ],
   "source": [
    "#Write a program that generates all possible combinations of three numbers from 1 to 5 using nested for loops and prints them.\n",
    "def combinations(num):\n",
    "    for i in range(3):\n",
    "        for j in range(3):\n",
    "            for k in range(3):\n",
    "                if (i!=j and j!=k and i!=k):\n",
    "                    print(num[i], num[j], num[k])\n",
    "\n",
    "num = np.random.randint(1,5, size=(3))\n",
    "combinations(num)\n"
   ]
  },
  {
   "cell_type": "markdown",
   "metadata": {},
   "source": [
    "# Task 01: Word Pyramid Generator\n",
    "\n",
    "## Task\n",
    "\n",
    "Create a program that generates a word pyramid pattern based on user input.\n",
    "\n",
    "## Objective\n",
    "\n",
    "The objective is to generate and print a pyramid pattern using the letters of the word provided by the user. Each level of the pyramid should display the letters of the word up to that level, and the word should be centered on each level of the pyramid.\n",
    "\n",
    "## Requirements\n",
    "\n",
    "1. Ask the user to input a word.\n",
    "2. Generate and print a pyramid pattern using the letters of the word.\n",
    "3. Each level of the pyramid should display the letters of the word up to that level.\n",
    "4. The word should be centered on each level of the pyramid.\n",
    "\n",
    "## Additional Challenges\n",
    "\n",
    "1. Implement a function to validate the input and ensure it's a valid word.\n",
    "2. Allow the user to choose the direction of the pyramid (upwards or downwards).\n",
    "3. Enhance the program to handle phrases or sentences instead of single words.\n",
    "\n",
    "Expected Output:\n",
    "if word level is up:\n",
    "```\n",
    "            S    \n",
    "           S u   \n",
    "          S u n  \n",
    "         S u n i \n",
    "        S u n i l\n",
    "```\n",
    "\n",
    "if word level is Down:\n",
    "```\n",
    "            S u n i l\n",
    "             S u n i \n",
    "              S u n  \n",
    "               S u   \n",
    "                S \n",
    "```"
   ]
  },
  {
   "cell_type": "code",
   "execution_count": 8,
   "metadata": {},
   "outputs": [
    {
     "name": "stdin",
     "output_type": "stream",
     "text": [
      "Enter a word:  hello\n",
      "Enter 1 for upward pyramid and 0 for downward:  0\n"
     ]
    },
    {
     "name": "stdout",
     "output_type": "stream",
     "text": [
      "h e l l o\n",
      " h e l l\n",
      "  h e l\n",
      "   h e\n",
      "    h\n"
     ]
    }
   ],
   "source": [
    "def pyramid(data, prompt):\n",
    "    word_length = len(data)\n",
    "    \n",
    "    # Generate the pyramid\n",
    "    if prompt == 1:\n",
    "        \n",
    "        for i in range(word_length):\n",
    "            spaces = \" \" * (word_length - i - 1)\n",
    "            letters = \" \".join(data[:i+1])\n",
    "            print(spaces + letters)\n",
    "            \n",
    "    if prompt == 0:\n",
    "        for i in range(word_length):\n",
    "            spaces = \" \" * i\n",
    "            letters = \" \".join(data[:word_length-i])\n",
    "            print(spaces + letters)\n",
    "            \n",
    "    elif prompt != 1 and prompt != 1:\n",
    "        print(\"Invalid Command\")\n",
    "        \n",
    "#take User input\n",
    "def main():\n",
    "    data = str(input(\"Enter a word: \"))\n",
    "    prompt = int(input(\"Enter 1 for upward pyramid and 0 for downward: \"))\n",
    "    pyramid(data, prompt)\n",
    "    \n",
    "main()"
   ]
  },
  {
   "cell_type": "markdown",
   "metadata": {},
   "source": [
    "# Task 02: List Manipulation - Odd-Even Sorter\n",
    "\n",
    "## Objective\n",
    "\n",
    "Create a program that takes a list of numbers from the user, sorts them into two separate lists (one for odd numbers and one for even numbers), and displays the sorted lists.\n",
    "\n",
    "## Requirements\n",
    "\n",
    "1. Ask the user to input a list of numbers (comma-separated).\n",
    "2. Sort the numbers into two lists: one for odd numbers and one for even numbers.\n",
    "3. Display both lists.\n",
    "\n",
    "## Additional Challenges\n",
    "\n",
    "1. Allow the user to input any type of values (not just numbers) and handle different data types.\n",
    "2. Enhance the program to display the sorted lists in ascending or descending order."
   ]
  },
  {
   "cell_type": "code",
   "execution_count": 29,
   "metadata": {},
   "outputs": [
    {
     "name": "stdin",
     "output_type": "stream",
     "text": [
      "Give num seperated by comma:  4,6,7,8,9,99,34\n"
     ]
    },
    {
     "name": "stdout",
     "output_type": "stream",
     "text": [
      "The even are [4, 6, 8, 34] \n",
      "The odd are [7, 9, 99] \n"
     ]
    }
   ],
   "source": [
    "#Function to check Odd or Even\n",
    "def odd_even(parsed_num):\n",
    "    odd_list = []\n",
    "    even_list = []\n",
    "    #validation Process\n",
    "    for i in parsed_num:\n",
    "        if i % 2 == 0:\n",
    "            even_list.append(i)\n",
    "    for i in parsed_num:\n",
    "        if i % 2 == 1:\n",
    "            odd_list.append(i)\n",
    "\n",
    "    #Printing\n",
    "    if even_list:\n",
    "        print(f\"The even are {even_list} \")\n",
    "    else:\n",
    "        print(\"There are no even Numbers.\")\n",
    "\n",
    "    if odd_list:\n",
    "        print(f\"The odd are {odd_list} \")\n",
    "    else:\n",
    "        print(\"There are no odd Numbers\")\n",
    "\n",
    "#Function to parse and filter user input\n",
    "def parse(num):\n",
    "    parsed_num = []\n",
    "    for i in num.split(\",\"):\n",
    "        parsed_num.append(int(i))\n",
    "    odd_even(parsed_num)\n",
    "\n",
    "#take user input and pass to parse\n",
    "def main():\n",
    "    num = input(\"Give num seperated by comma: \")\n",
    "    parse(num)\n",
    "\n",
    "main()"
   ]
  },
  {
   "cell_type": "markdown",
   "metadata": {},
   "source": [
    "# Task 03: Prime Factorization\n",
    "\n",
    "## Objective\n",
    "\n",
    "Create a program that takes an integer input from the user and prints its prime factorization.\n",
    "\n",
    "## Requirements\n",
    "\n",
    "1. Ask the user to input a positive integer.\n",
    "2. Compute and print the prime factorization of the input integer.\n",
    "\n",
    "## Additional Challenges\n",
    "\n",
    "1. Implement error handling to ensure the user inputs a valid positive integer.\n",
    "2. Allow the program to handle edge cases, such as the input being 1 or a prime number.\n",
    "3. Enhance the program to handle multiple integer inputs in a loop until the user chooses to exit."
   ]
  },
  {
   "cell_type": "code",
   "execution_count": 4,
   "metadata": {},
   "outputs": [
    {
     "name": "stdin",
     "output_type": "stream",
     "text": [
      "Give your num:  456\n"
     ]
    },
    {
     "name": "stdout",
     "output_type": "stream",
     "text": [
      "2 2 2 3 19 "
     ]
    }
   ],
   "source": [
    "#Find Factors of number\n",
    "def get_prime(num):\n",
    "\tx = [0 for i in range(num+1)]\n",
    "\tx[1] = 1\n",
    "\tfor i in range(2, num+1):\n",
    "\t\tx[i] = i\n",
    "\tfor i in range(4, num+1, 2):\n",
    "\t\tx[i] = 2\n",
    "\n",
    "\tfor i in range(3, int(num**0.5)+1):\n",
    "\t\tif x[i] == i:\n",
    "\t\t\tfor j in range(i*i, num+1, i):\n",
    "\t\t\t\tif x[j] == j:\n",
    "\t\t\t\t\tx[j] = i\n",
    "\t\t\t\t\t\n",
    "\twhile num != 1:\n",
    "\t\tprint(x[num], end=\" \")\n",
    "\t\tnum = num // x[num]\n",
    "\n",
    "#Main Function to take user input\n",
    "def main():\n",
    "    try:\n",
    "        num = int(input(\"Give your num: \"))\n",
    "    except Exception as e:\n",
    "        print(e)\n",
    "    #pass number to get_prime function\n",
    "    get_prime(num)\n",
    "\n",
    "main()"
   ]
  },
  {
   "cell_type": "markdown",
   "metadata": {},
   "source": [
    "# Task 04: Number Guessing Game\n",
    "\n",
    "## Objective\n",
    "\n",
    "Create a simple number guessing game where the program generates a random number, and the user has to guess it.\n",
    "    \n",
    "## Requirements\n",
    "\n",
    "1. Generate a random number between a specified range.\n",
    "2. Ask the user to guess the number.\n",
    "3. Provide feedback on whether the guess is too high, too low, or correct.\n",
    "4. Allow the user to continue guessing until they guess the correct number.\n",
    "5. Display the number of attempts it took to guess correctly.\n",
    "\n",
    "## Additional Challenges\n",
    "\n",
    "1. Implement error handling to ensure the user inputs a valid number.\n",
    "2. Allow the user to choose the range of numbers for the guessing game.\n",
    "3. Enhance the program to provide hints or clues based on the user's previous guesses."
   ]
  },
  {
   "cell_type": "code",
   "execution_count": 2,
   "metadata": {},
   "outputs": [
    {
     "name": "stdin",
     "output_type": "stream",
     "text": [
      "Give your lower limit:  1\n",
      "Give your upper limit:  19\n",
      "Give your lucky num:  4\n",
      "Try again:  5\n",
      "Try again:  6\n",
      "Try again:  3\n",
      "Try again:  6\n",
      "Try again:  8\n"
     ]
    },
    {
     "name": "stdout",
     "output_type": "stream",
     "text": [
      "Congrats you did it.\n"
     ]
    }
   ],
   "source": [
    "#importing Numpy to generate random number\n",
    "import numpy as np\n",
    "\n",
    "#Function to guess lucky number\n",
    "def guess(num, lower_limit, upper_limit):\n",
    "    num1 = np.random.randint(lower_limit, upper_limit)\n",
    "\n",
    "    while True:\n",
    "        if  num != num1:\n",
    "            num = int(input(\"Try again: \"))\n",
    "        if num == num1:\n",
    "            print(\"Congrats you did it.\")\n",
    "            break\n",
    "\n",
    "#Function to get limits and user num\n",
    "def user_input():\n",
    "    try:\n",
    "        lower_limit = int(input(\"Give your lower limit: \"))\n",
    "        upper_limit = int(input(\"Give your upper limit: \"))\n",
    "        num = int(input(\"Give your lucky num: \"))\n",
    "        guess(num, lower_limit, upper_limit)\n",
    "    except Exception as e:\n",
    "        print(e)\n",
    "    \n",
    "user_input()                     \n",
    "    "
   ]
  },
  {
   "cell_type": "markdown",
   "metadata": {
    "id": "7NQ7raiQTibx"
   },
   "source": [
    "<hr>\n",
    "<h2>Congratulations, you have completed your hands-on lab in Python Loops:. \n",
    "<hr>"
   ]
  }
 ],
 "metadata": {
  "colab": {
   "authorship_tag": "ABX9TyO99C5gN5SybN39Daa7RVJ8",
   "provenance": []
  },
  "kernelspec": {
   "display_name": "Python 3 (ipykernel)",
   "language": "python",
   "name": "python3"
  },
  "language_info": {
   "codemirror_mode": {
    "name": "ipython",
    "version": 3
   },
   "file_extension": ".py",
   "mimetype": "text/x-python",
   "name": "python",
   "nbconvert_exporter": "python",
   "pygments_lexer": "ipython3",
   "version": "3.11.7"
  }
 },
 "nbformat": 4,
 "nbformat_minor": 4
}
